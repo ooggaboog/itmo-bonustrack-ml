{
  "nbformat": 4,
  "nbformat_minor": 0,
  "metadata": {
    "colab": {
      "provenance": []
    },
    "kernelspec": {
      "name": "python3",
      "display_name": "Python 3"
    },
    "language_info": {
      "name": "python"
    }
  },
  "cells": [
    {
      "cell_type": "code",
      "source": [
        "import numpy as np\n",
        "import scipy.stats as stats"
      ],
      "metadata": {
        "id": "jmKgmZ6xE-uC"
      },
      "execution_count": 1,
      "outputs": []
    },
    {
      "cell_type": "markdown",
      "source": [
        "Производитель мороженого утверждает, что вес одного эскимо составляет 92 грамм. Из очередной поставки в магазин случайно выбрано и взвешено 6 эскимо. Считается, что масса эскимо имеет нормальное распределение. Справедливо ли заявление продавца, если уровень значимости 𝜉 = 0.01.\n",
        "\n"
      ],
      "metadata": {
        "id": "0iNauqqFEbCV"
      }
    },
    {
      "cell_type": "markdown",
      "source": [
        "Введите выборочное среднее X̅:"
      ],
      "metadata": {
        "id": "gBvFWZ0XEy3F"
      }
    },
    {
      "cell_type": "code",
      "execution_count": 2,
      "metadata": {
        "colab": {
          "base_uri": "https://localhost:8080/"
        },
        "id": "JJjzhzeqEOG_",
        "outputId": "a69ecec4-c5ce-4102-a8b8-925d104c0866"
      },
      "outputs": [
        {
          "output_type": "stream",
          "name": "stdout",
          "text": [
            "X̅: 95.412\n"
          ]
        }
      ],
      "source": [
        "X = np.loadtxt('https://dc-edu.itmo.ru/assets/courseware/v1/197bfbddfeda66fab6e1f67f834815e6/asset-v1:ITMO+bonus_track_methods+2023+type@asset+block/Hypothesis_1_18.csv')\n",
        "a = 92\n",
        "n = 6\n",
        "eps = 0.01\n",
        "\n",
        "X_ = round(np.mean(X), 3)\n",
        "print(f'X̅: {X_}')"
      ]
    },
    {
      "cell_type": "markdown",
      "source": [
        "Введите оценку среднеквадратического отклонения *S*"
      ],
      "metadata": {
        "id": "HXvPG0ozFcff"
      }
    },
    {
      "cell_type": "code",
      "source": [
        "sigma = round(np.std(X, ddof=1), 3)\n",
        "print(f'S: {sigma}')"
      ],
      "metadata": {
        "colab": {
          "base_uri": "https://localhost:8080/"
        },
        "id": "UpM9i-n_FbNe",
        "outputId": "97f724c4-4019-4505-9362-40abca7cc4e7"
      },
      "execution_count": 3,
      "outputs": [
        {
          "output_type": "stream",
          "name": "stdout",
          "text": [
            "S: 7.085\n"
          ]
        }
      ]
    },
    {
      "cell_type": "markdown",
      "source": [
        "Введите значение модуля функции отклонения |𝜌(X)|:"
      ],
      "metadata": {
        "id": "p8vpqEuwF4GZ"
      }
    },
    {
      "cell_type": "code",
      "source": [
        "ro = abs(round(np.sqrt(n) * ((X_ - a) / sigma), 3))\n",
        "print(f'|𝜌(X)|: {ro}')"
      ],
      "metadata": {
        "colab": {
          "base_uri": "https://localhost:8080/"
        },
        "id": "QOaMM63XF-Mw",
        "outputId": "97a60444-5bdf-4cc3-cedf-b9ead4559d9b"
      },
      "execution_count": 4,
      "outputs": [
        {
          "output_type": "stream",
          "name": "stdout",
          "text": [
            "|𝜌(X)|: 1.18\n"
          ]
        }
      ]
    },
    {
      "cell_type": "markdown",
      "source": [
        "Ответьте на вопрос, верна ли гипотеза:"
      ],
      "metadata": {
        "id": "ZqBJ7j0dGs9f"
      }
    },
    {
      "cell_type": "code",
      "source": [
        "C = round(stats.t.ppf(1 - eps / 2, n - 1), 3)\n",
        "if ro < C:\n",
        "  print(f'Гипотеза о том, что средний вес одного эскимо равен {a} г, принимается')\n",
        "else:\n",
        "  print(f'Гипотеза о том, что средний вес одного эскимо равен {a} г, отвергается')"
      ],
      "metadata": {
        "colab": {
          "base_uri": "https://localhost:8080/"
        },
        "id": "ySESVE3qGt1x",
        "outputId": "c028383f-b817-42f7-e304-f7cbdb25cd30"
      },
      "execution_count": 5,
      "outputs": [
        {
          "output_type": "stream",
          "name": "stdout",
          "text": [
            "Гипотеза о том, что средний вес одного эскимо равен 92 г, принимается\n"
          ]
        }
      ]
    }
  ]
}