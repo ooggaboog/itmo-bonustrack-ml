{
  "nbformat": 4,
  "nbformat_minor": 0,
  "metadata": {
    "colab": {
      "provenance": []
    },
    "kernelspec": {
      "name": "python3",
      "display_name": "Python 3"
    },
    "language_info": {
      "name": "python"
    }
  },
  "cells": [
    {
      "cell_type": "markdown",
      "source": [
        "# Классификация при помощи ДПР"
      ],
      "metadata": {
        "id": "WBsRp9afwB_k"
      }
    },
    {
      "cell_type": "code",
      "source": [
        "import pandas as pd\n",
        "import matplotlib.pyplot as plt\n",
        "import seaborn as sns\n",
        "from scipy.stats import zscore\n",
        "from sklearn.model_selection import train_test_split\n",
        "from sklearn.tree import DecisionTreeClassifier\n",
        "from sklearn.metrics import f1_score\n",
        "from imblearn.over_sampling import SMOTE"
      ],
      "metadata": {
        "id": "URcMfvBdnsix"
      },
      "execution_count": null,
      "outputs": []
    },
    {
      "cell_type": "markdown",
      "source": [
        "# Описание набора данных"
      ],
      "metadata": {
        "id": "tAHDw8MfwMCs"
      }
    },
    {
      "cell_type": "markdown",
      "source": [
        "В этой лабораторной работе мы рассмотрим разные подходы к задаче классификации, в частности, деревья принятия решений, а также поговорим о том, как бороться с несбалансированностью датасета."
      ],
      "metadata": {
        "id": "xIaqzMrkMZq6"
      }
    },
    {
      "cell_type": "markdown",
      "source": [
        "Изучаемый нами набор данных — это набор данных о принятых предложениях по кредитам в банке **Thera-Bank**. Основные клиенты банка пользуются банком для того, чтобы разместить в нем свои денежные средства, то есть являются вкладчиками. В то же время, большую прибыль банку приносят кредиторы — люди, берущие в банке кредит. Поэтому банк хочет сформировать для своих вкладчиков выгодные предложения по кредиту. Кампания, проведенная банком для вкладчиков в прошлом году, показала, что коэффициент конверсии составил более 9,6%. Это побудило отдел маркетинга разработать кампании с улучшенным целевым маркетингом, чтобы увеличить вероятность успеха при, естественно, минимальном бюджете. Департамент хотел бы разработать классификатор, который поможет им определить потенциальных клиентов, которые с большей вероятностью приобретут кредит. Это повысит вероятность успеха при одновременном снижении стоимости кампании."
      ],
      "metadata": {
        "id": "C_ayFAKDMjPs"
      }
    },
    {
      "cell_type": "markdown",
      "source": [
        "Набор данных содержит как информацию о клиенте, так и информацию о его реакции на кампанию предыдущего года:\n",
        "\n",
        "*   **ID**: ID клиента\n",
        "\n",
        "*   **Age**: Возраст (полных лет)\n",
        "\n",
        "*   **Experience**: Стаж\n",
        "\n",
        "*   **Income**: Годовой доход (в тысячах)\n",
        "\n",
        "*   **ZIP Code**: Индекс места проживания\n",
        "\n",
        "*   **Family**: Количество членов семьи\n",
        "\n",
        "*   **CCAvg**: Средние траты в месяц по кредитной карте (в тысячах)\n",
        "\n",
        "*   **Education**: Уровень образования (1: бакалавр, 2: магистр, 3: что-то большее)\n",
        "\n",
        "*   **Mortgage**: Стоимость ипотеки, если имеется (в тысячах)\n",
        "\n",
        "*   **Securities Account**: Наличие счета в ценных бумагах\n",
        "\n",
        "*   **CD Account**: Наличие сертификата на депозит\n",
        "\n",
        "*   **Online**: Использует ли клиент интернет-банкинг\n",
        "\n",
        "*   **CreditCard**: Использует ли клиент кредитную карту, выпущенную данным банком\n",
        "\n",
        "*   **Personal Loan**: Принял ли клиент персональное предложение по кредиту (целевая переменная)"
      ],
      "metadata": {
        "id": "o7DY-rDVOGoE"
      }
    },
    {
      "cell_type": "markdown",
      "source": [
        "# Разведочный анализ данных"
      ],
      "metadata": {
        "id": "npoTXkLETgmH"
      }
    },
    {
      "cell_type": "markdown",
      "source": [
        "Считайте набор данных в датафрейм"
      ],
      "metadata": {
        "id": "8JD_Js7sBDX9"
      }
    },
    {
      "cell_type": "code",
      "source": [
        "df = pd.read_csv('https://dc-edu.itmo.ru/assets/courseware/v1/0c61cf43490f9189f8ddb65a887dcc64/asset-v1:ITMO+bonus_track_methods+2023+type@asset+block/Bank_Personal_Loan_Modelling_train.csv')\n",
        "df"
      ],
      "metadata": {
        "id": "N-EaF0UkMM--",
        "colab": {
          "base_uri": "https://localhost:8080/",
          "height": 424
        },
        "outputId": "607c7846-1b4d-4f0c-f145-c88c9b23d26b"
      },
      "execution_count": null,
      "outputs": [
        {
          "output_type": "execute_result",
          "data": {
            "text/plain": [
              "        ID  Age  Experience  Income  ZIP Code  Family  CCAvg  Education  \\\n",
              "0      409   60          36      89     91745       2    2.8          1   \n",
              "1     3738   44          19      30     91423       1    0.5          3   \n",
              "2     3890   26           0      19     93014       1    0.1          2   \n",
              "3      569   34           9      41     92101       2    0.1          1   \n",
              "4     1042   56          32      51     92780       4    1.5          1   \n",
              "...    ...  ...         ...     ...       ...     ...    ...        ...   \n",
              "3995  4588   37          11      59     94720       4    0.2          3   \n",
              "3996  2342   36          10      91     92028       1    1.5          3   \n",
              "3997  1586   57          31     131     90502       2    2.7          1   \n",
              "3998  3153   40          15      83     90275       1    1.0          3   \n",
              "3999  4786   30           5      23     94304       2    0.9          3   \n",
              "\n",
              "      Mortgage  Personal Loan  Securities Account  CD Account  Online  \\\n",
              "0            0              0                   0           0       1   \n",
              "1            0              0                   0           0       1   \n",
              "2          121              0                   0           0       1   \n",
              "3          161              0                   0           0       1   \n",
              "4            0              0                   0           0       0   \n",
              "...        ...            ...                 ...         ...     ...   \n",
              "3995         0              0                   0           0       0   \n",
              "3996       289              0                   0           0       1   \n",
              "3997         0              0                   0           0       0   \n",
              "3998         0              0                   0           0       0   \n",
              "3999         0              0                   1           0       1   \n",
              "\n",
              "      CreditCard  \n",
              "0              0  \n",
              "1              0  \n",
              "2              0  \n",
              "3              1  \n",
              "4              0  \n",
              "...          ...  \n",
              "3995           0  \n",
              "3996           0  \n",
              "3997           0  \n",
              "3998           0  \n",
              "3999           0  \n",
              "\n",
              "[4000 rows x 14 columns]"
            ],
            "text/html": [
              "\n",
              "  <div id=\"df-4625b460-a794-4200-bbb7-fc8d7f13c31c\" class=\"colab-df-container\">\n",
              "    <div>\n",
              "<style scoped>\n",
              "    .dataframe tbody tr th:only-of-type {\n",
              "        vertical-align: middle;\n",
              "    }\n",
              "\n",
              "    .dataframe tbody tr th {\n",
              "        vertical-align: top;\n",
              "    }\n",
              "\n",
              "    .dataframe thead th {\n",
              "        text-align: right;\n",
              "    }\n",
              "</style>\n",
              "<table border=\"1\" class=\"dataframe\">\n",
              "  <thead>\n",
              "    <tr style=\"text-align: right;\">\n",
              "      <th></th>\n",
              "      <th>ID</th>\n",
              "      <th>Age</th>\n",
              "      <th>Experience</th>\n",
              "      <th>Income</th>\n",
              "      <th>ZIP Code</th>\n",
              "      <th>Family</th>\n",
              "      <th>CCAvg</th>\n",
              "      <th>Education</th>\n",
              "      <th>Mortgage</th>\n",
              "      <th>Personal Loan</th>\n",
              "      <th>Securities Account</th>\n",
              "      <th>CD Account</th>\n",
              "      <th>Online</th>\n",
              "      <th>CreditCard</th>\n",
              "    </tr>\n",
              "  </thead>\n",
              "  <tbody>\n",
              "    <tr>\n",
              "      <th>0</th>\n",
              "      <td>409</td>\n",
              "      <td>60</td>\n",
              "      <td>36</td>\n",
              "      <td>89</td>\n",
              "      <td>91745</td>\n",
              "      <td>2</td>\n",
              "      <td>2.8</td>\n",
              "      <td>1</td>\n",
              "      <td>0</td>\n",
              "      <td>0</td>\n",
              "      <td>0</td>\n",
              "      <td>0</td>\n",
              "      <td>1</td>\n",
              "      <td>0</td>\n",
              "    </tr>\n",
              "    <tr>\n",
              "      <th>1</th>\n",
              "      <td>3738</td>\n",
              "      <td>44</td>\n",
              "      <td>19</td>\n",
              "      <td>30</td>\n",
              "      <td>91423</td>\n",
              "      <td>1</td>\n",
              "      <td>0.5</td>\n",
              "      <td>3</td>\n",
              "      <td>0</td>\n",
              "      <td>0</td>\n",
              "      <td>0</td>\n",
              "      <td>0</td>\n",
              "      <td>1</td>\n",
              "      <td>0</td>\n",
              "    </tr>\n",
              "    <tr>\n",
              "      <th>2</th>\n",
              "      <td>3890</td>\n",
              "      <td>26</td>\n",
              "      <td>0</td>\n",
              "      <td>19</td>\n",
              "      <td>93014</td>\n",
              "      <td>1</td>\n",
              "      <td>0.1</td>\n",
              "      <td>2</td>\n",
              "      <td>121</td>\n",
              "      <td>0</td>\n",
              "      <td>0</td>\n",
              "      <td>0</td>\n",
              "      <td>1</td>\n",
              "      <td>0</td>\n",
              "    </tr>\n",
              "    <tr>\n",
              "      <th>3</th>\n",
              "      <td>569</td>\n",
              "      <td>34</td>\n",
              "      <td>9</td>\n",
              "      <td>41</td>\n",
              "      <td>92101</td>\n",
              "      <td>2</td>\n",
              "      <td>0.1</td>\n",
              "      <td>1</td>\n",
              "      <td>161</td>\n",
              "      <td>0</td>\n",
              "      <td>0</td>\n",
              "      <td>0</td>\n",
              "      <td>1</td>\n",
              "      <td>1</td>\n",
              "    </tr>\n",
              "    <tr>\n",
              "      <th>4</th>\n",
              "      <td>1042</td>\n",
              "      <td>56</td>\n",
              "      <td>32</td>\n",
              "      <td>51</td>\n",
              "      <td>92780</td>\n",
              "      <td>4</td>\n",
              "      <td>1.5</td>\n",
              "      <td>1</td>\n",
              "      <td>0</td>\n",
              "      <td>0</td>\n",
              "      <td>0</td>\n",
              "      <td>0</td>\n",
              "      <td>0</td>\n",
              "      <td>0</td>\n",
              "    </tr>\n",
              "    <tr>\n",
              "      <th>...</th>\n",
              "      <td>...</td>\n",
              "      <td>...</td>\n",
              "      <td>...</td>\n",
              "      <td>...</td>\n",
              "      <td>...</td>\n",
              "      <td>...</td>\n",
              "      <td>...</td>\n",
              "      <td>...</td>\n",
              "      <td>...</td>\n",
              "      <td>...</td>\n",
              "      <td>...</td>\n",
              "      <td>...</td>\n",
              "      <td>...</td>\n",
              "      <td>...</td>\n",
              "    </tr>\n",
              "    <tr>\n",
              "      <th>3995</th>\n",
              "      <td>4588</td>\n",
              "      <td>37</td>\n",
              "      <td>11</td>\n",
              "      <td>59</td>\n",
              "      <td>94720</td>\n",
              "      <td>4</td>\n",
              "      <td>0.2</td>\n",
              "      <td>3</td>\n",
              "      <td>0</td>\n",
              "      <td>0</td>\n",
              "      <td>0</td>\n",
              "      <td>0</td>\n",
              "      <td>0</td>\n",
              "      <td>0</td>\n",
              "    </tr>\n",
              "    <tr>\n",
              "      <th>3996</th>\n",
              "      <td>2342</td>\n",
              "      <td>36</td>\n",
              "      <td>10</td>\n",
              "      <td>91</td>\n",
              "      <td>92028</td>\n",
              "      <td>1</td>\n",
              "      <td>1.5</td>\n",
              "      <td>3</td>\n",
              "      <td>289</td>\n",
              "      <td>0</td>\n",
              "      <td>0</td>\n",
              "      <td>0</td>\n",
              "      <td>1</td>\n",
              "      <td>0</td>\n",
              "    </tr>\n",
              "    <tr>\n",
              "      <th>3997</th>\n",
              "      <td>1586</td>\n",
              "      <td>57</td>\n",
              "      <td>31</td>\n",
              "      <td>131</td>\n",
              "      <td>90502</td>\n",
              "      <td>2</td>\n",
              "      <td>2.7</td>\n",
              "      <td>1</td>\n",
              "      <td>0</td>\n",
              "      <td>0</td>\n",
              "      <td>0</td>\n",
              "      <td>0</td>\n",
              "      <td>0</td>\n",
              "      <td>0</td>\n",
              "    </tr>\n",
              "    <tr>\n",
              "      <th>3998</th>\n",
              "      <td>3153</td>\n",
              "      <td>40</td>\n",
              "      <td>15</td>\n",
              "      <td>83</td>\n",
              "      <td>90275</td>\n",
              "      <td>1</td>\n",
              "      <td>1.0</td>\n",
              "      <td>3</td>\n",
              "      <td>0</td>\n",
              "      <td>0</td>\n",
              "      <td>0</td>\n",
              "      <td>0</td>\n",
              "      <td>0</td>\n",
              "      <td>0</td>\n",
              "    </tr>\n",
              "    <tr>\n",
              "      <th>3999</th>\n",
              "      <td>4786</td>\n",
              "      <td>30</td>\n",
              "      <td>5</td>\n",
              "      <td>23</td>\n",
              "      <td>94304</td>\n",
              "      <td>2</td>\n",
              "      <td>0.9</td>\n",
              "      <td>3</td>\n",
              "      <td>0</td>\n",
              "      <td>0</td>\n",
              "      <td>1</td>\n",
              "      <td>0</td>\n",
              "      <td>1</td>\n",
              "      <td>0</td>\n",
              "    </tr>\n",
              "  </tbody>\n",
              "</table>\n",
              "<p>4000 rows × 14 columns</p>\n",
              "</div>\n",
              "    <div class=\"colab-df-buttons\">\n",
              "\n",
              "  <div class=\"colab-df-container\">\n",
              "    <button class=\"colab-df-convert\" onclick=\"convertToInteractive('df-4625b460-a794-4200-bbb7-fc8d7f13c31c')\"\n",
              "            title=\"Convert this dataframe to an interactive table.\"\n",
              "            style=\"display:none;\">\n",
              "\n",
              "  <svg xmlns=\"http://www.w3.org/2000/svg\" height=\"24px\" viewBox=\"0 -960 960 960\">\n",
              "    <path d=\"M120-120v-720h720v720H120Zm60-500h600v-160H180v160Zm220 220h160v-160H400v160Zm0 220h160v-160H400v160ZM180-400h160v-160H180v160Zm440 0h160v-160H620v160ZM180-180h160v-160H180v160Zm440 0h160v-160H620v160Z\"/>\n",
              "  </svg>\n",
              "    </button>\n",
              "\n",
              "  <style>\n",
              "    .colab-df-container {\n",
              "      display:flex;\n",
              "      gap: 12px;\n",
              "    }\n",
              "\n",
              "    .colab-df-convert {\n",
              "      background-color: #E8F0FE;\n",
              "      border: none;\n",
              "      border-radius: 50%;\n",
              "      cursor: pointer;\n",
              "      display: none;\n",
              "      fill: #1967D2;\n",
              "      height: 32px;\n",
              "      padding: 0 0 0 0;\n",
              "      width: 32px;\n",
              "    }\n",
              "\n",
              "    .colab-df-convert:hover {\n",
              "      background-color: #E2EBFA;\n",
              "      box-shadow: 0px 1px 2px rgba(60, 64, 67, 0.3), 0px 1px 3px 1px rgba(60, 64, 67, 0.15);\n",
              "      fill: #174EA6;\n",
              "    }\n",
              "\n",
              "    .colab-df-buttons div {\n",
              "      margin-bottom: 4px;\n",
              "    }\n",
              "\n",
              "    [theme=dark] .colab-df-convert {\n",
              "      background-color: #3B4455;\n",
              "      fill: #D2E3FC;\n",
              "    }\n",
              "\n",
              "    [theme=dark] .colab-df-convert:hover {\n",
              "      background-color: #434B5C;\n",
              "      box-shadow: 0px 1px 3px 1px rgba(0, 0, 0, 0.15);\n",
              "      filter: drop-shadow(0px 1px 2px rgba(0, 0, 0, 0.3));\n",
              "      fill: #FFFFFF;\n",
              "    }\n",
              "  </style>\n",
              "\n",
              "    <script>\n",
              "      const buttonEl =\n",
              "        document.querySelector('#df-4625b460-a794-4200-bbb7-fc8d7f13c31c button.colab-df-convert');\n",
              "      buttonEl.style.display =\n",
              "        google.colab.kernel.accessAllowed ? 'block' : 'none';\n",
              "\n",
              "      async function convertToInteractive(key) {\n",
              "        const element = document.querySelector('#df-4625b460-a794-4200-bbb7-fc8d7f13c31c');\n",
              "        const dataTable =\n",
              "          await google.colab.kernel.invokeFunction('convertToInteractive',\n",
              "                                                    [key], {});\n",
              "        if (!dataTable) return;\n",
              "\n",
              "        const docLinkHtml = 'Like what you see? Visit the ' +\n",
              "          '<a target=\"_blank\" href=https://colab.research.google.com/notebooks/data_table.ipynb>data table notebook</a>'\n",
              "          + ' to learn more about interactive tables.';\n",
              "        element.innerHTML = '';\n",
              "        dataTable['output_type'] = 'display_data';\n",
              "        await google.colab.output.renderOutput(dataTable, element);\n",
              "        const docLink = document.createElement('div');\n",
              "        docLink.innerHTML = docLinkHtml;\n",
              "        element.appendChild(docLink);\n",
              "      }\n",
              "    </script>\n",
              "  </div>\n",
              "\n",
              "\n",
              "<div id=\"df-b86ba7fa-4327-4cee-9cfe-8061bdb48979\">\n",
              "  <button class=\"colab-df-quickchart\" onclick=\"quickchart('df-b86ba7fa-4327-4cee-9cfe-8061bdb48979')\"\n",
              "            title=\"Suggest charts\"\n",
              "            style=\"display:none;\">\n",
              "\n",
              "<svg xmlns=\"http://www.w3.org/2000/svg\" height=\"24px\"viewBox=\"0 0 24 24\"\n",
              "     width=\"24px\">\n",
              "    <g>\n",
              "        <path d=\"M19 3H5c-1.1 0-2 .9-2 2v14c0 1.1.9 2 2 2h14c1.1 0 2-.9 2-2V5c0-1.1-.9-2-2-2zM9 17H7v-7h2v7zm4 0h-2V7h2v10zm4 0h-2v-4h2v4z\"/>\n",
              "    </g>\n",
              "</svg>\n",
              "  </button>\n",
              "\n",
              "<style>\n",
              "  .colab-df-quickchart {\n",
              "      --bg-color: #E8F0FE;\n",
              "      --fill-color: #1967D2;\n",
              "      --hover-bg-color: #E2EBFA;\n",
              "      --hover-fill-color: #174EA6;\n",
              "      --disabled-fill-color: #AAA;\n",
              "      --disabled-bg-color: #DDD;\n",
              "  }\n",
              "\n",
              "  [theme=dark] .colab-df-quickchart {\n",
              "      --bg-color: #3B4455;\n",
              "      --fill-color: #D2E3FC;\n",
              "      --hover-bg-color: #434B5C;\n",
              "      --hover-fill-color: #FFFFFF;\n",
              "      --disabled-bg-color: #3B4455;\n",
              "      --disabled-fill-color: #666;\n",
              "  }\n",
              "\n",
              "  .colab-df-quickchart {\n",
              "    background-color: var(--bg-color);\n",
              "    border: none;\n",
              "    border-radius: 50%;\n",
              "    cursor: pointer;\n",
              "    display: none;\n",
              "    fill: var(--fill-color);\n",
              "    height: 32px;\n",
              "    padding: 0;\n",
              "    width: 32px;\n",
              "  }\n",
              "\n",
              "  .colab-df-quickchart:hover {\n",
              "    background-color: var(--hover-bg-color);\n",
              "    box-shadow: 0 1px 2px rgba(60, 64, 67, 0.3), 0 1px 3px 1px rgba(60, 64, 67, 0.15);\n",
              "    fill: var(--button-hover-fill-color);\n",
              "  }\n",
              "\n",
              "  .colab-df-quickchart-complete:disabled,\n",
              "  .colab-df-quickchart-complete:disabled:hover {\n",
              "    background-color: var(--disabled-bg-color);\n",
              "    fill: var(--disabled-fill-color);\n",
              "    box-shadow: none;\n",
              "  }\n",
              "\n",
              "  .colab-df-spinner {\n",
              "    border: 2px solid var(--fill-color);\n",
              "    border-color: transparent;\n",
              "    border-bottom-color: var(--fill-color);\n",
              "    animation:\n",
              "      spin 1s steps(1) infinite;\n",
              "  }\n",
              "\n",
              "  @keyframes spin {\n",
              "    0% {\n",
              "      border-color: transparent;\n",
              "      border-bottom-color: var(--fill-color);\n",
              "      border-left-color: var(--fill-color);\n",
              "    }\n",
              "    20% {\n",
              "      border-color: transparent;\n",
              "      border-left-color: var(--fill-color);\n",
              "      border-top-color: var(--fill-color);\n",
              "    }\n",
              "    30% {\n",
              "      border-color: transparent;\n",
              "      border-left-color: var(--fill-color);\n",
              "      border-top-color: var(--fill-color);\n",
              "      border-right-color: var(--fill-color);\n",
              "    }\n",
              "    40% {\n",
              "      border-color: transparent;\n",
              "      border-right-color: var(--fill-color);\n",
              "      border-top-color: var(--fill-color);\n",
              "    }\n",
              "    60% {\n",
              "      border-color: transparent;\n",
              "      border-right-color: var(--fill-color);\n",
              "    }\n",
              "    80% {\n",
              "      border-color: transparent;\n",
              "      border-right-color: var(--fill-color);\n",
              "      border-bottom-color: var(--fill-color);\n",
              "    }\n",
              "    90% {\n",
              "      border-color: transparent;\n",
              "      border-bottom-color: var(--fill-color);\n",
              "    }\n",
              "  }\n",
              "</style>\n",
              "\n",
              "  <script>\n",
              "    async function quickchart(key) {\n",
              "      const quickchartButtonEl =\n",
              "        document.querySelector('#' + key + ' button');\n",
              "      quickchartButtonEl.disabled = true;  // To prevent multiple clicks.\n",
              "      quickchartButtonEl.classList.add('colab-df-spinner');\n",
              "      try {\n",
              "        const charts = await google.colab.kernel.invokeFunction(\n",
              "            'suggestCharts', [key], {});\n",
              "      } catch (error) {\n",
              "        console.error('Error during call to suggestCharts:', error);\n",
              "      }\n",
              "      quickchartButtonEl.classList.remove('colab-df-spinner');\n",
              "      quickchartButtonEl.classList.add('colab-df-quickchart-complete');\n",
              "    }\n",
              "    (() => {\n",
              "      let quickchartButtonEl =\n",
              "        document.querySelector('#df-b86ba7fa-4327-4cee-9cfe-8061bdb48979 button');\n",
              "      quickchartButtonEl.style.display =\n",
              "        google.colab.kernel.accessAllowed ? 'block' : 'none';\n",
              "    })();\n",
              "  </script>\n",
              "</div>\n",
              "    </div>\n",
              "  </div>\n"
            ],
            "application/vnd.google.colaboratory.intrinsic+json": {
              "type": "dataframe",
              "variable_name": "df",
              "summary": "{\n  \"name\": \"df\",\n  \"rows\": 4000,\n  \"fields\": [\n    {\n      \"column\": \"ID\",\n      \"properties\": {\n        \"dtype\": \"number\",\n        \"std\": 1449,\n        \"min\": 1,\n        \"max\": 5000,\n        \"num_unique_values\": 4000,\n        \"samples\": [\n          3493,\n          3373,\n          333\n        ],\n        \"semantic_type\": \"\",\n        \"description\": \"\"\n      }\n    },\n    {\n      \"column\": \"Age\",\n      \"properties\": {\n        \"dtype\": \"number\",\n        \"std\": 11,\n        \"min\": 23,\n        \"max\": 67,\n        \"num_unique_values\": 45,\n        \"samples\": [\n          36,\n          31,\n          61\n        ],\n        \"semantic_type\": \"\",\n        \"description\": \"\"\n      }\n    },\n    {\n      \"column\": \"Experience\",\n      \"properties\": {\n        \"dtype\": \"number\",\n        \"std\": 11,\n        \"min\": -3,\n        \"max\": 43,\n        \"num_unique_values\": 47,\n        \"samples\": [\n          22,\n          29,\n          37\n        ],\n        \"semantic_type\": \"\",\n        \"description\": \"\"\n      }\n    },\n    {\n      \"column\": \"Income\",\n      \"properties\": {\n        \"dtype\": \"number\",\n        \"std\": 46,\n        \"min\": 8,\n        \"max\": 224,\n        \"num_unique_values\": 162,\n        \"samples\": [\n          200,\n          174,\n          102\n        ],\n        \"semantic_type\": \"\",\n        \"description\": \"\"\n      }\n    },\n    {\n      \"column\": \"ZIP Code\",\n      \"properties\": {\n        \"dtype\": \"number\",\n        \"std\": 2197,\n        \"min\": 9307,\n        \"max\": 96651,\n        \"num_unique_values\": 466,\n        \"samples\": [\n          94590,\n          91335,\n          91330\n        ],\n        \"semantic_type\": \"\",\n        \"description\": \"\"\n      }\n    },\n    {\n      \"column\": \"Family\",\n      \"properties\": {\n        \"dtype\": \"number\",\n        \"std\": 1,\n        \"min\": 1,\n        \"max\": 4,\n        \"num_unique_values\": 4,\n        \"samples\": [\n          1,\n          3,\n          2\n        ],\n        \"semantic_type\": \"\",\n        \"description\": \"\"\n      }\n    },\n    {\n      \"column\": \"CCAvg\",\n      \"properties\": {\n        \"dtype\": \"number\",\n        \"std\": 1.7389737489105035,\n        \"min\": 0.0,\n        \"max\": 10.0,\n        \"num_unique_values\": 107,\n        \"samples\": [\n          4.8,\n          0.0,\n          2.5\n        ],\n        \"semantic_type\": \"\",\n        \"description\": \"\"\n      }\n    },\n    {\n      \"column\": \"Education\",\n      \"properties\": {\n        \"dtype\": \"number\",\n        \"std\": 0,\n        \"min\": 1,\n        \"max\": 3,\n        \"num_unique_values\": 3,\n        \"samples\": [\n          1,\n          3,\n          2\n        ],\n        \"semantic_type\": \"\",\n        \"description\": \"\"\n      }\n    },\n    {\n      \"column\": \"Mortgage\",\n      \"properties\": {\n        \"dtype\": \"number\",\n        \"std\": 101,\n        \"min\": 0,\n        \"max\": 635,\n        \"num_unique_values\": 321,\n        \"samples\": [\n          475,\n          240,\n          238\n        ],\n        \"semantic_type\": \"\",\n        \"description\": \"\"\n      }\n    },\n    {\n      \"column\": \"Personal Loan\",\n      \"properties\": {\n        \"dtype\": \"number\",\n        \"std\": 0,\n        \"min\": 0,\n        \"max\": 1,\n        \"num_unique_values\": 2,\n        \"samples\": [\n          1,\n          0\n        ],\n        \"semantic_type\": \"\",\n        \"description\": \"\"\n      }\n    },\n    {\n      \"column\": \"Securities Account\",\n      \"properties\": {\n        \"dtype\": \"number\",\n        \"std\": 0,\n        \"min\": 0,\n        \"max\": 1,\n        \"num_unique_values\": 2,\n        \"samples\": [\n          1,\n          0\n        ],\n        \"semantic_type\": \"\",\n        \"description\": \"\"\n      }\n    },\n    {\n      \"column\": \"CD Account\",\n      \"properties\": {\n        \"dtype\": \"number\",\n        \"std\": 0,\n        \"min\": 0,\n        \"max\": 1,\n        \"num_unique_values\": 2,\n        \"samples\": [\n          1,\n          0\n        ],\n        \"semantic_type\": \"\",\n        \"description\": \"\"\n      }\n    },\n    {\n      \"column\": \"Online\",\n      \"properties\": {\n        \"dtype\": \"number\",\n        \"std\": 0,\n        \"min\": 0,\n        \"max\": 1,\n        \"num_unique_values\": 2,\n        \"samples\": [\n          0,\n          1\n        ],\n        \"semantic_type\": \"\",\n        \"description\": \"\"\n      }\n    },\n    {\n      \"column\": \"CreditCard\",\n      \"properties\": {\n        \"dtype\": \"number\",\n        \"std\": 0,\n        \"min\": 0,\n        \"max\": 1,\n        \"num_unique_values\": 2,\n        \"samples\": [\n          1,\n          0\n        ],\n        \"semantic_type\": \"\",\n        \"description\": \"\"\n      }\n    }\n  ]\n}"
            }
          },
          "metadata": {},
          "execution_count": 2
        }
      ]
    },
    {
      "cell_type": "markdown",
      "source": [
        "При помощи метода <code>.describe()</code> изучите набор данных «с высоты птичьего полета»."
      ],
      "metadata": {
        "id": "czPRb3i9OD3E"
      }
    },
    {
      "cell_type": "code",
      "source": [
        "df.describe()"
      ],
      "metadata": {
        "id": "obERUrx2MS-_",
        "colab": {
          "base_uri": "https://localhost:8080/",
          "height": 338
        },
        "outputId": "12a3268b-339c-4ff9-8c20-d7b70cbb55b5"
      },
      "execution_count": null,
      "outputs": [
        {
          "output_type": "execute_result",
          "data": {
            "text/plain": [
              "                ID          Age   Experience       Income      ZIP Code  \\\n",
              "count  4000.000000  4000.000000  4000.000000  4000.000000   4000.000000   \n",
              "mean   2497.682500    45.429500    20.196250    73.479750  93156.583750   \n",
              "std    1449.723807    11.489235    11.500143    46.321345   2197.762636   \n",
              "min       1.000000    23.000000    -3.000000     8.000000   9307.000000   \n",
              "25%    1245.750000    35.000000    10.000000    38.000000  91941.750000   \n",
              "50%    2492.500000    45.000000    20.000000    63.000000  93407.000000   \n",
              "75%    3767.250000    55.000000    30.000000    98.000000  94608.000000   \n",
              "max    5000.000000    67.000000    43.000000   224.000000  96651.000000   \n",
              "\n",
              "            Family        CCAvg    Education     Mortgage  Personal Loan  \\\n",
              "count  4000.000000  4000.000000  4000.000000  4000.000000    4000.000000   \n",
              "mean      2.381750     1.921805     1.881500    55.968250       0.096000   \n",
              "std       1.149716     1.738974     0.842102   101.054887       0.294628   \n",
              "min       1.000000     0.000000     1.000000     0.000000       0.000000   \n",
              "25%       1.000000     0.700000     1.000000     0.000000       0.000000   \n",
              "50%       2.000000     1.500000     2.000000     0.000000       0.000000   \n",
              "75%       3.000000     2.500000     3.000000   100.000000       0.000000   \n",
              "max       4.000000    10.000000     3.000000   635.000000       1.000000   \n",
              "\n",
              "       Securities Account   CD Account       Online  CreditCard  \n",
              "count         4000.000000  4000.000000  4000.000000  4000.00000  \n",
              "mean             0.104000     0.061500     0.599000     0.29050  \n",
              "std              0.305299     0.240275     0.490162     0.45405  \n",
              "min              0.000000     0.000000     0.000000     0.00000  \n",
              "25%              0.000000     0.000000     0.000000     0.00000  \n",
              "50%              0.000000     0.000000     1.000000     0.00000  \n",
              "75%              0.000000     0.000000     1.000000     1.00000  \n",
              "max              1.000000     1.000000     1.000000     1.00000  "
            ],
            "text/html": [
              "\n",
              "  <div id=\"df-bde10a32-3d6d-4958-ba30-896657f165a5\" class=\"colab-df-container\">\n",
              "    <div>\n",
              "<style scoped>\n",
              "    .dataframe tbody tr th:only-of-type {\n",
              "        vertical-align: middle;\n",
              "    }\n",
              "\n",
              "    .dataframe tbody tr th {\n",
              "        vertical-align: top;\n",
              "    }\n",
              "\n",
              "    .dataframe thead th {\n",
              "        text-align: right;\n",
              "    }\n",
              "</style>\n",
              "<table border=\"1\" class=\"dataframe\">\n",
              "  <thead>\n",
              "    <tr style=\"text-align: right;\">\n",
              "      <th></th>\n",
              "      <th>ID</th>\n",
              "      <th>Age</th>\n",
              "      <th>Experience</th>\n",
              "      <th>Income</th>\n",
              "      <th>ZIP Code</th>\n",
              "      <th>Family</th>\n",
              "      <th>CCAvg</th>\n",
              "      <th>Education</th>\n",
              "      <th>Mortgage</th>\n",
              "      <th>Personal Loan</th>\n",
              "      <th>Securities Account</th>\n",
              "      <th>CD Account</th>\n",
              "      <th>Online</th>\n",
              "      <th>CreditCard</th>\n",
              "    </tr>\n",
              "  </thead>\n",
              "  <tbody>\n",
              "    <tr>\n",
              "      <th>count</th>\n",
              "      <td>4000.000000</td>\n",
              "      <td>4000.000000</td>\n",
              "      <td>4000.000000</td>\n",
              "      <td>4000.000000</td>\n",
              "      <td>4000.000000</td>\n",
              "      <td>4000.000000</td>\n",
              "      <td>4000.000000</td>\n",
              "      <td>4000.000000</td>\n",
              "      <td>4000.000000</td>\n",
              "      <td>4000.000000</td>\n",
              "      <td>4000.000000</td>\n",
              "      <td>4000.000000</td>\n",
              "      <td>4000.000000</td>\n",
              "      <td>4000.00000</td>\n",
              "    </tr>\n",
              "    <tr>\n",
              "      <th>mean</th>\n",
              "      <td>2497.682500</td>\n",
              "      <td>45.429500</td>\n",
              "      <td>20.196250</td>\n",
              "      <td>73.479750</td>\n",
              "      <td>93156.583750</td>\n",
              "      <td>2.381750</td>\n",
              "      <td>1.921805</td>\n",
              "      <td>1.881500</td>\n",
              "      <td>55.968250</td>\n",
              "      <td>0.096000</td>\n",
              "      <td>0.104000</td>\n",
              "      <td>0.061500</td>\n",
              "      <td>0.599000</td>\n",
              "      <td>0.29050</td>\n",
              "    </tr>\n",
              "    <tr>\n",
              "      <th>std</th>\n",
              "      <td>1449.723807</td>\n",
              "      <td>11.489235</td>\n",
              "      <td>11.500143</td>\n",
              "      <td>46.321345</td>\n",
              "      <td>2197.762636</td>\n",
              "      <td>1.149716</td>\n",
              "      <td>1.738974</td>\n",
              "      <td>0.842102</td>\n",
              "      <td>101.054887</td>\n",
              "      <td>0.294628</td>\n",
              "      <td>0.305299</td>\n",
              "      <td>0.240275</td>\n",
              "      <td>0.490162</td>\n",
              "      <td>0.45405</td>\n",
              "    </tr>\n",
              "    <tr>\n",
              "      <th>min</th>\n",
              "      <td>1.000000</td>\n",
              "      <td>23.000000</td>\n",
              "      <td>-3.000000</td>\n",
              "      <td>8.000000</td>\n",
              "      <td>9307.000000</td>\n",
              "      <td>1.000000</td>\n",
              "      <td>0.000000</td>\n",
              "      <td>1.000000</td>\n",
              "      <td>0.000000</td>\n",
              "      <td>0.000000</td>\n",
              "      <td>0.000000</td>\n",
              "      <td>0.000000</td>\n",
              "      <td>0.000000</td>\n",
              "      <td>0.00000</td>\n",
              "    </tr>\n",
              "    <tr>\n",
              "      <th>25%</th>\n",
              "      <td>1245.750000</td>\n",
              "      <td>35.000000</td>\n",
              "      <td>10.000000</td>\n",
              "      <td>38.000000</td>\n",
              "      <td>91941.750000</td>\n",
              "      <td>1.000000</td>\n",
              "      <td>0.700000</td>\n",
              "      <td>1.000000</td>\n",
              "      <td>0.000000</td>\n",
              "      <td>0.000000</td>\n",
              "      <td>0.000000</td>\n",
              "      <td>0.000000</td>\n",
              "      <td>0.000000</td>\n",
              "      <td>0.00000</td>\n",
              "    </tr>\n",
              "    <tr>\n",
              "      <th>50%</th>\n",
              "      <td>2492.500000</td>\n",
              "      <td>45.000000</td>\n",
              "      <td>20.000000</td>\n",
              "      <td>63.000000</td>\n",
              "      <td>93407.000000</td>\n",
              "      <td>2.000000</td>\n",
              "      <td>1.500000</td>\n",
              "      <td>2.000000</td>\n",
              "      <td>0.000000</td>\n",
              "      <td>0.000000</td>\n",
              "      <td>0.000000</td>\n",
              "      <td>0.000000</td>\n",
              "      <td>1.000000</td>\n",
              "      <td>0.00000</td>\n",
              "    </tr>\n",
              "    <tr>\n",
              "      <th>75%</th>\n",
              "      <td>3767.250000</td>\n",
              "      <td>55.000000</td>\n",
              "      <td>30.000000</td>\n",
              "      <td>98.000000</td>\n",
              "      <td>94608.000000</td>\n",
              "      <td>3.000000</td>\n",
              "      <td>2.500000</td>\n",
              "      <td>3.000000</td>\n",
              "      <td>100.000000</td>\n",
              "      <td>0.000000</td>\n",
              "      <td>0.000000</td>\n",
              "      <td>0.000000</td>\n",
              "      <td>1.000000</td>\n",
              "      <td>1.00000</td>\n",
              "    </tr>\n",
              "    <tr>\n",
              "      <th>max</th>\n",
              "      <td>5000.000000</td>\n",
              "      <td>67.000000</td>\n",
              "      <td>43.000000</td>\n",
              "      <td>224.000000</td>\n",
              "      <td>96651.000000</td>\n",
              "      <td>4.000000</td>\n",
              "      <td>10.000000</td>\n",
              "      <td>3.000000</td>\n",
              "      <td>635.000000</td>\n",
              "      <td>1.000000</td>\n",
              "      <td>1.000000</td>\n",
              "      <td>1.000000</td>\n",
              "      <td>1.000000</td>\n",
              "      <td>1.00000</td>\n",
              "    </tr>\n",
              "  </tbody>\n",
              "</table>\n",
              "</div>\n",
              "    <div class=\"colab-df-buttons\">\n",
              "\n",
              "  <div class=\"colab-df-container\">\n",
              "    <button class=\"colab-df-convert\" onclick=\"convertToInteractive('df-bde10a32-3d6d-4958-ba30-896657f165a5')\"\n",
              "            title=\"Convert this dataframe to an interactive table.\"\n",
              "            style=\"display:none;\">\n",
              "\n",
              "  <svg xmlns=\"http://www.w3.org/2000/svg\" height=\"24px\" viewBox=\"0 -960 960 960\">\n",
              "    <path d=\"M120-120v-720h720v720H120Zm60-500h600v-160H180v160Zm220 220h160v-160H400v160Zm0 220h160v-160H400v160ZM180-400h160v-160H180v160Zm440 0h160v-160H620v160ZM180-180h160v-160H180v160Zm440 0h160v-160H620v160Z\"/>\n",
              "  </svg>\n",
              "    </button>\n",
              "\n",
              "  <style>\n",
              "    .colab-df-container {\n",
              "      display:flex;\n",
              "      gap: 12px;\n",
              "    }\n",
              "\n",
              "    .colab-df-convert {\n",
              "      background-color: #E8F0FE;\n",
              "      border: none;\n",
              "      border-radius: 50%;\n",
              "      cursor: pointer;\n",
              "      display: none;\n",
              "      fill: #1967D2;\n",
              "      height: 32px;\n",
              "      padding: 0 0 0 0;\n",
              "      width: 32px;\n",
              "    }\n",
              "\n",
              "    .colab-df-convert:hover {\n",
              "      background-color: #E2EBFA;\n",
              "      box-shadow: 0px 1px 2px rgba(60, 64, 67, 0.3), 0px 1px 3px 1px rgba(60, 64, 67, 0.15);\n",
              "      fill: #174EA6;\n",
              "    }\n",
              "\n",
              "    .colab-df-buttons div {\n",
              "      margin-bottom: 4px;\n",
              "    }\n",
              "\n",
              "    [theme=dark] .colab-df-convert {\n",
              "      background-color: #3B4455;\n",
              "      fill: #D2E3FC;\n",
              "    }\n",
              "\n",
              "    [theme=dark] .colab-df-convert:hover {\n",
              "      background-color: #434B5C;\n",
              "      box-shadow: 0px 1px 3px 1px rgba(0, 0, 0, 0.15);\n",
              "      filter: drop-shadow(0px 1px 2px rgba(0, 0, 0, 0.3));\n",
              "      fill: #FFFFFF;\n",
              "    }\n",
              "  </style>\n",
              "\n",
              "    <script>\n",
              "      const buttonEl =\n",
              "        document.querySelector('#df-bde10a32-3d6d-4958-ba30-896657f165a5 button.colab-df-convert');\n",
              "      buttonEl.style.display =\n",
              "        google.colab.kernel.accessAllowed ? 'block' : 'none';\n",
              "\n",
              "      async function convertToInteractive(key) {\n",
              "        const element = document.querySelector('#df-bde10a32-3d6d-4958-ba30-896657f165a5');\n",
              "        const dataTable =\n",
              "          await google.colab.kernel.invokeFunction('convertToInteractive',\n",
              "                                                    [key], {});\n",
              "        if (!dataTable) return;\n",
              "\n",
              "        const docLinkHtml = 'Like what you see? Visit the ' +\n",
              "          '<a target=\"_blank\" href=https://colab.research.google.com/notebooks/data_table.ipynb>data table notebook</a>'\n",
              "          + ' to learn more about interactive tables.';\n",
              "        element.innerHTML = '';\n",
              "        dataTable['output_type'] = 'display_data';\n",
              "        await google.colab.output.renderOutput(dataTable, element);\n",
              "        const docLink = document.createElement('div');\n",
              "        docLink.innerHTML = docLinkHtml;\n",
              "        element.appendChild(docLink);\n",
              "      }\n",
              "    </script>\n",
              "  </div>\n",
              "\n",
              "\n",
              "<div id=\"df-243253f2-9166-4a15-9cdb-8fe6e5c9bd16\">\n",
              "  <button class=\"colab-df-quickchart\" onclick=\"quickchart('df-243253f2-9166-4a15-9cdb-8fe6e5c9bd16')\"\n",
              "            title=\"Suggest charts\"\n",
              "            style=\"display:none;\">\n",
              "\n",
              "<svg xmlns=\"http://www.w3.org/2000/svg\" height=\"24px\"viewBox=\"0 0 24 24\"\n",
              "     width=\"24px\">\n",
              "    <g>\n",
              "        <path d=\"M19 3H5c-1.1 0-2 .9-2 2v14c0 1.1.9 2 2 2h14c1.1 0 2-.9 2-2V5c0-1.1-.9-2-2-2zM9 17H7v-7h2v7zm4 0h-2V7h2v10zm4 0h-2v-4h2v4z\"/>\n",
              "    </g>\n",
              "</svg>\n",
              "  </button>\n",
              "\n",
              "<style>\n",
              "  .colab-df-quickchart {\n",
              "      --bg-color: #E8F0FE;\n",
              "      --fill-color: #1967D2;\n",
              "      --hover-bg-color: #E2EBFA;\n",
              "      --hover-fill-color: #174EA6;\n",
              "      --disabled-fill-color: #AAA;\n",
              "      --disabled-bg-color: #DDD;\n",
              "  }\n",
              "\n",
              "  [theme=dark] .colab-df-quickchart {\n",
              "      --bg-color: #3B4455;\n",
              "      --fill-color: #D2E3FC;\n",
              "      --hover-bg-color: #434B5C;\n",
              "      --hover-fill-color: #FFFFFF;\n",
              "      --disabled-bg-color: #3B4455;\n",
              "      --disabled-fill-color: #666;\n",
              "  }\n",
              "\n",
              "  .colab-df-quickchart {\n",
              "    background-color: var(--bg-color);\n",
              "    border: none;\n",
              "    border-radius: 50%;\n",
              "    cursor: pointer;\n",
              "    display: none;\n",
              "    fill: var(--fill-color);\n",
              "    height: 32px;\n",
              "    padding: 0;\n",
              "    width: 32px;\n",
              "  }\n",
              "\n",
              "  .colab-df-quickchart:hover {\n",
              "    background-color: var(--hover-bg-color);\n",
              "    box-shadow: 0 1px 2px rgba(60, 64, 67, 0.3), 0 1px 3px 1px rgba(60, 64, 67, 0.15);\n",
              "    fill: var(--button-hover-fill-color);\n",
              "  }\n",
              "\n",
              "  .colab-df-quickchart-complete:disabled,\n",
              "  .colab-df-quickchart-complete:disabled:hover {\n",
              "    background-color: var(--disabled-bg-color);\n",
              "    fill: var(--disabled-fill-color);\n",
              "    box-shadow: none;\n",
              "  }\n",
              "\n",
              "  .colab-df-spinner {\n",
              "    border: 2px solid var(--fill-color);\n",
              "    border-color: transparent;\n",
              "    border-bottom-color: var(--fill-color);\n",
              "    animation:\n",
              "      spin 1s steps(1) infinite;\n",
              "  }\n",
              "\n",
              "  @keyframes spin {\n",
              "    0% {\n",
              "      border-color: transparent;\n",
              "      border-bottom-color: var(--fill-color);\n",
              "      border-left-color: var(--fill-color);\n",
              "    }\n",
              "    20% {\n",
              "      border-color: transparent;\n",
              "      border-left-color: var(--fill-color);\n",
              "      border-top-color: var(--fill-color);\n",
              "    }\n",
              "    30% {\n",
              "      border-color: transparent;\n",
              "      border-left-color: var(--fill-color);\n",
              "      border-top-color: var(--fill-color);\n",
              "      border-right-color: var(--fill-color);\n",
              "    }\n",
              "    40% {\n",
              "      border-color: transparent;\n",
              "      border-right-color: var(--fill-color);\n",
              "      border-top-color: var(--fill-color);\n",
              "    }\n",
              "    60% {\n",
              "      border-color: transparent;\n",
              "      border-right-color: var(--fill-color);\n",
              "    }\n",
              "    80% {\n",
              "      border-color: transparent;\n",
              "      border-right-color: var(--fill-color);\n",
              "      border-bottom-color: var(--fill-color);\n",
              "    }\n",
              "    90% {\n",
              "      border-color: transparent;\n",
              "      border-bottom-color: var(--fill-color);\n",
              "    }\n",
              "  }\n",
              "</style>\n",
              "\n",
              "  <script>\n",
              "    async function quickchart(key) {\n",
              "      const quickchartButtonEl =\n",
              "        document.querySelector('#' + key + ' button');\n",
              "      quickchartButtonEl.disabled = true;  // To prevent multiple clicks.\n",
              "      quickchartButtonEl.classList.add('colab-df-spinner');\n",
              "      try {\n",
              "        const charts = await google.colab.kernel.invokeFunction(\n",
              "            'suggestCharts', [key], {});\n",
              "      } catch (error) {\n",
              "        console.error('Error during call to suggestCharts:', error);\n",
              "      }\n",
              "      quickchartButtonEl.classList.remove('colab-df-spinner');\n",
              "      quickchartButtonEl.classList.add('colab-df-quickchart-complete');\n",
              "    }\n",
              "    (() => {\n",
              "      let quickchartButtonEl =\n",
              "        document.querySelector('#df-243253f2-9166-4a15-9cdb-8fe6e5c9bd16 button');\n",
              "      quickchartButtonEl.style.display =\n",
              "        google.colab.kernel.accessAllowed ? 'block' : 'none';\n",
              "    })();\n",
              "  </script>\n",
              "</div>\n",
              "    </div>\n",
              "  </div>\n"
            ],
            "application/vnd.google.colaboratory.intrinsic+json": {
              "type": "dataframe",
              "summary": "{\n  \"name\": \"df\",\n  \"rows\": 8,\n  \"fields\": [\n    {\n      \"column\": \"ID\",\n      \"properties\": {\n        \"dtype\": \"number\",\n        \"std\": 1647.57199976696,\n        \"min\": 1.0,\n        \"max\": 5000.0,\n        \"num_unique_values\": 8,\n        \"samples\": [\n          2497.6825,\n          2492.5,\n          4000.0\n        ],\n        \"semantic_type\": \"\",\n        \"description\": \"\"\n      }\n    },\n    {\n      \"column\": \"Age\",\n      \"properties\": {\n        \"dtype\": \"number\",\n        \"std\": 1400.0834329687634,\n        \"min\": 11.48923541331605,\n        \"max\": 4000.0,\n        \"num_unique_values\": 8,\n        \"samples\": [\n          45.4295,\n          45.0,\n          4000.0\n        ],\n        \"semantic_type\": \"\",\n        \"description\": \"\"\n      }\n    },\n    {\n      \"column\": \"Experience\",\n      \"properties\": {\n        \"dtype\": \"number\",\n        \"std\": 1407.6288956895978,\n        \"min\": -3.0,\n        \"max\": 4000.0,\n        \"num_unique_values\": 8,\n        \"samples\": [\n          20.19625,\n          20.0,\n          4000.0\n        ],\n        \"semantic_type\": \"\",\n        \"description\": \"\"\n      }\n    },\n    {\n      \"column\": \"Income\",\n      \"properties\": {\n        \"dtype\": \"number\",\n        \"std\": 1387.910974647818,\n        \"min\": 8.0,\n        \"max\": 4000.0,\n        \"num_unique_values\": 8,\n        \"samples\": [\n          73.47975,\n          63.0,\n          4000.0\n        ],\n        \"semantic_type\": \"\",\n        \"description\": \"\"\n      }\n    },\n    {\n      \"column\": \"ZIP Code\",\n      \"properties\": {\n        \"dtype\": \"number\",\n        \"std\": 46012.54491087722,\n        \"min\": 2197.762635986191,\n        \"max\": 96651.0,\n        \"num_unique_values\": 8,\n        \"samples\": [\n          93156.58375,\n          93407.0,\n          4000.0\n        ],\n        \"semantic_type\": \"\",\n        \"description\": \"\"\n      }\n    },\n    {\n      \"column\": \"Family\",\n      \"properties\": {\n        \"dtype\": \"number\",\n        \"std\": 1413.480008091279,\n        \"min\": 1.0,\n        \"max\": 4000.0,\n        \"num_unique_values\": 7,\n        \"samples\": [\n          4000.0,\n          2.38175,\n          3.0\n        ],\n        \"semantic_type\": \"\",\n        \"description\": \"\"\n      }\n    },\n    {\n      \"column\": \"CCAvg\",\n      \"properties\": {\n        \"dtype\": \"number\",\n        \"std\": 1413.2896169090607,\n        \"min\": 0.0,\n        \"max\": 4000.0,\n        \"num_unique_values\": 8,\n        \"samples\": [\n          1.9218050000000002,\n          1.5,\n          4000.0\n        ],\n        \"semantic_type\": \"\",\n        \"description\": \"\"\n      }\n    },\n    {\n      \"column\": \"Education\",\n      \"properties\": {\n        \"dtype\": \"number\",\n        \"std\": 1413.5711822677465,\n        \"min\": 0.8421015578648691,\n        \"max\": 4000.0,\n        \"num_unique_values\": 6,\n        \"samples\": [\n          4000.0,\n          1.8815,\n          3.0\n        ],\n        \"semantic_type\": \"\",\n        \"description\": \"\"\n      }\n    },\n    {\n      \"column\": \"Mortgage\",\n      \"properties\": {\n        \"dtype\": \"number\",\n        \"std\": 1385.3871680706206,\n        \"min\": 0.0,\n        \"max\": 4000.0,\n        \"num_unique_values\": 6,\n        \"samples\": [\n          4000.0,\n          55.96825,\n          635.0\n        ],\n        \"semantic_type\": \"\",\n        \"description\": \"\"\n      }\n    },\n    {\n      \"column\": \"Personal Loan\",\n      \"properties\": {\n        \"dtype\": \"number\",\n        \"std\": 1414.1433664548529,\n        \"min\": 0.0,\n        \"max\": 4000.0,\n        \"num_unique_values\": 5,\n        \"samples\": [\n          0.096,\n          1.0,\n          0.29462807304355154\n        ],\n        \"semantic_type\": \"\",\n        \"description\": \"\"\n      }\n    },\n    {\n      \"column\": \"Securities Account\",\n      \"properties\": {\n        \"dtype\": \"number\",\n        \"std\": 1414.1424234722997,\n        \"min\": 0.0,\n        \"max\": 4000.0,\n        \"num_unique_values\": 5,\n        \"samples\": [\n          0.104,\n          1.0,\n          0.30529870917751417\n        ],\n        \"semantic_type\": \"\",\n        \"description\": \"\"\n      }\n    },\n    {\n      \"column\": \"CD Account\",\n      \"properties\": {\n        \"dtype\": \"number\",\n        \"std\": 1414.1478541845593,\n        \"min\": 0.0,\n        \"max\": 4000.0,\n        \"num_unique_values\": 5,\n        \"samples\": [\n          0.0615,\n          1.0,\n          0.24027522353701272\n        ],\n        \"semantic_type\": \"\",\n        \"description\": \"\"\n      }\n    },\n    {\n      \"column\": \"Online\",\n      \"properties\": {\n        \"dtype\": \"number\",\n        \"std\": 1414.007089627606,\n        \"min\": 0.0,\n        \"max\": 4000.0,\n        \"num_unique_values\": 5,\n        \"samples\": [\n          0.599,\n          1.0,\n          0.4901622841123046\n        ],\n        \"semantic_type\": \"\",\n        \"description\": \"\"\n      }\n    },\n    {\n      \"column\": \"CreditCard\",\n      \"properties\": {\n        \"dtype\": \"number\",\n        \"std\": 1414.0750030171573,\n        \"min\": 0.0,\n        \"max\": 4000.0,\n        \"num_unique_values\": 5,\n        \"samples\": [\n          0.2905,\n          1.0,\n          0.45404987647017436\n        ],\n        \"semantic_type\": \"\",\n        \"description\": \"\"\n      }\n    }\n  ]\n}"
            }
          },
          "metadata": {},
          "execution_count": 3
        }
      ]
    },
    {
      "cell_type": "markdown",
      "source": [
        "Набор данных содержит 14 переменных, 1 из которых является целевой.\n",
        "\n",
        "1 номинальная переменная: **ID**\n",
        "\n",
        "5 числовых переменных: **Age**, **Experience**, **Income**, **CCAvg**, **Mortgage**\n",
        "\n",
        "3 категориальные переменных: **Family**, **Education**, **ZIP Code**\n",
        "\n",
        "5 булевых переменных: **Personal Loan**, **Securities Account**, **CD Account**, **Online**, **CreditCard**\n",
        "\n",
        "Пропущенных значений нет.\n",
        "\n",
        "Experience содержит какие-то отрицательные значения"
      ],
      "metadata": {
        "id": "57sZel7LPRzB"
      }
    },
    {
      "cell_type": "markdown",
      "source": [
        "Удалите колонку ID, она нам не понадобится"
      ],
      "metadata": {
        "id": "4Wl4T4lDyKAK"
      }
    },
    {
      "cell_type": "code",
      "source": [
        "df = df.drop(columns=('ID'))"
      ],
      "metadata": {
        "id": "B3Wj00WZQiID"
      },
      "execution_count": null,
      "outputs": []
    },
    {
      "cell_type": "markdown",
      "source": [
        "Имеет смысл попробовать отловить каике-либо зависимости или их отсутствие.\n",
        "\n",
        "Постройте матрицу корреляций"
      ],
      "metadata": {
        "id": "8_S0yiCEQvbC"
      }
    },
    {
      "cell_type": "code",
      "source": [
        "# строим матрицу корреляций признаков\n",
        "corr_matrix = round(df.corr(), 3)\n",
        "corr_matrix"
      ],
      "metadata": {
        "id": "JGrHybCnQ0q1",
        "colab": {
          "base_uri": "https://localhost:8080/",
          "height": 492
        },
        "outputId": "a539cda6-45f5-42e1-c8e1-a0bf7fd35f90"
      },
      "execution_count": null,
      "outputs": [
        {
          "output_type": "execute_result",
          "data": {
            "text/plain": [
              "                      Age  Experience  Income  ZIP Code  Family  CCAvg  \\\n",
              "Age                 1.000       0.994  -0.047    -0.031  -0.034 -0.041   \n",
              "Experience          0.994       1.000  -0.038    -0.030  -0.040 -0.038   \n",
              "Income             -0.047      -0.038   1.000    -0.016  -0.156  0.642   \n",
              "ZIP Code           -0.031      -0.030  -0.016     1.000   0.006 -0.003   \n",
              "Family             -0.034      -0.040  -0.156     0.006   1.000 -0.104   \n",
              "CCAvg              -0.041      -0.038   0.642    -0.003  -0.104  1.000   \n",
              "Education           0.027      -0.001  -0.192    -0.020   0.070 -0.133   \n",
              "Mortgage           -0.003      -0.001   0.197     0.003  -0.024  0.105   \n",
              "Personal Loan      -0.019      -0.018   0.497    -0.008   0.063  0.366   \n",
              "Securities Account  0.001       0.000   0.005    -0.001   0.012  0.028   \n",
              "CD Account          0.014       0.016   0.180     0.008   0.019  0.145   \n",
              "Online              0.027       0.027   0.013     0.008   0.012 -0.004   \n",
              "CreditCard          0.014       0.016   0.009     0.001   0.010  0.004   \n",
              "\n",
              "                    Education  Mortgage  Personal Loan  Securities Account  \\\n",
              "Age                     0.027    -0.003         -0.019               0.001   \n",
              "Experience             -0.001    -0.001         -0.018               0.000   \n",
              "Income                 -0.192     0.197          0.497               0.005   \n",
              "ZIP Code               -0.020     0.003         -0.008              -0.001   \n",
              "Family                  0.070    -0.024          0.063               0.012   \n",
              "CCAvg                  -0.133     0.105          0.366               0.028   \n",
              "Education               1.000    -0.028          0.135              -0.013   \n",
              "Mortgage               -0.028     1.000          0.140              -0.002   \n",
              "Personal Loan           0.135     0.140          1.000               0.031   \n",
              "Securities Account     -0.013    -0.002          0.031               1.000   \n",
              "CD Account              0.013     0.093          0.337               0.325   \n",
              "Online                 -0.018     0.008          0.010               0.015   \n",
              "CreditCard             -0.016    -0.003          0.010              -0.021   \n",
              "\n",
              "                    CD Account  Online  CreditCard  \n",
              "Age                      0.014   0.027       0.014  \n",
              "Experience               0.016   0.027       0.016  \n",
              "Income                   0.180   0.013       0.009  \n",
              "ZIP Code                 0.008   0.008       0.001  \n",
              "Family                   0.019   0.012       0.010  \n",
              "CCAvg                    0.145  -0.004       0.004  \n",
              "Education                0.013  -0.018      -0.016  \n",
              "Mortgage                 0.093   0.008      -0.003  \n",
              "Personal Loan            0.337   0.010       0.010  \n",
              "Securities Account       0.325   0.015      -0.021  \n",
              "CD Account               1.000   0.178       0.281  \n",
              "Online                   0.178   1.000       0.021  \n",
              "CreditCard               0.281   0.021       1.000  "
            ],
            "text/html": [
              "\n",
              "  <div id=\"df-a795fc4f-0f42-46d5-bcf0-911ef46995c1\" class=\"colab-df-container\">\n",
              "    <div>\n",
              "<style scoped>\n",
              "    .dataframe tbody tr th:only-of-type {\n",
              "        vertical-align: middle;\n",
              "    }\n",
              "\n",
              "    .dataframe tbody tr th {\n",
              "        vertical-align: top;\n",
              "    }\n",
              "\n",
              "    .dataframe thead th {\n",
              "        text-align: right;\n",
              "    }\n",
              "</style>\n",
              "<table border=\"1\" class=\"dataframe\">\n",
              "  <thead>\n",
              "    <tr style=\"text-align: right;\">\n",
              "      <th></th>\n",
              "      <th>Age</th>\n",
              "      <th>Experience</th>\n",
              "      <th>Income</th>\n",
              "      <th>ZIP Code</th>\n",
              "      <th>Family</th>\n",
              "      <th>CCAvg</th>\n",
              "      <th>Education</th>\n",
              "      <th>Mortgage</th>\n",
              "      <th>Personal Loan</th>\n",
              "      <th>Securities Account</th>\n",
              "      <th>CD Account</th>\n",
              "      <th>Online</th>\n",
              "      <th>CreditCard</th>\n",
              "    </tr>\n",
              "  </thead>\n",
              "  <tbody>\n",
              "    <tr>\n",
              "      <th>Age</th>\n",
              "      <td>1.000</td>\n",
              "      <td>0.994</td>\n",
              "      <td>-0.047</td>\n",
              "      <td>-0.031</td>\n",
              "      <td>-0.034</td>\n",
              "      <td>-0.041</td>\n",
              "      <td>0.027</td>\n",
              "      <td>-0.003</td>\n",
              "      <td>-0.019</td>\n",
              "      <td>0.001</td>\n",
              "      <td>0.014</td>\n",
              "      <td>0.027</td>\n",
              "      <td>0.014</td>\n",
              "    </tr>\n",
              "    <tr>\n",
              "      <th>Experience</th>\n",
              "      <td>0.994</td>\n",
              "      <td>1.000</td>\n",
              "      <td>-0.038</td>\n",
              "      <td>-0.030</td>\n",
              "      <td>-0.040</td>\n",
              "      <td>-0.038</td>\n",
              "      <td>-0.001</td>\n",
              "      <td>-0.001</td>\n",
              "      <td>-0.018</td>\n",
              "      <td>0.000</td>\n",
              "      <td>0.016</td>\n",
              "      <td>0.027</td>\n",
              "      <td>0.016</td>\n",
              "    </tr>\n",
              "    <tr>\n",
              "      <th>Income</th>\n",
              "      <td>-0.047</td>\n",
              "      <td>-0.038</td>\n",
              "      <td>1.000</td>\n",
              "      <td>-0.016</td>\n",
              "      <td>-0.156</td>\n",
              "      <td>0.642</td>\n",
              "      <td>-0.192</td>\n",
              "      <td>0.197</td>\n",
              "      <td>0.497</td>\n",
              "      <td>0.005</td>\n",
              "      <td>0.180</td>\n",
              "      <td>0.013</td>\n",
              "      <td>0.009</td>\n",
              "    </tr>\n",
              "    <tr>\n",
              "      <th>ZIP Code</th>\n",
              "      <td>-0.031</td>\n",
              "      <td>-0.030</td>\n",
              "      <td>-0.016</td>\n",
              "      <td>1.000</td>\n",
              "      <td>0.006</td>\n",
              "      <td>-0.003</td>\n",
              "      <td>-0.020</td>\n",
              "      <td>0.003</td>\n",
              "      <td>-0.008</td>\n",
              "      <td>-0.001</td>\n",
              "      <td>0.008</td>\n",
              "      <td>0.008</td>\n",
              "      <td>0.001</td>\n",
              "    </tr>\n",
              "    <tr>\n",
              "      <th>Family</th>\n",
              "      <td>-0.034</td>\n",
              "      <td>-0.040</td>\n",
              "      <td>-0.156</td>\n",
              "      <td>0.006</td>\n",
              "      <td>1.000</td>\n",
              "      <td>-0.104</td>\n",
              "      <td>0.070</td>\n",
              "      <td>-0.024</td>\n",
              "      <td>0.063</td>\n",
              "      <td>0.012</td>\n",
              "      <td>0.019</td>\n",
              "      <td>0.012</td>\n",
              "      <td>0.010</td>\n",
              "    </tr>\n",
              "    <tr>\n",
              "      <th>CCAvg</th>\n",
              "      <td>-0.041</td>\n",
              "      <td>-0.038</td>\n",
              "      <td>0.642</td>\n",
              "      <td>-0.003</td>\n",
              "      <td>-0.104</td>\n",
              "      <td>1.000</td>\n",
              "      <td>-0.133</td>\n",
              "      <td>0.105</td>\n",
              "      <td>0.366</td>\n",
              "      <td>0.028</td>\n",
              "      <td>0.145</td>\n",
              "      <td>-0.004</td>\n",
              "      <td>0.004</td>\n",
              "    </tr>\n",
              "    <tr>\n",
              "      <th>Education</th>\n",
              "      <td>0.027</td>\n",
              "      <td>-0.001</td>\n",
              "      <td>-0.192</td>\n",
              "      <td>-0.020</td>\n",
              "      <td>0.070</td>\n",
              "      <td>-0.133</td>\n",
              "      <td>1.000</td>\n",
              "      <td>-0.028</td>\n",
              "      <td>0.135</td>\n",
              "      <td>-0.013</td>\n",
              "      <td>0.013</td>\n",
              "      <td>-0.018</td>\n",
              "      <td>-0.016</td>\n",
              "    </tr>\n",
              "    <tr>\n",
              "      <th>Mortgage</th>\n",
              "      <td>-0.003</td>\n",
              "      <td>-0.001</td>\n",
              "      <td>0.197</td>\n",
              "      <td>0.003</td>\n",
              "      <td>-0.024</td>\n",
              "      <td>0.105</td>\n",
              "      <td>-0.028</td>\n",
              "      <td>1.000</td>\n",
              "      <td>0.140</td>\n",
              "      <td>-0.002</td>\n",
              "      <td>0.093</td>\n",
              "      <td>0.008</td>\n",
              "      <td>-0.003</td>\n",
              "    </tr>\n",
              "    <tr>\n",
              "      <th>Personal Loan</th>\n",
              "      <td>-0.019</td>\n",
              "      <td>-0.018</td>\n",
              "      <td>0.497</td>\n",
              "      <td>-0.008</td>\n",
              "      <td>0.063</td>\n",
              "      <td>0.366</td>\n",
              "      <td>0.135</td>\n",
              "      <td>0.140</td>\n",
              "      <td>1.000</td>\n",
              "      <td>0.031</td>\n",
              "      <td>0.337</td>\n",
              "      <td>0.010</td>\n",
              "      <td>0.010</td>\n",
              "    </tr>\n",
              "    <tr>\n",
              "      <th>Securities Account</th>\n",
              "      <td>0.001</td>\n",
              "      <td>0.000</td>\n",
              "      <td>0.005</td>\n",
              "      <td>-0.001</td>\n",
              "      <td>0.012</td>\n",
              "      <td>0.028</td>\n",
              "      <td>-0.013</td>\n",
              "      <td>-0.002</td>\n",
              "      <td>0.031</td>\n",
              "      <td>1.000</td>\n",
              "      <td>0.325</td>\n",
              "      <td>0.015</td>\n",
              "      <td>-0.021</td>\n",
              "    </tr>\n",
              "    <tr>\n",
              "      <th>CD Account</th>\n",
              "      <td>0.014</td>\n",
              "      <td>0.016</td>\n",
              "      <td>0.180</td>\n",
              "      <td>0.008</td>\n",
              "      <td>0.019</td>\n",
              "      <td>0.145</td>\n",
              "      <td>0.013</td>\n",
              "      <td>0.093</td>\n",
              "      <td>0.337</td>\n",
              "      <td>0.325</td>\n",
              "      <td>1.000</td>\n",
              "      <td>0.178</td>\n",
              "      <td>0.281</td>\n",
              "    </tr>\n",
              "    <tr>\n",
              "      <th>Online</th>\n",
              "      <td>0.027</td>\n",
              "      <td>0.027</td>\n",
              "      <td>0.013</td>\n",
              "      <td>0.008</td>\n",
              "      <td>0.012</td>\n",
              "      <td>-0.004</td>\n",
              "      <td>-0.018</td>\n",
              "      <td>0.008</td>\n",
              "      <td>0.010</td>\n",
              "      <td>0.015</td>\n",
              "      <td>0.178</td>\n",
              "      <td>1.000</td>\n",
              "      <td>0.021</td>\n",
              "    </tr>\n",
              "    <tr>\n",
              "      <th>CreditCard</th>\n",
              "      <td>0.014</td>\n",
              "      <td>0.016</td>\n",
              "      <td>0.009</td>\n",
              "      <td>0.001</td>\n",
              "      <td>0.010</td>\n",
              "      <td>0.004</td>\n",
              "      <td>-0.016</td>\n",
              "      <td>-0.003</td>\n",
              "      <td>0.010</td>\n",
              "      <td>-0.021</td>\n",
              "      <td>0.281</td>\n",
              "      <td>0.021</td>\n",
              "      <td>1.000</td>\n",
              "    </tr>\n",
              "  </tbody>\n",
              "</table>\n",
              "</div>\n",
              "    <div class=\"colab-df-buttons\">\n",
              "\n",
              "  <div class=\"colab-df-container\">\n",
              "    <button class=\"colab-df-convert\" onclick=\"convertToInteractive('df-a795fc4f-0f42-46d5-bcf0-911ef46995c1')\"\n",
              "            title=\"Convert this dataframe to an interactive table.\"\n",
              "            style=\"display:none;\">\n",
              "\n",
              "  <svg xmlns=\"http://www.w3.org/2000/svg\" height=\"24px\" viewBox=\"0 -960 960 960\">\n",
              "    <path d=\"M120-120v-720h720v720H120Zm60-500h600v-160H180v160Zm220 220h160v-160H400v160Zm0 220h160v-160H400v160ZM180-400h160v-160H180v160Zm440 0h160v-160H620v160ZM180-180h160v-160H180v160Zm440 0h160v-160H620v160Z\"/>\n",
              "  </svg>\n",
              "    </button>\n",
              "\n",
              "  <style>\n",
              "    .colab-df-container {\n",
              "      display:flex;\n",
              "      gap: 12px;\n",
              "    }\n",
              "\n",
              "    .colab-df-convert {\n",
              "      background-color: #E8F0FE;\n",
              "      border: none;\n",
              "      border-radius: 50%;\n",
              "      cursor: pointer;\n",
              "      display: none;\n",
              "      fill: #1967D2;\n",
              "      height: 32px;\n",
              "      padding: 0 0 0 0;\n",
              "      width: 32px;\n",
              "    }\n",
              "\n",
              "    .colab-df-convert:hover {\n",
              "      background-color: #E2EBFA;\n",
              "      box-shadow: 0px 1px 2px rgba(60, 64, 67, 0.3), 0px 1px 3px 1px rgba(60, 64, 67, 0.15);\n",
              "      fill: #174EA6;\n",
              "    }\n",
              "\n",
              "    .colab-df-buttons div {\n",
              "      margin-bottom: 4px;\n",
              "    }\n",
              "\n",
              "    [theme=dark] .colab-df-convert {\n",
              "      background-color: #3B4455;\n",
              "      fill: #D2E3FC;\n",
              "    }\n",
              "\n",
              "    [theme=dark] .colab-df-convert:hover {\n",
              "      background-color: #434B5C;\n",
              "      box-shadow: 0px 1px 3px 1px rgba(0, 0, 0, 0.15);\n",
              "      filter: drop-shadow(0px 1px 2px rgba(0, 0, 0, 0.3));\n",
              "      fill: #FFFFFF;\n",
              "    }\n",
              "  </style>\n",
              "\n",
              "    <script>\n",
              "      const buttonEl =\n",
              "        document.querySelector('#df-a795fc4f-0f42-46d5-bcf0-911ef46995c1 button.colab-df-convert');\n",
              "      buttonEl.style.display =\n",
              "        google.colab.kernel.accessAllowed ? 'block' : 'none';\n",
              "\n",
              "      async function convertToInteractive(key) {\n",
              "        const element = document.querySelector('#df-a795fc4f-0f42-46d5-bcf0-911ef46995c1');\n",
              "        const dataTable =\n",
              "          await google.colab.kernel.invokeFunction('convertToInteractive',\n",
              "                                                    [key], {});\n",
              "        if (!dataTable) return;\n",
              "\n",
              "        const docLinkHtml = 'Like what you see? Visit the ' +\n",
              "          '<a target=\"_blank\" href=https://colab.research.google.com/notebooks/data_table.ipynb>data table notebook</a>'\n",
              "          + ' to learn more about interactive tables.';\n",
              "        element.innerHTML = '';\n",
              "        dataTable['output_type'] = 'display_data';\n",
              "        await google.colab.output.renderOutput(dataTable, element);\n",
              "        const docLink = document.createElement('div');\n",
              "        docLink.innerHTML = docLinkHtml;\n",
              "        element.appendChild(docLink);\n",
              "      }\n",
              "    </script>\n",
              "  </div>\n",
              "\n",
              "\n",
              "<div id=\"df-f8b90a20-48e8-45a5-ba2f-1ab5c04eb9aa\">\n",
              "  <button class=\"colab-df-quickchart\" onclick=\"quickchart('df-f8b90a20-48e8-45a5-ba2f-1ab5c04eb9aa')\"\n",
              "            title=\"Suggest charts\"\n",
              "            style=\"display:none;\">\n",
              "\n",
              "<svg xmlns=\"http://www.w3.org/2000/svg\" height=\"24px\"viewBox=\"0 0 24 24\"\n",
              "     width=\"24px\">\n",
              "    <g>\n",
              "        <path d=\"M19 3H5c-1.1 0-2 .9-2 2v14c0 1.1.9 2 2 2h14c1.1 0 2-.9 2-2V5c0-1.1-.9-2-2-2zM9 17H7v-7h2v7zm4 0h-2V7h2v10zm4 0h-2v-4h2v4z\"/>\n",
              "    </g>\n",
              "</svg>\n",
              "  </button>\n",
              "\n",
              "<style>\n",
              "  .colab-df-quickchart {\n",
              "      --bg-color: #E8F0FE;\n",
              "      --fill-color: #1967D2;\n",
              "      --hover-bg-color: #E2EBFA;\n",
              "      --hover-fill-color: #174EA6;\n",
              "      --disabled-fill-color: #AAA;\n",
              "      --disabled-bg-color: #DDD;\n",
              "  }\n",
              "\n",
              "  [theme=dark] .colab-df-quickchart {\n",
              "      --bg-color: #3B4455;\n",
              "      --fill-color: #D2E3FC;\n",
              "      --hover-bg-color: #434B5C;\n",
              "      --hover-fill-color: #FFFFFF;\n",
              "      --disabled-bg-color: #3B4455;\n",
              "      --disabled-fill-color: #666;\n",
              "  }\n",
              "\n",
              "  .colab-df-quickchart {\n",
              "    background-color: var(--bg-color);\n",
              "    border: none;\n",
              "    border-radius: 50%;\n",
              "    cursor: pointer;\n",
              "    display: none;\n",
              "    fill: var(--fill-color);\n",
              "    height: 32px;\n",
              "    padding: 0;\n",
              "    width: 32px;\n",
              "  }\n",
              "\n",
              "  .colab-df-quickchart:hover {\n",
              "    background-color: var(--hover-bg-color);\n",
              "    box-shadow: 0 1px 2px rgba(60, 64, 67, 0.3), 0 1px 3px 1px rgba(60, 64, 67, 0.15);\n",
              "    fill: var(--button-hover-fill-color);\n",
              "  }\n",
              "\n",
              "  .colab-df-quickchart-complete:disabled,\n",
              "  .colab-df-quickchart-complete:disabled:hover {\n",
              "    background-color: var(--disabled-bg-color);\n",
              "    fill: var(--disabled-fill-color);\n",
              "    box-shadow: none;\n",
              "  }\n",
              "\n",
              "  .colab-df-spinner {\n",
              "    border: 2px solid var(--fill-color);\n",
              "    border-color: transparent;\n",
              "    border-bottom-color: var(--fill-color);\n",
              "    animation:\n",
              "      spin 1s steps(1) infinite;\n",
              "  }\n",
              "\n",
              "  @keyframes spin {\n",
              "    0% {\n",
              "      border-color: transparent;\n",
              "      border-bottom-color: var(--fill-color);\n",
              "      border-left-color: var(--fill-color);\n",
              "    }\n",
              "    20% {\n",
              "      border-color: transparent;\n",
              "      border-left-color: var(--fill-color);\n",
              "      border-top-color: var(--fill-color);\n",
              "    }\n",
              "    30% {\n",
              "      border-color: transparent;\n",
              "      border-left-color: var(--fill-color);\n",
              "      border-top-color: var(--fill-color);\n",
              "      border-right-color: var(--fill-color);\n",
              "    }\n",
              "    40% {\n",
              "      border-color: transparent;\n",
              "      border-right-color: var(--fill-color);\n",
              "      border-top-color: var(--fill-color);\n",
              "    }\n",
              "    60% {\n",
              "      border-color: transparent;\n",
              "      border-right-color: var(--fill-color);\n",
              "    }\n",
              "    80% {\n",
              "      border-color: transparent;\n",
              "      border-right-color: var(--fill-color);\n",
              "      border-bottom-color: var(--fill-color);\n",
              "    }\n",
              "    90% {\n",
              "      border-color: transparent;\n",
              "      border-bottom-color: var(--fill-color);\n",
              "    }\n",
              "  }\n",
              "</style>\n",
              "\n",
              "  <script>\n",
              "    async function quickchart(key) {\n",
              "      const quickchartButtonEl =\n",
              "        document.querySelector('#' + key + ' button');\n",
              "      quickchartButtonEl.disabled = true;  // To prevent multiple clicks.\n",
              "      quickchartButtonEl.classList.add('colab-df-spinner');\n",
              "      try {\n",
              "        const charts = await google.colab.kernel.invokeFunction(\n",
              "            'suggestCharts', [key], {});\n",
              "      } catch (error) {\n",
              "        console.error('Error during call to suggestCharts:', error);\n",
              "      }\n",
              "      quickchartButtonEl.classList.remove('colab-df-spinner');\n",
              "      quickchartButtonEl.classList.add('colab-df-quickchart-complete');\n",
              "    }\n",
              "    (() => {\n",
              "      let quickchartButtonEl =\n",
              "        document.querySelector('#df-f8b90a20-48e8-45a5-ba2f-1ab5c04eb9aa button');\n",
              "      quickchartButtonEl.style.display =\n",
              "        google.colab.kernel.accessAllowed ? 'block' : 'none';\n",
              "    })();\n",
              "  </script>\n",
              "</div>\n",
              "    </div>\n",
              "  </div>\n"
            ],
            "application/vnd.google.colaboratory.intrinsic+json": {
              "type": "dataframe",
              "variable_name": "corr_matrix",
              "summary": "{\n  \"name\": \"corr_matrix\",\n  \"rows\": 13,\n  \"fields\": [\n    {\n      \"column\": \"Age\",\n      \"properties\": {\n        \"dtype\": \"number\",\n        \"std\": 0.37837225598947405,\n        \"min\": -0.047,\n        \"max\": 1.0,\n        \"num_unique_values\": 11,\n        \"samples\": [\n          -0.041,\n          1.0,\n          0.001\n        ],\n        \"semantic_type\": \"\",\n        \"description\": \"\"\n      }\n    },\n    {\n      \"column\": \"Experience\",\n      \"properties\": {\n        \"dtype\": \"number\",\n        \"std\": 0.37871335821740915,\n        \"min\": -0.04,\n        \"max\": 1.0,\n        \"num_unique_values\": 10,\n        \"samples\": [\n          0.016,\n          1.0,\n          -0.001\n        ],\n        \"semantic_type\": \"\",\n        \"description\": \"\"\n      }\n    },\n    {\n      \"column\": \"Income\",\n      \"properties\": {\n        \"dtype\": \"number\",\n        \"std\": 0.34862478912111744,\n        \"min\": -0.192,\n        \"max\": 1.0,\n        \"num_unique_values\": 13,\n        \"samples\": [\n          0.013,\n          0.005,\n          -0.047\n        ],\n        \"semantic_type\": \"\",\n        \"description\": \"\"\n      }\n    },\n    {\n      \"column\": \"ZIP Code\",\n      \"properties\": {\n        \"dtype\": \"number\",\n        \"std\": 0.2795951285295148,\n        \"min\": -0.031,\n        \"max\": 1.0,\n        \"num_unique_values\": 12,\n        \"samples\": [\n          0.008,\n          -0.001,\n          -0.031\n        ],\n        \"semantic_type\": \"\",\n        \"description\": \"\"\n      }\n    },\n    {\n      \"column\": \"Family\",\n      \"properties\": {\n        \"dtype\": \"number\",\n        \"std\": 0.28789953286804937,\n        \"min\": -0.156,\n        \"max\": 1.0,\n        \"num_unique_values\": 12,\n        \"samples\": [\n          0.019,\n          0.012,\n          -0.034\n        ],\n        \"semantic_type\": \"\",\n        \"description\": \"\"\n      }\n    },\n    {\n      \"column\": \"CCAvg\",\n      \"properties\": {\n        \"dtype\": \"number\",\n        \"std\": 0.33078225078727763,\n        \"min\": -0.133,\n        \"max\": 1.0,\n        \"num_unique_values\": 13,\n        \"samples\": [\n          -0.004,\n          0.028,\n          -0.041\n        ],\n        \"semantic_type\": \"\",\n        \"description\": \"\"\n      }\n    },\n    {\n      \"column\": \"Education\",\n      \"properties\": {\n        \"dtype\": \"number\",\n        \"std\": 0.29272869648121236,\n        \"min\": -0.192,\n        \"max\": 1.0,\n        \"num_unique_values\": 13,\n        \"samples\": [\n          -0.018,\n          -0.013,\n          0.027\n        ],\n        \"semantic_type\": \"\",\n        \"description\": \"\"\n      }\n    },\n    {\n      \"column\": \"Mortgage\",\n      \"properties\": {\n        \"dtype\": \"number\",\n        \"std\": 0.27536435070834,\n        \"min\": -0.028,\n        \"max\": 1.0,\n        \"num_unique_values\": 12,\n        \"samples\": [\n          0.093,\n          -0.002,\n          -0.003\n        ],\n        \"semantic_type\": \"\",\n        \"description\": \"\"\n      }\n    },\n    {\n      \"column\": \"Personal Loan\",\n      \"properties\": {\n        \"dtype\": \"number\",\n        \"std\": 0.2944481801085393,\n        \"min\": -0.019,\n        \"max\": 1.0,\n        \"num_unique_values\": 12,\n        \"samples\": [\n          0.337,\n          0.031,\n          -0.019\n        ],\n        \"semantic_type\": \"\",\n        \"description\": \"\"\n      }\n    },\n    {\n      \"column\": \"Securities Account\",\n      \"properties\": {\n        \"dtype\": \"number\",\n        \"std\": 0.28312065924673824,\n        \"min\": -0.021,\n        \"max\": 1.0,\n        \"num_unique_values\": 13,\n        \"samples\": [\n          0.015,\n          1.0,\n          0.001\n        ],\n        \"semantic_type\": \"\",\n        \"description\": \"\"\n      }\n    },\n    {\n      \"column\": \"CD Account\",\n      \"properties\": {\n        \"dtype\": \"number\",\n        \"std\": 0.26915806527496833,\n        \"min\": 0.008,\n        \"max\": 1.0,\n        \"num_unique_values\": 13,\n        \"samples\": [\n          0.178,\n          0.325,\n          0.014\n        ],\n        \"semantic_type\": \"\",\n        \"description\": \"\"\n      }\n    },\n    {\n      \"column\": \"Online\",\n      \"properties\": {\n        \"dtype\": \"number\",\n        \"std\": 0.27466469068246163,\n        \"min\": -0.018,\n        \"max\": 1.0,\n        \"num_unique_values\": 11,\n        \"samples\": [\n          -0.018,\n          0.027,\n          1.0\n        ],\n        \"semantic_type\": \"\",\n        \"description\": \"\"\n      }\n    },\n    {\n      \"column\": \"CreditCard\",\n      \"properties\": {\n        \"dtype\": \"number\",\n        \"std\": 0.28071426753907613,\n        \"min\": -0.021,\n        \"max\": 1.0,\n        \"num_unique_values\": 12,\n        \"samples\": [\n          0.021,\n          0.281,\n          0.014\n        ],\n        \"semantic_type\": \"\",\n        \"description\": \"\"\n      }\n    }\n  ]\n}"
            }
          },
          "metadata": {},
          "execution_count": 5
        }
      ]
    },
    {
      "cell_type": "code",
      "source": [
        "# строим тепловую карту по матрице\n",
        "plt.figure(figsize=(10, 6))\n",
        "sns.heatmap(corr_matrix, annot=True, cmap='coolwarm')\n",
        "plt.show()"
      ],
      "metadata": {
        "colab": {
          "base_uri": "https://localhost:8080/",
          "height": 642
        },
        "id": "fo-cXp5eobB8",
        "outputId": "a471a844-c6fc-4375-818b-9e2ab2a1c199"
      },
      "execution_count": null,
      "outputs": [
        {
          "output_type": "display_data",
          "data": {
            "text/plain": [
              "<Figure size 1000x600 with 2 Axes>"
            ],
            "image/png": "[encoded data removed]"
          },
          "metadata": {}
        }
      ]
    },
    {
      "cell_type": "markdown",
      "source": [
        "Определите две наиболее коррелированных переменных"
      ],
      "metadata": {
        "id": "33KxJRptS_wP"
      }
    },
    {
      "cell_type": "code",
      "source": [
        "max_corr = 0\n",
        "max_indicies = ()\n",
        "\n",
        "for i in range(len(corr_matrix.columns)):\n",
        "  for j in range(i + 1, len(corr_matrix.columns)):\n",
        "    value = abs(corr_matrix.iloc[i, j])\n",
        "    if value > max_corr:\n",
        "      max_corr = value\n",
        "      max_indicies = corr_matrix.index[i], corr_matrix.columns[j]\n",
        "\n",
        "print(f'Две наиболее коррелированных переменных: {max_indicies[0]}, {max_indicies[1]}')"
      ],
      "metadata": {
        "colab": {
          "base_uri": "https://localhost:8080/"
        },
        "id": "ksqQkpODpIwE",
        "outputId": "955d0dfe-42ed-482b-93c0-b0528db011eb"
      },
      "execution_count": null,
      "outputs": [
        {
          "output_type": "stream",
          "name": "stdout",
          "text": [
            "Две наиболее коррелированных переменных: Age, Experience\n"
          ]
        }
      ]
    },
    {
      "cell_type": "markdown",
      "source": [
        "Определите признак, который меньше всего коррелирует (можно считать почти не коррелирует) с остальными признаками (в том числе с откликом). Удалите этот признак из рассмотрения.\n",
        "\n",
        "Введите название удаленного признака."
      ],
      "metadata": {
        "id": "MIAngsDe2ppM"
      }
    },
    {
      "cell_type": "code",
      "source": [
        "# определим признак, который меньше всего коррелирует с остальными\n",
        "min_corr = 10\n",
        "min_column = ''\n",
        "\n",
        "for column in corr_matrix.columns:\n",
        "  sum_corr = sum(abs(corr_matrix[column]))\n",
        "  if sum_corr < min_corr:\n",
        "    min_corr = sum_corr\n",
        "    min_column = column\n",
        "\n",
        "print(f'Признак, который меньше всего коррелирует с остальными: {min_column}')"
      ],
      "metadata": {
        "id": "bqOQ1cVk27fb",
        "colab": {
          "base_uri": "https://localhost:8080/"
        },
        "outputId": "5f29ec05-c080-405a-d05c-228b09110ee8"
      },
      "execution_count": null,
      "outputs": [
        {
          "output_type": "stream",
          "name": "stdout",
          "text": [
            "Признак, который меньше всего коррелирует с остальными: ZIP Code\n"
          ]
        }
      ]
    },
    {
      "cell_type": "code",
      "source": [
        "# удалим этот признак из рассмотрения\n",
        "df = df.drop(columns=min_column)"
      ],
      "metadata": {
        "id": "EzROwkCcs5B5"
      },
      "execution_count": null,
      "outputs": []
    },
    {
      "cell_type": "markdown",
      "source": [
        "# Предварительная подготовка данных"
      ],
      "metadata": {
        "id": "1T2nmzIqTleQ"
      }
    },
    {
      "cell_type": "markdown",
      "source": [
        "## Модификация признаков"
      ],
      "metadata": {
        "id": "owfKqPFi3JRb"
      }
    },
    {
      "cell_type": "markdown",
      "source": [
        "Стоит разобраться с полем <code>Experience</code>. Видно, что опыт коррелирует с возрастом. Однако, в поле <code>Experience</code> присутствуют отрицательные значения. Имеет смысл \"сдвинуть\" значения в этой колонке. Добавьте ко всем значениям колонки <code>Experience</code> одно число так, чтобы минимальное значение было равно $0$.\n",
        "\n",
        "Вычислите выборочное среднее колонки <code>Experience</code> после преобразования."
      ],
      "metadata": {
        "id": "mKAYY8dmX2v1"
      }
    },
    {
      "cell_type": "code",
      "source": [
        "# добавим ко всем значениям колонки Experience модуль минимального значения\n",
        "to_add = abs(df['Experience'].min())\n",
        "df['Experience'] = df['Experience'] + to_add"
      ],
      "metadata": {
        "id": "HacXjLu6X_FU"
      },
      "execution_count": null,
      "outputs": []
    },
    {
      "cell_type": "code",
      "source": [
        "# вычислим выборочное среднее колонки Experience после преобразования\n",
        "print('Выборочное среднее колонки Experience:', round(df['Experience'].mean(), 3))"
      ],
      "metadata": {
        "colab": {
          "base_uri": "https://localhost:8080/"
        },
        "id": "20XgyXz3tdtZ",
        "outputId": "7ba933b3-e9c5-4c55-9735-c57f9e9af03a"
      },
      "execution_count": null,
      "outputs": [
        {
          "output_type": "stream",
          "name": "stdout",
          "text": [
            "Выборочное среднее колонки Experience: 23.196\n"
          ]
        }
      ]
    },
    {
      "cell_type": "markdown",
      "source": [
        "Аналогично имеет смысл модфицировать поле <code>CCAvg</code>. Раз рассматривается годовой доход, то имеет смысл и значения трат рассматривать в рамках года.\n",
        "\n",
        "Вычислите выборочное среднее колонки <code>CCAvg</code> после преобразования."
      ],
      "metadata": {
        "id": "0CPdKkpIb9Ko"
      }
    },
    {
      "cell_type": "code",
      "source": [
        "# умножим колонку CCAvg на кол-во месяцев в году\n",
        "df['CCAvg'] = df['CCAvg'] * 12"
      ],
      "metadata": {
        "id": "cE_wPGDeb7_J"
      },
      "execution_count": null,
      "outputs": []
    },
    {
      "cell_type": "code",
      "source": [
        "# вычислим выборочное среднее колонки CCAvg после преобразования\n",
        "print('Выборочное среднее колонки CCAvg:', round(df['CCAvg'].mean(), 3))"
      ],
      "metadata": {
        "colab": {
          "base_uri": "https://localhost:8080/"
        },
        "id": "6izKbnV_GI-h",
        "outputId": "aa999b46-4f04-4136-ffbf-d39a85848e77"
      },
      "execution_count": null,
      "outputs": [
        {
          "output_type": "stream",
          "name": "stdout",
          "text": [
            "Выборочное среднее колонки CCAvg: 23.062\n"
          ]
        }
      ]
    },
    {
      "cell_type": "markdown",
      "source": [
        "## Определение выбросов"
      ],
      "metadata": {
        "id": "sck74wTfdwXF"
      }
    },
    {
      "cell_type": "markdown",
      "source": [
        "Постройте ящики с усами для всех предикторов. Рекомендуем использовать <code>sns.boxplot()</code>. Определите признак по изображению boxplot из вашего варианта."
      ],
      "metadata": {
        "id": "_3rpqkJp3xY_"
      }
    },
    {
      "cell_type": "code",
      "source": [
        "# узнаем кол-во оставшихся предикторов\n",
        "len(df.columns) - 1"
      ],
      "metadata": {
        "colab": {
          "base_uri": "https://localhost:8080/"
        },
        "id": "SWzd2ZA8GisI",
        "outputId": "425fb6d0-378c-4a95-a304-1e42b350267d"
      },
      "execution_count": null,
      "outputs": [
        {
          "output_type": "execute_result",
          "data": {
            "text/plain": [
              "11"
            ]
          },
          "metadata": {},
          "execution_count": 14
        }
      ]
    },
    {
      "cell_type": "code",
      "source": [
        "# построим boxplot (ящики с усами) для предикторов\n",
        "fig, axes = plt.subplots(3, 4, figsize=(15, 6))\n",
        "\n",
        "for ax, column in zip(axes.flat, df.drop(columns=['Personal Loan']).columns):\n",
        "  sns.boxplot(df, x=column, ax=ax)\n",
        "\n",
        "plt.tight_layout()\n",
        "plt.show()"
      ],
      "metadata": {
        "id": "dqDNlzX3oKbT",
        "colab": {
          "base_uri": "https://localhost:8080/",
          "height": 538
        },
        "outputId": "4d465cae-13f6-41cc-b17e-eb8f3680c3b8"
      },
      "execution_count": null,
      "outputs": [
        {
          "output_type": "display_data",
          "data": {
            "text/plain": [
              "<Figure size 1500x600 with 12 Axes>"
            ],
            "image/png": "[encoded data removed]"
          },
          "metadata": {}
        }
      ]
    },
    {
      "cell_type": "markdown",
      "source": [
        "Определите признак, содержащий наибольшее число выбросов. Введите название этого признака.\n"
      ],
      "metadata": {
        "id": "fv2fr5pLRU54"
      }
    },
    {
      "cell_type": "code",
      "source": [
        "def count_outliers(column):\n",
        "  Q1 = column.quantile(0.25)\n",
        "  Q3 = column.quantile(0.75)\n",
        "  IQR = Q3 - Q1\n",
        "  lower_bound = Q1 - 3 * IQR\n",
        "  upper_bound = Q3 + 3 * IQR\n",
        "  return ((column < lower_bound) | (column > upper_bound)).sum()\n",
        "\n",
        "df_cat_numeric = df[['Age', 'Experience', 'Income', 'Family', 'CCAvg', 'Education', 'Mortgage']] # отберем числовые и категориальные признаки\n",
        "outliers_count = df_cat_numeric.apply(count_outliers)\n",
        "max_out_column = outliers_count.idxmax()\n",
        "\n",
        "print(f'Признак, содержащий наибольшее число выбросов: {max_out_column}')"
      ],
      "metadata": {
        "id": "mTJhkJZyzeoy",
        "colab": {
          "base_uri": "https://localhost:8080/"
        },
        "outputId": "39b6c89c-f6fa-4e19-ca2f-ffd92e9356e6"
      },
      "execution_count": null,
      "outputs": [
        {
          "output_type": "stream",
          "name": "stdout",
          "text": [
            "Признак, содержащий наибольшее число выбросов: Mortgage\n"
          ]
        }
      ]
    },
    {
      "cell_type": "markdown",
      "source": [
        "Имеет смысл поработать с этим признаком, а для этого стоит руководствоваться следующими статистическими соображениями. Если вычесть из данных выборочное среднее, а после поделить на среднеквадратическое отклонение, то, пользуясь правилом 3-$\\sigma$ для нормального распределения, можно выбросить слишком далекие от нуля хвосты. Постройте гистограмму распределения значений в рамках этого признака."
      ],
      "metadata": {
        "id": "3YYxjhcmzfFB"
      }
    },
    {
      "cell_type": "code",
      "source": [
        "# построим гистограмму распределения значений в рамках признака Mortgage\n",
        "sns.histplot(df, x='Mortgage')\n",
        "plt.show()"
      ],
      "metadata": {
        "id": "5dHRr6YD0U5U",
        "colab": {
          "base_uri": "https://localhost:8080/",
          "height": 449
        },
        "outputId": "55a8c967-34ad-4e08-cfff-3c018162450e"
      },
      "execution_count": null,
      "outputs": [
        {
          "output_type": "display_data",
          "data": {
            "text/plain": [
              "<Figure size 640x480 with 1 Axes>"
            ],
            "image/png": "[encoded data removed]"
          },
          "metadata": {}
        }
      ]
    },
    {
      "cell_type": "code",
      "source": [
        "# вычтем из данных выборочное среднее и поделим на среднеквадратическое отклонение\n",
        "outliers = df['Mortgage']\n",
        "outliers = outliers - outliers.mean()\n",
        "outliers = outliers / outliers.std()"
      ],
      "metadata": {
        "id": "5A8A5w_eYbX4"
      },
      "execution_count": null,
      "outputs": []
    },
    {
      "cell_type": "code",
      "source": [
        "# посмотрим на гистограмму распределения после преобразования\n",
        "sns.histplot(outliers)\n",
        "plt.show()"
      ],
      "metadata": {
        "colab": {
          "base_uri": "https://localhost:8080/",
          "height": 449
        },
        "id": "uzvTaWfOYwZr",
        "outputId": "fc7570db-3a05-4254-e585-a05065cbd319"
      },
      "execution_count": null,
      "outputs": [
        {
          "output_type": "display_data",
          "data": {
            "text/plain": [
              "<Figure size 640x480 with 1 Axes>"
            ],
            "image/png": "[encoded data removed]"
          },
          "metadata": {}
        }
      ]
    },
    {
      "cell_type": "markdown",
      "source": [
        "Очевидно в рамках этого признака есть небольшое количество значений, которые лежат далеко. Можно использовать <a href=\"https://docs.scipy.org/doc/scipy/reference/generated/scipy.stats.zscore.html\"><code>z-score</code></a> функцию из библиотеки <code>scipy</code>.\n",
        "\n",
        "Вспомнив курс теории вероятностей, становится понятно, что около $99.7\\%$ нормального распределения сождержатся в отрезке $[-3\\sigma, 3\\sigma]$. Определите число элементов, модуль <code>z-score</code> которых больше, чем $3$."
      ],
      "metadata": {
        "id": "A1PjJGciS0JL"
      }
    },
    {
      "cell_type": "code",
      "source": [
        "zscores = zscore(outliers)\n",
        "(abs(zscores) > 3).sum()"
      ],
      "metadata": {
        "id": "IAqVmGrDRq7J",
        "colab": {
          "base_uri": "https://localhost:8080/"
        },
        "outputId": "047442cf-2b47-4183-a0ff-efec0c3be1cb"
      },
      "execution_count": null,
      "outputs": [
        {
          "output_type": "execute_result",
          "data": {
            "text/plain": [
              "83"
            ]
          },
          "metadata": {},
          "execution_count": 20
        }
      ]
    },
    {
      "cell_type": "markdown",
      "source": [
        "Итак, выбросов не очень множко, поэтому выбросите их из набора данных. Введите оставшееся в датасете число строк."
      ],
      "metadata": {
        "id": "tUhbuuVkmG44"
      }
    },
    {
      "cell_type": "code",
      "source": [
        "# удалим выбросы из набора данных\n",
        "outliers_index = zscores.index[abs(zscores) > 3]\n",
        "df = df.drop(df.index[outliers_index])"
      ],
      "metadata": {
        "id": "BWLLchbGmKyx"
      },
      "execution_count": null,
      "outputs": []
    },
    {
      "cell_type": "code",
      "source": [
        "# вычислим оставшееся в датасете число строк\n",
        "print(f'Оставшееся в датасете число строк: {len(df)}')"
      ],
      "metadata": {
        "colab": {
          "base_uri": "https://localhost:8080/"
        },
        "id": "NY-qxp_aaTot",
        "outputId": "ee3b5a3b-0743-4ae4-f4d8-05af77844237"
      },
      "execution_count": null,
      "outputs": [
        {
          "output_type": "stream",
          "name": "stdout",
          "text": [
            "Оставшееся в датасете число строк: 3917\n"
          ]
        }
      ]
    },
    {
      "cell_type": "markdown",
      "source": [
        "# Построение моделей"
      ],
      "metadata": {
        "id": "hMJ3LQA62_z7"
      }
    },
    {
      "cell_type": "markdown",
      "source": [
        "# Базовый алгоритм"
      ],
      "metadata": {
        "id": "YraRCGS33aCP"
      }
    },
    {
      "cell_type": "markdown",
      "source": [
        "При помощи <code>train_test_split</code> разобейте полученный набор данных на тренеровочную и тестовую выборки с параметрами, указанными в вашем варианте."
      ],
      "metadata": {
        "id": "-tN2AKL6myfS"
      }
    },
    {
      "cell_type": "code",
      "source": [
        "# разобьем полученный набор данных на тренеровочную и тестовую выборки с параметрами test_size=0.2, random_state=41\n",
        "X_train, X_test, y_train, y_test = train_test_split(df.drop(columns='Personal Loan'), df['Personal Loan'], test_size=0.2, random_state=41, stratify=df['Personal Loan'])\n",
        "\n",
        "print('Shapes', '    X', '       y')\n",
        "print('train', X_train.shape, y_train.shape)\n",
        "print('test ', X_test.shape, y_test.shape)"
      ],
      "metadata": {
        "id": "y1YG3JZ9oDMI",
        "colab": {
          "base_uri": "https://localhost:8080/"
        },
        "outputId": "02ff9c10-7637-4b5e-9896-5b09af6b5fd8"
      },
      "execution_count": null,
      "outputs": [
        {
          "output_type": "stream",
          "name": "stdout",
          "text": [
            "Shapes     X        y\n",
            "train (3133, 11) (3133,)\n",
            "test  (784, 11) (784,)\n"
          ]
        }
      ]
    },
    {
      "cell_type": "markdown",
      "source": [
        "Обучите модель <code>DecisionTreeClassifier</code> с параметрами, указанными в вашем варианте на тренировочных данных, оцените на тестовых. Вычислите <code>f1_score</code> модели на тестовых данных."
      ],
      "metadata": {
        "id": "0NyWOkh13iNC"
      }
    },
    {
      "cell_type": "code",
      "source": [
        "# обучим модель DecisionTreeClassifier с параметрами random_state=41, criterion='gini'\n",
        "tree = DecisionTreeClassifier(random_state=41, criterion='gini').fit(X_train, y_train)"
      ],
      "metadata": {
        "id": "BJNg02bbaJj2"
      },
      "execution_count": null,
      "outputs": []
    },
    {
      "cell_type": "code",
      "source": [
        "# вычислим f1_score модели на тестовых данных\n",
        "prediction = tree.predict(X_test)\n",
        "print(f'f1_score: {round(f1_score(y_test, prediction), 3)}')"
      ],
      "metadata": {
        "colab": {
          "base_uri": "https://localhost:8080/"
        },
        "id": "cUIXFur9bW7a",
        "outputId": "25afce5f-7cd8-45fd-a0b1-0ae564849dcc"
      },
      "execution_count": null,
      "outputs": [
        {
          "output_type": "stream",
          "name": "stdout",
          "text": [
            "f1_score: 0.87\n"
          ]
        }
      ]
    },
    {
      "cell_type": "code",
      "source": [
        "# обучим модель DecisionTreeClassifier с параметрами random_state=41, criterion='entropy'\n",
        "tree1 = DecisionTreeClassifier(random_state=41, criterion='entropy').fit(X_train, y_train)"
      ],
      "metadata": {
        "id": "7nw2yYxRb_9b"
      },
      "execution_count": null,
      "outputs": []
    },
    {
      "cell_type": "code",
      "source": [
        "# вычислим f1_score модели на тестовых данных\n",
        "prediction1 = tree1.predict(X_test)\n",
        "print(f'f1_score: {round(f1_score(y_test, prediction1), 3)}')"
      ],
      "metadata": {
        "colab": {
          "base_uri": "https://localhost:8080/"
        },
        "id": "gbSQniu1cFBU",
        "outputId": "6476281c-90b5-49a7-c3e4-8b0f712ceaa0"
      },
      "execution_count": null,
      "outputs": [
        {
          "output_type": "stream",
          "name": "stdout",
          "text": [
            "f1_score: 0.887\n"
          ]
        }
      ]
    },
    {
      "cell_type": "markdown",
      "source": [
        "## Учет дисбаланса соотношения классов"
      ],
      "metadata": {
        "id": "nz9iFfBK4KhL"
      }
    },
    {
      "cell_type": "markdown",
      "source": [
        "А теперь, если вспомнить, что выборка несбалансирована, то можно указать дополнительный параметр <code>class_weight</code>. Обучите модель <code>DecisionTreeClassifier</code> с параметрами, указанными в вашем варианте на тренировочных данных, оцените на тестовых. Вычислите <code>f1_score</code> модели на тестовых данных."
      ],
      "metadata": {
        "id": "3x7OGwQwa8V6"
      }
    },
    {
      "cell_type": "code",
      "source": [
        "# обучим модель DecisionTreeClassifier с параметрами random_state=41, criterion='gini', class_weight='balanced'\n",
        "tree2 = DecisionTreeClassifier(random_state=41, criterion='gini', class_weight='balanced').fit(X_train, y_train)"
      ],
      "metadata": {
        "id": "gug5fOXAbMC6"
      },
      "execution_count": null,
      "outputs": []
    },
    {
      "cell_type": "code",
      "source": [
        "# вычислим f1_score модели на тестовых данных\n",
        "prediction2 = tree2.predict(X_test)\n",
        "print(f'f1_score: {round(f1_score(y_test, prediction2), 3)}')"
      ],
      "metadata": {
        "colab": {
          "base_uri": "https://localhost:8080/"
        },
        "id": "PySZgvQhcRTt",
        "outputId": "bf94d215-2089-4fbf-d8b7-2d309cd64361"
      },
      "execution_count": null,
      "outputs": [
        {
          "output_type": "stream",
          "name": "stdout",
          "text": [
            "f1_score: 0.862\n"
          ]
        }
      ]
    },
    {
      "cell_type": "code",
      "source": [
        "# обучим модель DecisionTreeClassifier с параметрами random_state=41, criterion='entropy', class_weight='balanced'\n",
        "tree3 = DecisionTreeClassifier(random_state=41, criterion='entropy', class_weight='balanced').fit(X_train, y_train)"
      ],
      "metadata": {
        "id": "2SpZONcccVvI"
      },
      "execution_count": null,
      "outputs": []
    },
    {
      "cell_type": "code",
      "source": [
        "# вычислим f1_score модели на тестовых данных\n",
        "prediction3 = tree3.predict(X_test)\n",
        "print(f'f1_score: {round(f1_score(y_test, prediction3), 3)}')"
      ],
      "metadata": {
        "colab": {
          "base_uri": "https://localhost:8080/"
        },
        "id": "4ITSSVnvcaTu",
        "outputId": "8de2477d-af0b-493c-a8c8-2e93a7bda40b"
      },
      "execution_count": null,
      "outputs": [
        {
          "output_type": "stream",
          "name": "stdout",
          "text": [
            "f1_score: 0.84\n"
          ]
        }
      ]
    },
    {
      "cell_type": "markdown",
      "source": [
        "## Upsampling обучающей выборки"
      ],
      "metadata": {
        "id": "8UgBmYo44pDE"
      }
    },
    {
      "cell_type": "markdown",
      "source": [
        "Помимо очевидного присвоения весов несбалансированным классам, можно воспользоваться алгоритмом <code>SMOTE</code>. Ему на вход подаются экземпляры всех классов с их метками, а он в свою очередь пытается на их основе экстраполировать само распределение данных этого класса. После этого он сэмплирует новые объекты классов так, пока количество строк каждого класса не станет везде одинаковым.\n",
        "\n",
        "Получается, что в таком случае будет получена сбалансированная выборка, и пропадет нужда как-то ухищряться с весами и прочим.\n",
        "\n",
        "Определите долю элементов класса $0$ тренировочного набора данных."
      ],
      "metadata": {
        "id": "r5SQS_D0baaQ"
      }
    },
    {
      "cell_type": "code",
      "source": [
        "print(f'Доля элементов класса 0 тренировочного набора данных: {round(y_train.value_counts(normalize=True)[0], 3)}')"
      ],
      "metadata": {
        "id": "nOv98H3_ei8Z",
        "colab": {
          "base_uri": "https://localhost:8080/"
        },
        "outputId": "1bf5507c-0169-48eb-e666-fec484cde358"
      },
      "execution_count": null,
      "outputs": [
        {
          "output_type": "stream",
          "name": "stdout",
          "text": [
            "Доля элементов класса 0 тренировочного набора данных: 0.911\n"
          ]
        }
      ]
    },
    {
      "cell_type": "markdown",
      "source": [
        "Используя класс <a href=\"https://imbalanced-learn.org/stable/references/generated/imblearn.over_sampling.SMOTE.html\"><code>SMOTE</code></a> из модуля <code>imblearn.over_sampling</code> сбалансируйте обучающую выборку с параметрами, указанными в вашем варианте."
      ],
      "metadata": {
        "id": "DUrm8j5R6-dq"
      }
    },
    {
      "cell_type": "code",
      "source": [
        "# сбалансируем обучающую выборку с параметрами random_state=41\n",
        "sm = SMOTE(random_state=41)\n",
        "X_train, y_train = sm.fit_resample(X_train, y_train)"
      ],
      "metadata": {
        "id": "YWr1Mll1eYcd"
      },
      "execution_count": null,
      "outputs": []
    },
    {
      "cell_type": "markdown",
      "source": [
        "Убедитесь, что теперь в выборке содержится одинаковое число представителей обоих классов. Введите количество объектов класса $1$."
      ],
      "metadata": {
        "id": "4xd6pDvt9Yxj"
      }
    },
    {
      "cell_type": "code",
      "source": [
        "print(f'Кол-во элементов класса 1 тренировочного набора данных: {y_train.value_counts()[1]}')"
      ],
      "metadata": {
        "id": "lASmMyIee9FB",
        "colab": {
          "base_uri": "https://localhost:8080/"
        },
        "outputId": "8cf2df84-78a3-4a37-88e5-259fd717334e"
      },
      "execution_count": null,
      "outputs": [
        {
          "output_type": "stream",
          "name": "stdout",
          "text": [
            "Кол-во элементов класса 1 тренировочного набора данных: 2855\n"
          ]
        }
      ]
    },
    {
      "cell_type": "markdown",
      "source": [
        "Снова обучите модель <code>DecisionTreeClassifier</code> с параметрами, указанными в вашем варианте на тренировочных данных, оцените на тестовых. Вычислите <code>f1_score</code> модели на тестовых данных."
      ],
      "metadata": {
        "id": "-7M3ua0zfCl5"
      }
    },
    {
      "cell_type": "code",
      "source": [
        "# обучим модель DecisionTreeClassifier с параметрами random_state=41, criterion='gini'\n",
        "tree4 = DecisionTreeClassifier(random_state=41, criterion='gini').fit(X_train, y_train)"
      ],
      "metadata": {
        "id": "3J1YZg6ufFxo"
      },
      "execution_count": null,
      "outputs": []
    },
    {
      "cell_type": "code",
      "source": [
        "# вычислим f1_score модели на тестовых данных\n",
        "prediction4 = tree4.predict(X_test)\n",
        "print(f'f1_score: {round(f1_score(y_test, prediction4), 3)}')"
      ],
      "metadata": {
        "colab": {
          "base_uri": "https://localhost:8080/"
        },
        "id": "HS6BveUmda-D",
        "outputId": "3bf5e4f1-5f74-4563-db80-aa114098fcdd"
      },
      "execution_count": null,
      "outputs": [
        {
          "output_type": "stream",
          "name": "stdout",
          "text": [
            "f1_score: 0.859\n"
          ]
        }
      ]
    },
    {
      "cell_type": "code",
      "source": [
        "# обучим модель DecisionTreeClassifier с параметрами random_state=41, criterion='entropy'\n",
        "tree5 = DecisionTreeClassifier(random_state=41, criterion='entropy').fit(X_train, y_train)"
      ],
      "metadata": {
        "id": "PgJZjYBbdkld"
      },
      "execution_count": null,
      "outputs": []
    },
    {
      "cell_type": "code",
      "source": [
        "# вычислим f1_score модели на тестовых данных\n",
        "prediction5 = tree5.predict(X_test)\n",
        "print(f'f1_score: {round(f1_score(y_test, prediction5), 3)}')"
      ],
      "metadata": {
        "colab": {
          "base_uri": "https://localhost:8080/"
        },
        "id": "5jYNpkEpdotu",
        "outputId": "283b0502-b4e1-4ce7-dd55-ad320cb5df01"
      },
      "execution_count": null,
      "outputs": [
        {
          "output_type": "stream",
          "name": "stdout",
          "text": [
            "f1_score: 0.831\n"
          ]
        }
      ]
    }
  ]
}