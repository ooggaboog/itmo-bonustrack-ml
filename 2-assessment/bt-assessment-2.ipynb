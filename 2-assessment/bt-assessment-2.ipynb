{
  "nbformat": 4,
  "nbformat_minor": 0,
  "metadata": {
    "colab": {
      "provenance": []
    },
    "kernelspec": {
      "name": "python3",
      "display_name": "Python 3"
    },
    "language_info": {
      "name": "python"
    }
  },
  "cells": [
    {
      "cell_type": "markdown",
      "source": [
        "## **Промежуточная аттестация 2**"
      ],
      "metadata": {
        "id": "szZltiipIkml"
      }
    },
    {
      "cell_type": "markdown",
      "source": [
        "Набор данных представляет собой выборку значений"
      ],
      "metadata": {
        "id": "0CqEVgPmIp3d"
      }
    },
    {
      "cell_type": "markdown",
      "source": [
        "## Подготовка данных"
      ],
      "metadata": {
        "id": "GXVhThQzI9uS"
      }
    },
    {
      "cell_type": "code",
      "execution_count": 40,
      "metadata": {
        "id": "WvPvvHzjISJX"
      },
      "outputs": [],
      "source": [
        "import pandas as pd\n",
        "import matplotlib.pyplot as plt\n",
        "import numpy as np\n",
        "import scipy.stats as stats"
      ]
    },
    {
      "cell_type": "code",
      "source": [
        "X = pd.read_csv('https://dc-edu.itmo.ru/assets/courseware/v1/aac82bb28386cf65737fe0917d4a01ee/asset-v1:ITMO+bonus_track_methods+2023+type@asset+block/itog_sample_7.csv', names=['X'])\n",
        "X"
      ],
      "metadata": {
        "colab": {
          "base_uri": "https://localhost:8080/",
          "height": 424
        },
        "id": "Gp7qJBUxJE2g",
        "outputId": "33499ee4-ae94-40c0-f235-26bd54c911c2"
      },
      "execution_count": 7,
      "outputs": [
        {
          "output_type": "execute_result",
          "data": {
            "text/plain": [
              "             X\n",
              "0    16.239555\n",
              "1    19.130044\n",
              "2    19.229063\n",
              "3    19.559497\n",
              "4    19.461068\n",
              "..         ...\n",
              "495  19.295736\n",
              "496  21.855823\n",
              "497  18.984208\n",
              "498  20.234895\n",
              "499  20.531368\n",
              "\n",
              "[500 rows x 1 columns]"
            ],
            "text/html": [
              "\n",
              "  <div id=\"df-fd8cffa7-f8f7-4242-9cb9-c856e56a4fa8\" class=\"colab-df-container\">\n",
              "    <div>\n",
              "<style scoped>\n",
              "    .dataframe tbody tr th:only-of-type {\n",
              "        vertical-align: middle;\n",
              "    }\n",
              "\n",
              "    .dataframe tbody tr th {\n",
              "        vertical-align: top;\n",
              "    }\n",
              "\n",
              "    .dataframe thead th {\n",
              "        text-align: right;\n",
              "    }\n",
              "</style>\n",
              "<table border=\"1\" class=\"dataframe\">\n",
              "  <thead>\n",
              "    <tr style=\"text-align: right;\">\n",
              "      <th></th>\n",
              "      <th>X</th>\n",
              "    </tr>\n",
              "  </thead>\n",
              "  <tbody>\n",
              "    <tr>\n",
              "      <th>0</th>\n",
              "      <td>16.239555</td>\n",
              "    </tr>\n",
              "    <tr>\n",
              "      <th>1</th>\n",
              "      <td>19.130044</td>\n",
              "    </tr>\n",
              "    <tr>\n",
              "      <th>2</th>\n",
              "      <td>19.229063</td>\n",
              "    </tr>\n",
              "    <tr>\n",
              "      <th>3</th>\n",
              "      <td>19.559497</td>\n",
              "    </tr>\n",
              "    <tr>\n",
              "      <th>4</th>\n",
              "      <td>19.461068</td>\n",
              "    </tr>\n",
              "    <tr>\n",
              "      <th>...</th>\n",
              "      <td>...</td>\n",
              "    </tr>\n",
              "    <tr>\n",
              "      <th>495</th>\n",
              "      <td>19.295736</td>\n",
              "    </tr>\n",
              "    <tr>\n",
              "      <th>496</th>\n",
              "      <td>21.855823</td>\n",
              "    </tr>\n",
              "    <tr>\n",
              "      <th>497</th>\n",
              "      <td>18.984208</td>\n",
              "    </tr>\n",
              "    <tr>\n",
              "      <th>498</th>\n",
              "      <td>20.234895</td>\n",
              "    </tr>\n",
              "    <tr>\n",
              "      <th>499</th>\n",
              "      <td>20.531368</td>\n",
              "    </tr>\n",
              "  </tbody>\n",
              "</table>\n",
              "<p>500 rows × 1 columns</p>\n",
              "</div>\n",
              "    <div class=\"colab-df-buttons\">\n",
              "\n",
              "  <div class=\"colab-df-container\">\n",
              "    <button class=\"colab-df-convert\" onclick=\"convertToInteractive('df-fd8cffa7-f8f7-4242-9cb9-c856e56a4fa8')\"\n",
              "            title=\"Convert this dataframe to an interactive table.\"\n",
              "            style=\"display:none;\">\n",
              "\n",
              "  <svg xmlns=\"http://www.w3.org/2000/svg\" height=\"24px\" viewBox=\"0 -960 960 960\">\n",
              "    <path d=\"M120-120v-720h720v720H120Zm60-500h600v-160H180v160Zm220 220h160v-160H400v160Zm0 220h160v-160H400v160ZM180-400h160v-160H180v160Zm440 0h160v-160H620v160ZM180-180h160v-160H180v160Zm440 0h160v-160H620v160Z\"/>\n",
              "  </svg>\n",
              "    </button>\n",
              "\n",
              "  <style>\n",
              "    .colab-df-container {\n",
              "      display:flex;\n",
              "      gap: 12px;\n",
              "    }\n",
              "\n",
              "    .colab-df-convert {\n",
              "      background-color: #E8F0FE;\n",
              "      border: none;\n",
              "      border-radius: 50%;\n",
              "      cursor: pointer;\n",
              "      display: none;\n",
              "      fill: #1967D2;\n",
              "      height: 32px;\n",
              "      padding: 0 0 0 0;\n",
              "      width: 32px;\n",
              "    }\n",
              "\n",
              "    .colab-df-convert:hover {\n",
              "      background-color: #E2EBFA;\n",
              "      box-shadow: 0px 1px 2px rgba(60, 64, 67, 0.3), 0px 1px 3px 1px rgba(60, 64, 67, 0.15);\n",
              "      fill: #174EA6;\n",
              "    }\n",
              "\n",
              "    .colab-df-buttons div {\n",
              "      margin-bottom: 4px;\n",
              "    }\n",
              "\n",
              "    [theme=dark] .colab-df-convert {\n",
              "      background-color: #3B4455;\n",
              "      fill: #D2E3FC;\n",
              "    }\n",
              "\n",
              "    [theme=dark] .colab-df-convert:hover {\n",
              "      background-color: #434B5C;\n",
              "      box-shadow: 0px 1px 3px 1px rgba(0, 0, 0, 0.15);\n",
              "      filter: drop-shadow(0px 1px 2px rgba(0, 0, 0, 0.3));\n",
              "      fill: #FFFFFF;\n",
              "    }\n",
              "  </style>\n",
              "\n",
              "    <script>\n",
              "      const buttonEl =\n",
              "        document.querySelector('#df-fd8cffa7-f8f7-4242-9cb9-c856e56a4fa8 button.colab-df-convert');\n",
              "      buttonEl.style.display =\n",
              "        google.colab.kernel.accessAllowed ? 'block' : 'none';\n",
              "\n",
              "      async function convertToInteractive(key) {\n",
              "        const element = document.querySelector('#df-fd8cffa7-f8f7-4242-9cb9-c856e56a4fa8');\n",
              "        const dataTable =\n",
              "          await google.colab.kernel.invokeFunction('convertToInteractive',\n",
              "                                                    [key], {});\n",
              "        if (!dataTable) return;\n",
              "\n",
              "        const docLinkHtml = 'Like what you see? Visit the ' +\n",
              "          '<a target=\"_blank\" href=https://colab.research.google.com/notebooks/data_table.ipynb>data table notebook</a>'\n",
              "          + ' to learn more about interactive tables.';\n",
              "        element.innerHTML = '';\n",
              "        dataTable['output_type'] = 'display_data';\n",
              "        await google.colab.output.renderOutput(dataTable, element);\n",
              "        const docLink = document.createElement('div');\n",
              "        docLink.innerHTML = docLinkHtml;\n",
              "        element.appendChild(docLink);\n",
              "      }\n",
              "    </script>\n",
              "  </div>\n",
              "\n",
              "\n",
              "<div id=\"df-8602c584-1ee5-496c-8402-91e26ebc2ac4\">\n",
              "  <button class=\"colab-df-quickchart\" onclick=\"quickchart('df-8602c584-1ee5-496c-8402-91e26ebc2ac4')\"\n",
              "            title=\"Suggest charts\"\n",
              "            style=\"display:none;\">\n",
              "\n",
              "<svg xmlns=\"http://www.w3.org/2000/svg\" height=\"24px\"viewBox=\"0 0 24 24\"\n",
              "     width=\"24px\">\n",
              "    <g>\n",
              "        <path d=\"M19 3H5c-1.1 0-2 .9-2 2v14c0 1.1.9 2 2 2h14c1.1 0 2-.9 2-2V5c0-1.1-.9-2-2-2zM9 17H7v-7h2v7zm4 0h-2V7h2v10zm4 0h-2v-4h2v4z\"/>\n",
              "    </g>\n",
              "</svg>\n",
              "  </button>\n",
              "\n",
              "<style>\n",
              "  .colab-df-quickchart {\n",
              "      --bg-color: #E8F0FE;\n",
              "      --fill-color: #1967D2;\n",
              "      --hover-bg-color: #E2EBFA;\n",
              "      --hover-fill-color: #174EA6;\n",
              "      --disabled-fill-color: #AAA;\n",
              "      --disabled-bg-color: #DDD;\n",
              "  }\n",
              "\n",
              "  [theme=dark] .colab-df-quickchart {\n",
              "      --bg-color: #3B4455;\n",
              "      --fill-color: #D2E3FC;\n",
              "      --hover-bg-color: #434B5C;\n",
              "      --hover-fill-color: #FFFFFF;\n",
              "      --disabled-bg-color: #3B4455;\n",
              "      --disabled-fill-color: #666;\n",
              "  }\n",
              "\n",
              "  .colab-df-quickchart {\n",
              "    background-color: var(--bg-color);\n",
              "    border: none;\n",
              "    border-radius: 50%;\n",
              "    cursor: pointer;\n",
              "    display: none;\n",
              "    fill: var(--fill-color);\n",
              "    height: 32px;\n",
              "    padding: 0;\n",
              "    width: 32px;\n",
              "  }\n",
              "\n",
              "  .colab-df-quickchart:hover {\n",
              "    background-color: var(--hover-bg-color);\n",
              "    box-shadow: 0 1px 2px rgba(60, 64, 67, 0.3), 0 1px 3px 1px rgba(60, 64, 67, 0.15);\n",
              "    fill: var(--button-hover-fill-color);\n",
              "  }\n",
              "\n",
              "  .colab-df-quickchart-complete:disabled,\n",
              "  .colab-df-quickchart-complete:disabled:hover {\n",
              "    background-color: var(--disabled-bg-color);\n",
              "    fill: var(--disabled-fill-color);\n",
              "    box-shadow: none;\n",
              "  }\n",
              "\n",
              "  .colab-df-spinner {\n",
              "    border: 2px solid var(--fill-color);\n",
              "    border-color: transparent;\n",
              "    border-bottom-color: var(--fill-color);\n",
              "    animation:\n",
              "      spin 1s steps(1) infinite;\n",
              "  }\n",
              "\n",
              "  @keyframes spin {\n",
              "    0% {\n",
              "      border-color: transparent;\n",
              "      border-bottom-color: var(--fill-color);\n",
              "      border-left-color: var(--fill-color);\n",
              "    }\n",
              "    20% {\n",
              "      border-color: transparent;\n",
              "      border-left-color: var(--fill-color);\n",
              "      border-top-color: var(--fill-color);\n",
              "    }\n",
              "    30% {\n",
              "      border-color: transparent;\n",
              "      border-left-color: var(--fill-color);\n",
              "      border-top-color: var(--fill-color);\n",
              "      border-right-color: var(--fill-color);\n",
              "    }\n",
              "    40% {\n",
              "      border-color: transparent;\n",
              "      border-right-color: var(--fill-color);\n",
              "      border-top-color: var(--fill-color);\n",
              "    }\n",
              "    60% {\n",
              "      border-color: transparent;\n",
              "      border-right-color: var(--fill-color);\n",
              "    }\n",
              "    80% {\n",
              "      border-color: transparent;\n",
              "      border-right-color: var(--fill-color);\n",
              "      border-bottom-color: var(--fill-color);\n",
              "    }\n",
              "    90% {\n",
              "      border-color: transparent;\n",
              "      border-bottom-color: var(--fill-color);\n",
              "    }\n",
              "  }\n",
              "</style>\n",
              "\n",
              "  <script>\n",
              "    async function quickchart(key) {\n",
              "      const quickchartButtonEl =\n",
              "        document.querySelector('#' + key + ' button');\n",
              "      quickchartButtonEl.disabled = true;  // To prevent multiple clicks.\n",
              "      quickchartButtonEl.classList.add('colab-df-spinner');\n",
              "      try {\n",
              "        const charts = await google.colab.kernel.invokeFunction(\n",
              "            'suggestCharts', [key], {});\n",
              "      } catch (error) {\n",
              "        console.error('Error during call to suggestCharts:', error);\n",
              "      }\n",
              "      quickchartButtonEl.classList.remove('colab-df-spinner');\n",
              "      quickchartButtonEl.classList.add('colab-df-quickchart-complete');\n",
              "    }\n",
              "    (() => {\n",
              "      let quickchartButtonEl =\n",
              "        document.querySelector('#df-8602c584-1ee5-496c-8402-91e26ebc2ac4 button');\n",
              "      quickchartButtonEl.style.display =\n",
              "        google.colab.kernel.accessAllowed ? 'block' : 'none';\n",
              "    })();\n",
              "  </script>\n",
              "</div>\n",
              "    </div>\n",
              "  </div>\n"
            ],
            "application/vnd.google.colaboratory.intrinsic+json": {
              "type": "dataframe",
              "variable_name": "X",
              "summary": "{\n  \"name\": \"X\",\n  \"rows\": 500,\n  \"fields\": [\n    {\n      \"column\": \"X\",\n      \"properties\": {\n        \"dtype\": \"number\",\n        \"std\": 2.026820794876023,\n        \"min\": 13.78074363917154,\n        \"max\": 26.03203853849937,\n        \"num_unique_values\": 500,\n        \"samples\": [\n          16.73029198583404,\n          19.58247382405753,\n          17.60370531629983\n        ],\n        \"semantic_type\": \"\",\n        \"description\": \"\"\n      }\n    }\n  ]\n}"
            }
          },
          "metadata": {},
          "execution_count": 7
        }
      ]
    },
    {
      "cell_type": "markdown",
      "source": [
        "## 1. Выборочные характеристики"
      ],
      "metadata": {
        "id": "cIla1nihJDKQ"
      }
    },
    {
      "cell_type": "markdown",
      "source": [
        "Найдем выборочные характеристики X̅, *D*"
      ],
      "metadata": {
        "id": "UDSjicxYJoCm"
      }
    },
    {
      "cell_type": "code",
      "source": [
        "X_ = round(X['X'].mean(), 3)\n",
        "D = round(X['X'].var(), 3)\n",
        "print(f'X̅: {X_}, D:{D}')"
      ],
      "metadata": {
        "colab": {
          "base_uri": "https://localhost:8080/"
        },
        "id": "w1G2F96bJ4SK",
        "outputId": "2d1acc44-a04f-4409-ec94-5acabce386ee"
      },
      "execution_count": 8,
      "outputs": [
        {
          "output_type": "stream",
          "name": "stdout",
          "text": [
            "X̅: 19.923, D:4.108\n"
          ]
        }
      ]
    },
    {
      "cell_type": "markdown",
      "source": [
        "## 2. Гистограмма"
      ],
      "metadata": {
        "id": "6hcFIhzTKXYQ"
      }
    },
    {
      "cell_type": "markdown",
      "source": [
        "Построим гистограмму (10 равных интервалов) как оценку плотности распределения и на ее основе сделаем предположение о типе распределения"
      ],
      "metadata": {
        "id": "TPZRMz5MKbWa"
      }
    },
    {
      "cell_type": "code",
      "source": [
        "plt.hist(X['X'], bins=10, density=True)\n",
        "plt.show()"
      ],
      "metadata": {
        "colab": {
          "base_uri": "https://localhost:8080/",
          "height": 430
        },
        "id": "2HGuuc_wKf-x",
        "outputId": "bca69bbd-a313-4bc1-dc60-0406c3efe779"
      },
      "execution_count": 26,
      "outputs": [
        {
          "output_type": "display_data",
          "data": {
            "text/plain": [
              "<Figure size 640x480 with 1 Axes>"
            ],
            "image/png": "[encoded data removed]"
          },
          "metadata": {}
        }
      ]
    },
    {
      "cell_type": "markdown",
      "source": [
        "Предположим, что имеем дело со **стандартным нормальным распределением**"
      ],
      "metadata": {
        "id": "-W_0tss5MIbw"
      }
    },
    {
      "cell_type": "markdown",
      "source": [
        " Посмотрим на кол-во элементов выборки в каждом интервале"
      ],
      "metadata": {
        "id": "8zwE_7EJMVRW"
      }
    },
    {
      "cell_type": "code",
      "source": [
        "bins = np.linspace(X['X'].min(), X['X'].max(), 10+1)\n",
        "hist, _ = np.histogram(X['X'], bins=bins)\n",
        "\n",
        "for i in range(len(hist)):\n",
        "  print(f'Интервал {i+1}: {hist[i]} элементов')"
      ],
      "metadata": {
        "colab": {
          "base_uri": "https://localhost:8080/"
        },
        "id": "jk26GCOQMUkz",
        "outputId": "39e08dd6-c184-4644-a233-86323de91372"
      },
      "execution_count": 38,
      "outputs": [
        {
          "output_type": "stream",
          "name": "stdout",
          "text": [
            "Интервал 1: 5 элементов\n",
            "Интервал 2: 14 элементов\n",
            "Интервал 3: 34 элементов\n",
            "Интервал 4: 81 элементов\n",
            "Интервал 5: 106 элементов\n",
            "Интервал 6: 127 элементов\n",
            "Интервал 7: 79 элементов\n",
            "Интервал 8: 32 элементов\n",
            "Интервал 9: 21 элементов\n",
            "Интервал 10: 1 элементов\n"
          ]
        }
      ]
    },
    {
      "cell_type": "markdown",
      "source": [
        "## 3. Точечные оценки параметров распределения"
      ],
      "metadata": {
        "id": "J3jdjUtyN6BX"
      }
    },
    {
      "cell_type": "markdown",
      "source": [
        "Опираясь на предположение о **нормальном** типе распределения, найдем точечные оценки θ̂ параметров распределения."
      ],
      "metadata": {
        "id": "oc8U4u4eN94J"
      }
    },
    {
      "cell_type": "code",
      "source": [
        "teta1 = X_\n",
        "teta2 = D\n",
        "print(f'θ̂1: {teta1}, θ̂2: {teta2}')"
      ],
      "metadata": {
        "colab": {
          "base_uri": "https://localhost:8080/"
        },
        "id": "M_dzuG4QOX5S",
        "outputId": "4bcba027-ce1a-4bf8-ee47-cab8e81a386d"
      },
      "execution_count": 39,
      "outputs": [
        {
          "output_type": "stream",
          "name": "stdout",
          "text": [
            "θ̂1: 19.923, θ̂2: 4.108\n"
          ]
        }
      ]
    },
    {
      "cell_type": "markdown",
      "source": [
        "## 4. Интервальные оценки параметров распределения"
      ],
      "metadata": {
        "id": "TWy4TTrIQJvb"
      }
    },
    {
      "cell_type": "markdown",
      "source": [
        "Построим точные доверительные интервалы для параметров распредления при уровне значимости 𝜉 = 0.05"
      ],
      "metadata": {
        "id": "poINjdslQPAo"
      }
    },
    {
      "cell_type": "markdown",
      "source": [
        "Для θ̂1:"
      ],
      "metadata": {
        "id": "voKhK-QAQ3jP"
      }
    },
    {
      "cell_type": "code",
      "source": [
        "eps = 0.05\n",
        "\n",
        "n = len(X)\n",
        "sigma = X['X'].std()\n",
        "SE = sigma / np.sqrt(n)\n",
        "\n",
        "z = round(stats.norm.ppf(eps / 2), 2)\n",
        "teta1_lower = round(teta1 + z * SE, 3)\n",
        "teta1_upper = round(teta1 - z * SE, 3)\n",
        "\n",
        "print(f'Доверительный интервал для θ̂1: {teta1_lower, teta1_upper}')"
      ],
      "metadata": {
        "colab": {
          "base_uri": "https://localhost:8080/"
        },
        "id": "K8DRCQowQDSZ",
        "outputId": "9306e8d6-1deb-4ca3-878a-7632734cfb56"
      },
      "execution_count": 50,
      "outputs": [
        {
          "output_type": "stream",
          "name": "stdout",
          "text": [
            "Доверительный интервал для θ̂1: (19.745, 20.101)\n"
          ]
        }
      ]
    },
    {
      "cell_type": "markdown",
      "source": [
        "Для θ̂2:"
      ],
      "metadata": {
        "id": "OcOG6hOTSdvR"
      }
    },
    {
      "cell_type": "code",
      "source": [
        "chi2_lower = stats.chi2.ppf(eps / 2, n - 1)\n",
        "chi2_upper = stats.chi2.ppf(1 - eps / 2, n - 1)\n",
        "\n",
        "teta2_lower = round((n - 1) * teta2 / chi2_upper, 3)\n",
        "teta2_upper = round((n - 1) * teta2 / chi2_lower, 3)\n",
        "\n",
        "print(f'Доверительный интервал для θ̂2: {teta2_lower, teta2_upper}')"
      ],
      "metadata": {
        "colab": {
          "base_uri": "https://localhost:8080/"
        },
        "id": "D4hzpmkNRlIY",
        "outputId": "01aebeea-cef7-430b-8c04-0709fccb0e63"
      },
      "execution_count": 53,
      "outputs": [
        {
          "output_type": "stream",
          "name": "stdout",
          "text": [
            "Доверительный интервал для θ̂2: (3.642, 4.669)\n"
          ]
        }
      ]
    }
  ]
}