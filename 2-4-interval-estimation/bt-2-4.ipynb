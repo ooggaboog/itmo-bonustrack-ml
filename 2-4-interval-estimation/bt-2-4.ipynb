{
  "nbformat": 4,
  "nbformat_minor": 0,
  "metadata": {
    "colab": {
      "provenance": []
    },
    "kernelspec": {
      "name": "python3",
      "display_name": "Python 3"
    },
    "language_info": {
      "name": "python"
    }
  },
  "cells": [
    {
      "cell_type": "code",
      "execution_count": 1,
      "metadata": {
        "id": "jJNVUXc0txac"
      },
      "outputs": [],
      "source": [
        "import numpy as np\n",
        "import scipy.stats as stats"
      ]
    },
    {
      "cell_type": "markdown",
      "source": [
        "На заводе по производству ультрапастеризованного молока, молоко в бутылки заливается автоматически. Количество миллилитров молока в каждой бутылке имеет известное среднее *a* = 998, но неизвестный разброс. В выборке представлены данные об объеме налитого в бутылки молока. Считая, что рассматривается нормальное распределение N(998, θ)."
      ],
      "metadata": {
        "id": "l_5lEfn30A8k"
      }
    },
    {
      "cell_type": "markdown",
      "source": [
        "Укажите левую границу диапазона, в который с вероятностью  попадает параметр θ:"
      ],
      "metadata": {
        "id": "WQ3pfIjD0mEX"
      }
    },
    {
      "cell_type": "code",
      "source": [
        "X = np.loadtxt('http://de.ifmo.ru/--openedu/appliedstatistics/course2019/ex2/Normal_172.csv')\n",
        "\n",
        "n = len(X)\n",
        "a = 998\n",
        "p = 0.95\n",
        "alpha = 1 - p\n",
        "\n",
        "v = np.var(X, ddof=1)\n",
        "chi2_lower = stats.chi2.ppf(alpha / 2, n - 1)\n",
        "chi2_upper = stats.chi2.ppf(1 - alpha / 2, n - 1)\n",
        "\n",
        "teta_lower = round((n - 1) * v / chi2_upper, 2)\n",
        "teta_upper = round((n - 1) * v / chi2_lower, 2)\n",
        "print(f'Левая граница диапазона для θ: {teta_lower}')"
      ],
      "metadata": {
        "colab": {
          "base_uri": "https://localhost:8080/"
        },
        "id": "IAQfZbjHt28n",
        "outputId": "69b324dc-a35c-4c4e-f0b4-869b5b12a1ee"
      },
      "execution_count": 2,
      "outputs": [
        {
          "output_type": "stream",
          "name": "stdout",
          "text": [
            "Левая граница диапазона для θ: 293.29\n"
          ]
        }
      ]
    },
    {
      "cell_type": "markdown",
      "source": [
        "Укажите правую границу диапазона, в который с вероятностью попадает параметр θ:"
      ],
      "metadata": {
        "id": "2pi5qlQr0usL"
      }
    },
    {
      "cell_type": "code",
      "source": [
        "print(f'Правая граница диапазона для θ: {teta_upper}')"
      ],
      "metadata": {
        "colab": {
          "base_uri": "https://localhost:8080/"
        },
        "id": "PKoaLC_60xuc",
        "outputId": "e45c1415-29c8-4083-b58a-f7645968b05e"
      },
      "execution_count": 3,
      "outputs": [
        {
          "output_type": "stream",
          "name": "stdout",
          "text": [
            "Правая граница диапазона для θ: 310.0\n"
          ]
        }
      ]
    },
    {
      "cell_type": "markdown",
      "source": [
        "Какое минимальное количество молока можно ожидать потребителю?"
      ],
      "metadata": {
        "id": "MoDs1FG10w5R"
      }
    },
    {
      "cell_type": "code",
      "source": [
        "z = stats.norm.ppf(1 - alpha / 2)\n",
        "sigma = np.sqrt(teta_upper)\n",
        "\n",
        "min = round(a - z * (sigma / np.sqrt(n)), 2)\n",
        "print(f'Минимальное количество молока: {min}')"
      ],
      "metadata": {
        "colab": {
          "base_uri": "https://localhost:8080/"
        },
        "id": "0MQ6GMcs1Bl9",
        "outputId": "ea1869a9-4999-420b-bb00-fdada340071e"
      },
      "execution_count": 4,
      "outputs": [
        {
          "output_type": "stream",
          "name": "stdout",
          "text": [
            "Минимальное количество молока: 997.65\n"
          ]
        }
      ]
    }
  ]
}