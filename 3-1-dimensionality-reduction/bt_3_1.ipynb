{
  "nbformat": 4,
  "nbformat_minor": 0,
  "metadata": {
    "colab": {
      "provenance": []
    },
    "kernelspec": {
      "name": "python3",
      "display_name": "Python 3"
    },
    "language_info": {
      "name": "python"
    }
  },
  "cells": [
    {
      "cell_type": "code",
      "execution_count": null,
      "metadata": {
        "id": "FO02vMG8PJiL"
      },
      "outputs": [],
      "source": [
        "import pandas as pd\n",
        "from sklearn.decomposition import PCA\n",
        "import matplotlib.pyplot as plt"
      ]
    },
    {
      "cell_type": "code",
      "source": [
        "df = pd.read_csv('https://dc-edu.itmo.ru/assets/courseware/v1/731db936907662ea44eaff6955678281/asset-v1:ITMO+bonus_track_methods+2023+type@asset+block/72_36.csv', header=None)\n",
        "df.head()"
      ],
      "metadata": {
        "colab": {
          "base_uri": "https://localhost:8080/",
          "height": 206
        },
        "id": "AiyljY2tPUbq",
        "outputId": "37718b5b-5f7e-4079-e1dd-db485b332854"
      },
      "execution_count": null,
      "outputs": [
        {
          "output_type": "execute_result",
          "data": {
            "text/plain": [
              "           0          1          2          3          4          5  \\\n",
              "0  -7.551127 -16.501883  12.214029  -4.532918   7.195725 -10.695086   \n",
              "1  15.332258  -2.873288 -18.918645 -19.692909   9.338751  14.829184   \n",
              "2 -11.447178 -12.150761 -18.801647 -24.051650  15.213106  18.650944   \n",
              "3  16.922389  -4.922460 -21.959687 -19.735653   9.871696  15.691369   \n",
              "4  13.683867  -2.109327 -20.939583 -18.912884   7.441524  13.049203   \n",
              "\n",
              "           6          7          8          9  \n",
              "0 -21.060089 -23.861166  -2.754803  11.277232  \n",
              "1  -7.771072  -5.460143  14.528354 -13.885432  \n",
              "2   5.061457  -9.081610 -24.478108 -16.165841  \n",
              "3 -11.258013  -3.755190   9.735562 -10.922091  \n",
              "4  -8.486979  -7.611905  10.369139  -9.060181  "
            ],
            "text/html": [
              "\n",
              "  <div id=\"df-4123db7d-1ca2-4639-bd25-111a7bfbe5bf\" class=\"colab-df-container\">\n",
              "    <div>\n",
              "<style scoped>\n",
              "    .dataframe tbody tr th:only-of-type {\n",
              "        vertical-align: middle;\n",
              "    }\n",
              "\n",
              "    .dataframe tbody tr th {\n",
              "        vertical-align: top;\n",
              "    }\n",
              "\n",
              "    .dataframe thead th {\n",
              "        text-align: right;\n",
              "    }\n",
              "</style>\n",
              "<table border=\"1\" class=\"dataframe\">\n",
              "  <thead>\n",
              "    <tr style=\"text-align: right;\">\n",
              "      <th></th>\n",
              "      <th>0</th>\n",
              "      <th>1</th>\n",
              "      <th>2</th>\n",
              "      <th>3</th>\n",
              "      <th>4</th>\n",
              "      <th>5</th>\n",
              "      <th>6</th>\n",
              "      <th>7</th>\n",
              "      <th>8</th>\n",
              "      <th>9</th>\n",
              "    </tr>\n",
              "  </thead>\n",
              "  <tbody>\n",
              "    <tr>\n",
              "      <th>0</th>\n",
              "      <td>-7.551127</td>\n",
              "      <td>-16.501883</td>\n",
              "      <td>12.214029</td>\n",
              "      <td>-4.532918</td>\n",
              "      <td>7.195725</td>\n",
              "      <td>-10.695086</td>\n",
              "      <td>-21.060089</td>\n",
              "      <td>-23.861166</td>\n",
              "      <td>-2.754803</td>\n",
              "      <td>11.277232</td>\n",
              "    </tr>\n",
              "    <tr>\n",
              "      <th>1</th>\n",
              "      <td>15.332258</td>\n",
              "      <td>-2.873288</td>\n",
              "      <td>-18.918645</td>\n",
              "      <td>-19.692909</td>\n",
              "      <td>9.338751</td>\n",
              "      <td>14.829184</td>\n",
              "      <td>-7.771072</td>\n",
              "      <td>-5.460143</td>\n",
              "      <td>14.528354</td>\n",
              "      <td>-13.885432</td>\n",
              "    </tr>\n",
              "    <tr>\n",
              "      <th>2</th>\n",
              "      <td>-11.447178</td>\n",
              "      <td>-12.150761</td>\n",
              "      <td>-18.801647</td>\n",
              "      <td>-24.051650</td>\n",
              "      <td>15.213106</td>\n",
              "      <td>18.650944</td>\n",
              "      <td>5.061457</td>\n",
              "      <td>-9.081610</td>\n",
              "      <td>-24.478108</td>\n",
              "      <td>-16.165841</td>\n",
              "    </tr>\n",
              "    <tr>\n",
              "      <th>3</th>\n",
              "      <td>16.922389</td>\n",
              "      <td>-4.922460</td>\n",
              "      <td>-21.959687</td>\n",
              "      <td>-19.735653</td>\n",
              "      <td>9.871696</td>\n",
              "      <td>15.691369</td>\n",
              "      <td>-11.258013</td>\n",
              "      <td>-3.755190</td>\n",
              "      <td>9.735562</td>\n",
              "      <td>-10.922091</td>\n",
              "    </tr>\n",
              "    <tr>\n",
              "      <th>4</th>\n",
              "      <td>13.683867</td>\n",
              "      <td>-2.109327</td>\n",
              "      <td>-20.939583</td>\n",
              "      <td>-18.912884</td>\n",
              "      <td>7.441524</td>\n",
              "      <td>13.049203</td>\n",
              "      <td>-8.486979</td>\n",
              "      <td>-7.611905</td>\n",
              "      <td>10.369139</td>\n",
              "      <td>-9.060181</td>\n",
              "    </tr>\n",
              "  </tbody>\n",
              "</table>\n",
              "</div>\n",
              "    <div class=\"colab-df-buttons\">\n",
              "\n",
              "  <div class=\"colab-df-container\">\n",
              "    <button class=\"colab-df-convert\" onclick=\"convertToInteractive('df-4123db7d-1ca2-4639-bd25-111a7bfbe5bf')\"\n",
              "            title=\"Convert this dataframe to an interactive table.\"\n",
              "            style=\"display:none;\">\n",
              "\n",
              "  <svg xmlns=\"http://www.w3.org/2000/svg\" height=\"24px\" viewBox=\"0 -960 960 960\">\n",
              "    <path d=\"M120-120v-720h720v720H120Zm60-500h600v-160H180v160Zm220 220h160v-160H400v160Zm0 220h160v-160H400v160ZM180-400h160v-160H180v160Zm440 0h160v-160H620v160ZM180-180h160v-160H180v160Zm440 0h160v-160H620v160Z\"/>\n",
              "  </svg>\n",
              "    </button>\n",
              "\n",
              "  <style>\n",
              "    .colab-df-container {\n",
              "      display:flex;\n",
              "      gap: 12px;\n",
              "    }\n",
              "\n",
              "    .colab-df-convert {\n",
              "      background-color: #E8F0FE;\n",
              "      border: none;\n",
              "      border-radius: 50%;\n",
              "      cursor: pointer;\n",
              "      display: none;\n",
              "      fill: #1967D2;\n",
              "      height: 32px;\n",
              "      padding: 0 0 0 0;\n",
              "      width: 32px;\n",
              "    }\n",
              "\n",
              "    .colab-df-convert:hover {\n",
              "      background-color: #E2EBFA;\n",
              "      box-shadow: 0px 1px 2px rgba(60, 64, 67, 0.3), 0px 1px 3px 1px rgba(60, 64, 67, 0.15);\n",
              "      fill: #174EA6;\n",
              "    }\n",
              "\n",
              "    .colab-df-buttons div {\n",
              "      margin-bottom: 4px;\n",
              "    }\n",
              "\n",
              "    [theme=dark] .colab-df-convert {\n",
              "      background-color: #3B4455;\n",
              "      fill: #D2E3FC;\n",
              "    }\n",
              "\n",
              "    [theme=dark] .colab-df-convert:hover {\n",
              "      background-color: #434B5C;\n",
              "      box-shadow: 0px 1px 3px 1px rgba(0, 0, 0, 0.15);\n",
              "      filter: drop-shadow(0px 1px 2px rgba(0, 0, 0, 0.3));\n",
              "      fill: #FFFFFF;\n",
              "    }\n",
              "  </style>\n",
              "\n",
              "    <script>\n",
              "      const buttonEl =\n",
              "        document.querySelector('#df-4123db7d-1ca2-4639-bd25-111a7bfbe5bf button.colab-df-convert');\n",
              "      buttonEl.style.display =\n",
              "        google.colab.kernel.accessAllowed ? 'block' : 'none';\n",
              "\n",
              "      async function convertToInteractive(key) {\n",
              "        const element = document.querySelector('#df-4123db7d-1ca2-4639-bd25-111a7bfbe5bf');\n",
              "        const dataTable =\n",
              "          await google.colab.kernel.invokeFunction('convertToInteractive',\n",
              "                                                    [key], {});\n",
              "        if (!dataTable) return;\n",
              "\n",
              "        const docLinkHtml = 'Like what you see? Visit the ' +\n",
              "          '<a target=\"_blank\" href=https://colab.research.google.com/notebooks/data_table.ipynb>data table notebook</a>'\n",
              "          + ' to learn more about interactive tables.';\n",
              "        element.innerHTML = '';\n",
              "        dataTable['output_type'] = 'display_data';\n",
              "        await google.colab.output.renderOutput(dataTable, element);\n",
              "        const docLink = document.createElement('div');\n",
              "        docLink.innerHTML = docLinkHtml;\n",
              "        element.appendChild(docLink);\n",
              "      }\n",
              "    </script>\n",
              "  </div>\n",
              "\n",
              "\n",
              "<div id=\"df-9ad22871-62c3-44e0-ae0b-3bab511f4f63\">\n",
              "  <button class=\"colab-df-quickchart\" onclick=\"quickchart('df-9ad22871-62c3-44e0-ae0b-3bab511f4f63')\"\n",
              "            title=\"Suggest charts\"\n",
              "            style=\"display:none;\">\n",
              "\n",
              "<svg xmlns=\"http://www.w3.org/2000/svg\" height=\"24px\"viewBox=\"0 0 24 24\"\n",
              "     width=\"24px\">\n",
              "    <g>\n",
              "        <path d=\"M19 3H5c-1.1 0-2 .9-2 2v14c0 1.1.9 2 2 2h14c1.1 0 2-.9 2-2V5c0-1.1-.9-2-2-2zM9 17H7v-7h2v7zm4 0h-2V7h2v10zm4 0h-2v-4h2v4z\"/>\n",
              "    </g>\n",
              "</svg>\n",
              "  </button>\n",
              "\n",
              "<style>\n",
              "  .colab-df-quickchart {\n",
              "      --bg-color: #E8F0FE;\n",
              "      --fill-color: #1967D2;\n",
              "      --hover-bg-color: #E2EBFA;\n",
              "      --hover-fill-color: #174EA6;\n",
              "      --disabled-fill-color: #AAA;\n",
              "      --disabled-bg-color: #DDD;\n",
              "  }\n",
              "\n",
              "  [theme=dark] .colab-df-quickchart {\n",
              "      --bg-color: #3B4455;\n",
              "      --fill-color: #D2E3FC;\n",
              "      --hover-bg-color: #434B5C;\n",
              "      --hover-fill-color: #FFFFFF;\n",
              "      --disabled-bg-color: #3B4455;\n",
              "      --disabled-fill-color: #666;\n",
              "  }\n",
              "\n",
              "  .colab-df-quickchart {\n",
              "    background-color: var(--bg-color);\n",
              "    border: none;\n",
              "    border-radius: 50%;\n",
              "    cursor: pointer;\n",
              "    display: none;\n",
              "    fill: var(--fill-color);\n",
              "    height: 32px;\n",
              "    padding: 0;\n",
              "    width: 32px;\n",
              "  }\n",
              "\n",
              "  .colab-df-quickchart:hover {\n",
              "    background-color: var(--hover-bg-color);\n",
              "    box-shadow: 0 1px 2px rgba(60, 64, 67, 0.3), 0 1px 3px 1px rgba(60, 64, 67, 0.15);\n",
              "    fill: var(--button-hover-fill-color);\n",
              "  }\n",
              "\n",
              "  .colab-df-quickchart-complete:disabled,\n",
              "  .colab-df-quickchart-complete:disabled:hover {\n",
              "    background-color: var(--disabled-bg-color);\n",
              "    fill: var(--disabled-fill-color);\n",
              "    box-shadow: none;\n",
              "  }\n",
              "\n",
              "  .colab-df-spinner {\n",
              "    border: 2px solid var(--fill-color);\n",
              "    border-color: transparent;\n",
              "    border-bottom-color: var(--fill-color);\n",
              "    animation:\n",
              "      spin 1s steps(1) infinite;\n",
              "  }\n",
              "\n",
              "  @keyframes spin {\n",
              "    0% {\n",
              "      border-color: transparent;\n",
              "      border-bottom-color: var(--fill-color);\n",
              "      border-left-color: var(--fill-color);\n",
              "    }\n",
              "    20% {\n",
              "      border-color: transparent;\n",
              "      border-left-color: var(--fill-color);\n",
              "      border-top-color: var(--fill-color);\n",
              "    }\n",
              "    30% {\n",
              "      border-color: transparent;\n",
              "      border-left-color: var(--fill-color);\n",
              "      border-top-color: var(--fill-color);\n",
              "      border-right-color: var(--fill-color);\n",
              "    }\n",
              "    40% {\n",
              "      border-color: transparent;\n",
              "      border-right-color: var(--fill-color);\n",
              "      border-top-color: var(--fill-color);\n",
              "    }\n",
              "    60% {\n",
              "      border-color: transparent;\n",
              "      border-right-color: var(--fill-color);\n",
              "    }\n",
              "    80% {\n",
              "      border-color: transparent;\n",
              "      border-right-color: var(--fill-color);\n",
              "      border-bottom-color: var(--fill-color);\n",
              "    }\n",
              "    90% {\n",
              "      border-color: transparent;\n",
              "      border-bottom-color: var(--fill-color);\n",
              "    }\n",
              "  }\n",
              "</style>\n",
              "\n",
              "  <script>\n",
              "    async function quickchart(key) {\n",
              "      const quickchartButtonEl =\n",
              "        document.querySelector('#' + key + ' button');\n",
              "      quickchartButtonEl.disabled = true;  // To prevent multiple clicks.\n",
              "      quickchartButtonEl.classList.add('colab-df-spinner');\n",
              "      try {\n",
              "        const charts = await google.colab.kernel.invokeFunction(\n",
              "            'suggestCharts', [key], {});\n",
              "      } catch (error) {\n",
              "        console.error('Error during call to suggestCharts:', error);\n",
              "      }\n",
              "      quickchartButtonEl.classList.remove('colab-df-spinner');\n",
              "      quickchartButtonEl.classList.add('colab-df-quickchart-complete');\n",
              "    }\n",
              "    (() => {\n",
              "      let quickchartButtonEl =\n",
              "        document.querySelector('#df-9ad22871-62c3-44e0-ae0b-3bab511f4f63 button');\n",
              "      quickchartButtonEl.style.display =\n",
              "        google.colab.kernel.accessAllowed ? 'block' : 'none';\n",
              "    })();\n",
              "  </script>\n",
              "</div>\n",
              "    </div>\n",
              "  </div>\n"
            ],
            "application/vnd.google.colaboratory.intrinsic+json": {
              "type": "dataframe",
              "variable_name": "df",
              "summary": "{\n  \"name\": \"df\",\n  \"rows\": 60,\n  \"fields\": [\n    {\n      \"column\": 0,\n      \"properties\": {\n        \"dtype\": \"number\",\n        \"std\": 13.505997983441492,\n        \"min\": -22.15887913027107,\n        \"max\": 18.03668250531275,\n        \"num_unique_values\": 60,\n        \"samples\": [\n          -7.551127283256072,\n          -7.6504082059497485,\n          -12.593223713449008\n        ],\n        \"semantic_type\": \"\",\n        \"description\": \"\"\n      }\n    },\n    {\n      \"column\": 1,\n      \"properties\": {\n        \"dtype\": \"number\",\n        \"std\": 14.365422948581363,\n        \"min\": -21.01097482617572,\n        \"max\": 23.89300597205024,\n        \"num_unique_values\": 60,\n        \"samples\": [\n          -16.50188257182162,\n          -15.2889958734173,\n          -11.95097502608691\n        ],\n        \"semantic_type\": \"\",\n        \"description\": \"\"\n      }\n    },\n    {\n      \"column\": 2,\n      \"properties\": {\n        \"dtype\": \"number\",\n        \"std\": 12.39309948656694,\n        \"min\": -22.42756374830305,\n        \"max\": 14.917666862074151,\n        \"num_unique_values\": 60,\n        \"samples\": [\n          12.21402949008674,\n          13.691477901731629,\n          -15.262715710088488\n        ],\n        \"semantic_type\": \"\",\n        \"description\": \"\"\n      }\n    },\n    {\n      \"column\": 3,\n      \"properties\": {\n        \"dtype\": \"number\",\n        \"std\": 14.04525497678013,\n        \"min\": -25.38389556655888,\n        \"max\": 22.31529149233367,\n        \"num_unique_values\": 60,\n        \"samples\": [\n          -4.532918213479664,\n          -7.234911101486722,\n          -25.38389556655888\n        ],\n        \"semantic_type\": \"\",\n        \"description\": \"\"\n      }\n    },\n    {\n      \"column\": 4,\n      \"properties\": {\n        \"dtype\": \"number\",\n        \"std\": 10.910614598237887,\n        \"min\": -16.887720349482144,\n        \"max\": 19.79480413914756,\n        \"num_unique_values\": 60,\n        \"samples\": [\n          7.195724952631572,\n          11.032895792367922,\n          18.325740710583105\n        ],\n        \"semantic_type\": \"\",\n        \"description\": \"\"\n      }\n    },\n    {\n      \"column\": 5,\n      \"properties\": {\n        \"dtype\": \"number\",\n        \"std\": 13.25578659463962,\n        \"min\": -20.087579944386924,\n        \"max\": 21.653668579815985,\n        \"num_unique_values\": 60,\n        \"samples\": [\n          -10.695085810284336,\n          -10.026849892102993,\n          19.165483709854367\n        ],\n        \"semantic_type\": \"\",\n        \"description\": \"\"\n      }\n    },\n    {\n      \"column\": 6,\n      \"properties\": {\n        \"dtype\": \"number\",\n        \"std\": 12.432163217679257,\n        \"min\": -23.816600655493207,\n        \"max\": 16.268649799475046,\n        \"num_unique_values\": 60,\n        \"samples\": [\n          -21.060089372447223,\n          -21.348541918808593,\n          4.370330624627641\n        ],\n        \"semantic_type\": \"\",\n        \"description\": \"\"\n      }\n    },\n    {\n      \"column\": 7,\n      \"properties\": {\n        \"dtype\": \"number\",\n        \"std\": 12.940255621888872,\n        \"min\": -26.866537526603206,\n        \"max\": 15.417416159350596,\n        \"num_unique_values\": 60,\n        \"samples\": [\n          -23.86116645662912,\n          -20.876526118381513,\n          -9.100306144740328\n        ],\n        \"semantic_type\": \"\",\n        \"description\": \"\"\n      }\n    },\n    {\n      \"column\": 8,\n      \"properties\": {\n        \"dtype\": \"number\",\n        \"std\": 12.573283172841737,\n        \"min\": -24.478107778334465,\n        \"max\": 14.52835368063902,\n        \"num_unique_values\": 60,\n        \"samples\": [\n          -2.7548028097659145,\n          -1.1315324054419063,\n          -19.976383444000028\n        ],\n        \"semantic_type\": \"\",\n        \"description\": \"\"\n      }\n    },\n    {\n      \"column\": 9,\n      \"properties\": {\n        \"dtype\": \"number\",\n        \"std\": 10.16997527742147,\n        \"min\": -18.07416010965952,\n        \"max\": 13.190385099430587,\n        \"num_unique_values\": 60,\n        \"samples\": [\n          11.277232285733348,\n          9.152291473441469,\n          -14.287973306374948\n        ],\n        \"semantic_type\": \"\",\n        \"description\": \"\"\n      }\n    }\n  ]\n}"
            }
          },
          "metadata": {},
          "execution_count": 2
        }
      ]
    },
    {
      "cell_type": "code",
      "source": [
        "# cоздание объекта класса PCA; в качестве параметров выступает количество ГК (10) и метод оптимизации (full)\n",
        "pca = PCA(n_components=10, svd_solver='full')\n",
        "df_transformed = pca.fit_transform(df) # ndarray объектов, где каждый объект описывается 10 ГК"
      ],
      "metadata": {
        "id": "1xFcLL4mP45D"
      },
      "execution_count": null,
      "outputs": []
    },
    {
      "cell_type": "code",
      "source": [
        "# координаты 1-го объекта относительно 1 ГК\n",
        "round(df_transformed[0][0], 3)"
      ],
      "metadata": {
        "colab": {
          "base_uri": "https://localhost:8080/"
        },
        "id": "WwC1sMgMQWZW",
        "outputId": "6c1e0b93-6eee-4e05-f2f5-679ea3d79787"
      },
      "execution_count": null,
      "outputs": [
        {
          "output_type": "execute_result",
          "data": {
            "text/plain": [
              "21.569"
            ]
          },
          "metadata": {},
          "execution_count": 4
        }
      ]
    },
    {
      "cell_type": "code",
      "source": [
        "# координаты 1-го объекта относительно 2 ГК\n",
        "round(df_transformed[0][1], 3)"
      ],
      "metadata": {
        "colab": {
          "base_uri": "https://localhost:8080/"
        },
        "id": "2mv8MRsKQmZ3",
        "outputId": "97926087-eab7-4657-b43f-97cfa6d77190"
      },
      "execution_count": null,
      "outputs": [
        {
          "output_type": "execute_result",
          "data": {
            "text/plain": [
              "-20.113"
            ]
          },
          "metadata": {},
          "execution_count": 5
        }
      ]
    },
    {
      "cell_type": "code",
      "source": [
        "# доля объясненной дисперсии при использовании первых двух ГК\n",
        "explained_variance = round(pca.explained_variance_ratio_[:2].sum(), 3)\n",
        "explained_variance"
      ],
      "metadata": {
        "colab": {
          "base_uri": "https://localhost:8080/"
        },
        "id": "kYZIIFB9Q6Xo",
        "outputId": "bac422f3-6cd3-4cee-ae49-fd370093e953"
      },
      "execution_count": null,
      "outputs": [
        {
          "output_type": "execute_result",
          "data": {
            "text/plain": [
              "0.659"
            ]
          },
          "metadata": {},
          "execution_count": 6
        }
      ]
    },
    {
      "cell_type": "code",
      "source": [
        "# минимальное кол-во ГК для доли объясненной дисперсии более 0.85\n",
        "n_components = (pca.explained_variance_ratio_.cumsum() > 0.85).argmax() + 1\n",
        "n_components"
      ],
      "metadata": {
        "colab": {
          "base_uri": "https://localhost:8080/"
        },
        "id": "nW6hzhyPRuCi",
        "outputId": "f379af0b-ba78-440c-9516-f59850815f7e"
      },
      "execution_count": null,
      "outputs": [
        {
          "output_type": "execute_result",
          "data": {
            "text/plain": [
              "3"
            ]
          },
          "metadata": {},
          "execution_count": 7
        }
      ]
    },
    {
      "cell_type": "code",
      "source": [
        "# кол-во групп объектов при использовании первых двух ГК\n",
        "plt.scatter(df_transformed[:, 0], df_transformed[:, 1], c='yellowgreen')\n",
        "plt.show()"
      ],
      "metadata": {
        "colab": {
          "base_uri": "https://localhost:8080/",
          "height": 430
        },
        "id": "RudxYgrxSiQY",
        "outputId": "28d0a6d4-0f24-4f40-c4f9-d08fc7439898"
      },
      "execution_count": null,
      "outputs": [
        {
          "output_type": "display_data",
          "data": {
            "text/plain": [
              "<Figure size 640x480 with 1 Axes>"
            ],
            "image/png": "[encoded data removed]"
          },
          "metadata": {}
        }
      ]
    }
  ]
}