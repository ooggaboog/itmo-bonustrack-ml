{
  "nbformat": 4,
  "nbformat_minor": 0,
  "metadata": {
    "colab": {
      "provenance": []
    },
    "kernelspec": {
      "name": "python3",
      "display_name": "Python 3"
    },
    "language_info": {
      "name": "python"
    }
  },
  "cells": [
    {
      "cell_type": "markdown",
      "source": [
        "## **Промежуточная аттестация 3**"
      ],
      "metadata": {
        "id": "SDH5v_4O0MQW"
      }
    },
    {
      "cell_type": "markdown",
      "source": [
        "### Считываем данные"
      ],
      "metadata": {
        "id": "NO-5OC5h0YGO"
      }
    },
    {
      "cell_type": "code",
      "source": [
        "import pandas as pd\n",
        "from sklearn.model_selection import train_test_split\n",
        "from sklearn.preprocessing import MinMaxScaler\n",
        "from sklearn.linear_model import LogisticRegression\n",
        "from sklearn.metrics import f1_score\n",
        "from sklearn.metrics import confusion_matrix\n",
        "from sklearn.neighbors import KNeighborsClassifier"
      ],
      "metadata": {
        "id": "1k-liNZT0dbQ"
      },
      "execution_count": 1,
      "outputs": []
    },
    {
      "cell_type": "code",
      "execution_count": 2,
      "metadata": {
        "colab": {
          "base_uri": "https://localhost:8080/",
          "height": 424
        },
        "id": "lclzTqT4z_Lb",
        "outputId": "d3ff2696-d0a6-4c89-900b-a708f85f9a57"
      },
      "outputs": [
        {
          "output_type": "execute_result",
          "data": {
            "text/plain": [
              "              MIP      STDIP      EKIP       SIP          MC       STDC  \\\n",
              "0      140.562500  55.683782 -0.234571 -0.699648    3.199833  19.110426   \n",
              "1      102.507812  58.882430  0.465318 -0.515088    1.677258  14.860146   \n",
              "2      103.015625  39.341649  0.323328  1.051164    3.121237  21.744669   \n",
              "3      136.750000  57.178449 -0.068415 -0.636238    3.642977  20.959280   \n",
              "4       88.726562  40.672225  0.600866  1.123492    1.178930  11.468720   \n",
              "...           ...        ...       ...       ...         ...        ...   \n",
              "17893  136.429688  59.847421 -0.187846 -0.738123    1.296823  12.166062   \n",
              "17894  122.554688  49.485605  0.127978  0.323061   16.409699  44.626893   \n",
              "17895  119.335938  59.935939  0.159363 -0.743025   21.430602  58.872000   \n",
              "17896  114.507812  53.902400  0.201161 -0.024789    1.946488  13.381731   \n",
              "17897   57.062500  85.797340  1.406391  0.089520  188.306020  64.712562   \n",
              "\n",
              "             EKC          SC  TG  \n",
              "0       7.975532   74.242225   0  \n",
              "1      10.576487  127.393580   0  \n",
              "2       7.735822   63.171909   0  \n",
              "3       6.896499   53.593661   0  \n",
              "4      14.269573  252.567306   0  \n",
              "...          ...         ...  ..  \n",
              "17893  15.450260  285.931022   0  \n",
              "17894   2.945244    8.297092   0  \n",
              "17895   2.499517    4.595173   0  \n",
              "17896  10.007967  134.238910   0  \n",
              "17897  -1.597527    1.429475   0  \n",
              "\n",
              "[17898 rows x 9 columns]"
            ],
            "text/html": [
              "\n",
              "  <div id=\"df-acf51dad-0d47-4954-816b-6eeb4dcc1818\" class=\"colab-df-container\">\n",
              "    <div>\n",
              "<style scoped>\n",
              "    .dataframe tbody tr th:only-of-type {\n",
              "        vertical-align: middle;\n",
              "    }\n",
              "\n",
              "    .dataframe tbody tr th {\n",
              "        vertical-align: top;\n",
              "    }\n",
              "\n",
              "    .dataframe thead th {\n",
              "        text-align: right;\n",
              "    }\n",
              "</style>\n",
              "<table border=\"1\" class=\"dataframe\">\n",
              "  <thead>\n",
              "    <tr style=\"text-align: right;\">\n",
              "      <th></th>\n",
              "      <th>MIP</th>\n",
              "      <th>STDIP</th>\n",
              "      <th>EKIP</th>\n",
              "      <th>SIP</th>\n",
              "      <th>MC</th>\n",
              "      <th>STDC</th>\n",
              "      <th>EKC</th>\n",
              "      <th>SC</th>\n",
              "      <th>TG</th>\n",
              "    </tr>\n",
              "  </thead>\n",
              "  <tbody>\n",
              "    <tr>\n",
              "      <th>0</th>\n",
              "      <td>140.562500</td>\n",
              "      <td>55.683782</td>\n",
              "      <td>-0.234571</td>\n",
              "      <td>-0.699648</td>\n",
              "      <td>3.199833</td>\n",
              "      <td>19.110426</td>\n",
              "      <td>7.975532</td>\n",
              "      <td>74.242225</td>\n",
              "      <td>0</td>\n",
              "    </tr>\n",
              "    <tr>\n",
              "      <th>1</th>\n",
              "      <td>102.507812</td>\n",
              "      <td>58.882430</td>\n",
              "      <td>0.465318</td>\n",
              "      <td>-0.515088</td>\n",
              "      <td>1.677258</td>\n",
              "      <td>14.860146</td>\n",
              "      <td>10.576487</td>\n",
              "      <td>127.393580</td>\n",
              "      <td>0</td>\n",
              "    </tr>\n",
              "    <tr>\n",
              "      <th>2</th>\n",
              "      <td>103.015625</td>\n",
              "      <td>39.341649</td>\n",
              "      <td>0.323328</td>\n",
              "      <td>1.051164</td>\n",
              "      <td>3.121237</td>\n",
              "      <td>21.744669</td>\n",
              "      <td>7.735822</td>\n",
              "      <td>63.171909</td>\n",
              "      <td>0</td>\n",
              "    </tr>\n",
              "    <tr>\n",
              "      <th>3</th>\n",
              "      <td>136.750000</td>\n",
              "      <td>57.178449</td>\n",
              "      <td>-0.068415</td>\n",
              "      <td>-0.636238</td>\n",
              "      <td>3.642977</td>\n",
              "      <td>20.959280</td>\n",
              "      <td>6.896499</td>\n",
              "      <td>53.593661</td>\n",
              "      <td>0</td>\n",
              "    </tr>\n",
              "    <tr>\n",
              "      <th>4</th>\n",
              "      <td>88.726562</td>\n",
              "      <td>40.672225</td>\n",
              "      <td>0.600866</td>\n",
              "      <td>1.123492</td>\n",
              "      <td>1.178930</td>\n",
              "      <td>11.468720</td>\n",
              "      <td>14.269573</td>\n",
              "      <td>252.567306</td>\n",
              "      <td>0</td>\n",
              "    </tr>\n",
              "    <tr>\n",
              "      <th>...</th>\n",
              "      <td>...</td>\n",
              "      <td>...</td>\n",
              "      <td>...</td>\n",
              "      <td>...</td>\n",
              "      <td>...</td>\n",
              "      <td>...</td>\n",
              "      <td>...</td>\n",
              "      <td>...</td>\n",
              "      <td>...</td>\n",
              "    </tr>\n",
              "    <tr>\n",
              "      <th>17893</th>\n",
              "      <td>136.429688</td>\n",
              "      <td>59.847421</td>\n",
              "      <td>-0.187846</td>\n",
              "      <td>-0.738123</td>\n",
              "      <td>1.296823</td>\n",
              "      <td>12.166062</td>\n",
              "      <td>15.450260</td>\n",
              "      <td>285.931022</td>\n",
              "      <td>0</td>\n",
              "    </tr>\n",
              "    <tr>\n",
              "      <th>17894</th>\n",
              "      <td>122.554688</td>\n",
              "      <td>49.485605</td>\n",
              "      <td>0.127978</td>\n",
              "      <td>0.323061</td>\n",
              "      <td>16.409699</td>\n",
              "      <td>44.626893</td>\n",
              "      <td>2.945244</td>\n",
              "      <td>8.297092</td>\n",
              "      <td>0</td>\n",
              "    </tr>\n",
              "    <tr>\n",
              "      <th>17895</th>\n",
              "      <td>119.335938</td>\n",
              "      <td>59.935939</td>\n",
              "      <td>0.159363</td>\n",
              "      <td>-0.743025</td>\n",
              "      <td>21.430602</td>\n",
              "      <td>58.872000</td>\n",
              "      <td>2.499517</td>\n",
              "      <td>4.595173</td>\n",
              "      <td>0</td>\n",
              "    </tr>\n",
              "    <tr>\n",
              "      <th>17896</th>\n",
              "      <td>114.507812</td>\n",
              "      <td>53.902400</td>\n",
              "      <td>0.201161</td>\n",
              "      <td>-0.024789</td>\n",
              "      <td>1.946488</td>\n",
              "      <td>13.381731</td>\n",
              "      <td>10.007967</td>\n",
              "      <td>134.238910</td>\n",
              "      <td>0</td>\n",
              "    </tr>\n",
              "    <tr>\n",
              "      <th>17897</th>\n",
              "      <td>57.062500</td>\n",
              "      <td>85.797340</td>\n",
              "      <td>1.406391</td>\n",
              "      <td>0.089520</td>\n",
              "      <td>188.306020</td>\n",
              "      <td>64.712562</td>\n",
              "      <td>-1.597527</td>\n",
              "      <td>1.429475</td>\n",
              "      <td>0</td>\n",
              "    </tr>\n",
              "  </tbody>\n",
              "</table>\n",
              "<p>17898 rows × 9 columns</p>\n",
              "</div>\n",
              "    <div class=\"colab-df-buttons\">\n",
              "\n",
              "  <div class=\"colab-df-container\">\n",
              "    <button class=\"colab-df-convert\" onclick=\"convertToInteractive('df-acf51dad-0d47-4954-816b-6eeb4dcc1818')\"\n",
              "            title=\"Convert this dataframe to an interactive table.\"\n",
              "            style=\"display:none;\">\n",
              "\n",
              "  <svg xmlns=\"http://www.w3.org/2000/svg\" height=\"24px\" viewBox=\"0 -960 960 960\">\n",
              "    <path d=\"M120-120v-720h720v720H120Zm60-500h600v-160H180v160Zm220 220h160v-160H400v160Zm0 220h160v-160H400v160ZM180-400h160v-160H180v160Zm440 0h160v-160H620v160ZM180-180h160v-160H180v160Zm440 0h160v-160H620v160Z\"/>\n",
              "  </svg>\n",
              "    </button>\n",
              "\n",
              "  <style>\n",
              "    .colab-df-container {\n",
              "      display:flex;\n",
              "      gap: 12px;\n",
              "    }\n",
              "\n",
              "    .colab-df-convert {\n",
              "      background-color: #E8F0FE;\n",
              "      border: none;\n",
              "      border-radius: 50%;\n",
              "      cursor: pointer;\n",
              "      display: none;\n",
              "      fill: #1967D2;\n",
              "      height: 32px;\n",
              "      padding: 0 0 0 0;\n",
              "      width: 32px;\n",
              "    }\n",
              "\n",
              "    .colab-df-convert:hover {\n",
              "      background-color: #E2EBFA;\n",
              "      box-shadow: 0px 1px 2px rgba(60, 64, 67, 0.3), 0px 1px 3px 1px rgba(60, 64, 67, 0.15);\n",
              "      fill: #174EA6;\n",
              "    }\n",
              "\n",
              "    .colab-df-buttons div {\n",
              "      margin-bottom: 4px;\n",
              "    }\n",
              "\n",
              "    [theme=dark] .colab-df-convert {\n",
              "      background-color: #3B4455;\n",
              "      fill: #D2E3FC;\n",
              "    }\n",
              "\n",
              "    [theme=dark] .colab-df-convert:hover {\n",
              "      background-color: #434B5C;\n",
              "      box-shadow: 0px 1px 3px 1px rgba(0, 0, 0, 0.15);\n",
              "      filter: drop-shadow(0px 1px 2px rgba(0, 0, 0, 0.3));\n",
              "      fill: #FFFFFF;\n",
              "    }\n",
              "  </style>\n",
              "\n",
              "    <script>\n",
              "      const buttonEl =\n",
              "        document.querySelector('#df-acf51dad-0d47-4954-816b-6eeb4dcc1818 button.colab-df-convert');\n",
              "      buttonEl.style.display =\n",
              "        google.colab.kernel.accessAllowed ? 'block' : 'none';\n",
              "\n",
              "      async function convertToInteractive(key) {\n",
              "        const element = document.querySelector('#df-acf51dad-0d47-4954-816b-6eeb4dcc1818');\n",
              "        const dataTable =\n",
              "          await google.colab.kernel.invokeFunction('convertToInteractive',\n",
              "                                                    [key], {});\n",
              "        if (!dataTable) return;\n",
              "\n",
              "        const docLinkHtml = 'Like what you see? Visit the ' +\n",
              "          '<a target=\"_blank\" href=https://colab.research.google.com/notebooks/data_table.ipynb>data table notebook</a>'\n",
              "          + ' to learn more about interactive tables.';\n",
              "        element.innerHTML = '';\n",
              "        dataTable['output_type'] = 'display_data';\n",
              "        await google.colab.output.renderOutput(dataTable, element);\n",
              "        const docLink = document.createElement('div');\n",
              "        docLink.innerHTML = docLinkHtml;\n",
              "        element.appendChild(docLink);\n",
              "      }\n",
              "    </script>\n",
              "  </div>\n",
              "\n",
              "\n",
              "<div id=\"df-4a814856-850d-4fd8-8d31-f101e9d63e93\">\n",
              "  <button class=\"colab-df-quickchart\" onclick=\"quickchart('df-4a814856-850d-4fd8-8d31-f101e9d63e93')\"\n",
              "            title=\"Suggest charts\"\n",
              "            style=\"display:none;\">\n",
              "\n",
              "<svg xmlns=\"http://www.w3.org/2000/svg\" height=\"24px\"viewBox=\"0 0 24 24\"\n",
              "     width=\"24px\">\n",
              "    <g>\n",
              "        <path d=\"M19 3H5c-1.1 0-2 .9-2 2v14c0 1.1.9 2 2 2h14c1.1 0 2-.9 2-2V5c0-1.1-.9-2-2-2zM9 17H7v-7h2v7zm4 0h-2V7h2v10zm4 0h-2v-4h2v4z\"/>\n",
              "    </g>\n",
              "</svg>\n",
              "  </button>\n",
              "\n",
              "<style>\n",
              "  .colab-df-quickchart {\n",
              "      --bg-color: #E8F0FE;\n",
              "      --fill-color: #1967D2;\n",
              "      --hover-bg-color: #E2EBFA;\n",
              "      --hover-fill-color: #174EA6;\n",
              "      --disabled-fill-color: #AAA;\n",
              "      --disabled-bg-color: #DDD;\n",
              "  }\n",
              "\n",
              "  [theme=dark] .colab-df-quickchart {\n",
              "      --bg-color: #3B4455;\n",
              "      --fill-color: #D2E3FC;\n",
              "      --hover-bg-color: #434B5C;\n",
              "      --hover-fill-color: #FFFFFF;\n",
              "      --disabled-bg-color: #3B4455;\n",
              "      --disabled-fill-color: #666;\n",
              "  }\n",
              "\n",
              "  .colab-df-quickchart {\n",
              "    background-color: var(--bg-color);\n",
              "    border: none;\n",
              "    border-radius: 50%;\n",
              "    cursor: pointer;\n",
              "    display: none;\n",
              "    fill: var(--fill-color);\n",
              "    height: 32px;\n",
              "    padding: 0;\n",
              "    width: 32px;\n",
              "  }\n",
              "\n",
              "  .colab-df-quickchart:hover {\n",
              "    background-color: var(--hover-bg-color);\n",
              "    box-shadow: 0 1px 2px rgba(60, 64, 67, 0.3), 0 1px 3px 1px rgba(60, 64, 67, 0.15);\n",
              "    fill: var(--button-hover-fill-color);\n",
              "  }\n",
              "\n",
              "  .colab-df-quickchart-complete:disabled,\n",
              "  .colab-df-quickchart-complete:disabled:hover {\n",
              "    background-color: var(--disabled-bg-color);\n",
              "    fill: var(--disabled-fill-color);\n",
              "    box-shadow: none;\n",
              "  }\n",
              "\n",
              "  .colab-df-spinner {\n",
              "    border: 2px solid var(--fill-color);\n",
              "    border-color: transparent;\n",
              "    border-bottom-color: var(--fill-color);\n",
              "    animation:\n",
              "      spin 1s steps(1) infinite;\n",
              "  }\n",
              "\n",
              "  @keyframes spin {\n",
              "    0% {\n",
              "      border-color: transparent;\n",
              "      border-bottom-color: var(--fill-color);\n",
              "      border-left-color: var(--fill-color);\n",
              "    }\n",
              "    20% {\n",
              "      border-color: transparent;\n",
              "      border-left-color: var(--fill-color);\n",
              "      border-top-color: var(--fill-color);\n",
              "    }\n",
              "    30% {\n",
              "      border-color: transparent;\n",
              "      border-left-color: var(--fill-color);\n",
              "      border-top-color: var(--fill-color);\n",
              "      border-right-color: var(--fill-color);\n",
              "    }\n",
              "    40% {\n",
              "      border-color: transparent;\n",
              "      border-right-color: var(--fill-color);\n",
              "      border-top-color: var(--fill-color);\n",
              "    }\n",
              "    60% {\n",
              "      border-color: transparent;\n",
              "      border-right-color: var(--fill-color);\n",
              "    }\n",
              "    80% {\n",
              "      border-color: transparent;\n",
              "      border-right-color: var(--fill-color);\n",
              "      border-bottom-color: var(--fill-color);\n",
              "    }\n",
              "    90% {\n",
              "      border-color: transparent;\n",
              "      border-bottom-color: var(--fill-color);\n",
              "    }\n",
              "  }\n",
              "</style>\n",
              "\n",
              "  <script>\n",
              "    async function quickchart(key) {\n",
              "      const quickchartButtonEl =\n",
              "        document.querySelector('#' + key + ' button');\n",
              "      quickchartButtonEl.disabled = true;  // To prevent multiple clicks.\n",
              "      quickchartButtonEl.classList.add('colab-df-spinner');\n",
              "      try {\n",
              "        const charts = await google.colab.kernel.invokeFunction(\n",
              "            'suggestCharts', [key], {});\n",
              "      } catch (error) {\n",
              "        console.error('Error during call to suggestCharts:', error);\n",
              "      }\n",
              "      quickchartButtonEl.classList.remove('colab-df-spinner');\n",
              "      quickchartButtonEl.classList.add('colab-df-quickchart-complete');\n",
              "    }\n",
              "    (() => {\n",
              "      let quickchartButtonEl =\n",
              "        document.querySelector('#df-4a814856-850d-4fd8-8d31-f101e9d63e93 button');\n",
              "      quickchartButtonEl.style.display =\n",
              "        google.colab.kernel.accessAllowed ? 'block' : 'none';\n",
              "    })();\n",
              "  </script>\n",
              "</div>\n",
              "    </div>\n",
              "  </div>\n"
            ],
            "application/vnd.google.colaboratory.intrinsic+json": {
              "type": "dataframe",
              "variable_name": "df",
              "summary": "{\n  \"name\": \"df\",\n  \"rows\": 17898,\n  \"fields\": [\n    {\n      \"column\": \"MIP\",\n      \"properties\": {\n        \"dtype\": \"number\",\n        \"std\": 25.652935359860106,\n        \"min\": 5.8125,\n        \"max\": 192.6171875,\n        \"num_unique_values\": 8626,\n        \"samples\": [\n          83.265625,\n          51.9453125,\n          120.75\n        ],\n        \"semantic_type\": \"\",\n        \"description\": \"\"\n      }\n    },\n    {\n      \"column\": \"STDIP\",\n      \"properties\": {\n        \"dtype\": \"number\",\n        \"std\": 6.843189410087772,\n        \"min\": 24.77204176,\n        \"max\": 98.77891067,\n        \"num_unique_values\": 17862,\n        \"samples\": [\n          48.17823507,\n          50.13572825,\n          53.11199232\n        ],\n        \"semantic_type\": \"\",\n        \"description\": \"\"\n      }\n    },\n    {\n      \"column\": \"EKIP\",\n      \"properties\": {\n        \"dtype\": \"number\",\n        \"std\": 1.0640397163731556,\n        \"min\": -1.876011181,\n        \"max\": 8.069522046,\n        \"num_unique_values\": 17897,\n        \"samples\": [\n          0.175111538,\n          2.02549836,\n          0.504295246\n        ],\n        \"semantic_type\": \"\",\n        \"description\": \"\"\n      }\n    },\n    {\n      \"column\": \"SIP\",\n      \"properties\": {\n        \"dtype\": \"number\",\n        \"std\": 6.167913247731735,\n        \"min\": -1.791885981,\n        \"max\": 68.10162173,\n        \"num_unique_values\": 17898,\n        \"samples\": [\n          -0.129815137,\n          8.652912976,\n          0.821088334\n        ],\n        \"semantic_type\": \"\",\n        \"description\": \"\"\n      }\n    },\n    {\n      \"column\": \"MC\",\n      \"properties\": {\n        \"dtype\": \"number\",\n        \"std\": 29.472897150065176,\n        \"min\": 0.213210702,\n        \"max\": 223.3921405,\n        \"num_unique_values\": 9000,\n        \"samples\": [\n          3.387123746,\n          4.147157191,\n          3.241638796\n        ],\n        \"semantic_type\": \"\",\n        \"description\": \"\"\n      }\n    },\n    {\n      \"column\": \"STDC\",\n      \"properties\": {\n        \"dtype\": \"number\",\n        \"std\": 19.470572330539163,\n        \"min\": 7.370432165,\n        \"max\": 110.6422106,\n        \"num_unique_values\": 17894,\n        \"samples\": [\n          16.7127396,\n          11.35208188,\n          11.14631778\n        ],\n        \"semantic_type\": \"\",\n        \"description\": \"\"\n      }\n    },\n    {\n      \"column\": \"EKC\",\n      \"properties\": {\n        \"dtype\": \"number\",\n        \"std\": 4.506091858992771,\n        \"min\": -3.139269611,\n        \"max\": 34.53984419,\n        \"num_unique_values\": 17895,\n        \"samples\": [\n          10.49423164,\n          8.479589229,\n          8.236539915\n        ],\n        \"semantic_type\": \"\",\n        \"description\": \"\"\n      }\n    },\n    {\n      \"column\": \"SC\",\n      \"properties\": {\n        \"dtype\": \"number\",\n        \"std\": 106.51453953467565,\n        \"min\": -1.976975603,\n        \"max\": 1191.000837,\n        \"num_unique_values\": 17895,\n        \"samples\": [\n          153.2811187,\n          92.51934407,\n          84.30255822\n        ],\n        \"semantic_type\": \"\",\n        \"description\": \"\"\n      }\n    },\n    {\n      \"column\": \"TG\",\n      \"properties\": {\n        \"dtype\": \"number\",\n        \"std\": 0,\n        \"min\": 0,\n        \"max\": 1,\n        \"num_unique_values\": 2,\n        \"samples\": [\n          1,\n          0\n        ],\n        \"semantic_type\": \"\",\n        \"description\": \"\"\n      }\n    }\n  ]\n}"
            }
          },
          "metadata": {},
          "execution_count": 2
        }
      ],
      "source": [
        "df = pd.read_csv('https://dc-edu.itmo.ru/assets/courseware/v1/431a30c4a3a2b3f265f8cce1a809aa0f/asset-v1:ITMO+bonus_track_methods+2023+type@asset+block/pulsar_stars_new.csv')\n",
        "df"
      ]
    },
    {
      "cell_type": "markdown",
      "source": [
        "## Подготовка данных"
      ],
      "metadata": {
        "id": "pB2_tdv21msr"
      }
    },
    {
      "cell_type": "markdown",
      "source": [
        "Сформируем выборку на основании следующих критериев:\n",
        "\n",
        "* Все строки, где `TG` = 0 и `MIP` в диапазоне `[52.40625, 175.328125]`\n",
        "\n",
        "* Все строки, где `TG` = 1 и `MIP` в диапазоне `[10.015625, 120.5546875]`"
      ],
      "metadata": {
        "id": "UcI-dP2S1psp"
      }
    },
    {
      "cell_type": "code",
      "source": [
        "df = df[((df['TG'] == 0) & (df['MIP'] >= 52.40625) & (df['MIP'] <= 175.328125)) |\n",
        "        ((df['TG'] == 1) & (df['MIP'] >= 10.015625) & (df['MIP'] <= 120.5546875))]"
      ],
      "metadata": {
        "id": "agUQPXuO178h"
      },
      "execution_count": 3,
      "outputs": []
    },
    {
      "cell_type": "markdown",
      "source": [
        "Определим выборочное среднее для столбца `STDIP`"
      ],
      "metadata": {
        "id": "62EiGMoG2rFC"
      }
    },
    {
      "cell_type": "code",
      "source": [
        "round(df['STDIP'].mean(), 3)"
      ],
      "metadata": {
        "colab": {
          "base_uri": "https://localhost:8080/"
        },
        "id": "tJtpjGTD2v55",
        "outputId": "cdcec03d-8b7d-46b9-d16a-39246bf4f063"
      },
      "execution_count": 4,
      "outputs": [
        {
          "output_type": "execute_result",
          "data": {
            "text/plain": [
              "46.575"
            ]
          },
          "metadata": {},
          "execution_count": 4
        }
      ]
    },
    {
      "cell_type": "markdown",
      "source": [
        "Отсортируем данные по возрастанию столбца `SIP`"
      ],
      "metadata": {
        "id": "noi5G9wS24X1"
      }
    },
    {
      "cell_type": "code",
      "source": [
        "df = df.sort_values(by='SIP')\n",
        "df.head()"
      ],
      "metadata": {
        "colab": {
          "base_uri": "https://localhost:8080/",
          "height": 206
        },
        "id": "gMnRHSD6261q",
        "outputId": "89b7acdc-a5ca-4376-82de-ead78b0e61c4"
      },
      "execution_count": 5,
      "outputs": [
        {
          "output_type": "execute_result",
          "data": {
            "text/plain": [
              "              MIP      STDIP      EKIP       SIP          MC       STDC  \\\n",
              "2137   135.859375  81.503042  0.023921 -1.791886    3.655518  19.638924   \n",
              "5291   101.242188  91.808628  0.290115 -1.781888  195.795987  63.624015   \n",
              "3509   113.265625  98.778911  0.179404 -1.764717  145.361204  64.773789   \n",
              "10625  141.757812  91.206475 -0.056413 -1.755332   55.243311  75.793948   \n",
              "370    107.539062  86.951396 -0.008928 -1.676724  211.948997  54.010310   \n",
              "\n",
              "            EKC         SC  TG  \n",
              "2137   7.228962  63.401192   0  \n",
              "5291  -1.852570   2.544999   0  \n",
              "3509  -0.154935  -1.374633   0  \n",
              "10625  1.047847  -0.255939   0  \n",
              "370   -2.556795   5.768458   0  "
            ],
            "text/html": [
              "\n",
              "  <div id=\"df-7f54998a-9d04-4771-bb06-3a6769c6674e\" class=\"colab-df-container\">\n",
              "    <div>\n",
              "<style scoped>\n",
              "    .dataframe tbody tr th:only-of-type {\n",
              "        vertical-align: middle;\n",
              "    }\n",
              "\n",
              "    .dataframe tbody tr th {\n",
              "        vertical-align: top;\n",
              "    }\n",
              "\n",
              "    .dataframe thead th {\n",
              "        text-align: right;\n",
              "    }\n",
              "</style>\n",
              "<table border=\"1\" class=\"dataframe\">\n",
              "  <thead>\n",
              "    <tr style=\"text-align: right;\">\n",
              "      <th></th>\n",
              "      <th>MIP</th>\n",
              "      <th>STDIP</th>\n",
              "      <th>EKIP</th>\n",
              "      <th>SIP</th>\n",
              "      <th>MC</th>\n",
              "      <th>STDC</th>\n",
              "      <th>EKC</th>\n",
              "      <th>SC</th>\n",
              "      <th>TG</th>\n",
              "    </tr>\n",
              "  </thead>\n",
              "  <tbody>\n",
              "    <tr>\n",
              "      <th>2137</th>\n",
              "      <td>135.859375</td>\n",
              "      <td>81.503042</td>\n",
              "      <td>0.023921</td>\n",
              "      <td>-1.791886</td>\n",
              "      <td>3.655518</td>\n",
              "      <td>19.638924</td>\n",
              "      <td>7.228962</td>\n",
              "      <td>63.401192</td>\n",
              "      <td>0</td>\n",
              "    </tr>\n",
              "    <tr>\n",
              "      <th>5291</th>\n",
              "      <td>101.242188</td>\n",
              "      <td>91.808628</td>\n",
              "      <td>0.290115</td>\n",
              "      <td>-1.781888</td>\n",
              "      <td>195.795987</td>\n",
              "      <td>63.624015</td>\n",
              "      <td>-1.852570</td>\n",
              "      <td>2.544999</td>\n",
              "      <td>0</td>\n",
              "    </tr>\n",
              "    <tr>\n",
              "      <th>3509</th>\n",
              "      <td>113.265625</td>\n",
              "      <td>98.778911</td>\n",
              "      <td>0.179404</td>\n",
              "      <td>-1.764717</td>\n",
              "      <td>145.361204</td>\n",
              "      <td>64.773789</td>\n",
              "      <td>-0.154935</td>\n",
              "      <td>-1.374633</td>\n",
              "      <td>0</td>\n",
              "    </tr>\n",
              "    <tr>\n",
              "      <th>10625</th>\n",
              "      <td>141.757812</td>\n",
              "      <td>91.206475</td>\n",
              "      <td>-0.056413</td>\n",
              "      <td>-1.755332</td>\n",
              "      <td>55.243311</td>\n",
              "      <td>75.793948</td>\n",
              "      <td>1.047847</td>\n",
              "      <td>-0.255939</td>\n",
              "      <td>0</td>\n",
              "    </tr>\n",
              "    <tr>\n",
              "      <th>370</th>\n",
              "      <td>107.539062</td>\n",
              "      <td>86.951396</td>\n",
              "      <td>-0.008928</td>\n",
              "      <td>-1.676724</td>\n",
              "      <td>211.948997</td>\n",
              "      <td>54.010310</td>\n",
              "      <td>-2.556795</td>\n",
              "      <td>5.768458</td>\n",
              "      <td>0</td>\n",
              "    </tr>\n",
              "  </tbody>\n",
              "</table>\n",
              "</div>\n",
              "    <div class=\"colab-df-buttons\">\n",
              "\n",
              "  <div class=\"colab-df-container\">\n",
              "    <button class=\"colab-df-convert\" onclick=\"convertToInteractive('df-7f54998a-9d04-4771-bb06-3a6769c6674e')\"\n",
              "            title=\"Convert this dataframe to an interactive table.\"\n",
              "            style=\"display:none;\">\n",
              "\n",
              "  <svg xmlns=\"http://www.w3.org/2000/svg\" height=\"24px\" viewBox=\"0 -960 960 960\">\n",
              "    <path d=\"M120-120v-720h720v720H120Zm60-500h600v-160H180v160Zm220 220h160v-160H400v160Zm0 220h160v-160H400v160ZM180-400h160v-160H180v160Zm440 0h160v-160H620v160ZM180-180h160v-160H180v160Zm440 0h160v-160H620v160Z\"/>\n",
              "  </svg>\n",
              "    </button>\n",
              "\n",
              "  <style>\n",
              "    .colab-df-container {\n",
              "      display:flex;\n",
              "      gap: 12px;\n",
              "    }\n",
              "\n",
              "    .colab-df-convert {\n",
              "      background-color: #E8F0FE;\n",
              "      border: none;\n",
              "      border-radius: 50%;\n",
              "      cursor: pointer;\n",
              "      display: none;\n",
              "      fill: #1967D2;\n",
              "      height: 32px;\n",
              "      padding: 0 0 0 0;\n",
              "      width: 32px;\n",
              "    }\n",
              "\n",
              "    .colab-df-convert:hover {\n",
              "      background-color: #E2EBFA;\n",
              "      box-shadow: 0px 1px 2px rgba(60, 64, 67, 0.3), 0px 1px 3px 1px rgba(60, 64, 67, 0.15);\n",
              "      fill: #174EA6;\n",
              "    }\n",
              "\n",
              "    .colab-df-buttons div {\n",
              "      margin-bottom: 4px;\n",
              "    }\n",
              "\n",
              "    [theme=dark] .colab-df-convert {\n",
              "      background-color: #3B4455;\n",
              "      fill: #D2E3FC;\n",
              "    }\n",
              "\n",
              "    [theme=dark] .colab-df-convert:hover {\n",
              "      background-color: #434B5C;\n",
              "      box-shadow: 0px 1px 3px 1px rgba(0, 0, 0, 0.15);\n",
              "      filter: drop-shadow(0px 1px 2px rgba(0, 0, 0, 0.3));\n",
              "      fill: #FFFFFF;\n",
              "    }\n",
              "  </style>\n",
              "\n",
              "    <script>\n",
              "      const buttonEl =\n",
              "        document.querySelector('#df-7f54998a-9d04-4771-bb06-3a6769c6674e button.colab-df-convert');\n",
              "      buttonEl.style.display =\n",
              "        google.colab.kernel.accessAllowed ? 'block' : 'none';\n",
              "\n",
              "      async function convertToInteractive(key) {\n",
              "        const element = document.querySelector('#df-7f54998a-9d04-4771-bb06-3a6769c6674e');\n",
              "        const dataTable =\n",
              "          await google.colab.kernel.invokeFunction('convertToInteractive',\n",
              "                                                    [key], {});\n",
              "        if (!dataTable) return;\n",
              "\n",
              "        const docLinkHtml = 'Like what you see? Visit the ' +\n",
              "          '<a target=\"_blank\" href=https://colab.research.google.com/notebooks/data_table.ipynb>data table notebook</a>'\n",
              "          + ' to learn more about interactive tables.';\n",
              "        element.innerHTML = '';\n",
              "        dataTable['output_type'] = 'display_data';\n",
              "        await google.colab.output.renderOutput(dataTable, element);\n",
              "        const docLink = document.createElement('div');\n",
              "        docLink.innerHTML = docLinkHtml;\n",
              "        element.appendChild(docLink);\n",
              "      }\n",
              "    </script>\n",
              "  </div>\n",
              "\n",
              "\n",
              "<div id=\"df-1cdd9d8f-ecca-4b53-8fef-59174b00c801\">\n",
              "  <button class=\"colab-df-quickchart\" onclick=\"quickchart('df-1cdd9d8f-ecca-4b53-8fef-59174b00c801')\"\n",
              "            title=\"Suggest charts\"\n",
              "            style=\"display:none;\">\n",
              "\n",
              "<svg xmlns=\"http://www.w3.org/2000/svg\" height=\"24px\"viewBox=\"0 0 24 24\"\n",
              "     width=\"24px\">\n",
              "    <g>\n",
              "        <path d=\"M19 3H5c-1.1 0-2 .9-2 2v14c0 1.1.9 2 2 2h14c1.1 0 2-.9 2-2V5c0-1.1-.9-2-2-2zM9 17H7v-7h2v7zm4 0h-2V7h2v10zm4 0h-2v-4h2v4z\"/>\n",
              "    </g>\n",
              "</svg>\n",
              "  </button>\n",
              "\n",
              "<style>\n",
              "  .colab-df-quickchart {\n",
              "      --bg-color: #E8F0FE;\n",
              "      --fill-color: #1967D2;\n",
              "      --hover-bg-color: #E2EBFA;\n",
              "      --hover-fill-color: #174EA6;\n",
              "      --disabled-fill-color: #AAA;\n",
              "      --disabled-bg-color: #DDD;\n",
              "  }\n",
              "\n",
              "  [theme=dark] .colab-df-quickchart {\n",
              "      --bg-color: #3B4455;\n",
              "      --fill-color: #D2E3FC;\n",
              "      --hover-bg-color: #434B5C;\n",
              "      --hover-fill-color: #FFFFFF;\n",
              "      --disabled-bg-color: #3B4455;\n",
              "      --disabled-fill-color: #666;\n",
              "  }\n",
              "\n",
              "  .colab-df-quickchart {\n",
              "    background-color: var(--bg-color);\n",
              "    border: none;\n",
              "    border-radius: 50%;\n",
              "    cursor: pointer;\n",
              "    display: none;\n",
              "    fill: var(--fill-color);\n",
              "    height: 32px;\n",
              "    padding: 0;\n",
              "    width: 32px;\n",
              "  }\n",
              "\n",
              "  .colab-df-quickchart:hover {\n",
              "    background-color: var(--hover-bg-color);\n",
              "    box-shadow: 0 1px 2px rgba(60, 64, 67, 0.3), 0 1px 3px 1px rgba(60, 64, 67, 0.15);\n",
              "    fill: var(--button-hover-fill-color);\n",
              "  }\n",
              "\n",
              "  .colab-df-quickchart-complete:disabled,\n",
              "  .colab-df-quickchart-complete:disabled:hover {\n",
              "    background-color: var(--disabled-bg-color);\n",
              "    fill: var(--disabled-fill-color);\n",
              "    box-shadow: none;\n",
              "  }\n",
              "\n",
              "  .colab-df-spinner {\n",
              "    border: 2px solid var(--fill-color);\n",
              "    border-color: transparent;\n",
              "    border-bottom-color: var(--fill-color);\n",
              "    animation:\n",
              "      spin 1s steps(1) infinite;\n",
              "  }\n",
              "\n",
              "  @keyframes spin {\n",
              "    0% {\n",
              "      border-color: transparent;\n",
              "      border-bottom-color: var(--fill-color);\n",
              "      border-left-color: var(--fill-color);\n",
              "    }\n",
              "    20% {\n",
              "      border-color: transparent;\n",
              "      border-left-color: var(--fill-color);\n",
              "      border-top-color: var(--fill-color);\n",
              "    }\n",
              "    30% {\n",
              "      border-color: transparent;\n",
              "      border-left-color: var(--fill-color);\n",
              "      border-top-color: var(--fill-color);\n",
              "      border-right-color: var(--fill-color);\n",
              "    }\n",
              "    40% {\n",
              "      border-color: transparent;\n",
              "      border-right-color: var(--fill-color);\n",
              "      border-top-color: var(--fill-color);\n",
              "    }\n",
              "    60% {\n",
              "      border-color: transparent;\n",
              "      border-right-color: var(--fill-color);\n",
              "    }\n",
              "    80% {\n",
              "      border-color: transparent;\n",
              "      border-right-color: var(--fill-color);\n",
              "      border-bottom-color: var(--fill-color);\n",
              "    }\n",
              "    90% {\n",
              "      border-color: transparent;\n",
              "      border-bottom-color: var(--fill-color);\n",
              "    }\n",
              "  }\n",
              "</style>\n",
              "\n",
              "  <script>\n",
              "    async function quickchart(key) {\n",
              "      const quickchartButtonEl =\n",
              "        document.querySelector('#' + key + ' button');\n",
              "      quickchartButtonEl.disabled = true;  // To prevent multiple clicks.\n",
              "      quickchartButtonEl.classList.add('colab-df-spinner');\n",
              "      try {\n",
              "        const charts = await google.colab.kernel.invokeFunction(\n",
              "            'suggestCharts', [key], {});\n",
              "      } catch (error) {\n",
              "        console.error('Error during call to suggestCharts:', error);\n",
              "      }\n",
              "      quickchartButtonEl.classList.remove('colab-df-spinner');\n",
              "      quickchartButtonEl.classList.add('colab-df-quickchart-complete');\n",
              "    }\n",
              "    (() => {\n",
              "      let quickchartButtonEl =\n",
              "        document.querySelector('#df-1cdd9d8f-ecca-4b53-8fef-59174b00c801 button');\n",
              "      quickchartButtonEl.style.display =\n",
              "        google.colab.kernel.accessAllowed ? 'block' : 'none';\n",
              "    })();\n",
              "  </script>\n",
              "</div>\n",
              "    </div>\n",
              "  </div>\n"
            ],
            "application/vnd.google.colaboratory.intrinsic+json": {
              "type": "dataframe",
              "variable_name": "df",
              "summary": "{\n  \"name\": \"df\",\n  \"rows\": 17798,\n  \"fields\": [\n    {\n      \"column\": \"MIP\",\n      \"properties\": {\n        \"dtype\": \"number\",\n        \"std\": 25.009355883853356,\n        \"min\": 10.015625,\n        \"max\": 175.328125,\n        \"num_unique_values\": 8552,\n        \"samples\": [\n          88.71875,\n          76.1171875,\n          96.0234375\n        ],\n        \"semantic_type\": \"\",\n        \"description\": \"\"\n      }\n    },\n    {\n      \"column\": \"STDIP\",\n      \"properties\": {\n        \"dtype\": \"number\",\n        \"std\": 6.805125153109976,\n        \"min\": 24.77204176,\n        \"max\": 98.77891067,\n        \"num_unique_values\": 17762,\n        \"samples\": [\n          40.57857624,\n          46.06149759,\n          43.02427591\n        ],\n        \"semantic_type\": \"\",\n        \"description\": \"\"\n      }\n    },\n    {\n      \"column\": \"EKIP\",\n      \"properties\": {\n        \"dtype\": \"number\",\n        \"std\": 1.0184657422670835,\n        \"min\": -1.669032278,\n        \"max\": 8.069522046,\n        \"num_unique_values\": 17797,\n        \"samples\": [\n          0.165755035,\n          0.185485687,\n          2.150269126\n        ],\n        \"semantic_type\": \"\",\n        \"description\": \"\"\n      }\n    },\n    {\n      \"column\": \"SIP\",\n      \"properties\": {\n        \"dtype\": \"number\",\n        \"std\": 5.799342474809557,\n        \"min\": -1.791885981,\n        \"max\": 68.10162173,\n        \"num_unique_values\": 17798,\n        \"samples\": [\n          0.291996345,\n          0.918234271,\n          -0.015090877\n        ],\n        \"semantic_type\": \"\",\n        \"description\": \"\"\n      }\n    },\n    {\n      \"column\": \"MC\",\n      \"properties\": {\n        \"dtype\": \"number\",\n        \"std\": 28.494960301120333,\n        \"min\": 0.213210702,\n        \"max\": 223.3921405,\n        \"num_unique_values\": 8914,\n        \"samples\": [\n          1.974916388,\n          11.81354515,\n          54.88043478\n        ],\n        \"semantic_type\": \"\",\n        \"description\": \"\"\n      }\n    },\n    {\n      \"column\": \"STDC\",\n      \"properties\": {\n        \"dtype\": \"number\",\n        \"std\": 19.315493751313547,\n        \"min\": 7.370432165,\n        \"max\": 110.6422106,\n        \"num_unique_values\": 17794,\n        \"samples\": [\n          14.1447669,\n          27.82747285,\n          13.51824375\n        ],\n        \"semantic_type\": \"\",\n        \"description\": \"\"\n      }\n    },\n    {\n      \"column\": \"EKC\",\n      \"properties\": {\n        \"dtype\": \"number\",\n        \"std\": 4.483781484413565,\n        \"min\": -3.139269611,\n        \"max\": 34.53984419,\n        \"num_unique_values\": 17795,\n        \"samples\": [\n          11.73491727,\n          5.670989762,\n          8.127778369\n        ],\n        \"semantic_type\": \"\",\n        \"description\": \"\"\n      }\n    },\n    {\n      \"column\": \"SC\",\n      \"properties\": {\n        \"dtype\": \"number\",\n        \"std\": 106.52728068065875,\n        \"min\": -1.976975603,\n        \"max\": 1191.000837,\n        \"num_unique_values\": 17795,\n        \"samples\": [\n          159.8168356,\n          33.88556012,\n          80.30558495\n        ],\n        \"semantic_type\": \"\",\n        \"description\": \"\"\n      }\n    },\n    {\n      \"column\": \"TG\",\n      \"properties\": {\n        \"dtype\": \"number\",\n        \"std\": 0,\n        \"min\": 0,\n        \"max\": 1,\n        \"num_unique_values\": 2,\n        \"samples\": [\n          1,\n          0\n        ],\n        \"semantic_type\": \"\",\n        \"description\": \"\"\n      }\n    }\n  ]\n}"
            }
          },
          "metadata": {},
          "execution_count": 5
        }
      ]
    },
    {
      "cell_type": "markdown",
      "source": [
        "Разделим набор данных на тренировочную и тестовую выборки с помощью `train_test_split()` в соотношении `80:20` c параметром `random_state = 21`. Используем стратификацию по колонке отклика."
      ],
      "metadata": {
        "id": "mMr6CMDi3JrJ"
      }
    },
    {
      "cell_type": "code",
      "source": [
        "X_train, X_test, y_train, y_test = train_test_split(df.drop(columns='TG'), df['TG'], test_size=0.2, random_state=21, stratify=df['TG'])\n",
        "\n",
        "print('Shapes', '    X', '       y')\n",
        "print('train', X_train.shape, y_train.shape)\n",
        "print('test ', X_test.shape, y_test.shape)"
      ],
      "metadata": {
        "colab": {
          "base_uri": "https://localhost:8080/"
        },
        "id": "ENud2SL93Qji",
        "outputId": "8ea3bc62-6611-4a0a-c553-7b7e14fd20c9"
      },
      "execution_count": 6,
      "outputs": [
        {
          "output_type": "stream",
          "name": "stdout",
          "text": [
            "Shapes     X        y\n",
            "train (14238, 8) (14238,)\n",
            "test  (3560, 8) (3560,)\n"
          ]
        }
      ]
    },
    {
      "cell_type": "markdown",
      "source": [
        "Определим выборочное среднее для столбца `MC` из тренировочной выборки"
      ],
      "metadata": {
        "id": "nhh0X6lJ3vP2"
      }
    },
    {
      "cell_type": "code",
      "source": [
        "round(X_train['MC'].mean(), 3)"
      ],
      "metadata": {
        "colab": {
          "base_uri": "https://localhost:8080/"
        },
        "id": "oENB06dp3x7W",
        "outputId": "805dcabf-7d96-4c18-f0e4-efff7a49a0dd"
      },
      "execution_count": 7,
      "outputs": [
        {
          "output_type": "execute_result",
          "data": {
            "text/plain": [
              "12.091"
            ]
          },
          "metadata": {},
          "execution_count": 7
        }
      ]
    },
    {
      "cell_type": "markdown",
      "source": [
        "Выполним преобразование линейной нормировки для тренировочного набора данных и примените его для тестовых данных"
      ],
      "metadata": {
        "id": "x0kSDul73-Fc"
      }
    },
    {
      "cell_type": "code",
      "source": [
        "scale = MinMaxScaler().fit(X_train)\n",
        "\n",
        "X_train = pd.DataFrame(scale.transform(X_train), columns=X_train.columns)\n",
        "X_test = pd.DataFrame(scale.transform(X_test), columns=X_test.columns)"
      ],
      "metadata": {
        "id": "YGu6RH0A4NwE"
      },
      "execution_count": 8,
      "outputs": []
    },
    {
      "cell_type": "markdown",
      "source": [
        "Определим выборочное среднее для столбца `SC` из тренировочной выборки (после нормировки)"
      ],
      "metadata": {
        "id": "0iP7PrgB5guC"
      }
    },
    {
      "cell_type": "code",
      "source": [
        "round(X_train['SC'].mean(), 3)"
      ],
      "metadata": {
        "colab": {
          "base_uri": "https://localhost:8080/"
        },
        "id": "xGt8VeUs5i5V",
        "outputId": "4ae05433-293a-443f-8edb-655f7f724582"
      },
      "execution_count": 9,
      "outputs": [
        {
          "output_type": "execute_result",
          "data": {
            "text/plain": [
              "0.09"
            ]
          },
          "metadata": {},
          "execution_count": 9
        }
      ]
    },
    {
      "cell_type": "markdown",
      "source": [
        "### Обучаем `LogisticRegression`"
      ],
      "metadata": {
        "id": "IWkjP8hb5uUJ"
      }
    },
    {
      "cell_type": "markdown",
      "source": [
        "Обучим модель `LogisticRegression(random_state = 21)` на тренировочных данных"
      ],
      "metadata": {
        "id": "GwwgZcQi5_xC"
      }
    },
    {
      "cell_type": "code",
      "source": [
        "lr = LogisticRegression(random_state = 21).fit(X_train, y_train)"
      ],
      "metadata": {
        "id": "Aa4bKXEf55Zt"
      },
      "execution_count": 10,
      "outputs": []
    },
    {
      "cell_type": "markdown",
      "source": [
        "Оценим модель на тестовых данных. Составим матрицу ошибок."
      ],
      "metadata": {
        "id": "o8mH8D7T6Tc1"
      }
    },
    {
      "cell_type": "code",
      "source": [
        "prediction = lr.predict(X_test)\n",
        "\n",
        "conf_matrix = confusion_matrix(y_test, prediction)\n",
        "print('tn, fp, fn, tp')\n",
        "print(conf_matrix.ravel())"
      ],
      "metadata": {
        "colab": {
          "base_uri": "https://localhost:8080/"
        },
        "id": "wpGCOJaZ6vzb",
        "outputId": "ecab8c6c-9ddd-4db2-a20d-3dc715b519ab"
      },
      "execution_count": 11,
      "outputs": [
        {
          "output_type": "stream",
          "name": "stdout",
          "text": [
            "tn, fp, fn, tp\n",
            "[3230   16   71  243]\n"
          ]
        }
      ]
    },
    {
      "cell_type": "markdown",
      "source": [
        "Вычислим `f1_score` для тестового набора данных"
      ],
      "metadata": {
        "id": "Q_wCPJxj8EVT"
      }
    },
    {
      "cell_type": "code",
      "source": [
        "round(f1_score(y_test, prediction), 3)"
      ],
      "metadata": {
        "colab": {
          "base_uri": "https://localhost:8080/"
        },
        "id": "ql5AeWEA8Ieu",
        "outputId": "5e8bd59c-bcbd-47a3-ed6b-bd34b6887c26"
      },
      "execution_count": 12,
      "outputs": [
        {
          "output_type": "execute_result",
          "data": {
            "text/plain": [
              "0.848"
            ]
          },
          "metadata": {},
          "execution_count": 12
        }
      ]
    },
    {
      "cell_type": "markdown",
      "source": [
        "### Обучаем `KNeighborsClassifier`"
      ],
      "metadata": {
        "id": "BXVIZU3w8aBR"
      }
    },
    {
      "cell_type": "markdown",
      "source": [
        "Обучаем модель `KNeighborsClassifier(n_neighbors=3)` на тренировочных данных"
      ],
      "metadata": {
        "id": "h_Qxxl6f8hKF"
      }
    },
    {
      "cell_type": "code",
      "source": [
        "knn = KNeighborsClassifier(n_neighbors=3).fit(X_train, y_train)"
      ],
      "metadata": {
        "id": "ZoqKPJ7Q8yy-"
      },
      "execution_count": 13,
      "outputs": []
    },
    {
      "cell_type": "markdown",
      "source": [
        "Оценим модель на тестовых данных. Составим матрицу ошибок."
      ],
      "metadata": {
        "id": "QvTcd-W59Aa_"
      }
    },
    {
      "cell_type": "code",
      "source": [
        "prediction = knn.predict(X_test)\n",
        "\n",
        "conf_matrix = confusion_matrix(y_test, prediction)\n",
        "print('tn, fp, fn, tp')\n",
        "print(conf_matrix.ravel())"
      ],
      "metadata": {
        "colab": {
          "base_uri": "https://localhost:8080/"
        },
        "id": "kG7BqyOX9Do3",
        "outputId": "7e9f6e84-e828-42d1-d747-c387997ac16a"
      },
      "execution_count": 14,
      "outputs": [
        {
          "output_type": "stream",
          "name": "stdout",
          "text": [
            "tn, fp, fn, tp\n",
            "[3222   24   48  266]\n"
          ]
        }
      ]
    },
    {
      "cell_type": "markdown",
      "source": [
        "Вычислим `f1_score` для тестового набора данных"
      ],
      "metadata": {
        "id": "bGpfmV7a9Lh-"
      }
    },
    {
      "cell_type": "code",
      "source": [
        "round(f1_score(y_test, prediction), 3)"
      ],
      "metadata": {
        "colab": {
          "base_uri": "https://localhost:8080/"
        },
        "id": "0jqJXJzA9Odp",
        "outputId": "f9e79393-bad3-4b44-e391-66cc518d8a4c"
      },
      "execution_count": 15,
      "outputs": [
        {
          "output_type": "execute_result",
          "data": {
            "text/plain": [
              "0.881"
            ]
          },
          "metadata": {},
          "execution_count": 15
        }
      ]
    }
  ]
}