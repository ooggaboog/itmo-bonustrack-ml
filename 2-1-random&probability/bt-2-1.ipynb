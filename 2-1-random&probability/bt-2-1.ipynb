{
  "nbformat": 4,
  "nbformat_minor": 0,
  "metadata": {
    "colab": {
      "provenance": []
    },
    "kernelspec": {
      "name": "python3",
      "display_name": "Python 3"
    },
    "language_info": {
      "name": "python"
    }
  },
  "cells": [
    {
      "cell_type": "markdown",
      "source": [
        "# Задача 1\n",
        "В корзине лежит 11 красных яблок и 8 зеленых. Петя наугад вытаскивает одно яблоко. Какова вероятность, что это яблоко — зеленое?"
      ],
      "metadata": {
        "id": "Ps1CsYG0ZMXk"
      }
    },
    {
      "cell_type": "code",
      "execution_count": 1,
      "metadata": {
        "colab": {
          "base_uri": "https://localhost:8080/"
        },
        "id": "ks4IMLrsY0VT",
        "outputId": "b593a3d6-38b9-4a85-ee3d-7a53550d93db"
      },
      "outputs": [
        {
          "output_type": "stream",
          "name": "stdout",
          "text": [
            "P: 0.421\n"
          ]
        }
      ],
      "source": [
        "red = 11\n",
        "green = 8\n",
        "\n",
        "n = red + green # общее кол-во яблок\n",
        "P_green = green / n # вероятность вытащить зеленое яблоко\n",
        "print(f'P: {round(P_green, 3)}')"
      ]
    },
    {
      "cell_type": "markdown",
      "source": [
        "# Задача 2\n",
        "Каждый день будильник Маши срабатывает с одной и той же вероятностью 0.74 и не срабатывает с вероятностью 0.26. Маша учится каждый день с понедельника по субботу включительно и не может встать без будильника. Какова вероятность, что она не опоздает в институт ровно 5 раз?"
      ],
      "metadata": {
        "id": "JKumQjpyZUmQ"
      }
    },
    {
      "cell_type": "code",
      "source": [
        "import math\n",
        "\n",
        "days = 6 # кол-во учебных дней\n",
        "work_days = 5 # кол-во дней, когда будильник сработал\n",
        "p_work = 0.74 # вероятность срабатывания будильника\n",
        "q_work = 1 - p_work # вероятность того, что будильник не сработает\n",
        "\n",
        "# вероятность того, что будильник сработает ровно 5 раз из 6\n",
        "P = math.comb(days, work_days) * p_work**work_days * q_work**(days - work_days)\n",
        "print(f'P: {round(P, 3)}')"
      ],
      "metadata": {
        "colab": {
          "base_uri": "https://localhost:8080/"
        },
        "id": "eRLIRo6AaHad",
        "outputId": "f68f59b1-6d57-4e91-ba4e-ebb1bb64be45"
      },
      "execution_count": 2,
      "outputs": [
        {
          "output_type": "stream",
          "name": "stdout",
          "text": [
            "P: 0.346\n"
          ]
        }
      ]
    },
    {
      "cell_type": "markdown",
      "source": [
        "# Задача 3\n",
        "Известно, что мороженое с шоколадной крошкой производят лишь три фирмы, причем первая фирма производит 30%, вторая — 24%, а третья 46%. Так как мороженое фасуется автоматически, то бывают ошибки, и вместо мороженого с шоколадной крошкой в пачке оказывается мороженое с орешками. В среднем, на 100 упаковок мороженого с заявленной шоколадной крошкой, у первой фирмы 8, у второй — 5, а у третьей — 3 ошибок."
      ],
      "metadata": {
        "id": "X6iv3o5QZU0G"
      }
    },
    {
      "cell_type": "markdown",
      "source": [
        "Какова вероятность съесть мороженое с орешками, если изначально было куплено мороженое с шоколадной крошкой?"
      ],
      "metadata": {
        "id": "1OHMLNbSa-Sg"
      }
    },
    {
      "cell_type": "code",
      "source": [
        "# вероятности покупки мороженого от каждой фирмы\n",
        "P_1 = 0.30\n",
        "P_2 = 0.24\n",
        "P_3 = 0.46\n",
        "\n",
        "# вероятности ошибки у каждой фирмы\n",
        "Pe_1 = 0.08\n",
        "Pe_2 = 0.05\n",
        "Pe_3 = 0.03\n",
        "\n",
        "# вероятность купить мороженое с орешками\n",
        "Pe = P_1 * Pe_1 + P_2 * Pe_2 + P_3 * Pe_3\n",
        "print(f'P: {round(Pe, 3)}')"
      ],
      "metadata": {
        "colab": {
          "base_uri": "https://localhost:8080/"
        },
        "id": "Y6_eltntbHj-",
        "outputId": "1df5b0c8-3076-4c53-9f0f-b6600a787796"
      },
      "execution_count": 3,
      "outputs": [
        {
          "output_type": "stream",
          "name": "stdout",
          "text": [
            "P: 0.05\n"
          ]
        }
      ]
    },
    {
      "cell_type": "markdown",
      "source": [
        "Известно, что купленное мороженое — мороженое с орешками, вместо мороженого с шоколадной крошкой. Какова вероятность, что его произвела фирма 1?"
      ],
      "metadata": {
        "id": "83ywPh-jdFsT"
      }
    },
    {
      "cell_type": "code",
      "source": [
        "# вероятность, что мороженое с орешками произвела фирма 1\n",
        "Pe_1_ = (Pe_1 * P_1) / Pe\n",
        "print(f'P: {round(Pe_1_, 3)}')"
      ],
      "metadata": {
        "colab": {
          "base_uri": "https://localhost:8080/"
        },
        "id": "jC0mo-m7dNQ6",
        "outputId": "a42a35bd-a721-4205-9591-df512f9b5d3c"
      },
      "execution_count": 4,
      "outputs": [
        {
          "output_type": "stream",
          "name": "stdout",
          "text": [
            "P: 0.482\n"
          ]
        }
      ]
    },
    {
      "cell_type": "markdown",
      "source": [
        "# Задача 4\n",
        "Случайная величина ε выдает количество покупок в магазине. Ее распределение отражено в следующей таблице:\n",
        "\n",
        "|ε|2|7|8|\n",
        "|-|-|-|-|\n",
        "|P|10/31|9/31|x/31|\n"
      ],
      "metadata": {
        "id": "5lC91Hz0ZU8k"
      }
    },
    {
      "cell_type": "markdown",
      "source": [
        "Найдите значение x:"
      ],
      "metadata": {
        "id": "_SbY53hVeYBh"
      }
    },
    {
      "cell_type": "code",
      "source": [
        "x = (1 - 10 / 31 - 9 / 31) * 31\n",
        "print(f'x: {round(x)}')"
      ],
      "metadata": {
        "colab": {
          "base_uri": "https://localhost:8080/"
        },
        "id": "mtEdMwimeW5U",
        "outputId": "d328195e-06c6-4942-f545-4fcc87cbab94"
      },
      "execution_count": 5,
      "outputs": [
        {
          "output_type": "stream",
          "name": "stdout",
          "text": [
            "x: 12\n"
          ]
        }
      ]
    },
    {
      "cell_type": "markdown",
      "source": [
        "Найдите вероятность того, что будет совершено менее 8 покупок, т.е. P(ε < 8):"
      ],
      "metadata": {
        "id": "wxKn4u4yfjKy"
      }
    },
    {
      "cell_type": "code",
      "source": [
        "P = 10 / 31 + 9 / 31\n",
        "print(f'P: {round(P, 3)}')"
      ],
      "metadata": {
        "colab": {
          "base_uri": "https://localhost:8080/"
        },
        "id": "iHCCohP6ft92",
        "outputId": "78074642-1be1-4587-9967-198d634ab7dc"
      },
      "execution_count": 6,
      "outputs": [
        {
          "output_type": "stream",
          "name": "stdout",
          "text": [
            "P: 0.613\n"
          ]
        }
      ]
    }
  ]
}