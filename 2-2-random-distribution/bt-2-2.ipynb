{
  "nbformat": 4,
  "nbformat_minor": 0,
  "metadata": {
    "colab": {
      "provenance": []
    },
    "kernelspec": {
      "name": "python3",
      "display_name": "Python 3"
    },
    "language_info": {
      "name": "python"
    }
  },
  "cells": [
    {
      "cell_type": "code",
      "source": [
        "import numpy as np\n",
        "from math import comb, sqrt"
      ],
      "metadata": {
        "id": "6K2e5J9cubOE"
      },
      "execution_count": 1,
      "outputs": []
    },
    {
      "cell_type": "markdown",
      "source": [
        "# Задача 1"
      ],
      "metadata": {
        "id": "ZCsLUFb5-CXy"
      }
    },
    {
      "cell_type": "markdown",
      "source": [
        "10 алхимиков независимо друг от друга пытаются получить эликсир бессмертия. Они нашли все необходимые ингредиенты, и теперь осталось только прочитать заклинание, состоящее из необходимого числа слов. Однако вот какая проблема: на прочтение правильного заклинания у каждого алхимика есть всего одна попытка, иначе зелье взорвется. Количество слов, которое читает каждый алхимик, соответствует данной выборке:\n",
        "\n",
        "(1, 4, 1, 4, 3, 1, 4, 1, 3, 1),\n",
        "\n",
        "а нужное количество слов — любое целое из диапазона X̅ ± 𝜎."
      ],
      "metadata": {
        "id": "MrzrxmJ1t940"
      }
    },
    {
      "cell_type": "markdown",
      "source": [
        "Постройте эмпирическое распределение случайной величины 𝜉*, показывающей количество прочитанных слов:"
      ],
      "metadata": {
        "id": "xjA5tBpm_T8Y"
      }
    },
    {
      "cell_type": "code",
      "execution_count": 2,
      "metadata": {
        "colab": {
          "base_uri": "https://localhost:8080/"
        },
        "id": "wXGt72ldqzaU",
        "outputId": "2e892767-a832-48b3-b9df-a368ef71170f"
      },
      "outputs": [
        {
          "output_type": "stream",
          "name": "stdout",
          "text": [
            "P(1): 0.5\n",
            "P(3): 0.2\n",
            "P(4): 0.3\n"
          ]
        }
      ],
      "source": [
        "words = [1, 4, 1, 4, 3, 1, 4, 1, 3, 1]\n",
        "\n",
        "set_words = list(set(words))\n",
        "P = [words.count(word) / len(words) for word in set_words]\n",
        "\n",
        "for i in range(len(P)):\n",
        "  print(f'P({set_words[i]}): {P[i]}')"
      ]
    },
    {
      "cell_type": "code",
      "source": [
        "set_words, P = np.array(set_words), np.array(P)\n",
        "E = (set_words * P).sum()\n",
        "print(f'E: {E}')"
      ],
      "metadata": {
        "colab": {
          "base_uri": "https://localhost:8080/"
        },
        "id": "Dr3u2qVbt9AY",
        "outputId": "4192441d-aae6-4b06-bfef-13e04ae808c9"
      },
      "execution_count": 3,
      "outputs": [
        {
          "output_type": "stream",
          "name": "stdout",
          "text": [
            "E: 2.3\n"
          ]
        }
      ]
    },
    {
      "cell_type": "code",
      "source": [
        "E_2 = (set_words**2 * P).sum()\n",
        "D = round(E_2 - E**2, 2)\n",
        "sigma = round(np.sqrt(D), 2)\n",
        "print(f'D: {D}, sigma: {sigma}')"
      ],
      "metadata": {
        "colab": {
          "base_uri": "https://localhost:8080/"
        },
        "id": "t7MnO9-yvYub",
        "outputId": "a6e1ccb2-763d-4409-c2ad-c3f6c495c206"
      },
      "execution_count": 4,
      "outputs": [
        {
          "output_type": "stream",
          "name": "stdout",
          "text": [
            "D: 1.81, sigma: 1.35\n"
          ]
        }
      ]
    },
    {
      "cell_type": "code",
      "source": [
        "X_mean = np.mean(words)\n",
        "X_need = int(X_mean + sigma)\n",
        "print(f'Нужное кол-во слов: {X_need}')"
      ],
      "metadata": {
        "colab": {
          "base_uri": "https://localhost:8080/"
        },
        "id": "lzPmvAy1wI_U",
        "outputId": "2b7ebc13-390e-4c17-857e-940f34285232"
      },
      "execution_count": 5,
      "outputs": [
        {
          "output_type": "stream",
          "name": "stdout",
          "text": [
            "Нужное кол-во слов: 3\n"
          ]
        }
      ]
    },
    {
      "cell_type": "markdown",
      "source": [
        "# Задача 2"
      ],
      "metadata": {
        "id": "2FRbDgXm_peX"
      }
    },
    {
      "cell_type": "markdown",
      "source": [
        "Одна известная компания из Силиконовой долины решила устроить хакатон, состоящий из 6 заданий. Случайная величина, описывающая количество успешно выполненных заданий, подчинена биномиальному закону распределения Bin(6, 0.63)."
      ],
      "metadata": {
        "id": "4yO4shhS_tg_"
      }
    },
    {
      "cell_type": "markdown",
      "source": [
        "Найти вероятность, что случайный участник успешно выполнит больше 2 и не больше 4 заданий, то есть вероятность события P(2 < 𝜉 <= 4):"
      ],
      "metadata": {
        "id": "Hv1Zlo2s_x-J"
      }
    },
    {
      "cell_type": "code",
      "source": [
        "n, p = 6, 0.63,\n",
        "q = 1 - p\n",
        "\n",
        "P = [comb(n, i) * p**i * q**(n - i) for i in range(n + 1)]\n",
        "P2_4 = round(sum(P[3:5]), 3)\n",
        "print(f'P(2 < 𝜉 <= 4): {P2_4}')"
      ],
      "metadata": {
        "colab": {
          "base_uri": "https://localhost:8080/"
        },
        "id": "jOHFJ2iU_9bM",
        "outputId": "9001b560-98bc-45a3-8eb1-247736ccb760"
      },
      "execution_count": 6,
      "outputs": [
        {
          "output_type": "stream",
          "name": "stdout",
          "text": [
            "P(2 < 𝜉 <= 4): 0.577\n"
          ]
        }
      ]
    },
    {
      "cell_type": "markdown",
      "source": [
        "# Задача 3"
      ],
      "metadata": {
        "id": "pl9WpfNmB1Kk"
      }
    },
    {
      "cell_type": "markdown",
      "source": [
        "Состоялся турнир по прыжкам в длину. Случайные величины 𝜉 (рост участника) и 𝜂 (длина прыжка) заданы следующей таблицей совместного распределения:\n",
        "\n",
        "|𝜂\\𝜉|156|162|188|192|\n",
        "|-|----|----|----|----|\n",
        "|3|0.03|0.07|0.33|0.22|\n",
        "|4|0.11|0.03|0.04|0.17|"
      ],
      "metadata": {
        "id": "0L_q4rVxB4ll"
      }
    },
    {
      "cell_type": "markdown",
      "source": [
        "Найдите распределение случайной величины 𝜉:"
      ],
      "metadata": {
        "id": "55JXAvaODKjG"
      }
    },
    {
      "cell_type": "code",
      "source": [
        "n_eps = np.array([[0, 156, 162, 188, 192],\n",
        "                  [3, 0.03, 0.07, 0.33, 0.22],\n",
        "                  [4, 0.11, 0.03, 0.04, 0.17]])\n",
        "\n",
        "eps = n_eps[0, 1:]\n",
        "P_eps = np.round([sum(n_eps[1:, i]) for i in range(1, 5)], 2)\n",
        "for i in range(len(eps)):\n",
        "  print(f'P(𝜉 = {int(eps[i])}): {P_eps[i]}')"
      ],
      "metadata": {
        "colab": {
          "base_uri": "https://localhost:8080/"
        },
        "id": "tm7RldqbDKFs",
        "outputId": "ff8fd2c3-abfc-41eb-c315-223f80a2f72e"
      },
      "execution_count": 7,
      "outputs": [
        {
          "output_type": "stream",
          "name": "stdout",
          "text": [
            "P(𝜉 = 156): 0.14\n",
            "P(𝜉 = 162): 0.1\n",
            "P(𝜉 = 188): 0.37\n",
            "P(𝜉 = 192): 0.39\n"
          ]
        }
      ]
    },
    {
      "cell_type": "markdown",
      "source": [
        "Найти математическое ожидание случайной величины 𝜉:"
      ],
      "metadata": {
        "id": "T9po1_SyFTNW"
      }
    },
    {
      "cell_type": "code",
      "source": [
        "E_eps = round((eps * P_eps).sum(), 3)\n",
        "print(f'E: {E_eps}')"
      ],
      "metadata": {
        "colab": {
          "base_uri": "https://localhost:8080/"
        },
        "id": "egIUYGd5FZN-",
        "outputId": "3e1e2ec2-f3c7-46ba-ea56-b14f81f8ddbd"
      },
      "execution_count": 8,
      "outputs": [
        {
          "output_type": "stream",
          "name": "stdout",
          "text": [
            "E: 182.48\n"
          ]
        }
      ]
    },
    {
      "cell_type": "markdown",
      "source": [
        "Найти дисперсию случайной величины 𝜉:"
      ],
      "metadata": {
        "id": "4_e6uJqHFxzc"
      }
    },
    {
      "cell_type": "code",
      "source": [
        "E_eps_2 = round((eps**2 * P_eps).sum(), 3)\n",
        "D_eps = round(E_eps_2 - E_eps**2, 4)\n",
        "print(f'D: {D_eps}')"
      ],
      "metadata": {
        "colab": {
          "base_uri": "https://localhost:8080/"
        },
        "id": "bGf4p4iYF1wj",
        "outputId": "cb04e527-29cc-41c0-9edf-2df9d972fdf1"
      },
      "execution_count": 9,
      "outputs": [
        {
          "output_type": "stream",
          "name": "stdout",
          "text": [
            "D: 186.7296\n"
          ]
        }
      ]
    },
    {
      "cell_type": "markdown",
      "source": [
        "Найти распределение случайной величины 𝜂:"
      ],
      "metadata": {
        "id": "1Abzq-EYGMJP"
      }
    },
    {
      "cell_type": "code",
      "source": [
        "n = n_eps[1:, 0]\n",
        "P_n = np.round([sum(n_eps[i, 1:]) for i in range(1, 3)], 2)\n",
        "for i in range(len(n)):\n",
        "  print(f'P(𝜉 = {int(n[i])}): {P_n[i]}')"
      ],
      "metadata": {
        "colab": {
          "base_uri": "https://localhost:8080/"
        },
        "id": "_0a4j53VGTsy",
        "outputId": "f1a24016-1bc2-41d5-f88a-bc6b8dd21467"
      },
      "execution_count": 10,
      "outputs": [
        {
          "output_type": "stream",
          "name": "stdout",
          "text": [
            "P(𝜉 = 3): 0.65\n",
            "P(𝜉 = 4): 0.35\n"
          ]
        }
      ]
    },
    {
      "cell_type": "markdown",
      "source": [
        "Найти математическое ожидание случайной величины 𝜂:"
      ],
      "metadata": {
        "id": "XtRaMG6sHEXP"
      }
    },
    {
      "cell_type": "code",
      "source": [
        "E_n = round((n * P_n).sum(), 3)\n",
        "print(f'E: {E_n}')"
      ],
      "metadata": {
        "colab": {
          "base_uri": "https://localhost:8080/"
        },
        "id": "SRpDN8NnHJQg",
        "outputId": "91221ef5-11d5-45f6-f61a-d6f7ab67c063"
      },
      "execution_count": 11,
      "outputs": [
        {
          "output_type": "stream",
          "name": "stdout",
          "text": [
            "E: 3.35\n"
          ]
        }
      ]
    },
    {
      "cell_type": "markdown",
      "source": [
        "Найти дисперсию случайной величины 𝜂:"
      ],
      "metadata": {
        "id": "rWhpT7yEHO4Y"
      }
    },
    {
      "cell_type": "code",
      "source": [
        "E_n_2 = round((n**2 * P_n).sum(), 3)\n",
        "D_n = round(E_n_2 - E_n**2, 4)\n",
        "print(f'D: {D_n}')"
      ],
      "metadata": {
        "colab": {
          "base_uri": "https://localhost:8080/"
        },
        "id": "4TaXxhFWHTJC",
        "outputId": "ce5de8f0-8ea5-406b-d491-587a1641e05e"
      },
      "execution_count": 12,
      "outputs": [
        {
          "output_type": "stream",
          "name": "stdout",
          "text": [
            "D: 0.2275\n"
          ]
        }
      ]
    },
    {
      "cell_type": "markdown",
      "source": [
        "Определить ковариацию cov(𝜉, 𝜂):"
      ],
      "metadata": {
        "id": "_GBCeotlHbfF"
      }
    },
    {
      "cell_type": "code",
      "source": [
        "eps_n = np.array([])\n",
        "P = np.array([])\n",
        "for eta in range(len(n)):\n",
        "  for epsilon in range(len(eps)):\n",
        "    eps_n = np.append(eps_n, n[eta] * eps[epsilon])\n",
        "    P = np.append(P, n_eps[eta + 1, epsilon + 1])\n",
        "\n",
        "E_eps_n = round((eps_n * P).sum(), 3)\n",
        "cov = round(E_eps_n - E_eps * E_n, 3)\n",
        "print(f'cov(𝜉, 𝜂): {cov}')"
      ],
      "metadata": {
        "colab": {
          "base_uri": "https://localhost:8080/"
        },
        "id": "2wXpYWXPHo7X",
        "outputId": "f1a2171f-cab1-4d19-f09f-6599e9e7ea13"
      },
      "execution_count": 13,
      "outputs": [
        {
          "output_type": "stream",
          "name": "stdout",
          "text": [
            "cov(𝜉, 𝜂): -1.688\n"
          ]
        }
      ]
    },
    {
      "cell_type": "markdown",
      "source": [
        "Определить коэффициент корреляции 𝜌(𝜉, 𝜂):"
      ],
      "metadata": {
        "id": "Zl7Nx87KKsTA"
      }
    },
    {
      "cell_type": "code",
      "source": [
        "sigma_eps = round(sqrt(D_eps), 3)\n",
        "sigma_n = round(sqrt(D_n), 3)\n",
        "\n",
        "corr = round(cov / (sigma_eps * sigma_n), 3)\n",
        "print(f'𝜌(𝜉, 𝜂): {corr}')"
      ],
      "metadata": {
        "colab": {
          "base_uri": "https://localhost:8080/"
        },
        "id": "MiFMUF-KKyZ2",
        "outputId": "b3eb6916-4b37-4a30-9376-22bc4ce5a391"
      },
      "execution_count": 14,
      "outputs": [
        {
          "output_type": "stream",
          "name": "stdout",
          "text": [
            "𝜌(𝜉, 𝜂): -0.259\n"
          ]
        }
      ]
    }
  ]
}