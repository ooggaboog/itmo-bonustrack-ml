{
  "nbformat": 4,
  "nbformat_minor": 0,
  "metadata": {
    "colab": {
      "provenance": []
    },
    "kernelspec": {
      "name": "python3",
      "display_name": "Python 3"
    },
    "language_info": {
      "name": "python"
    }
  },
  "cells": [
    {
      "cell_type": "markdown",
      "source": [
        "## **Промежуточная аттестация 1.1**"
      ],
      "metadata": {
        "id": "lGp3hx4eVtdd"
      }
    },
    {
      "cell_type": "markdown",
      "source": [
        "### Считываем данные"
      ],
      "metadata": {
        "id": "JJqugclNV3K0"
      }
    },
    {
      "cell_type": "code",
      "execution_count": 1,
      "metadata": {
        "id": "h1XubAOGr-2-"
      },
      "outputs": [],
      "source": [
        "import pandas as pd\n",
        "import numpy as np"
      ]
    },
    {
      "cell_type": "markdown",
      "source": [
        "Данные об аккумуляторных газонокосилках:\n",
        "* Название газонокосилки — `NAME`\n",
        "* Ширина скашиваемой полосы — `WIDTH`\n",
        "* Стоимость — `PRICE`\n",
        "* Мощность — `POWER`\n",
        "* Объем травосборника — `GRASS`\n",
        "* Площадь скашиваемой поверхности на одном заряде аккумулятора — `AREA`\n",
        "* Описание газонокосилки — `DESCRIPTION`"
      ],
      "metadata": {
        "id": "mEnQsVBhgyNk"
      }
    },
    {
      "cell_type": "code",
      "source": [
        "df = pd.read_csv('https://dc-edu.itmo.ru/assets/courseware/v1/4f5098b62b9c0e98d07d0f85da65a185/asset-v1:ITMO+bonus_track_methods+2023+type@asset+block/lawnmower_var_343286.csv')\n",
        "df"
      ],
      "metadata": {
        "colab": {
          "base_uri": "https://localhost:8080/",
          "height": 424
        },
        "id": "39dfAt8QsOAJ",
        "outputId": "6dc8ab5a-3295-4df7-afda-e02947bb83be"
      },
      "execution_count": 2,
      "outputs": [
        {
          "output_type": "execute_result",
          "data": {
            "text/plain": [
              "              NAME  WIDTH    PRICE  POWER  GRASS   AREA  \\\n",
              "0      Bear YEX635   39.0  45000.0   1.25   60.0  350.0   \n",
              "1      Wolf ISB956   42.0  27000.0   1.00   35.0  350.0   \n",
              "2      Boch LAQ128   37.0  13000.0   1.35   55.0  450.0   \n",
              "3      Bear XAK811    NaN  24000.0   1.70   65.0  350.0   \n",
              "4      Worx KCF632   42.0  10000.0   1.60   40.0  450.0   \n",
              "..             ...    ...      ...    ...    ...    ...   \n",
              "195  Cooper ZNA551   42.0  24000.0   1.85   65.0  450.0   \n",
              "196  Nakita OSD693   43.0  32000.0   0.85   30.0    NaN   \n",
              "197    Worx VGN432   42.0  12000.0   1.65   30.0  400.0   \n",
              "198    Wolf VJE655   44.0  32000.0   1.30   75.0  500.0   \n",
              "199  Gardez RQB972   44.0  15000.0   1.95   50.0  600.0   \n",
              "\n",
              "                                           DESCRIPTION  \n",
              "0    Средняя ширина скашиваемой полосы на данной га...  \n",
              "1    Широкая полоса скашивания на данной газонокоси...  \n",
              "2    Средняя ширина скашиваемой полосы на данной га...  \n",
              "3    Газонокосилка с узкой шириной скашиваемой поло...  \n",
              "4    Широкая полоса скашивания на данной газонокоси...  \n",
              "..                                                 ...  \n",
              "195  Широкая полоса скашивания на данной газонокоси...  \n",
              "196  Широкая полоса скашивания на данной газонокоси...  \n",
              "197  Широкая полоса скашивания на данной газонокоси...  \n",
              "198  Широкая полоса скашивания на данной газонокоси...  \n",
              "199  Широкая полоса скашивания на данной газонокоси...  \n",
              "\n",
              "[200 rows x 7 columns]"
            ],
            "text/html": [
              "\n",
              "  <div id=\"df-ab1f9b5c-27f0-4915-99ec-adfd76c01859\" class=\"colab-df-container\">\n",
              "    <div>\n",
              "<style scoped>\n",
              "    .dataframe tbody tr th:only-of-type {\n",
              "        vertical-align: middle;\n",
              "    }\n",
              "\n",
              "    .dataframe tbody tr th {\n",
              "        vertical-align: top;\n",
              "    }\n",
              "\n",
              "    .dataframe thead th {\n",
              "        text-align: right;\n",
              "    }\n",
              "</style>\n",
              "<table border=\"1\" class=\"dataframe\">\n",
              "  <thead>\n",
              "    <tr style=\"text-align: right;\">\n",
              "      <th></th>\n",
              "      <th>NAME</th>\n",
              "      <th>WIDTH</th>\n",
              "      <th>PRICE</th>\n",
              "      <th>POWER</th>\n",
              "      <th>GRASS</th>\n",
              "      <th>AREA</th>\n",
              "      <th>DESCRIPTION</th>\n",
              "    </tr>\n",
              "  </thead>\n",
              "  <tbody>\n",
              "    <tr>\n",
              "      <th>0</th>\n",
              "      <td>Bear YEX635</td>\n",
              "      <td>39.0</td>\n",
              "      <td>45000.0</td>\n",
              "      <td>1.25</td>\n",
              "      <td>60.0</td>\n",
              "      <td>350.0</td>\n",
              "      <td>Средняя ширина скашиваемой полосы на данной га...</td>\n",
              "    </tr>\n",
              "    <tr>\n",
              "      <th>1</th>\n",
              "      <td>Wolf ISB956</td>\n",
              "      <td>42.0</td>\n",
              "      <td>27000.0</td>\n",
              "      <td>1.00</td>\n",
              "      <td>35.0</td>\n",
              "      <td>350.0</td>\n",
              "      <td>Широкая полоса скашивания на данной газонокоси...</td>\n",
              "    </tr>\n",
              "    <tr>\n",
              "      <th>2</th>\n",
              "      <td>Boch LAQ128</td>\n",
              "      <td>37.0</td>\n",
              "      <td>13000.0</td>\n",
              "      <td>1.35</td>\n",
              "      <td>55.0</td>\n",
              "      <td>450.0</td>\n",
              "      <td>Средняя ширина скашиваемой полосы на данной га...</td>\n",
              "    </tr>\n",
              "    <tr>\n",
              "      <th>3</th>\n",
              "      <td>Bear XAK811</td>\n",
              "      <td>NaN</td>\n",
              "      <td>24000.0</td>\n",
              "      <td>1.70</td>\n",
              "      <td>65.0</td>\n",
              "      <td>350.0</td>\n",
              "      <td>Газонокосилка с узкой шириной скашиваемой поло...</td>\n",
              "    </tr>\n",
              "    <tr>\n",
              "      <th>4</th>\n",
              "      <td>Worx KCF632</td>\n",
              "      <td>42.0</td>\n",
              "      <td>10000.0</td>\n",
              "      <td>1.60</td>\n",
              "      <td>40.0</td>\n",
              "      <td>450.0</td>\n",
              "      <td>Широкая полоса скашивания на данной газонокоси...</td>\n",
              "    </tr>\n",
              "    <tr>\n",
              "      <th>...</th>\n",
              "      <td>...</td>\n",
              "      <td>...</td>\n",
              "      <td>...</td>\n",
              "      <td>...</td>\n",
              "      <td>...</td>\n",
              "      <td>...</td>\n",
              "      <td>...</td>\n",
              "    </tr>\n",
              "    <tr>\n",
              "      <th>195</th>\n",
              "      <td>Cooper ZNA551</td>\n",
              "      <td>42.0</td>\n",
              "      <td>24000.0</td>\n",
              "      <td>1.85</td>\n",
              "      <td>65.0</td>\n",
              "      <td>450.0</td>\n",
              "      <td>Широкая полоса скашивания на данной газонокоси...</td>\n",
              "    </tr>\n",
              "    <tr>\n",
              "      <th>196</th>\n",
              "      <td>Nakita OSD693</td>\n",
              "      <td>43.0</td>\n",
              "      <td>32000.0</td>\n",
              "      <td>0.85</td>\n",
              "      <td>30.0</td>\n",
              "      <td>NaN</td>\n",
              "      <td>Широкая полоса скашивания на данной газонокоси...</td>\n",
              "    </tr>\n",
              "    <tr>\n",
              "      <th>197</th>\n",
              "      <td>Worx VGN432</td>\n",
              "      <td>42.0</td>\n",
              "      <td>12000.0</td>\n",
              "      <td>1.65</td>\n",
              "      <td>30.0</td>\n",
              "      <td>400.0</td>\n",
              "      <td>Широкая полоса скашивания на данной газонокоси...</td>\n",
              "    </tr>\n",
              "    <tr>\n",
              "      <th>198</th>\n",
              "      <td>Wolf VJE655</td>\n",
              "      <td>44.0</td>\n",
              "      <td>32000.0</td>\n",
              "      <td>1.30</td>\n",
              "      <td>75.0</td>\n",
              "      <td>500.0</td>\n",
              "      <td>Широкая полоса скашивания на данной газонокоси...</td>\n",
              "    </tr>\n",
              "    <tr>\n",
              "      <th>199</th>\n",
              "      <td>Gardez RQB972</td>\n",
              "      <td>44.0</td>\n",
              "      <td>15000.0</td>\n",
              "      <td>1.95</td>\n",
              "      <td>50.0</td>\n",
              "      <td>600.0</td>\n",
              "      <td>Широкая полоса скашивания на данной газонокоси...</td>\n",
              "    </tr>\n",
              "  </tbody>\n",
              "</table>\n",
              "<p>200 rows × 7 columns</p>\n",
              "</div>\n",
              "    <div class=\"colab-df-buttons\">\n",
              "\n",
              "  <div class=\"colab-df-container\">\n",
              "    <button class=\"colab-df-convert\" onclick=\"convertToInteractive('df-ab1f9b5c-27f0-4915-99ec-adfd76c01859')\"\n",
              "            title=\"Convert this dataframe to an interactive table.\"\n",
              "            style=\"display:none;\">\n",
              "\n",
              "  <svg xmlns=\"http://www.w3.org/2000/svg\" height=\"24px\" viewBox=\"0 -960 960 960\">\n",
              "    <path d=\"M120-120v-720h720v720H120Zm60-500h600v-160H180v160Zm220 220h160v-160H400v160Zm0 220h160v-160H400v160ZM180-400h160v-160H180v160Zm440 0h160v-160H620v160ZM180-180h160v-160H180v160Zm440 0h160v-160H620v160Z\"/>\n",
              "  </svg>\n",
              "    </button>\n",
              "\n",
              "  <style>\n",
              "    .colab-df-container {\n",
              "      display:flex;\n",
              "      gap: 12px;\n",
              "    }\n",
              "\n",
              "    .colab-df-convert {\n",
              "      background-color: #E8F0FE;\n",
              "      border: none;\n",
              "      border-radius: 50%;\n",
              "      cursor: pointer;\n",
              "      display: none;\n",
              "      fill: #1967D2;\n",
              "      height: 32px;\n",
              "      padding: 0 0 0 0;\n",
              "      width: 32px;\n",
              "    }\n",
              "\n",
              "    .colab-df-convert:hover {\n",
              "      background-color: #E2EBFA;\n",
              "      box-shadow: 0px 1px 2px rgba(60, 64, 67, 0.3), 0px 1px 3px 1px rgba(60, 64, 67, 0.15);\n",
              "      fill: #174EA6;\n",
              "    }\n",
              "\n",
              "    .colab-df-buttons div {\n",
              "      margin-bottom: 4px;\n",
              "    }\n",
              "\n",
              "    [theme=dark] .colab-df-convert {\n",
              "      background-color: #3B4455;\n",
              "      fill: #D2E3FC;\n",
              "    }\n",
              "\n",
              "    [theme=dark] .colab-df-convert:hover {\n",
              "      background-color: #434B5C;\n",
              "      box-shadow: 0px 1px 3px 1px rgba(0, 0, 0, 0.15);\n",
              "      filter: drop-shadow(0px 1px 2px rgba(0, 0, 0, 0.3));\n",
              "      fill: #FFFFFF;\n",
              "    }\n",
              "  </style>\n",
              "\n",
              "    <script>\n",
              "      const buttonEl =\n",
              "        document.querySelector('#df-ab1f9b5c-27f0-4915-99ec-adfd76c01859 button.colab-df-convert');\n",
              "      buttonEl.style.display =\n",
              "        google.colab.kernel.accessAllowed ? 'block' : 'none';\n",
              "\n",
              "      async function convertToInteractive(key) {\n",
              "        const element = document.querySelector('#df-ab1f9b5c-27f0-4915-99ec-adfd76c01859');\n",
              "        const dataTable =\n",
              "          await google.colab.kernel.invokeFunction('convertToInteractive',\n",
              "                                                    [key], {});\n",
              "        if (!dataTable) return;\n",
              "\n",
              "        const docLinkHtml = 'Like what you see? Visit the ' +\n",
              "          '<a target=\"_blank\" href=https://colab.research.google.com/notebooks/data_table.ipynb>data table notebook</a>'\n",
              "          + ' to learn more about interactive tables.';\n",
              "        element.innerHTML = '';\n",
              "        dataTable['output_type'] = 'display_data';\n",
              "        await google.colab.output.renderOutput(dataTable, element);\n",
              "        const docLink = document.createElement('div');\n",
              "        docLink.innerHTML = docLinkHtml;\n",
              "        element.appendChild(docLink);\n",
              "      }\n",
              "    </script>\n",
              "  </div>\n",
              "\n",
              "\n",
              "<div id=\"df-d0c6d765-036a-4f72-b9b1-706350b52e8c\">\n",
              "  <button class=\"colab-df-quickchart\" onclick=\"quickchart('df-d0c6d765-036a-4f72-b9b1-706350b52e8c')\"\n",
              "            title=\"Suggest charts\"\n",
              "            style=\"display:none;\">\n",
              "\n",
              "<svg xmlns=\"http://www.w3.org/2000/svg\" height=\"24px\"viewBox=\"0 0 24 24\"\n",
              "     width=\"24px\">\n",
              "    <g>\n",
              "        <path d=\"M19 3H5c-1.1 0-2 .9-2 2v14c0 1.1.9 2 2 2h14c1.1 0 2-.9 2-2V5c0-1.1-.9-2-2-2zM9 17H7v-7h2v7zm4 0h-2V7h2v10zm4 0h-2v-4h2v4z\"/>\n",
              "    </g>\n",
              "</svg>\n",
              "  </button>\n",
              "\n",
              "<style>\n",
              "  .colab-df-quickchart {\n",
              "      --bg-color: #E8F0FE;\n",
              "      --fill-color: #1967D2;\n",
              "      --hover-bg-color: #E2EBFA;\n",
              "      --hover-fill-color: #174EA6;\n",
              "      --disabled-fill-color: #AAA;\n",
              "      --disabled-bg-color: #DDD;\n",
              "  }\n",
              "\n",
              "  [theme=dark] .colab-df-quickchart {\n",
              "      --bg-color: #3B4455;\n",
              "      --fill-color: #D2E3FC;\n",
              "      --hover-bg-color: #434B5C;\n",
              "      --hover-fill-color: #FFFFFF;\n",
              "      --disabled-bg-color: #3B4455;\n",
              "      --disabled-fill-color: #666;\n",
              "  }\n",
              "\n",
              "  .colab-df-quickchart {\n",
              "    background-color: var(--bg-color);\n",
              "    border: none;\n",
              "    border-radius: 50%;\n",
              "    cursor: pointer;\n",
              "    display: none;\n",
              "    fill: var(--fill-color);\n",
              "    height: 32px;\n",
              "    padding: 0;\n",
              "    width: 32px;\n",
              "  }\n",
              "\n",
              "  .colab-df-quickchart:hover {\n",
              "    background-color: var(--hover-bg-color);\n",
              "    box-shadow: 0 1px 2px rgba(60, 64, 67, 0.3), 0 1px 3px 1px rgba(60, 64, 67, 0.15);\n",
              "    fill: var(--button-hover-fill-color);\n",
              "  }\n",
              "\n",
              "  .colab-df-quickchart-complete:disabled,\n",
              "  .colab-df-quickchart-complete:disabled:hover {\n",
              "    background-color: var(--disabled-bg-color);\n",
              "    fill: var(--disabled-fill-color);\n",
              "    box-shadow: none;\n",
              "  }\n",
              "\n",
              "  .colab-df-spinner {\n",
              "    border: 2px solid var(--fill-color);\n",
              "    border-color: transparent;\n",
              "    border-bottom-color: var(--fill-color);\n",
              "    animation:\n",
              "      spin 1s steps(1) infinite;\n",
              "  }\n",
              "\n",
              "  @keyframes spin {\n",
              "    0% {\n",
              "      border-color: transparent;\n",
              "      border-bottom-color: var(--fill-color);\n",
              "      border-left-color: var(--fill-color);\n",
              "    }\n",
              "    20% {\n",
              "      border-color: transparent;\n",
              "      border-left-color: var(--fill-color);\n",
              "      border-top-color: var(--fill-color);\n",
              "    }\n",
              "    30% {\n",
              "      border-color: transparent;\n",
              "      border-left-color: var(--fill-color);\n",
              "      border-top-color: var(--fill-color);\n",
              "      border-right-color: var(--fill-color);\n",
              "    }\n",
              "    40% {\n",
              "      border-color: transparent;\n",
              "      border-right-color: var(--fill-color);\n",
              "      border-top-color: var(--fill-color);\n",
              "    }\n",
              "    60% {\n",
              "      border-color: transparent;\n",
              "      border-right-color: var(--fill-color);\n",
              "    }\n",
              "    80% {\n",
              "      border-color: transparent;\n",
              "      border-right-color: var(--fill-color);\n",
              "      border-bottom-color: var(--fill-color);\n",
              "    }\n",
              "    90% {\n",
              "      border-color: transparent;\n",
              "      border-bottom-color: var(--fill-color);\n",
              "    }\n",
              "  }\n",
              "</style>\n",
              "\n",
              "  <script>\n",
              "    async function quickchart(key) {\n",
              "      const quickchartButtonEl =\n",
              "        document.querySelector('#' + key + ' button');\n",
              "      quickchartButtonEl.disabled = true;  // To prevent multiple clicks.\n",
              "      quickchartButtonEl.classList.add('colab-df-spinner');\n",
              "      try {\n",
              "        const charts = await google.colab.kernel.invokeFunction(\n",
              "            'suggestCharts', [key], {});\n",
              "      } catch (error) {\n",
              "        console.error('Error during call to suggestCharts:', error);\n",
              "      }\n",
              "      quickchartButtonEl.classList.remove('colab-df-spinner');\n",
              "      quickchartButtonEl.classList.add('colab-df-quickchart-complete');\n",
              "    }\n",
              "    (() => {\n",
              "      let quickchartButtonEl =\n",
              "        document.querySelector('#df-d0c6d765-036a-4f72-b9b1-706350b52e8c button');\n",
              "      quickchartButtonEl.style.display =\n",
              "        google.colab.kernel.accessAllowed ? 'block' : 'none';\n",
              "    })();\n",
              "  </script>\n",
              "</div>\n",
              "    </div>\n",
              "  </div>\n"
            ],
            "application/vnd.google.colaboratory.intrinsic+json": {
              "type": "dataframe",
              "variable_name": "df",
              "summary": "{\n  \"name\": \"df\",\n  \"rows\": 200,\n  \"fields\": [\n    {\n      \"column\": \"NAME\",\n      \"properties\": {\n        \"dtype\": \"string\",\n        \"num_unique_values\": 200,\n        \"samples\": [\n          \"Bear LQP964\",\n          \"Bear YRC687\",\n          \"Cooper MDA923\"\n        ],\n        \"semantic_type\": \"\",\n        \"description\": \"\"\n      }\n    },\n    {\n      \"column\": \"WIDTH\",\n      \"properties\": {\n        \"dtype\": \"number\",\n        \"std\": 4.541060344267551,\n        \"min\": 30.0,\n        \"max\": 44.0,\n        \"num_unique_values\": 15,\n        \"samples\": [\n          35.0,\n          36.0,\n          39.0\n        ],\n        \"semantic_type\": \"\",\n        \"description\": \"\"\n      }\n    },\n    {\n      \"column\": \"PRICE\",\n      \"properties\": {\n        \"dtype\": \"number\",\n        \"std\": 116804.7260737512,\n        \"min\": 8000.0,\n        \"max\": 837020.0,\n        \"num_unique_values\": 50,\n        \"samples\": [\n          46000.0,\n          356963.0,\n          20000.0\n        ],\n        \"semantic_type\": \"\",\n        \"description\": \"\"\n      }\n    },\n    {\n      \"column\": \"POWER\",\n      \"properties\": {\n        \"dtype\": \"number\",\n        \"std\": 0.37005330050353136,\n        \"min\": 0.75,\n        \"max\": 1.95,\n        \"num_unique_values\": 25,\n        \"samples\": [\n          1.4,\n          1.1,\n          1.25\n        ],\n        \"semantic_type\": \"\",\n        \"description\": \"\"\n      }\n    },\n    {\n      \"column\": \"GRASS\",\n      \"properties\": {\n        \"dtype\": \"number\",\n        \"std\": 15.79181570621216,\n        \"min\": 25.0,\n        \"max\": 75.0,\n        \"num_unique_values\": 11,\n        \"samples\": [\n          50.0,\n          60.0,\n          25.0\n        ],\n        \"semantic_type\": \"\",\n        \"description\": \"\"\n      }\n    },\n    {\n      \"column\": \"AREA\",\n      \"properties\": {\n        \"dtype\": \"number\",\n        \"std\": 125.51177286695112,\n        \"min\": 200.0,\n        \"max\": 600.0,\n        \"num_unique_values\": 9,\n        \"samples\": [\n          250.0,\n          450.0,\n          500.0\n        ],\n        \"semantic_type\": \"\",\n        \"description\": \"\"\n      }\n    },\n    {\n      \"column\": \"DESCRIPTION\",\n      \"properties\": {\n        \"dtype\": \"category\",\n        \"num_unique_values\": 3,\n        \"samples\": [\n          \"\\u0421\\u0440\\u0435\\u0434\\u043d\\u044f\\u044f \\u0448\\u0438\\u0440\\u0438\\u043d\\u0430 \\u0441\\u043a\\u0430\\u0448\\u0438\\u0432\\u0430\\u0435\\u043c\\u043e\\u0439 \\u043f\\u043e\\u043b\\u043e\\u0441\\u044b \\u043d\\u0430 \\u0434\\u0430\\u043d\\u043d\\u043e\\u0439 \\u0433\\u0430\\u0437\\u043e\\u043d\\u043e\\u043a\\u043e\\u0441\\u0438\\u043b\\u043a\\u0435 \\u0434\\u0435\\u043b\\u0430\\u0435\\u0442 \\u0435\\u0435 \\u0438\\u0434\\u0435\\u0430\\u043b\\u044c\\u043d\\u043e\\u0439 \\u0434\\u043b\\u044f \\u043f\\u043e\\u0434\\u0434\\u0435\\u0440\\u0436\\u0430\\u043d\\u0438\\u044f \\u0433\\u0430\\u0437\\u043e\\u043d\\u0430 \\u0441\\u0440\\u0435\\u0434\\u043d\\u0435\\u0433\\u043e \\u0440\\u0430\\u0437\\u043c\\u0435\\u0440\\u0430.\",\n          \"\\u0428\\u0438\\u0440\\u043e\\u043a\\u0430\\u044f \\u043f\\u043e\\u043b\\u043e\\u0441\\u0430 \\u0441\\u043a\\u0430\\u0448\\u0438\\u0432\\u0430\\u043d\\u0438\\u044f \\u043d\\u0430 \\u0434\\u0430\\u043d\\u043d\\u043e\\u0439 \\u0433\\u0430\\u0437\\u043e\\u043d\\u043e\\u043a\\u043e\\u0441\\u0438\\u043b\\u043a\\u0435 \\u043f\\u043e\\u0437\\u0432\\u043e\\u043b\\u044f\\u0435\\u0442 \\u0431\\u044b\\u0441\\u0442\\u0440\\u043e \\u0438 \\u043b\\u0435\\u0433\\u043a\\u043e \\u043e\\u0431\\u0440\\u0435\\u0437\\u0430\\u0442\\u044c \\u0442\\u0440\\u0430\\u0432\\u0443 \\u043d\\u0430 \\u0431\\u043e\\u043b\\u044c\\u0448\\u0438\\u0445 \\u043f\\u043b\\u043e\\u0449\\u0430\\u0434\\u044f\\u0445.\",\n          \"\\u0413\\u0430\\u0437\\u043e\\u043d\\u043e\\u043a\\u043e\\u0441\\u0438\\u043b\\u043a\\u0430 \\u0441 \\u0443\\u0437\\u043a\\u043e\\u0439 \\u0448\\u0438\\u0440\\u0438\\u043d\\u043e\\u0439 \\u0441\\u043a\\u0430\\u0448\\u0438\\u0432\\u0430\\u0435\\u043c\\u043e\\u0439 \\u043f\\u043e\\u043b\\u043e\\u0441\\u044b \\u0438\\u0434\\u0435\\u0430\\u043b\\u044c\\u043d\\u043e \\u043f\\u043e\\u0434\\u0445\\u043e\\u0434\\u0438\\u0442 \\u0434\\u043b\\u044f \\u043c\\u0430\\u043b\\u0435\\u043d\\u044c\\u043a\\u0438\\u0445 \\u0433\\u0430\\u0437\\u043e\\u043d\\u043e\\u0432.\"\n        ],\n        \"semantic_type\": \"\",\n        \"description\": \"\"\n      }\n    }\n  ]\n}"
            }
          },
          "metadata": {},
          "execution_count": 2
        }
      ]
    },
    {
      "cell_type": "code",
      "source": [
        "df.info()"
      ],
      "metadata": {
        "colab": {
          "base_uri": "https://localhost:8080/"
        },
        "id": "uPhEZbBhts9x",
        "outputId": "ba6d002a-cee1-48b4-a817-e1cef7367feb"
      },
      "execution_count": 3,
      "outputs": [
        {
          "output_type": "stream",
          "name": "stdout",
          "text": [
            "<class 'pandas.core.frame.DataFrame'>\n",
            "RangeIndex: 200 entries, 0 to 199\n",
            "Data columns (total 7 columns):\n",
            " #   Column       Non-Null Count  Dtype  \n",
            "---  ------       --------------  -----  \n",
            " 0   NAME         200 non-null    object \n",
            " 1   WIDTH        180 non-null    float64\n",
            " 2   PRICE        199 non-null    float64\n",
            " 3   POWER        198 non-null    float64\n",
            " 4   GRASS        195 non-null    float64\n",
            " 5   AREA         196 non-null    float64\n",
            " 6   DESCRIPTION  200 non-null    object \n",
            "dtypes: float64(5), object(2)\n",
            "memory usage: 11.1+ KB\n"
          ]
        }
      ]
    },
    {
      "cell_type": "markdown",
      "source": [
        "## Заполнение пропущенных значений в `WIDTH`"
      ],
      "metadata": {
        "id": "xDqhnamDtiJF"
      }
    },
    {
      "cell_type": "code",
      "source": [
        "# ищем медиану для диапазона ширины от 30 до 35\n",
        "median_30_35 = df[(df['WIDTH'] >= 30) & (df['WIDTH'] <= 35)]['WIDTH'].median()\n",
        "median_30_35"
      ],
      "metadata": {
        "colab": {
          "base_uri": "https://localhost:8080/"
        },
        "id": "M659_uWAtcKF",
        "outputId": "4de699c2-4824-412c-a437-49300402cabc"
      },
      "execution_count": 4,
      "outputs": [
        {
          "output_type": "execute_result",
          "data": {
            "text/plain": [
              "33.0"
            ]
          },
          "metadata": {},
          "execution_count": 4
        }
      ]
    },
    {
      "cell_type": "code",
      "source": [
        "# ищем округленное до целого среднее арифметическое для диапазона ширины от 36 до 40\n",
        "mean_36_40 = round(df[(df['WIDTH'] >= 36) & (df['WIDTH'] <= 40)]['WIDTH'].mean())\n",
        "mean_36_40"
      ],
      "metadata": {
        "colab": {
          "base_uri": "https://localhost:8080/"
        },
        "id": "mCX4pZ3qwSlS",
        "outputId": "a9f3135e-d56d-4b56-850f-4611587939de"
      },
      "execution_count": 5,
      "outputs": [
        {
          "output_type": "execute_result",
          "data": {
            "text/plain": [
              "38"
            ]
          },
          "metadata": {},
          "execution_count": 5
        }
      ]
    },
    {
      "cell_type": "code",
      "source": [
        "# ищем медиану для диапазона ширины от 41 до 45\n",
        "median_41_45 = df[(df['WIDTH'] >= 41) & (df['WIDTH'] <= 45)]['WIDTH'].median()\n",
        "median_41_45"
      ],
      "metadata": {
        "colab": {
          "base_uri": "https://localhost:8080/"
        },
        "id": "IzDMI650xFyA",
        "outputId": "72491e9e-7c6e-48f4-e67e-b779bfa9ba2a"
      },
      "execution_count": 6,
      "outputs": [
        {
          "output_type": "execute_result",
          "data": {
            "text/plain": [
              "43.0"
            ]
          },
          "metadata": {},
          "execution_count": 6
        }
      ]
    },
    {
      "cell_type": "code",
      "source": [
        "# восстанавливаем пропущенные значения\n",
        "def restore_width(row):\n",
        "  if pd.isna(row['WIDTH']):\n",
        "    description = row['DESCRIPTION'].lower()\n",
        "    if any(word in description for word in ['узкая', 'узкие', 'узкую', 'узкой']):\n",
        "      return median_30_35\n",
        "    elif 'средняя ширина' in description or 'ширина средняя' in description:\n",
        "      return mean_36_40\n",
        "    elif all(word in description for word in ['широкая', 'полоса']) or all(word in description for word in ['широкие', 'полосы']):\n",
        "      return median_41_45\n",
        "  return row['WIDTH']\n",
        "\n",
        "df['WIDTH'] = df.apply(restore_width, axis=1)"
      ],
      "metadata": {
        "id": "uY_HX_7SWWAi"
      },
      "execution_count": 7,
      "outputs": []
    },
    {
      "cell_type": "code",
      "source": [
        "df.info()"
      ],
      "metadata": {
        "colab": {
          "base_uri": "https://localhost:8080/"
        },
        "id": "QVOsQXIJX_uh",
        "outputId": "a99eb093-3217-4df7-b503-081533a03612"
      },
      "execution_count": 8,
      "outputs": [
        {
          "output_type": "stream",
          "name": "stdout",
          "text": [
            "<class 'pandas.core.frame.DataFrame'>\n",
            "RangeIndex: 200 entries, 0 to 199\n",
            "Data columns (total 7 columns):\n",
            " #   Column       Non-Null Count  Dtype  \n",
            "---  ------       --------------  -----  \n",
            " 0   NAME         200 non-null    object \n",
            " 1   WIDTH        200 non-null    float64\n",
            " 2   PRICE        199 non-null    float64\n",
            " 3   POWER        198 non-null    float64\n",
            " 4   GRASS        195 non-null    float64\n",
            " 5   AREA         196 non-null    float64\n",
            " 6   DESCRIPTION  200 non-null    object \n",
            "dtypes: float64(5), object(2)\n",
            "memory usage: 11.1+ KB\n"
          ]
        }
      ]
    },
    {
      "cell_type": "code",
      "source": [
        "round(df['WIDTH'].mean(), 2)"
      ],
      "metadata": {
        "colab": {
          "base_uri": "https://localhost:8080/"
        },
        "id": "PjqKSMsVYE2t",
        "outputId": "fbef1d5f-0233-4f21-b883-7d11ea2a8631"
      },
      "execution_count": 9,
      "outputs": [
        {
          "output_type": "execute_result",
          "data": {
            "text/plain": [
              "37.54"
            ]
          },
          "metadata": {},
          "execution_count": 9
        }
      ]
    },
    {
      "cell_type": "markdown",
      "source": [
        "## Избавляемся от *экстремальных* выбросов в `PRICE`"
      ],
      "metadata": {
        "id": "LqBL2n9AYbQi"
      }
    },
    {
      "cell_type": "code",
      "source": [
        "Q1 = df['PRICE'].quantile(0.25) # значения первого квартиля\n",
        "Q3 = df['PRICE'].quantile(0.75) # значения третьего квартиля\n",
        "# размах квартилей\n",
        "IQR = Q3 - Q1\n",
        "\n",
        "# границы для фильтрации выбросов\n",
        "lower_bound = Q1 - 3 * IQR\n",
        "upper_bound = Q3 + 3 * IQR\n",
        "\n",
        "df = df[(df['PRICE'] >= lower_bound) & (df['PRICE'] <= upper_bound)]"
      ],
      "metadata": {
        "id": "ClZxrdyjYk2m"
      },
      "execution_count": 10,
      "outputs": []
    },
    {
      "cell_type": "markdown",
      "source": [
        "## Удаляем оставшиеся пропущенные значения"
      ],
      "metadata": {
        "id": "tFtFBFOQZOoj"
      }
    },
    {
      "cell_type": "code",
      "source": [
        "df = df.dropna()"
      ],
      "metadata": {
        "id": "oO2tju_jaRFx"
      },
      "execution_count": 11,
      "outputs": []
    },
    {
      "cell_type": "code",
      "source": [
        "len(df)"
      ],
      "metadata": {
        "colab": {
          "base_uri": "https://localhost:8080/"
        },
        "id": "nRFz4P16aWD4",
        "outputId": "2ff73377-fb15-41f6-9bb4-36eb09b27045"
      },
      "execution_count": 12,
      "outputs": [
        {
          "output_type": "execute_result",
          "data": {
            "text/plain": [
              "181"
            ]
          },
          "metadata": {},
          "execution_count": 12
        }
      ]
    },
    {
      "cell_type": "code",
      "source": [
        "round(df['PRICE'].mean(), 2)"
      ],
      "metadata": {
        "colab": {
          "base_uri": "https://localhost:8080/"
        },
        "id": "jIIZN8uradcI",
        "outputId": "5a81b3ba-bd99-4d53-bd92-ffe9e7bfbbc2"
      },
      "execution_count": 13,
      "outputs": [
        {
          "output_type": "execute_result",
          "data": {
            "text/plain": [
              "26988.95"
            ]
          },
          "metadata": {},
          "execution_count": 13
        }
      ]
    },
    {
      "cell_type": "markdown",
      "source": [
        "## Проводим *экспоненциальную* нормировку числовых параметров"
      ],
      "metadata": {
        "id": "0KCzrW6Kao2g"
      }
    },
    {
      "cell_type": "code",
      "source": [
        "# выберем только числовые признаки таблицы\n",
        "numeric_columns = df.select_dtypes(include=['number']).columns\n",
        "# проведем нормировку\n",
        "df[numeric_columns] = 1 - np.exp(1 - df[numeric_columns] / df[numeric_columns].min())"
      ],
      "metadata": {
        "id": "v1YnjV2WeU-T"
      },
      "execution_count": 14,
      "outputs": []
    },
    {
      "cell_type": "code",
      "source": [
        "round(df[df['NAME'] == 'Wolf NAF225'][numeric_columns], 2)"
      ],
      "metadata": {
        "colab": {
          "base_uri": "https://localhost:8080/",
          "height": 81
        },
        "id": "MFXU2V8VftRn",
        "outputId": "4853322a-0abd-4ead-aa42-afc6ae41b78e"
      },
      "execution_count": 15,
      "outputs": [
        {
          "output_type": "execute_result",
          "data": {
            "text/plain": [
              "     WIDTH  PRICE  POWER  GRASS  AREA\n",
              "146   0.26   0.85   0.28   0.18  0.63"
            ],
            "text/html": [
              "\n",
              "  <div id=\"df-f9096e4f-a503-474a-8a34-79932fb9a4bb\" class=\"colab-df-container\">\n",
              "    <div>\n",
              "<style scoped>\n",
              "    .dataframe tbody tr th:only-of-type {\n",
              "        vertical-align: middle;\n",
              "    }\n",
              "\n",
              "    .dataframe tbody tr th {\n",
              "        vertical-align: top;\n",
              "    }\n",
              "\n",
              "    .dataframe thead th {\n",
              "        text-align: right;\n",
              "    }\n",
              "</style>\n",
              "<table border=\"1\" class=\"dataframe\">\n",
              "  <thead>\n",
              "    <tr style=\"text-align: right;\">\n",
              "      <th></th>\n",
              "      <th>WIDTH</th>\n",
              "      <th>PRICE</th>\n",
              "      <th>POWER</th>\n",
              "      <th>GRASS</th>\n",
              "      <th>AREA</th>\n",
              "    </tr>\n",
              "  </thead>\n",
              "  <tbody>\n",
              "    <tr>\n",
              "      <th>146</th>\n",
              "      <td>0.26</td>\n",
              "      <td>0.85</td>\n",
              "      <td>0.28</td>\n",
              "      <td>0.18</td>\n",
              "      <td>0.63</td>\n",
              "    </tr>\n",
              "  </tbody>\n",
              "</table>\n",
              "</div>\n",
              "    <div class=\"colab-df-buttons\">\n",
              "\n",
              "  <div class=\"colab-df-container\">\n",
              "    <button class=\"colab-df-convert\" onclick=\"convertToInteractive('df-f9096e4f-a503-474a-8a34-79932fb9a4bb')\"\n",
              "            title=\"Convert this dataframe to an interactive table.\"\n",
              "            style=\"display:none;\">\n",
              "\n",
              "  <svg xmlns=\"http://www.w3.org/2000/svg\" height=\"24px\" viewBox=\"0 -960 960 960\">\n",
              "    <path d=\"M120-120v-720h720v720H120Zm60-500h600v-160H180v160Zm220 220h160v-160H400v160Zm0 220h160v-160H400v160ZM180-400h160v-160H180v160Zm440 0h160v-160H620v160ZM180-180h160v-160H180v160Zm440 0h160v-160H620v160Z\"/>\n",
              "  </svg>\n",
              "    </button>\n",
              "\n",
              "  <style>\n",
              "    .colab-df-container {\n",
              "      display:flex;\n",
              "      gap: 12px;\n",
              "    }\n",
              "\n",
              "    .colab-df-convert {\n",
              "      background-color: #E8F0FE;\n",
              "      border: none;\n",
              "      border-radius: 50%;\n",
              "      cursor: pointer;\n",
              "      display: none;\n",
              "      fill: #1967D2;\n",
              "      height: 32px;\n",
              "      padding: 0 0 0 0;\n",
              "      width: 32px;\n",
              "    }\n",
              "\n",
              "    .colab-df-convert:hover {\n",
              "      background-color: #E2EBFA;\n",
              "      box-shadow: 0px 1px 2px rgba(60, 64, 67, 0.3), 0px 1px 3px 1px rgba(60, 64, 67, 0.15);\n",
              "      fill: #174EA6;\n",
              "    }\n",
              "\n",
              "    .colab-df-buttons div {\n",
              "      margin-bottom: 4px;\n",
              "    }\n",
              "\n",
              "    [theme=dark] .colab-df-convert {\n",
              "      background-color: #3B4455;\n",
              "      fill: #D2E3FC;\n",
              "    }\n",
              "\n",
              "    [theme=dark] .colab-df-convert:hover {\n",
              "      background-color: #434B5C;\n",
              "      box-shadow: 0px 1px 3px 1px rgba(0, 0, 0, 0.15);\n",
              "      filter: drop-shadow(0px 1px 2px rgba(0, 0, 0, 0.3));\n",
              "      fill: #FFFFFF;\n",
              "    }\n",
              "  </style>\n",
              "\n",
              "    <script>\n",
              "      const buttonEl =\n",
              "        document.querySelector('#df-f9096e4f-a503-474a-8a34-79932fb9a4bb button.colab-df-convert');\n",
              "      buttonEl.style.display =\n",
              "        google.colab.kernel.accessAllowed ? 'block' : 'none';\n",
              "\n",
              "      async function convertToInteractive(key) {\n",
              "        const element = document.querySelector('#df-f9096e4f-a503-474a-8a34-79932fb9a4bb');\n",
              "        const dataTable =\n",
              "          await google.colab.kernel.invokeFunction('convertToInteractive',\n",
              "                                                    [key], {});\n",
              "        if (!dataTable) return;\n",
              "\n",
              "        const docLinkHtml = 'Like what you see? Visit the ' +\n",
              "          '<a target=\"_blank\" href=https://colab.research.google.com/notebooks/data_table.ipynb>data table notebook</a>'\n",
              "          + ' to learn more about interactive tables.';\n",
              "        element.innerHTML = '';\n",
              "        dataTable['output_type'] = 'display_data';\n",
              "        await google.colab.output.renderOutput(dataTable, element);\n",
              "        const docLink = document.createElement('div');\n",
              "        docLink.innerHTML = docLinkHtml;\n",
              "        element.appendChild(docLink);\n",
              "      }\n",
              "    </script>\n",
              "  </div>\n",
              "\n",
              "    </div>\n",
              "  </div>\n"
            ],
            "application/vnd.google.colaboratory.intrinsic+json": {
              "type": "dataframe",
              "summary": "{\n  \"name\": \"round(df[df['NAME'] == 'Wolf NAF225'][numeric_columns], 2)\",\n  \"rows\": 1,\n  \"fields\": [\n    {\n      \"column\": \"WIDTH\",\n      \"properties\": {\n        \"dtype\": \"number\",\n        \"std\": null,\n        \"min\": 0.26,\n        \"max\": 0.26,\n        \"num_unique_values\": 1,\n        \"samples\": [\n          0.26\n        ],\n        \"semantic_type\": \"\",\n        \"description\": \"\"\n      }\n    },\n    {\n      \"column\": \"PRICE\",\n      \"properties\": {\n        \"dtype\": \"number\",\n        \"std\": null,\n        \"min\": 0.85,\n        \"max\": 0.85,\n        \"num_unique_values\": 1,\n        \"samples\": [\n          0.85\n        ],\n        \"semantic_type\": \"\",\n        \"description\": \"\"\n      }\n    },\n    {\n      \"column\": \"POWER\",\n      \"properties\": {\n        \"dtype\": \"number\",\n        \"std\": null,\n        \"min\": 0.28,\n        \"max\": 0.28,\n        \"num_unique_values\": 1,\n        \"samples\": [\n          0.28\n        ],\n        \"semantic_type\": \"\",\n        \"description\": \"\"\n      }\n    },\n    {\n      \"column\": \"GRASS\",\n      \"properties\": {\n        \"dtype\": \"number\",\n        \"std\": null,\n        \"min\": 0.18,\n        \"max\": 0.18,\n        \"num_unique_values\": 1,\n        \"samples\": [\n          0.18\n        ],\n        \"semantic_type\": \"\",\n        \"description\": \"\"\n      }\n    },\n    {\n      \"column\": \"AREA\",\n      \"properties\": {\n        \"dtype\": \"number\",\n        \"std\": null,\n        \"min\": 0.63,\n        \"max\": 0.63,\n        \"num_unique_values\": 1,\n        \"samples\": [\n          0.63\n        ],\n        \"semantic_type\": \"\",\n        \"description\": \"\"\n      }\n    }\n  ]\n}"
            }
          },
          "metadata": {},
          "execution_count": 15
        }
      ]
    },
    {
      "cell_type": "markdown",
      "source": [
        "## Строим целевую функцию"
      ],
      "metadata": {
        "id": "i02L-4lygey1"
      }
    },
    {
      "cell_type": "markdown",
      "source": [
        "* Нормированная ширина скашиваемой полосы с коэффициентом 3\n",
        "* Стоимость как слагаемое вида (1 - нормированная стоимость) с коэффициентом 2\n",
        "* Нормированную мощность с коэффициентом 5\n",
        "* Нормированный объём травосборника с коэффициентом 8\n",
        "* Нормированную площадь скашиваемой поверхности с коэффициентом 3"
      ],
      "metadata": {
        "id": "kzSVa0o3gh-D"
      }
    },
    {
      "cell_type": "code",
      "source": [
        "df['FUNC'] = 3 * df['WIDTH'] + (1 - df['PRICE']) * 2 + 5 * df['POWER'] + 8 * df['GRASS'] + 3 * df['AREA']"
      ],
      "metadata": {
        "id": "BplvkiL1hQay"
      },
      "execution_count": 16,
      "outputs": []
    },
    {
      "cell_type": "code",
      "source": [
        "df = df.sort_values(by=['FUNC'], ascending=False)\n",
        "df.head(3)"
      ],
      "metadata": {
        "colab": {
          "base_uri": "https://localhost:8080/",
          "height": 143
        },
        "id": "e0vHtVKNh-Nl",
        "outputId": "44617ac4-67af-4347-c7e3-9833c5e185cb"
      },
      "execution_count": 17,
      "outputs": [
        {
          "output_type": "execute_result",
          "data": {
            "text/plain": [
              "              NAME     WIDTH     PRICE     POWER     GRASS      AREA  \\\n",
              "113    Bear HDS774  0.124827  0.117503  0.753403  0.864665  0.826226   \n",
              "46   Cooper WJN287  0.259182  0.527633  0.698806  0.864665  0.776870   \n",
              "180    Boch ZPL569  0.351656  0.747160  0.769307  0.798103  0.776870   \n",
              "\n",
              "                                           DESCRIPTION       FUNC  \n",
              "113  Газонокосилка с узкой шириной скашиваемой поло...  15.302485  \n",
              "46   Средняя ширина скашиваемой полосы на данной га...  14.464235  \n",
              "180  Широкая полоса скашивания на данной газонокоси...  14.122618  "
            ],
            "text/html": [
              "\n",
              "  <div id=\"df-46339c28-053c-4ae5-91f1-354f5439a35c\" class=\"colab-df-container\">\n",
              "    <div>\n",
              "<style scoped>\n",
              "    .dataframe tbody tr th:only-of-type {\n",
              "        vertical-align: middle;\n",
              "    }\n",
              "\n",
              "    .dataframe tbody tr th {\n",
              "        vertical-align: top;\n",
              "    }\n",
              "\n",
              "    .dataframe thead th {\n",
              "        text-align: right;\n",
              "    }\n",
              "</style>\n",
              "<table border=\"1\" class=\"dataframe\">\n",
              "  <thead>\n",
              "    <tr style=\"text-align: right;\">\n",
              "      <th></th>\n",
              "      <th>NAME</th>\n",
              "      <th>WIDTH</th>\n",
              "      <th>PRICE</th>\n",
              "      <th>POWER</th>\n",
              "      <th>GRASS</th>\n",
              "      <th>AREA</th>\n",
              "      <th>DESCRIPTION</th>\n",
              "      <th>FUNC</th>\n",
              "    </tr>\n",
              "  </thead>\n",
              "  <tbody>\n",
              "    <tr>\n",
              "      <th>113</th>\n",
              "      <td>Bear HDS774</td>\n",
              "      <td>0.124827</td>\n",
              "      <td>0.117503</td>\n",
              "      <td>0.753403</td>\n",
              "      <td>0.864665</td>\n",
              "      <td>0.826226</td>\n",
              "      <td>Газонокосилка с узкой шириной скашиваемой поло...</td>\n",
              "      <td>15.302485</td>\n",
              "    </tr>\n",
              "    <tr>\n",
              "      <th>46</th>\n",
              "      <td>Cooper WJN287</td>\n",
              "      <td>0.259182</td>\n",
              "      <td>0.527633</td>\n",
              "      <td>0.698806</td>\n",
              "      <td>0.864665</td>\n",
              "      <td>0.776870</td>\n",
              "      <td>Средняя ширина скашиваемой полосы на данной га...</td>\n",
              "      <td>14.464235</td>\n",
              "    </tr>\n",
              "    <tr>\n",
              "      <th>180</th>\n",
              "      <td>Boch ZPL569</td>\n",
              "      <td>0.351656</td>\n",
              "      <td>0.747160</td>\n",
              "      <td>0.769307</td>\n",
              "      <td>0.798103</td>\n",
              "      <td>0.776870</td>\n",
              "      <td>Широкая полоса скашивания на данной газонокоси...</td>\n",
              "      <td>14.122618</td>\n",
              "    </tr>\n",
              "  </tbody>\n",
              "</table>\n",
              "</div>\n",
              "    <div class=\"colab-df-buttons\">\n",
              "\n",
              "  <div class=\"colab-df-container\">\n",
              "    <button class=\"colab-df-convert\" onclick=\"convertToInteractive('df-46339c28-053c-4ae5-91f1-354f5439a35c')\"\n",
              "            title=\"Convert this dataframe to an interactive table.\"\n",
              "            style=\"display:none;\">\n",
              "\n",
              "  <svg xmlns=\"http://www.w3.org/2000/svg\" height=\"24px\" viewBox=\"0 -960 960 960\">\n",
              "    <path d=\"M120-120v-720h720v720H120Zm60-500h600v-160H180v160Zm220 220h160v-160H400v160Zm0 220h160v-160H400v160ZM180-400h160v-160H180v160Zm440 0h160v-160H620v160ZM180-180h160v-160H180v160Zm440 0h160v-160H620v160Z\"/>\n",
              "  </svg>\n",
              "    </button>\n",
              "\n",
              "  <style>\n",
              "    .colab-df-container {\n",
              "      display:flex;\n",
              "      gap: 12px;\n",
              "    }\n",
              "\n",
              "    .colab-df-convert {\n",
              "      background-color: #E8F0FE;\n",
              "      border: none;\n",
              "      border-radius: 50%;\n",
              "      cursor: pointer;\n",
              "      display: none;\n",
              "      fill: #1967D2;\n",
              "      height: 32px;\n",
              "      padding: 0 0 0 0;\n",
              "      width: 32px;\n",
              "    }\n",
              "\n",
              "    .colab-df-convert:hover {\n",
              "      background-color: #E2EBFA;\n",
              "      box-shadow: 0px 1px 2px rgba(60, 64, 67, 0.3), 0px 1px 3px 1px rgba(60, 64, 67, 0.15);\n",
              "      fill: #174EA6;\n",
              "    }\n",
              "\n",
              "    .colab-df-buttons div {\n",
              "      margin-bottom: 4px;\n",
              "    }\n",
              "\n",
              "    [theme=dark] .colab-df-convert {\n",
              "      background-color: #3B4455;\n",
              "      fill: #D2E3FC;\n",
              "    }\n",
              "\n",
              "    [theme=dark] .colab-df-convert:hover {\n",
              "      background-color: #434B5C;\n",
              "      box-shadow: 0px 1px 3px 1px rgba(0, 0, 0, 0.15);\n",
              "      filter: drop-shadow(0px 1px 2px rgba(0, 0, 0, 0.3));\n",
              "      fill: #FFFFFF;\n",
              "    }\n",
              "  </style>\n",
              "\n",
              "    <script>\n",
              "      const buttonEl =\n",
              "        document.querySelector('#df-46339c28-053c-4ae5-91f1-354f5439a35c button.colab-df-convert');\n",
              "      buttonEl.style.display =\n",
              "        google.colab.kernel.accessAllowed ? 'block' : 'none';\n",
              "\n",
              "      async function convertToInteractive(key) {\n",
              "        const element = document.querySelector('#df-46339c28-053c-4ae5-91f1-354f5439a35c');\n",
              "        const dataTable =\n",
              "          await google.colab.kernel.invokeFunction('convertToInteractive',\n",
              "                                                    [key], {});\n",
              "        if (!dataTable) return;\n",
              "\n",
              "        const docLinkHtml = 'Like what you see? Visit the ' +\n",
              "          '<a target=\"_blank\" href=https://colab.research.google.com/notebooks/data_table.ipynb>data table notebook</a>'\n",
              "          + ' to learn more about interactive tables.';\n",
              "        element.innerHTML = '';\n",
              "        dataTable['output_type'] = 'display_data';\n",
              "        await google.colab.output.renderOutput(dataTable, element);\n",
              "        const docLink = document.createElement('div');\n",
              "        docLink.innerHTML = docLinkHtml;\n",
              "        element.appendChild(docLink);\n",
              "      }\n",
              "    </script>\n",
              "  </div>\n",
              "\n",
              "\n",
              "<div id=\"df-e2718a39-a14e-465a-9b47-e993b27a4cb9\">\n",
              "  <button class=\"colab-df-quickchart\" onclick=\"quickchart('df-e2718a39-a14e-465a-9b47-e993b27a4cb9')\"\n",
              "            title=\"Suggest charts\"\n",
              "            style=\"display:none;\">\n",
              "\n",
              "<svg xmlns=\"http://www.w3.org/2000/svg\" height=\"24px\"viewBox=\"0 0 24 24\"\n",
              "     width=\"24px\">\n",
              "    <g>\n",
              "        <path d=\"M19 3H5c-1.1 0-2 .9-2 2v14c0 1.1.9 2 2 2h14c1.1 0 2-.9 2-2V5c0-1.1-.9-2-2-2zM9 17H7v-7h2v7zm4 0h-2V7h2v10zm4 0h-2v-4h2v4z\"/>\n",
              "    </g>\n",
              "</svg>\n",
              "  </button>\n",
              "\n",
              "<style>\n",
              "  .colab-df-quickchart {\n",
              "      --bg-color: #E8F0FE;\n",
              "      --fill-color: #1967D2;\n",
              "      --hover-bg-color: #E2EBFA;\n",
              "      --hover-fill-color: #174EA6;\n",
              "      --disabled-fill-color: #AAA;\n",
              "      --disabled-bg-color: #DDD;\n",
              "  }\n",
              "\n",
              "  [theme=dark] .colab-df-quickchart {\n",
              "      --bg-color: #3B4455;\n",
              "      --fill-color: #D2E3FC;\n",
              "      --hover-bg-color: #434B5C;\n",
              "      --hover-fill-color: #FFFFFF;\n",
              "      --disabled-bg-color: #3B4455;\n",
              "      --disabled-fill-color: #666;\n",
              "  }\n",
              "\n",
              "  .colab-df-quickchart {\n",
              "    background-color: var(--bg-color);\n",
              "    border: none;\n",
              "    border-radius: 50%;\n",
              "    cursor: pointer;\n",
              "    display: none;\n",
              "    fill: var(--fill-color);\n",
              "    height: 32px;\n",
              "    padding: 0;\n",
              "    width: 32px;\n",
              "  }\n",
              "\n",
              "  .colab-df-quickchart:hover {\n",
              "    background-color: var(--hover-bg-color);\n",
              "    box-shadow: 0 1px 2px rgba(60, 64, 67, 0.3), 0 1px 3px 1px rgba(60, 64, 67, 0.15);\n",
              "    fill: var(--button-hover-fill-color);\n",
              "  }\n",
              "\n",
              "  .colab-df-quickchart-complete:disabled,\n",
              "  .colab-df-quickchart-complete:disabled:hover {\n",
              "    background-color: var(--disabled-bg-color);\n",
              "    fill: var(--disabled-fill-color);\n",
              "    box-shadow: none;\n",
              "  }\n",
              "\n",
              "  .colab-df-spinner {\n",
              "    border: 2px solid var(--fill-color);\n",
              "    border-color: transparent;\n",
              "    border-bottom-color: var(--fill-color);\n",
              "    animation:\n",
              "      spin 1s steps(1) infinite;\n",
              "  }\n",
              "\n",
              "  @keyframes spin {\n",
              "    0% {\n",
              "      border-color: transparent;\n",
              "      border-bottom-color: var(--fill-color);\n",
              "      border-left-color: var(--fill-color);\n",
              "    }\n",
              "    20% {\n",
              "      border-color: transparent;\n",
              "      border-left-color: var(--fill-color);\n",
              "      border-top-color: var(--fill-color);\n",
              "    }\n",
              "    30% {\n",
              "      border-color: transparent;\n",
              "      border-left-color: var(--fill-color);\n",
              "      border-top-color: var(--fill-color);\n",
              "      border-right-color: var(--fill-color);\n",
              "    }\n",
              "    40% {\n",
              "      border-color: transparent;\n",
              "      border-right-color: var(--fill-color);\n",
              "      border-top-color: var(--fill-color);\n",
              "    }\n",
              "    60% {\n",
              "      border-color: transparent;\n",
              "      border-right-color: var(--fill-color);\n",
              "    }\n",
              "    80% {\n",
              "      border-color: transparent;\n",
              "      border-right-color: var(--fill-color);\n",
              "      border-bottom-color: var(--fill-color);\n",
              "    }\n",
              "    90% {\n",
              "      border-color: transparent;\n",
              "      border-bottom-color: var(--fill-color);\n",
              "    }\n",
              "  }\n",
              "</style>\n",
              "\n",
              "  <script>\n",
              "    async function quickchart(key) {\n",
              "      const quickchartButtonEl =\n",
              "        document.querySelector('#' + key + ' button');\n",
              "      quickchartButtonEl.disabled = true;  // To prevent multiple clicks.\n",
              "      quickchartButtonEl.classList.add('colab-df-spinner');\n",
              "      try {\n",
              "        const charts = await google.colab.kernel.invokeFunction(\n",
              "            'suggestCharts', [key], {});\n",
              "      } catch (error) {\n",
              "        console.error('Error during call to suggestCharts:', error);\n",
              "      }\n",
              "      quickchartButtonEl.classList.remove('colab-df-spinner');\n",
              "      quickchartButtonEl.classList.add('colab-df-quickchart-complete');\n",
              "    }\n",
              "    (() => {\n",
              "      let quickchartButtonEl =\n",
              "        document.querySelector('#df-e2718a39-a14e-465a-9b47-e993b27a4cb9 button');\n",
              "      quickchartButtonEl.style.display =\n",
              "        google.colab.kernel.accessAllowed ? 'block' : 'none';\n",
              "    })();\n",
              "  </script>\n",
              "</div>\n",
              "    </div>\n",
              "  </div>\n"
            ],
            "application/vnd.google.colaboratory.intrinsic+json": {
              "type": "dataframe",
              "variable_name": "df",
              "summary": "{\n  \"name\": \"df\",\n  \"rows\": 181,\n  \"fields\": [\n    {\n      \"column\": \"NAME\",\n      \"properties\": {\n        \"dtype\": \"string\",\n        \"num_unique_values\": 181,\n        \"samples\": [\n          \"Nakita VCD231\",\n          \"Wolf KCC733\",\n          \"Gardez UBO998\"\n        ],\n        \"semantic_type\": \"\",\n        \"description\": \"\"\n      }\n    },\n    {\n      \"column\": \"WIDTH\",\n      \"properties\": {\n        \"dtype\": \"number\",\n        \"std\": 0.11604663015729198,\n        \"min\": 0.0,\n        \"max\": 0.3729109147269438,\n        \"num_unique_values\": 15,\n        \"samples\": [\n          0.28346868942621073,\n          0.20811043366321835,\n          0.12482668095705252\n        ],\n        \"semantic_type\": \"\",\n        \"description\": \"\"\n      }\n    },\n    {\n      \"column\": \"PRICE\",\n      \"properties\": {\n        \"dtype\": \"number\",\n        \"std\": 0.2740652568605675,\n        \"min\": 0.0,\n        \"max\": 0.994053782643528,\n        \"num_unique_values\": 42,\n        \"samples\": [\n          0.9932620530009145,\n          0.9913483047968794,\n          0.4647385714810097\n        ],\n        \"semantic_type\": \"\",\n        \"description\": \"\"\n      }\n    },\n    {\n      \"column\": \"POWER\",\n      \"properties\": {\n        \"dtype\": \"number\",\n        \"std\": 0.23609379759410232,\n        \"min\": 0.0,\n        \"max\": 0.7981034820053446,\n        \"num_unique_values\": 25,\n        \"samples\": [\n          0.6558462131345877,\n          0.3296799539643608,\n          0.7534030360583935\n        ],\n        \"semantic_type\": \"\",\n        \"description\": \"\"\n      }\n    },\n    {\n      \"column\": \"GRASS\",\n      \"properties\": {\n        \"dtype\": \"number\",\n        \"std\": 0.2716185649379913,\n        \"min\": 0.0,\n        \"max\": 0.8646647167633873,\n        \"num_unique_values\": 11,\n        \"samples\": [\n          0.698805788087798,\n          0.8646647167633873,\n          0.18126924692201807\n        ],\n        \"semantic_type\": \"\",\n        \"description\": \"\"\n      }\n    },\n    {\n      \"column\": \"AREA\",\n      \"properties\": {\n        \"dtype\": \"number\",\n        \"std\": 0.2645338268268277,\n        \"min\": 0.0,\n        \"max\": 0.8646647167633873,\n        \"num_unique_values\": 9,\n        \"samples\": [\n          0.22119921692859512,\n          0.7768698398515702,\n          0.6321205588285577\n        ],\n        \"semantic_type\": \"\",\n        \"description\": \"\"\n      }\n    },\n    {\n      \"column\": \"DESCRIPTION\",\n      \"properties\": {\n        \"dtype\": \"category\",\n        \"num_unique_values\": 3,\n        \"samples\": [\n          \"\\u0413\\u0430\\u0437\\u043e\\u043d\\u043e\\u043a\\u043e\\u0441\\u0438\\u043b\\u043a\\u0430 \\u0441 \\u0443\\u0437\\u043a\\u043e\\u0439 \\u0448\\u0438\\u0440\\u0438\\u043d\\u043e\\u0439 \\u0441\\u043a\\u0430\\u0448\\u0438\\u0432\\u0430\\u0435\\u043c\\u043e\\u0439 \\u043f\\u043e\\u043b\\u043e\\u0441\\u044b \\u0438\\u0434\\u0435\\u0430\\u043b\\u044c\\u043d\\u043e \\u043f\\u043e\\u0434\\u0445\\u043e\\u0434\\u0438\\u0442 \\u0434\\u043b\\u044f \\u043c\\u0430\\u043b\\u0435\\u043d\\u044c\\u043a\\u0438\\u0445 \\u0433\\u0430\\u0437\\u043e\\u043d\\u043e\\u0432.\",\n          \"\\u0421\\u0440\\u0435\\u0434\\u043d\\u044f\\u044f \\u0448\\u0438\\u0440\\u0438\\u043d\\u0430 \\u0441\\u043a\\u0430\\u0448\\u0438\\u0432\\u0430\\u0435\\u043c\\u043e\\u0439 \\u043f\\u043e\\u043b\\u043e\\u0441\\u044b \\u043d\\u0430 \\u0434\\u0430\\u043d\\u043d\\u043e\\u0439 \\u0433\\u0430\\u0437\\u043e\\u043d\\u043e\\u043a\\u043e\\u0441\\u0438\\u043b\\u043a\\u0435 \\u0434\\u0435\\u043b\\u0430\\u0435\\u0442 \\u0435\\u0435 \\u0438\\u0434\\u0435\\u0430\\u043b\\u044c\\u043d\\u043e\\u0439 \\u0434\\u043b\\u044f \\u043f\\u043e\\u0434\\u0434\\u0435\\u0440\\u0436\\u0430\\u043d\\u0438\\u044f \\u0433\\u0430\\u0437\\u043e\\u043d\\u0430 \\u0441\\u0440\\u0435\\u0434\\u043d\\u0435\\u0433\\u043e \\u0440\\u0430\\u0437\\u043c\\u0435\\u0440\\u0430.\",\n          \"\\u0428\\u0438\\u0440\\u043e\\u043a\\u0430\\u044f \\u043f\\u043e\\u043b\\u043e\\u0441\\u0430 \\u0441\\u043a\\u0430\\u0448\\u0438\\u0432\\u0430\\u043d\\u0438\\u044f \\u043d\\u0430 \\u0434\\u0430\\u043d\\u043d\\u043e\\u0439 \\u0433\\u0430\\u0437\\u043e\\u043d\\u043e\\u043a\\u043e\\u0441\\u0438\\u043b\\u043a\\u0435 \\u043f\\u043e\\u0437\\u0432\\u043e\\u043b\\u044f\\u0435\\u0442 \\u0431\\u044b\\u0441\\u0442\\u0440\\u043e \\u0438 \\u043b\\u0435\\u0433\\u043a\\u043e \\u043e\\u0431\\u0440\\u0435\\u0437\\u0430\\u0442\\u044c \\u0442\\u0440\\u0430\\u0432\\u0443 \\u043d\\u0430 \\u0431\\u043e\\u043b\\u044c\\u0448\\u0438\\u0445 \\u043f\\u043b\\u043e\\u0449\\u0430\\u0434\\u044f\\u0445.\"\n        ],\n        \"semantic_type\": \"\",\n        \"description\": \"\"\n      }\n    },\n    {\n      \"column\": \"FUNC\",\n      \"properties\": {\n        \"dtype\": \"number\",\n        \"std\": 2.7606225281876244,\n        \"min\": 2.483101100940232,\n        \"max\": 15.302484932088078,\n        \"num_unique_values\": 181,\n        \"samples\": [\n          12.99026362056318,\n          11.772495503397097,\n          6.553674255585008\n        ],\n        \"semantic_type\": \"\",\n        \"description\": \"\"\n      }\n    }\n  ]\n}"
            }
          },
          "metadata": {},
          "execution_count": 17
        }
      ]
    }
  ]
}