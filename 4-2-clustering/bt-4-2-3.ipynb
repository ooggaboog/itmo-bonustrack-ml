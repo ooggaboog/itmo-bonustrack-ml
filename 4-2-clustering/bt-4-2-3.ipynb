{
  "nbformat": 4,
  "nbformat_minor": 0,
  "metadata": {
    "colab": {
      "provenance": []
    },
    "kernelspec": {
      "name": "python3",
      "display_name": "Python 3"
    },
    "language_info": {
      "name": "python"
    }
  },
  "cells": [
    {
      "cell_type": "markdown",
      "source": [
        "# Генеративная модель на основе гауссовых смесей"
      ],
      "metadata": {
        "collapsed": false,
        "pycharm": {
          "name": "#%% md\n"
        },
        "id": "aqMY86T_7hsP"
      }
    },
    {
      "cell_type": "code",
      "source": [
        "from sklearn.datasets import load_digits\n",
        "import matplotlib.pyplot as plt\n",
        "from sklearn.decomposition import PCA\n",
        "from sklearn.mixture import GaussianMixture"
      ],
      "metadata": {
        "id": "jZLR6bD5sG_k"
      },
      "execution_count": 14,
      "outputs": []
    },
    {
      "cell_type": "markdown",
      "source": [
        "Гауссовы смеси — естественное математическое обобщение алгоритма `K-means`. По сути, подход ищет не просто какие-то кучки вокруг формирующихся центроидов, а некоторую смесь многомерных нормальных распределений (по сути — тоже кучки вокруг средних со своими дисперсиями). Так как такой подход оценивает плотности распределений, то он часто используется в задачах KDE (kernel density estimation). В том числе, он может быть применен к задаче генерации: если есть плотность распределения, то можно семплировать и получать новые объекты. Давайте посмотрим на простейший пример решения такой задачи."
      ],
      "metadata": {
        "collapsed": false,
        "pycharm": {
          "name": "#%% md\n"
        },
        "id": "mRtfBj7s7hsP"
      }
    },
    {
      "cell_type": "markdown",
      "source": [
        "Работать будем опять-таки с `MNIST`. Так как модель оказывается крайне тяжеловесной, будем использовать «простой» набор данных. Визуализируем элементы этого набора данных (для наглядности)"
      ],
      "metadata": {
        "collapsed": false,
        "pycharm": {
          "name": "#%% md\n"
        },
        "id": "MY-avo2u7hsP"
      }
    },
    {
      "cell_type": "code",
      "execution_count": 2,
      "outputs": [
        {
          "output_type": "execute_result",
          "data": {
            "text/plain": [
              "(1797, 64)"
            ]
          },
          "metadata": {},
          "execution_count": 2
        }
      ],
      "source": [
        "digits = load_digits()\n",
        "digits.data.shape"
      ],
      "metadata": {
        "pycharm": {
          "name": "#%%\n"
        },
        "id": "dCNn7ks97hsP",
        "colab": {
          "base_uri": "https://localhost:8080/"
        },
        "outputId": "da39ad38-c063-4c9d-8f1b-9d01c2cfe459"
      }
    },
    {
      "cell_type": "code",
      "execution_count": 3,
      "outputs": [
        {
          "output_type": "display_data",
          "data": {
            "text/plain": [
              "<Figure size 800x800 with 100 Axes>"
            ],
            "image/png": "[encoded data removed]"
          },
          "metadata": {}
        }
      ],
      "source": [
        "fig, ax = plt.subplots(10, 10, figsize=(8, 8), subplot_kw=dict(xticks=[], yticks=[]))\n",
        "fig.subplots_adjust(hspace=0.05, wspace=0.05)\n",
        "for i, axi in enumerate(ax.flat):\n",
        "    im = axi.imshow(digits.data[i].reshape(8,8), cmap='binary')\n",
        "    im.set_clim(0, 16)"
      ],
      "metadata": {
        "pycharm": {
          "name": "#%%\n"
        },
        "id": "ygsNMoYZ7hsQ",
        "colab": {
          "base_uri": "https://localhost:8080/",
          "height": 653
        },
        "outputId": "e1a1eb1a-d01d-4bec-c574-54e36e6db9e7"
      }
    },
    {
      "cell_type": "markdown",
      "source": [
        "Для того, чтобы обучение проходило быстрее имеет смысл снизить размерность пространства признаков. Произведите преобразования для всего набора данных помощи <code>PCA(n_components=0.99, svd_solver=='full')</code>.\n"
      ],
      "metadata": {
        "collapsed": false,
        "pycharm": {
          "name": "#%% md\n"
        },
        "id": "wXcooMSH7hsQ"
      }
    },
    {
      "cell_type": "code",
      "execution_count": 10,
      "outputs": [],
      "source": [
        "pca = PCA(n_components=0.99, svd_solver='full')\n",
        "\n",
        "digits_pca = pca.fit_transform(digits.data)"
      ],
      "metadata": {
        "pycharm": {
          "name": "#%%\n"
        },
        "id": "p76FXvva7hsQ"
      }
    },
    {
      "cell_type": "markdown",
      "source": [
        "Введите число полученных ГК"
      ],
      "metadata": {
        "id": "Ma5b_5mlpjCM"
      }
    },
    {
      "cell_type": "code",
      "execution_count": 13,
      "outputs": [
        {
          "output_type": "stream",
          "name": "stdout",
          "text": [
            "Число полученных ГК: 41\n"
          ]
        }
      ],
      "source": [
        "print(f'Число полученных ГК: {digits_pca.shape[1]}')"
      ],
      "metadata": {
        "pycharm": {
          "name": "#%%\n"
        },
        "id": "AyUeawEt7hsQ",
        "colab": {
          "base_uri": "https://localhost:8080/"
        },
        "outputId": "31685118-d82f-4a39-f44f-f6a888963628"
      }
    },
    {
      "cell_type": "markdown",
      "source": [
        "Обучим интересующую нас модель, подобрав гиперпараметр, отвечающий за число используемых компонент, минимизируя <a href=\"https://ru.wikipedia.org/wiki/Информационный_критерий_Акаике\">информационный критерий Акаике</a>.\n",
        "\n",
        "Для значений параметра <code>n_components</code> в диапазоне $[50,250)$ с шагом $10$ обучите модели <a href=\"https://scikit-learn.org/stable/modules/generated/sklearn.mixture.GaussianMixture.html\"><code>GaussianMixture</code></a> с параметрами, указанными в вашем задании. При помоши метода <code>.aic()</code> вычислите значение критерия каждой модели.\n",
        "\n",
        "Введите значение <code>n_components</code> модели с наименьшим значением критерия Акаике.\n",
        "\n",
        "\n"
      ],
      "metadata": {
        "id": "gwArf-clzg2m"
      }
    },
    {
      "cell_type": "code",
      "execution_count": 15,
      "outputs": [
        {
          "output_type": "stream",
          "name": "stdout",
          "text": [
            "n_components модели с наименьшим значением критерия Акаике: 170\n"
          ]
        }
      ],
      "source": [
        "# обучим модели GaussianMixture с параметрами covariance_type='full', random_state=9\n",
        "n, akaike = 0, 2**10\n",
        "\n",
        "for n_components in range(50, 250, 10):\n",
        "  gaus = GaussianMixture(n_components=n_components, covariance_type='full', random_state=9).fit(digits_pca)\n",
        "  aic = gaus.aic(digits_pca)\n",
        "  if aic < akaike:\n",
        "    n, akaike = n_components, aic\n",
        "\n",
        "print(f'n_components модели с наименьшим значением критерия Акаике: {n}')"
      ],
      "metadata": {
        "pycharm": {
          "name": "#%%\n"
        },
        "id": "kh26_izK7hsQ",
        "colab": {
          "base_uri": "https://localhost:8080/"
        },
        "outputId": "d08875b3-9def-4c13-d253-51ba413d6343"
      }
    },
    {
      "cell_type": "markdown",
      "source": [
        "Обучите финальную модель на подобранном гиперпараметре. Проверьте, что обучение сошлось (поле <code>.converged_</code> модели)."
      ],
      "metadata": {
        "collapsed": false,
        "pycharm": {
          "name": "#%% md\n"
        },
        "id": "LIoODHeP7hsR"
      }
    },
    {
      "cell_type": "code",
      "execution_count": 16,
      "outputs": [
        {
          "output_type": "stream",
          "name": "stdout",
          "text": [
            "Обучение сошлось\n"
          ]
        }
      ],
      "source": [
        "gm = GaussianMixture(n_components=n, covariance_type='full', random_state=9).fit(digits_pca)\n",
        "if gm.converged_:\n",
        "  print('Обучение сошлось')"
      ],
      "metadata": {
        "pycharm": {
          "name": "#%%\n"
        },
        "id": "c7oq5tkZ7hsR",
        "colab": {
          "base_uri": "https://localhost:8080/"
        },
        "outputId": "559f67df-1191-4586-e90d-177c6f56ac6d"
      }
    },
    {
      "cell_type": "markdown",
      "source": [
        "При помощи метода <code>.sample()</code> сгенерируйте $100$ новых объектов.\n",
        "\n",
        "Введите выборочное среднее коориднаты с индексом $0$ сгенерированных объектов."
      ],
      "metadata": {
        "collapsed": false,
        "pycharm": {
          "name": "#%% md\n"
        },
        "id": "p1vjovgA7hsR"
      }
    },
    {
      "cell_type": "code",
      "execution_count": 17,
      "outputs": [],
      "source": [
        "# при помощи метода .sample() сгенерируем 100 новых объектов\n",
        "samples, _ = gm.sample(100)"
      ],
      "metadata": {
        "pycharm": {
          "name": "#%%\n"
        },
        "id": "VHMKmOSq7hsS"
      }
    },
    {
      "cell_type": "code",
      "source": [
        "# найдем выборочное среднее коориднаты с индексом 0 сгенерированных объектов\n",
        "print(f'Выборочное среднее координаты с индексом 0: {round(samples[:, 0].mean(), 3)}')"
      ],
      "metadata": {
        "colab": {
          "base_uri": "https://localhost:8080/"
        },
        "id": "0ASj0SdKvHuq",
        "outputId": "9adff7b8-22bc-49cd-f209-05a72f0693af"
      },
      "execution_count": 18,
      "outputs": [
        {
          "output_type": "stream",
          "name": "stdout",
          "text": [
            "Выборочное среднее координаты с индексом 0: -0.399\n"
          ]
        }
      ]
    },
    {
      "cell_type": "markdown",
      "source": [
        "При помоши метода <code>.inverse_transform()</code> класса <code>PCA</code> верните сгенерированные объекты в пространство исходных признаков."
      ],
      "metadata": {
        "collapsed": false,
        "pycharm": {
          "name": "#%% md\n"
        },
        "id": "l_PI0NTc7hsS"
      }
    },
    {
      "cell_type": "code",
      "execution_count": 19,
      "outputs": [
        {
          "output_type": "execute_result",
          "data": {
            "text/plain": [
              "(100, 64)"
            ]
          },
          "metadata": {},
          "execution_count": 19
        }
      ],
      "source": [
        "inverse_samples = pca.inverse_transform(samples)\n",
        "inverse_samples.shape"
      ],
      "metadata": {
        "pycharm": {
          "name": "#%%\n"
        },
        "id": "_KLbxq297hsS",
        "colab": {
          "base_uri": "https://localhost:8080/"
        },
        "outputId": "b8591856-265e-4fde-f118-2626c86ee67a"
      }
    },
    {
      "cell_type": "markdown",
      "source": [
        "Визуализируйте полученные результаты. Введите номер изображения, соответствующего сгенерированному объекту с индексом $5$ (индексация начинается с нуля)"
      ],
      "metadata": {
        "id": "cgRK_l2G8I6p"
      }
    },
    {
      "cell_type": "code",
      "source": [
        "fig, ax = plt.subplots(10, 10, figsize=(8, 8), subplot_kw=dict(xticks=[], yticks=[]))\n",
        "fig.subplots_adjust(hspace=0.05, wspace=0.05)\n",
        "for i, axi in enumerate(ax.flat):\n",
        "    im = axi.imshow(inverse_samples[i].reshape(8,8), cmap='binary')\n",
        "    im.set_clim(0, 16)"
      ],
      "metadata": {
        "id": "xj__POKA8zpH",
        "colab": {
          "base_uri": "https://localhost:8080/",
          "height": 653
        },
        "outputId": "d636e81c-5e10-4983-bfed-1c41dc6a9fe1"
      },
      "execution_count": 20,
      "outputs": [
        {
          "output_type": "display_data",
          "data": {
            "text/plain": [
              "<Figure size 800x800 with 100 Axes>"
            ],
            "image/png": "[encoded data removed]"
          },
          "metadata": {}
        }
      ]
    },
    {
      "cell_type": "code",
      "source": [
        "plt.imshow(inverse_samples[30].reshape((8, 8)), cmap='gray_r')\n",
        "plt.axis('off')\n",
        "plt.show()"
      ],
      "metadata": {
        "colab": {
          "base_uri": "https://localhost:8080/",
          "height": 406
        },
        "id": "FB3N0BGQv4v2",
        "outputId": "ebc7b1a1-9b01-4041-f222-03870ec5b5ab"
      },
      "execution_count": 25,
      "outputs": [
        {
          "output_type": "display_data",
          "data": {
            "text/plain": [
              "<Figure size 640x480 with 1 Axes>"
            ],
            "image/png": "[encoded data removed]"
          },
          "metadata": {}
        }
      ]
    }
  ]
}