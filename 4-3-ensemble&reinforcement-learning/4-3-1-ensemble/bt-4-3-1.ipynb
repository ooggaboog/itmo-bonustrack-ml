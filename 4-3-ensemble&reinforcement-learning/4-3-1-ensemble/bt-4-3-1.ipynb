{
  "cells": [
    {
      "cell_type": "markdown",
      "source": [
        "---\n",
        "\n",
        "# Ансамбли моделей"
      ],
      "metadata": {
        "collapsed": false,
        "id": "FkbP5g9IOwKf"
      }
    },
    {
      "cell_type": "markdown",
      "source": [
        "В этой работе мы рассмотрим применение некоторых классических и хорошо себя показавших алгоритмов-ансамблей. Демонстрировать работу этих алгоритмов будем на данных о потреблении электричества."
      ],
      "metadata": {
        "collapsed": false,
        "id": "7cfqqTD-OwKg"
      }
    },
    {
      "cell_type": "markdown",
      "source": [
        "# Описание набора данных"
      ],
      "metadata": {
        "id": "SnV_mUTS1yY9"
      }
    },
    {
      "cell_type": "markdown",
      "source": [
        "**Author**: M. Harries, J. Gama, A. Bifet  \n",
        "**Source**: [Joao Gama](http://www.inescporto.pt/~jgama/ales/ales_5.html) - 2009  \n",
        "**Please cite**: None  \n",
        "\n",
        "**Electricity** is a widely used dataset described by M. Harries and analyzed by J. Gama (see papers below). This data was collected from the Australian New South Wales Electricity Market. In this market, prices are not fixed and are affected by demand and supply of the market. They are set every five minutes. Electricity transfers to/from the neighboring state of Victoria were done to alleviate fluctuations.\n",
        "\n",
        "The dataset (originally named ELEC2) contains 45,312 instances dated from 7 May 1996 to 5 December 1998. Each example of the dataset refers to a period of 30 minutes, i.e. there are 48 instances for each time period of one day. Each example on the dataset has 5 fields, the day of week, the time stamp, the New South Wales electricity demand, the Victoria electricity demand, the scheduled electricity transfer between states and the class label. The class label identifies the change of the price (UP or DOWN) in New South Wales relative to a moving average of the last 24 hours (and removes the impact of longer term price trends).\n",
        "\n",
        "The data was normalized by A. Bifet.\n",
        "\n",
        "### Attribute information  \n",
        "* Date: date between 7 May 1996 to 5 December 1998. Here normalized between 0 and 1\n",
        "* Day: day of the week (1-7)\n",
        "* Period: time of the measurement (1-48) in half hour intervals over 24 hours. Here normalized between 0 and 1\n",
        "* NSWprice: New South Wales electricity price, normalized between 0 and 1\n",
        "* NSWdemand: New South Wales electricity demand, normalized between 0 and 1\n",
        "* VICprice: Victoria electricity price, normalized between 0 and 1\n",
        "* VICdemand: Victoria electricity demand, normalized between 0 and 1\n",
        "* transfer: scheduled electricity transfer between both states, normalized between 0 and 1\n",
        "\n",
        "### Relevant papers  \n",
        "M. Harries. Splice-2 comparative evaluation: Electricity pricing. Technical report, The University of South Wales, 1999.  \n",
        "J. Gama, P. Medas, G. Castillo, and P. Rodrigues. Learning with drift detection. In SBIA Brazilian Symposium on Artificial Intelligence, pages 286–295, 2004."
      ],
      "metadata": {
        "id": "EnfByH4SuGGM"
      }
    },
    {
      "cell_type": "markdown",
      "source": [
        "# Разведочный анализ данных"
      ],
      "metadata": {
        "collapsed": false,
        "id": "iF1Dq_b5OwKh"
      }
    },
    {
      "cell_type": "code",
      "source": [
        "import pandas as pd\n",
        "import numpy as np\n",
        "import seaborn as sns\n",
        "import matplotlib.pyplot as plt\n",
        "from sklearn.model_selection import train_test_split, GridSearchCV\n",
        "from sklearn.ensemble import RandomForestClassifier, VotingClassifier, BaggingClassifier, GradientBoostingClassifier, AdaBoostClassifier, StackingClassifier\n",
        "from sklearn.metrics import classification_report\n",
        "from sklearn.linear_model import LogisticRegression, SGDClassifier\n",
        "from sklearn.svm import SVC\n",
        "from sklearn.tree import DecisionTreeClassifier"
      ],
      "metadata": {
        "id": "FWoVEakLn9J0"
      },
      "execution_count": 60,
      "outputs": []
    },
    {
      "cell_type": "markdown",
      "source": [
        "Считайте набор данных в датафрейм"
      ],
      "metadata": {
        "id": "JiuUwJN52OFV"
      }
    },
    {
      "cell_type": "code",
      "source": [
        "df = pd.read_csv('https://dc-edu.itmo.ru/assets/courseware/v1/cc35e5628f3a2988c98dbca1b8b5969c/asset-v1:ITMO+bonus_track_methods+2023+type@asset+block/electricity_train.csv')\n",
        "df"
      ],
      "metadata": {
        "id": "ZDPVa8Dut_qJ",
        "colab": {
          "base_uri": "https://localhost:8080/",
          "height": 424
        },
        "outputId": "a4d77bb2-e907-40ec-ca1c-5dd0438b1a99"
      },
      "execution_count": 61,
      "outputs": [
        {
          "output_type": "execute_result",
          "data": {
            "text/plain": [
              "           date  day    period  nswprice  nswdemand  vicprice  vicdemand  \\\n",
              "0      0.425556    6  0.723404  0.076258   0.311366  0.003467   0.422915   \n",
              "1      0.867351    7  0.808511  0.028131   0.299018  0.001838   0.325738   \n",
              "2      0.031680    1  0.723404  0.055242   0.398691  0.003467   0.422915   \n",
              "3      0.867793    3  1.000000  0.028822   0.396162  0.001014   0.394873   \n",
              "4      0.880536    4  0.978723  0.040741   0.468908  0.002655   0.425427   \n",
              "...         ...  ...       ...       ...        ...       ...        ...   \n",
              "36244  0.447281    2  0.723404  0.087096   0.845879  0.006061   0.687209   \n",
              "36245  0.429583    7  0.425532  0.058034   0.372657  0.003467   0.422915   \n",
              "36246  0.013053    5  0.468085  0.041732   0.558465  0.003467   0.422915   \n",
              "36247  0.889739    3  0.872340  0.078179   0.730586  0.005393   0.599171   \n",
              "36248  0.429096    3  0.063830  0.055242   0.193692  0.003467   0.422915   \n",
              "\n",
              "       transfer  class  \n",
              "0      0.414912      1  \n",
              "1      0.832018      0  \n",
              "2      0.414912      0  \n",
              "3      0.639474      0  \n",
              "4      0.630702      1  \n",
              "...         ...    ...  \n",
              "36244  0.327632      1  \n",
              "36245  0.414912      0  \n",
              "36246  0.414912      0  \n",
              "36247  0.476754      1  \n",
              "36248  0.414912      0  \n",
              "\n",
              "[36249 rows x 9 columns]"
            ],
            "text/html": [
              "\n",
              "  <div id=\"df-b7640988-ad48-46b7-ac04-c1ca2702b288\" class=\"colab-df-container\">\n",
              "    <div>\n",
              "<style scoped>\n",
              "    .dataframe tbody tr th:only-of-type {\n",
              "        vertical-align: middle;\n",
              "    }\n",
              "\n",
              "    .dataframe tbody tr th {\n",
              "        vertical-align: top;\n",
              "    }\n",
              "\n",
              "    .dataframe thead th {\n",
              "        text-align: right;\n",
              "    }\n",
              "</style>\n",
              "<table border=\"1\" class=\"dataframe\">\n",
              "  <thead>\n",
              "    <tr style=\"text-align: right;\">\n",
              "      <th></th>\n",
              "      <th>date</th>\n",
              "      <th>day</th>\n",
              "      <th>period</th>\n",
              "      <th>nswprice</th>\n",
              "      <th>nswdemand</th>\n",
              "      <th>vicprice</th>\n",
              "      <th>vicdemand</th>\n",
              "      <th>transfer</th>\n",
              "      <th>class</th>\n",
              "    </tr>\n",
              "  </thead>\n",
              "  <tbody>\n",
              "    <tr>\n",
              "      <th>0</th>\n",
              "      <td>0.425556</td>\n",
              "      <td>6</td>\n",
              "      <td>0.723404</td>\n",
              "      <td>0.076258</td>\n",
              "      <td>0.311366</td>\n",
              "      <td>0.003467</td>\n",
              "      <td>0.422915</td>\n",
              "      <td>0.414912</td>\n",
              "      <td>1</td>\n",
              "    </tr>\n",
              "    <tr>\n",
              "      <th>1</th>\n",
              "      <td>0.867351</td>\n",
              "      <td>7</td>\n",
              "      <td>0.808511</td>\n",
              "      <td>0.028131</td>\n",
              "      <td>0.299018</td>\n",
              "      <td>0.001838</td>\n",
              "      <td>0.325738</td>\n",
              "      <td>0.832018</td>\n",
              "      <td>0</td>\n",
              "    </tr>\n",
              "    <tr>\n",
              "      <th>2</th>\n",
              "      <td>0.031680</td>\n",
              "      <td>1</td>\n",
              "      <td>0.723404</td>\n",
              "      <td>0.055242</td>\n",
              "      <td>0.398691</td>\n",
              "      <td>0.003467</td>\n",
              "      <td>0.422915</td>\n",
              "      <td>0.414912</td>\n",
              "      <td>0</td>\n",
              "    </tr>\n",
              "    <tr>\n",
              "      <th>3</th>\n",
              "      <td>0.867793</td>\n",
              "      <td>3</td>\n",
              "      <td>1.000000</td>\n",
              "      <td>0.028822</td>\n",
              "      <td>0.396162</td>\n",
              "      <td>0.001014</td>\n",
              "      <td>0.394873</td>\n",
              "      <td>0.639474</td>\n",
              "      <td>0</td>\n",
              "    </tr>\n",
              "    <tr>\n",
              "      <th>4</th>\n",
              "      <td>0.880536</td>\n",
              "      <td>4</td>\n",
              "      <td>0.978723</td>\n",
              "      <td>0.040741</td>\n",
              "      <td>0.468908</td>\n",
              "      <td>0.002655</td>\n",
              "      <td>0.425427</td>\n",
              "      <td>0.630702</td>\n",
              "      <td>1</td>\n",
              "    </tr>\n",
              "    <tr>\n",
              "      <th>...</th>\n",
              "      <td>...</td>\n",
              "      <td>...</td>\n",
              "      <td>...</td>\n",
              "      <td>...</td>\n",
              "      <td>...</td>\n",
              "      <td>...</td>\n",
              "      <td>...</td>\n",
              "      <td>...</td>\n",
              "      <td>...</td>\n",
              "    </tr>\n",
              "    <tr>\n",
              "      <th>36244</th>\n",
              "      <td>0.447281</td>\n",
              "      <td>2</td>\n",
              "      <td>0.723404</td>\n",
              "      <td>0.087096</td>\n",
              "      <td>0.845879</td>\n",
              "      <td>0.006061</td>\n",
              "      <td>0.687209</td>\n",
              "      <td>0.327632</td>\n",
              "      <td>1</td>\n",
              "    </tr>\n",
              "    <tr>\n",
              "      <th>36245</th>\n",
              "      <td>0.429583</td>\n",
              "      <td>7</td>\n",
              "      <td>0.425532</td>\n",
              "      <td>0.058034</td>\n",
              "      <td>0.372657</td>\n",
              "      <td>0.003467</td>\n",
              "      <td>0.422915</td>\n",
              "      <td>0.414912</td>\n",
              "      <td>0</td>\n",
              "    </tr>\n",
              "    <tr>\n",
              "      <th>36246</th>\n",
              "      <td>0.013053</td>\n",
              "      <td>5</td>\n",
              "      <td>0.468085</td>\n",
              "      <td>0.041732</td>\n",
              "      <td>0.558465</td>\n",
              "      <td>0.003467</td>\n",
              "      <td>0.422915</td>\n",
              "      <td>0.414912</td>\n",
              "      <td>0</td>\n",
              "    </tr>\n",
              "    <tr>\n",
              "      <th>36247</th>\n",
              "      <td>0.889739</td>\n",
              "      <td>3</td>\n",
              "      <td>0.872340</td>\n",
              "      <td>0.078179</td>\n",
              "      <td>0.730586</td>\n",
              "      <td>0.005393</td>\n",
              "      <td>0.599171</td>\n",
              "      <td>0.476754</td>\n",
              "      <td>1</td>\n",
              "    </tr>\n",
              "    <tr>\n",
              "      <th>36248</th>\n",
              "      <td>0.429096</td>\n",
              "      <td>3</td>\n",
              "      <td>0.063830</td>\n",
              "      <td>0.055242</td>\n",
              "      <td>0.193692</td>\n",
              "      <td>0.003467</td>\n",
              "      <td>0.422915</td>\n",
              "      <td>0.414912</td>\n",
              "      <td>0</td>\n",
              "    </tr>\n",
              "  </tbody>\n",
              "</table>\n",
              "<p>36249 rows × 9 columns</p>\n",
              "</div>\n",
              "    <div class=\"colab-df-buttons\">\n",
              "\n",
              "  <div class=\"colab-df-container\">\n",
              "    <button class=\"colab-df-convert\" onclick=\"convertToInteractive('df-b7640988-ad48-46b7-ac04-c1ca2702b288')\"\n",
              "            title=\"Convert this dataframe to an interactive table.\"\n",
              "            style=\"display:none;\">\n",
              "\n",
              "  <svg xmlns=\"http://www.w3.org/2000/svg\" height=\"24px\" viewBox=\"0 -960 960 960\">\n",
              "    <path d=\"M120-120v-720h720v720H120Zm60-500h600v-160H180v160Zm220 220h160v-160H400v160Zm0 220h160v-160H400v160ZM180-400h160v-160H180v160Zm440 0h160v-160H620v160ZM180-180h160v-160H180v160Zm440 0h160v-160H620v160Z\"/>\n",
              "  </svg>\n",
              "    </button>\n",
              "\n",
              "  <style>\n",
              "    .colab-df-container {\n",
              "      display:flex;\n",
              "      gap: 12px;\n",
              "    }\n",
              "\n",
              "    .colab-df-convert {\n",
              "      background-color: #E8F0FE;\n",
              "      border: none;\n",
              "      border-radius: 50%;\n",
              "      cursor: pointer;\n",
              "      display: none;\n",
              "      fill: #1967D2;\n",
              "      height: 32px;\n",
              "      padding: 0 0 0 0;\n",
              "      width: 32px;\n",
              "    }\n",
              "\n",
              "    .colab-df-convert:hover {\n",
              "      background-color: #E2EBFA;\n",
              "      box-shadow: 0px 1px 2px rgba(60, 64, 67, 0.3), 0px 1px 3px 1px rgba(60, 64, 67, 0.15);\n",
              "      fill: #174EA6;\n",
              "    }\n",
              "\n",
              "    .colab-df-buttons div {\n",
              "      margin-bottom: 4px;\n",
              "    }\n",
              "\n",
              "    [theme=dark] .colab-df-convert {\n",
              "      background-color: #3B4455;\n",
              "      fill: #D2E3FC;\n",
              "    }\n",
              "\n",
              "    [theme=dark] .colab-df-convert:hover {\n",
              "      background-color: #434B5C;\n",
              "      box-shadow: 0px 1px 3px 1px rgba(0, 0, 0, 0.15);\n",
              "      filter: drop-shadow(0px 1px 2px rgba(0, 0, 0, 0.3));\n",
              "      fill: #FFFFFF;\n",
              "    }\n",
              "  </style>\n",
              "\n",
              "    <script>\n",
              "      const buttonEl =\n",
              "        document.querySelector('#df-b7640988-ad48-46b7-ac04-c1ca2702b288 button.colab-df-convert');\n",
              "      buttonEl.style.display =\n",
              "        google.colab.kernel.accessAllowed ? 'block' : 'none';\n",
              "\n",
              "      async function convertToInteractive(key) {\n",
              "        const element = document.querySelector('#df-b7640988-ad48-46b7-ac04-c1ca2702b288');\n",
              "        const dataTable =\n",
              "          await google.colab.kernel.invokeFunction('convertToInteractive',\n",
              "                                                    [key], {});\n",
              "        if (!dataTable) return;\n",
              "\n",
              "        const docLinkHtml = 'Like what you see? Visit the ' +\n",
              "          '<a target=\"_blank\" href=https://colab.research.google.com/notebooks/data_table.ipynb>data table notebook</a>'\n",
              "          + ' to learn more about interactive tables.';\n",
              "        element.innerHTML = '';\n",
              "        dataTable['output_type'] = 'display_data';\n",
              "        await google.colab.output.renderOutput(dataTable, element);\n",
              "        const docLink = document.createElement('div');\n",
              "        docLink.innerHTML = docLinkHtml;\n",
              "        element.appendChild(docLink);\n",
              "      }\n",
              "    </script>\n",
              "  </div>\n",
              "\n",
              "\n",
              "<div id=\"df-5bc2530d-fc5b-40ce-a092-a57b40b4ad9c\">\n",
              "  <button class=\"colab-df-quickchart\" onclick=\"quickchart('df-5bc2530d-fc5b-40ce-a092-a57b40b4ad9c')\"\n",
              "            title=\"Suggest charts\"\n",
              "            style=\"display:none;\">\n",
              "\n",
              "<svg xmlns=\"http://www.w3.org/2000/svg\" height=\"24px\"viewBox=\"0 0 24 24\"\n",
              "     width=\"24px\">\n",
              "    <g>\n",
              "        <path d=\"M19 3H5c-1.1 0-2 .9-2 2v14c0 1.1.9 2 2 2h14c1.1 0 2-.9 2-2V5c0-1.1-.9-2-2-2zM9 17H7v-7h2v7zm4 0h-2V7h2v10zm4 0h-2v-4h2v4z\"/>\n",
              "    </g>\n",
              "</svg>\n",
              "  </button>\n",
              "\n",
              "<style>\n",
              "  .colab-df-quickchart {\n",
              "      --bg-color: #E8F0FE;\n",
              "      --fill-color: #1967D2;\n",
              "      --hover-bg-color: #E2EBFA;\n",
              "      --hover-fill-color: #174EA6;\n",
              "      --disabled-fill-color: #AAA;\n",
              "      --disabled-bg-color: #DDD;\n",
              "  }\n",
              "\n",
              "  [theme=dark] .colab-df-quickchart {\n",
              "      --bg-color: #3B4455;\n",
              "      --fill-color: #D2E3FC;\n",
              "      --hover-bg-color: #434B5C;\n",
              "      --hover-fill-color: #FFFFFF;\n",
              "      --disabled-bg-color: #3B4455;\n",
              "      --disabled-fill-color: #666;\n",
              "  }\n",
              "\n",
              "  .colab-df-quickchart {\n",
              "    background-color: var(--bg-color);\n",
              "    border: none;\n",
              "    border-radius: 50%;\n",
              "    cursor: pointer;\n",
              "    display: none;\n",
              "    fill: var(--fill-color);\n",
              "    height: 32px;\n",
              "    padding: 0;\n",
              "    width: 32px;\n",
              "  }\n",
              "\n",
              "  .colab-df-quickchart:hover {\n",
              "    background-color: var(--hover-bg-color);\n",
              "    box-shadow: 0 1px 2px rgba(60, 64, 67, 0.3), 0 1px 3px 1px rgba(60, 64, 67, 0.15);\n",
              "    fill: var(--button-hover-fill-color);\n",
              "  }\n",
              "\n",
              "  .colab-df-quickchart-complete:disabled,\n",
              "  .colab-df-quickchart-complete:disabled:hover {\n",
              "    background-color: var(--disabled-bg-color);\n",
              "    fill: var(--disabled-fill-color);\n",
              "    box-shadow: none;\n",
              "  }\n",
              "\n",
              "  .colab-df-spinner {\n",
              "    border: 2px solid var(--fill-color);\n",
              "    border-color: transparent;\n",
              "    border-bottom-color: var(--fill-color);\n",
              "    animation:\n",
              "      spin 1s steps(1) infinite;\n",
              "  }\n",
              "\n",
              "  @keyframes spin {\n",
              "    0% {\n",
              "      border-color: transparent;\n",
              "      border-bottom-color: var(--fill-color);\n",
              "      border-left-color: var(--fill-color);\n",
              "    }\n",
              "    20% {\n",
              "      border-color: transparent;\n",
              "      border-left-color: var(--fill-color);\n",
              "      border-top-color: var(--fill-color);\n",
              "    }\n",
              "    30% {\n",
              "      border-color: transparent;\n",
              "      border-left-color: var(--fill-color);\n",
              "      border-top-color: var(--fill-color);\n",
              "      border-right-color: var(--fill-color);\n",
              "    }\n",
              "    40% {\n",
              "      border-color: transparent;\n",
              "      border-right-color: var(--fill-color);\n",
              "      border-top-color: var(--fill-color);\n",
              "    }\n",
              "    60% {\n",
              "      border-color: transparent;\n",
              "      border-right-color: var(--fill-color);\n",
              "    }\n",
              "    80% {\n",
              "      border-color: transparent;\n",
              "      border-right-color: var(--fill-color);\n",
              "      border-bottom-color: var(--fill-color);\n",
              "    }\n",
              "    90% {\n",
              "      border-color: transparent;\n",
              "      border-bottom-color: var(--fill-color);\n",
              "    }\n",
              "  }\n",
              "</style>\n",
              "\n",
              "  <script>\n",
              "    async function quickchart(key) {\n",
              "      const quickchartButtonEl =\n",
              "        document.querySelector('#' + key + ' button');\n",
              "      quickchartButtonEl.disabled = true;  // To prevent multiple clicks.\n",
              "      quickchartButtonEl.classList.add('colab-df-spinner');\n",
              "      try {\n",
              "        const charts = await google.colab.kernel.invokeFunction(\n",
              "            'suggestCharts', [key], {});\n",
              "      } catch (error) {\n",
              "        console.error('Error during call to suggestCharts:', error);\n",
              "      }\n",
              "      quickchartButtonEl.classList.remove('colab-df-spinner');\n",
              "      quickchartButtonEl.classList.add('colab-df-quickchart-complete');\n",
              "    }\n",
              "    (() => {\n",
              "      let quickchartButtonEl =\n",
              "        document.querySelector('#df-5bc2530d-fc5b-40ce-a092-a57b40b4ad9c button');\n",
              "      quickchartButtonEl.style.display =\n",
              "        google.colab.kernel.accessAllowed ? 'block' : 'none';\n",
              "    })();\n",
              "  </script>\n",
              "</div>\n",
              "    </div>\n",
              "  </div>\n"
            ],
            "application/vnd.google.colaboratory.intrinsic+json": {
              "type": "dataframe",
              "variable_name": "df",
              "summary": "{\n  \"name\": \"df\",\n  \"rows\": 36249,\n  \"fields\": [\n    {\n      \"column\": \"date\",\n      \"properties\": {\n        \"dtype\": \"number\",\n        \"std\": 0.33990741709862127,\n        \"min\": 0.0,\n        \"max\": 1.0,\n        \"num_unique_values\": 933,\n        \"samples\": [\n          0.000708,\n          0.030884,\n          0.027211\n        ],\n        \"semantic_type\": \"\",\n        \"description\": \"\"\n      }\n    },\n    {\n      \"column\": \"day\",\n      \"properties\": {\n        \"dtype\": \"number\",\n        \"std\": 1,\n        \"min\": 1,\n        \"max\": 7,\n        \"num_unique_values\": 7,\n        \"samples\": [\n          6,\n          7,\n          5\n        ],\n        \"semantic_type\": \"\",\n        \"description\": \"\"\n      }\n    },\n    {\n      \"column\": \"period\",\n      \"properties\": {\n        \"dtype\": \"number\",\n        \"std\": 0.29499813658112356,\n        \"min\": 0.0,\n        \"max\": 1.0,\n        \"num_unique_values\": 48,\n        \"samples\": [\n          0.93617,\n          0.0,\n          0.191489\n        ],\n        \"semantic_type\": \"\",\n        \"description\": \"\"\n      }\n    },\n    {\n      \"column\": \"nswprice\",\n      \"properties\": {\n        \"dtype\": \"number\",\n        \"std\": 0.03905207620108141,\n        \"min\": 0.0,\n        \"max\": 1.0,\n        \"num_unique_values\": 3861,\n        \"samples\": [\n          0.228053,\n          0.097424,\n          0.059956\n        ],\n        \"semantic_type\": \"\",\n        \"description\": \"\"\n      }\n    },\n    {\n      \"column\": \"nswdemand\",\n      \"properties\": {\n        \"dtype\": \"number\",\n        \"std\": 0.16338963335119375,\n        \"min\": 0.0,\n        \"max\": 0.980809,\n        \"num_unique_values\": 5137,\n        \"samples\": [\n          0.371616,\n          0.77715,\n          0.343648\n        ],\n        \"semantic_type\": \"\",\n        \"description\": \"\"\n      }\n    },\n    {\n      \"column\": \"vicprice\",\n      \"properties\": {\n        \"dtype\": \"number\",\n        \"std\": 0.010175048580513088,\n        \"min\": 0.0,\n        \"max\": 1.0,\n        \"num_unique_values\": 3574,\n        \"samples\": [\n          0.007198,\n          0.00558,\n          0.005681\n        ],\n        \"semantic_type\": \"\",\n        \"description\": \"\"\n      }\n    },\n    {\n      \"column\": \"vicdemand\",\n      \"properties\": {\n        \"dtype\": \"number\",\n        \"std\": 0.1205997564959939,\n        \"min\": 0.0,\n        \"max\": 1.0,\n        \"num_unique_values\": 2760,\n        \"samples\": [\n          0.341274,\n          0.493527,\n          0.470999\n        ],\n        \"semantic_type\": \"\",\n        \"description\": \"\"\n      }\n    },\n    {\n      \"column\": \"transfer\",\n      \"properties\": {\n        \"dtype\": \"number\",\n        \"std\": 0.15309828491736827,\n        \"min\": 0.0,\n        \"max\": 0.959211,\n        \"num_unique_values\": 1847,\n        \"samples\": [\n          0.25307,\n          0.864035,\n          0.413158\n        ],\n        \"semantic_type\": \"\",\n        \"description\": \"\"\n      }\n    },\n    {\n      \"column\": \"class\",\n      \"properties\": {\n        \"dtype\": \"number\",\n        \"std\": 0,\n        \"min\": 0,\n        \"max\": 1,\n        \"num_unique_values\": 2,\n        \"samples\": [\n          0,\n          1\n        ],\n        \"semantic_type\": \"\",\n        \"description\": \"\"\n      }\n    }\n  ]\n}"
            }
          },
          "metadata": {},
          "execution_count": 61
        }
      ]
    },
    {
      "cell_type": "markdown",
      "source": [
        "При помощи метода <code>.describe()</code> изучите набор данных «с высоты птичьего полета»."
      ],
      "metadata": {
        "id": "7gPhTkzt2vey"
      }
    },
    {
      "cell_type": "code",
      "source": [
        "df.describe()"
      ],
      "metadata": {
        "id": "MUO2PzGE2vC3",
        "colab": {
          "base_uri": "https://localhost:8080/",
          "height": 300
        },
        "outputId": "922d196e-9e32-40e9-850d-d82117c9ede9"
      },
      "execution_count": 62,
      "outputs": [
        {
          "output_type": "execute_result",
          "data": {
            "text/plain": [
              "               date           day        period      nswprice     nswdemand  \\\n",
              "count  36249.000000  36249.000000  36249.000000  36249.000000  36249.000000   \n",
              "mean       0.498293      4.006566      0.500560      0.057828      0.425939   \n",
              "std        0.339907      1.993551      0.294998      0.039052      0.163390   \n",
              "min        0.000000      1.000000      0.000000      0.000000      0.000000   \n",
              "25%        0.031945      2.000000      0.255319      0.035187      0.309729   \n",
              "50%        0.456263      4.000000      0.510638      0.048787      0.444213   \n",
              "75%        0.880492      6.000000      0.765957      0.074457      0.536745   \n",
              "max        1.000000      7.000000      1.000000      1.000000      0.980809   \n",
              "\n",
              "           vicprice     vicdemand      transfer         class  \n",
              "count  36249.000000  36249.000000  36249.000000  36249.000000  \n",
              "mean       0.003455      0.423024      0.500243      0.424536  \n",
              "std        0.010175      0.120600      0.153098      0.494279  \n",
              "min        0.000000      0.000000      0.000000      0.000000  \n",
              "25%        0.002283      0.373382      0.414912      0.000000  \n",
              "50%        0.003467      0.422915      0.414912      0.000000  \n",
              "75%        0.003467      0.468669      0.605263      1.000000  \n",
              "max        1.000000      1.000000      0.959211      1.000000  "
            ],
            "text/html": [
              "\n",
              "  <div id=\"df-27366766-6d2a-4002-bd7e-67e480eb8916\" class=\"colab-df-container\">\n",
              "    <div>\n",
              "<style scoped>\n",
              "    .dataframe tbody tr th:only-of-type {\n",
              "        vertical-align: middle;\n",
              "    }\n",
              "\n",
              "    .dataframe tbody tr th {\n",
              "        vertical-align: top;\n",
              "    }\n",
              "\n",
              "    .dataframe thead th {\n",
              "        text-align: right;\n",
              "    }\n",
              "</style>\n",
              "<table border=\"1\" class=\"dataframe\">\n",
              "  <thead>\n",
              "    <tr style=\"text-align: right;\">\n",
              "      <th></th>\n",
              "      <th>date</th>\n",
              "      <th>day</th>\n",
              "      <th>period</th>\n",
              "      <th>nswprice</th>\n",
              "      <th>nswdemand</th>\n",
              "      <th>vicprice</th>\n",
              "      <th>vicdemand</th>\n",
              "      <th>transfer</th>\n",
              "      <th>class</th>\n",
              "    </tr>\n",
              "  </thead>\n",
              "  <tbody>\n",
              "    <tr>\n",
              "      <th>count</th>\n",
              "      <td>36249.000000</td>\n",
              "      <td>36249.000000</td>\n",
              "      <td>36249.000000</td>\n",
              "      <td>36249.000000</td>\n",
              "      <td>36249.000000</td>\n",
              "      <td>36249.000000</td>\n",
              "      <td>36249.000000</td>\n",
              "      <td>36249.000000</td>\n",
              "      <td>36249.000000</td>\n",
              "    </tr>\n",
              "    <tr>\n",
              "      <th>mean</th>\n",
              "      <td>0.498293</td>\n",
              "      <td>4.006566</td>\n",
              "      <td>0.500560</td>\n",
              "      <td>0.057828</td>\n",
              "      <td>0.425939</td>\n",
              "      <td>0.003455</td>\n",
              "      <td>0.423024</td>\n",
              "      <td>0.500243</td>\n",
              "      <td>0.424536</td>\n",
              "    </tr>\n",
              "    <tr>\n",
              "      <th>std</th>\n",
              "      <td>0.339907</td>\n",
              "      <td>1.993551</td>\n",
              "      <td>0.294998</td>\n",
              "      <td>0.039052</td>\n",
              "      <td>0.163390</td>\n",
              "      <td>0.010175</td>\n",
              "      <td>0.120600</td>\n",
              "      <td>0.153098</td>\n",
              "      <td>0.494279</td>\n",
              "    </tr>\n",
              "    <tr>\n",
              "      <th>min</th>\n",
              "      <td>0.000000</td>\n",
              "      <td>1.000000</td>\n",
              "      <td>0.000000</td>\n",
              "      <td>0.000000</td>\n",
              "      <td>0.000000</td>\n",
              "      <td>0.000000</td>\n",
              "      <td>0.000000</td>\n",
              "      <td>0.000000</td>\n",
              "      <td>0.000000</td>\n",
              "    </tr>\n",
              "    <tr>\n",
              "      <th>25%</th>\n",
              "      <td>0.031945</td>\n",
              "      <td>2.000000</td>\n",
              "      <td>0.255319</td>\n",
              "      <td>0.035187</td>\n",
              "      <td>0.309729</td>\n",
              "      <td>0.002283</td>\n",
              "      <td>0.373382</td>\n",
              "      <td>0.414912</td>\n",
              "      <td>0.000000</td>\n",
              "    </tr>\n",
              "    <tr>\n",
              "      <th>50%</th>\n",
              "      <td>0.456263</td>\n",
              "      <td>4.000000</td>\n",
              "      <td>0.510638</td>\n",
              "      <td>0.048787</td>\n",
              "      <td>0.444213</td>\n",
              "      <td>0.003467</td>\n",
              "      <td>0.422915</td>\n",
              "      <td>0.414912</td>\n",
              "      <td>0.000000</td>\n",
              "    </tr>\n",
              "    <tr>\n",
              "      <th>75%</th>\n",
              "      <td>0.880492</td>\n",
              "      <td>6.000000</td>\n",
              "      <td>0.765957</td>\n",
              "      <td>0.074457</td>\n",
              "      <td>0.536745</td>\n",
              "      <td>0.003467</td>\n",
              "      <td>0.468669</td>\n",
              "      <td>0.605263</td>\n",
              "      <td>1.000000</td>\n",
              "    </tr>\n",
              "    <tr>\n",
              "      <th>max</th>\n",
              "      <td>1.000000</td>\n",
              "      <td>7.000000</td>\n",
              "      <td>1.000000</td>\n",
              "      <td>1.000000</td>\n",
              "      <td>0.980809</td>\n",
              "      <td>1.000000</td>\n",
              "      <td>1.000000</td>\n",
              "      <td>0.959211</td>\n",
              "      <td>1.000000</td>\n",
              "    </tr>\n",
              "  </tbody>\n",
              "</table>\n",
              "</div>\n",
              "    <div class=\"colab-df-buttons\">\n",
              "\n",
              "  <div class=\"colab-df-container\">\n",
              "    <button class=\"colab-df-convert\" onclick=\"convertToInteractive('df-27366766-6d2a-4002-bd7e-67e480eb8916')\"\n",
              "            title=\"Convert this dataframe to an interactive table.\"\n",
              "            style=\"display:none;\">\n",
              "\n",
              "  <svg xmlns=\"http://www.w3.org/2000/svg\" height=\"24px\" viewBox=\"0 -960 960 960\">\n",
              "    <path d=\"M120-120v-720h720v720H120Zm60-500h600v-160H180v160Zm220 220h160v-160H400v160Zm0 220h160v-160H400v160ZM180-400h160v-160H180v160Zm440 0h160v-160H620v160ZM180-180h160v-160H180v160Zm440 0h160v-160H620v160Z\"/>\n",
              "  </svg>\n",
              "    </button>\n",
              "\n",
              "  <style>\n",
              "    .colab-df-container {\n",
              "      display:flex;\n",
              "      gap: 12px;\n",
              "    }\n",
              "\n",
              "    .colab-df-convert {\n",
              "      background-color: #E8F0FE;\n",
              "      border: none;\n",
              "      border-radius: 50%;\n",
              "      cursor: pointer;\n",
              "      display: none;\n",
              "      fill: #1967D2;\n",
              "      height: 32px;\n",
              "      padding: 0 0 0 0;\n",
              "      width: 32px;\n",
              "    }\n",
              "\n",
              "    .colab-df-convert:hover {\n",
              "      background-color: #E2EBFA;\n",
              "      box-shadow: 0px 1px 2px rgba(60, 64, 67, 0.3), 0px 1px 3px 1px rgba(60, 64, 67, 0.15);\n",
              "      fill: #174EA6;\n",
              "    }\n",
              "\n",
              "    .colab-df-buttons div {\n",
              "      margin-bottom: 4px;\n",
              "    }\n",
              "\n",
              "    [theme=dark] .colab-df-convert {\n",
              "      background-color: #3B4455;\n",
              "      fill: #D2E3FC;\n",
              "    }\n",
              "\n",
              "    [theme=dark] .colab-df-convert:hover {\n",
              "      background-color: #434B5C;\n",
              "      box-shadow: 0px 1px 3px 1px rgba(0, 0, 0, 0.15);\n",
              "      filter: drop-shadow(0px 1px 2px rgba(0, 0, 0, 0.3));\n",
              "      fill: #FFFFFF;\n",
              "    }\n",
              "  </style>\n",
              "\n",
              "    <script>\n",
              "      const buttonEl =\n",
              "        document.querySelector('#df-27366766-6d2a-4002-bd7e-67e480eb8916 button.colab-df-convert');\n",
              "      buttonEl.style.display =\n",
              "        google.colab.kernel.accessAllowed ? 'block' : 'none';\n",
              "\n",
              "      async function convertToInteractive(key) {\n",
              "        const element = document.querySelector('#df-27366766-6d2a-4002-bd7e-67e480eb8916');\n",
              "        const dataTable =\n",
              "          await google.colab.kernel.invokeFunction('convertToInteractive',\n",
              "                                                    [key], {});\n",
              "        if (!dataTable) return;\n",
              "\n",
              "        const docLinkHtml = 'Like what you see? Visit the ' +\n",
              "          '<a target=\"_blank\" href=https://colab.research.google.com/notebooks/data_table.ipynb>data table notebook</a>'\n",
              "          + ' to learn more about interactive tables.';\n",
              "        element.innerHTML = '';\n",
              "        dataTable['output_type'] = 'display_data';\n",
              "        await google.colab.output.renderOutput(dataTable, element);\n",
              "        const docLink = document.createElement('div');\n",
              "        docLink.innerHTML = docLinkHtml;\n",
              "        element.appendChild(docLink);\n",
              "      }\n",
              "    </script>\n",
              "  </div>\n",
              "\n",
              "\n",
              "<div id=\"df-8e736f58-ef38-43e7-98b9-d956a317310d\">\n",
              "  <button class=\"colab-df-quickchart\" onclick=\"quickchart('df-8e736f58-ef38-43e7-98b9-d956a317310d')\"\n",
              "            title=\"Suggest charts\"\n",
              "            style=\"display:none;\">\n",
              "\n",
              "<svg xmlns=\"http://www.w3.org/2000/svg\" height=\"24px\"viewBox=\"0 0 24 24\"\n",
              "     width=\"24px\">\n",
              "    <g>\n",
              "        <path d=\"M19 3H5c-1.1 0-2 .9-2 2v14c0 1.1.9 2 2 2h14c1.1 0 2-.9 2-2V5c0-1.1-.9-2-2-2zM9 17H7v-7h2v7zm4 0h-2V7h2v10zm4 0h-2v-4h2v4z\"/>\n",
              "    </g>\n",
              "</svg>\n",
              "  </button>\n",
              "\n",
              "<style>\n",
              "  .colab-df-quickchart {\n",
              "      --bg-color: #E8F0FE;\n",
              "      --fill-color: #1967D2;\n",
              "      --hover-bg-color: #E2EBFA;\n",
              "      --hover-fill-color: #174EA6;\n",
              "      --disabled-fill-color: #AAA;\n",
              "      --disabled-bg-color: #DDD;\n",
              "  }\n",
              "\n",
              "  [theme=dark] .colab-df-quickchart {\n",
              "      --bg-color: #3B4455;\n",
              "      --fill-color: #D2E3FC;\n",
              "      --hover-bg-color: #434B5C;\n",
              "      --hover-fill-color: #FFFFFF;\n",
              "      --disabled-bg-color: #3B4455;\n",
              "      --disabled-fill-color: #666;\n",
              "  }\n",
              "\n",
              "  .colab-df-quickchart {\n",
              "    background-color: var(--bg-color);\n",
              "    border: none;\n",
              "    border-radius: 50%;\n",
              "    cursor: pointer;\n",
              "    display: none;\n",
              "    fill: var(--fill-color);\n",
              "    height: 32px;\n",
              "    padding: 0;\n",
              "    width: 32px;\n",
              "  }\n",
              "\n",
              "  .colab-df-quickchart:hover {\n",
              "    background-color: var(--hover-bg-color);\n",
              "    box-shadow: 0 1px 2px rgba(60, 64, 67, 0.3), 0 1px 3px 1px rgba(60, 64, 67, 0.15);\n",
              "    fill: var(--button-hover-fill-color);\n",
              "  }\n",
              "\n",
              "  .colab-df-quickchart-complete:disabled,\n",
              "  .colab-df-quickchart-complete:disabled:hover {\n",
              "    background-color: var(--disabled-bg-color);\n",
              "    fill: var(--disabled-fill-color);\n",
              "    box-shadow: none;\n",
              "  }\n",
              "\n",
              "  .colab-df-spinner {\n",
              "    border: 2px solid var(--fill-color);\n",
              "    border-color: transparent;\n",
              "    border-bottom-color: var(--fill-color);\n",
              "    animation:\n",
              "      spin 1s steps(1) infinite;\n",
              "  }\n",
              "\n",
              "  @keyframes spin {\n",
              "    0% {\n",
              "      border-color: transparent;\n",
              "      border-bottom-color: var(--fill-color);\n",
              "      border-left-color: var(--fill-color);\n",
              "    }\n",
              "    20% {\n",
              "      border-color: transparent;\n",
              "      border-left-color: var(--fill-color);\n",
              "      border-top-color: var(--fill-color);\n",
              "    }\n",
              "    30% {\n",
              "      border-color: transparent;\n",
              "      border-left-color: var(--fill-color);\n",
              "      border-top-color: var(--fill-color);\n",
              "      border-right-color: var(--fill-color);\n",
              "    }\n",
              "    40% {\n",
              "      border-color: transparent;\n",
              "      border-right-color: var(--fill-color);\n",
              "      border-top-color: var(--fill-color);\n",
              "    }\n",
              "    60% {\n",
              "      border-color: transparent;\n",
              "      border-right-color: var(--fill-color);\n",
              "    }\n",
              "    80% {\n",
              "      border-color: transparent;\n",
              "      border-right-color: var(--fill-color);\n",
              "      border-bottom-color: var(--fill-color);\n",
              "    }\n",
              "    90% {\n",
              "      border-color: transparent;\n",
              "      border-bottom-color: var(--fill-color);\n",
              "    }\n",
              "  }\n",
              "</style>\n",
              "\n",
              "  <script>\n",
              "    async function quickchart(key) {\n",
              "      const quickchartButtonEl =\n",
              "        document.querySelector('#' + key + ' button');\n",
              "      quickchartButtonEl.disabled = true;  // To prevent multiple clicks.\n",
              "      quickchartButtonEl.classList.add('colab-df-spinner');\n",
              "      try {\n",
              "        const charts = await google.colab.kernel.invokeFunction(\n",
              "            'suggestCharts', [key], {});\n",
              "      } catch (error) {\n",
              "        console.error('Error during call to suggestCharts:', error);\n",
              "      }\n",
              "      quickchartButtonEl.classList.remove('colab-df-spinner');\n",
              "      quickchartButtonEl.classList.add('colab-df-quickchart-complete');\n",
              "    }\n",
              "    (() => {\n",
              "      let quickchartButtonEl =\n",
              "        document.querySelector('#df-8e736f58-ef38-43e7-98b9-d956a317310d button');\n",
              "      quickchartButtonEl.style.display =\n",
              "        google.colab.kernel.accessAllowed ? 'block' : 'none';\n",
              "    })();\n",
              "  </script>\n",
              "</div>\n",
              "    </div>\n",
              "  </div>\n"
            ],
            "application/vnd.google.colaboratory.intrinsic+json": {
              "type": "dataframe",
              "summary": "{\n  \"name\": \"df\",\n  \"rows\": 8,\n  \"fields\": [\n    {\n      \"column\": \"date\",\n      \"properties\": {\n        \"dtype\": \"number\",\n        \"std\": 12815.794887561506,\n        \"min\": 0.0,\n        \"max\": 36249.0,\n        \"num_unique_values\": 8,\n        \"samples\": [\n          0.4982934558470579,\n          0.456263,\n          36249.0\n        ],\n        \"semantic_type\": \"\",\n        \"description\": \"\"\n      }\n    },\n    {\n      \"column\": \"day\",\n      \"properties\": {\n        \"dtype\": \"number\",\n        \"std\": 12814.643815598274,\n        \"min\": 1.0,\n        \"max\": 36249.0,\n        \"num_unique_values\": 8,\n        \"samples\": [\n          4.006565698364093,\n          4.0,\n          36249.0\n        ],\n        \"semantic_type\": \"\",\n        \"description\": \"\"\n      }\n    },\n    {\n      \"column\": \"period\",\n      \"properties\": {\n        \"dtype\": \"number\",\n        \"std\": 12815.788796606475,\n        \"min\": 0.0,\n        \"max\": 36249.0,\n        \"num_unique_values\": 8,\n        \"samples\": [\n          0.5005602500758641,\n          0.510638,\n          36249.0\n        ],\n        \"semantic_type\": \"\",\n        \"description\": \"\"\n      }\n    },\n    {\n      \"column\": \"nswprice\",\n      \"properties\": {\n        \"dtype\": \"number\",\n        \"std\": 12815.893457247254,\n        \"min\": 0.0,\n        \"max\": 36249.0,\n        \"num_unique_values\": 8,\n        \"samples\": [\n          0.05782763196226103,\n          0.048787,\n          36249.0\n        ],\n        \"semantic_type\": \"\",\n        \"description\": \"\"\n      }\n    },\n    {\n      \"column\": \"nswdemand\",\n      \"properties\": {\n        \"dtype\": \"number\",\n        \"std\": 12815.812365404016,\n        \"min\": 0.0,\n        \"max\": 36249.0,\n        \"num_unique_values\": 8,\n        \"samples\": [\n          0.4259388552787663,\n          0.444213,\n          36249.0\n        ],\n        \"semantic_type\": \"\",\n        \"description\": \"\"\n      }\n    },\n    {\n      \"column\": \"vicprice\",\n      \"properties\": {\n        \"dtype\": \"number\",\n        \"std\": 12815.905198774419,\n        \"min\": 0.0,\n        \"max\": 36249.0,\n        \"num_unique_values\": 7,\n        \"samples\": [\n          36249.0,\n          0.0034550981820188147,\n          0.003467\n        ],\n        \"semantic_type\": \"\",\n        \"description\": \"\"\n      }\n    },\n    {\n      \"column\": \"vicdemand\",\n      \"properties\": {\n        \"dtype\": \"number\",\n        \"std\": 12815.815003760616,\n        \"min\": 0.0,\n        \"max\": 36249.0,\n        \"num_unique_values\": 8,\n        \"samples\": [\n          0.42302439314187973,\n          0.422915,\n          36249.0\n        ],\n        \"semantic_type\": \"\",\n        \"description\": \"\"\n      }\n    },\n    {\n      \"column\": \"transfer\",\n      \"properties\": {\n        \"dtype\": \"number\",\n        \"std\": 12815.802929816959,\n        \"min\": 0.0,\n        \"max\": 36249.0,\n        \"num_unique_values\": 7,\n        \"samples\": [\n          36249.0,\n          0.5002427746144721,\n          0.605263\n        ],\n        \"semantic_type\": \"\",\n        \"description\": \"\"\n      }\n    },\n    {\n      \"column\": \"class\",\n      \"properties\": {\n        \"dtype\": \"number\",\n        \"std\": 12815.809439924265,\n        \"min\": 0.0,\n        \"max\": 36249.0,\n        \"num_unique_values\": 5,\n        \"samples\": [\n          0.4245358492648073,\n          1.0,\n          0.4942791739274598\n        ],\n        \"semantic_type\": \"\",\n        \"description\": \"\"\n      }\n    }\n  ]\n}"
            }
          },
          "metadata": {},
          "execution_count": 62
        }
      ]
    },
    {
      "cell_type": "markdown",
      "source": [
        "Убедитесь в отсутствии пропусков. Имеет смысл проверить сбалансированность классов. Введите долю элементов класса $1$."
      ],
      "metadata": {
        "id": "e8Dbk1K-3iho"
      }
    },
    {
      "cell_type": "code",
      "source": [
        "# убедимся в отсутствии пропусков\n",
        "if not(df.isnull().any().any()):\n",
        "  print('Пропусков нет')"
      ],
      "metadata": {
        "id": "dyCm4K_F3xP0",
        "colab": {
          "base_uri": "https://localhost:8080/"
        },
        "outputId": "5cbf99a3-507f-4dbd-970d-751a23ad8033"
      },
      "execution_count": 63,
      "outputs": [
        {
          "output_type": "stream",
          "name": "stdout",
          "text": [
            "Пропусков нет\n"
          ]
        }
      ]
    },
    {
      "cell_type": "code",
      "source": [
        "# вычислим долю элементов класса 1\n",
        "print('Доля элементов класса 1:', round(df['class'].value_counts(normalize=True)[1], 3))"
      ],
      "metadata": {
        "colab": {
          "base_uri": "https://localhost:8080/"
        },
        "id": "4pvkhpzXoutT",
        "outputId": "8f576ff0-76b4-479e-b739-01736cd1aee8"
      },
      "execution_count": 64,
      "outputs": [
        {
          "output_type": "stream",
          "name": "stdout",
          "text": [
            "Доля элементов класса 1: 0.425\n"
          ]
        }
      ]
    },
    {
      "cell_type": "markdown",
      "source": [
        "Постройте матрицу корреляций. Определите пару наиболее коррелированных признаков."
      ],
      "metadata": {
        "id": "9yAaZWOE4Ufo"
      }
    },
    {
      "cell_type": "code",
      "source": [
        "# построим матрицу корреляций\n",
        "corr_matrix = round(df.corr(), 3)\n",
        "corr_matrix"
      ],
      "metadata": {
        "id": "TflVyF8U4a4d",
        "colab": {
          "base_uri": "https://localhost:8080/",
          "height": 332
        },
        "outputId": "d11a188f-2164-44a8-893f-302db086732a"
      },
      "execution_count": 65,
      "outputs": [
        {
          "output_type": "execute_result",
          "data": {
            "text/plain": [
              "            date    day  period  nswprice  nswdemand  vicprice  vicdemand  \\\n",
              "date       1.000  0.006   0.002    -0.154      0.068     0.002      0.057   \n",
              "day        0.006  1.000  -0.000     0.003     -0.053     0.001      0.077   \n",
              "period     0.002 -0.000   1.000     0.105      0.445     0.023      0.192   \n",
              "nswprice  -0.154  0.003   0.105     1.000      0.307     0.288      0.304   \n",
              "nswdemand  0.068 -0.053   0.445     0.307      1.000     0.084      0.667   \n",
              "vicprice   0.002  0.001   0.023     0.288      0.084     1.000      0.125   \n",
              "vicdemand  0.057  0.077   0.192     0.304      0.667     0.125      1.000   \n",
              "transfer   0.406 -0.053  -0.115    -0.275     -0.264    -0.081     -0.553   \n",
              "class     -0.004 -0.047   0.154     0.386      0.332     0.066      0.232   \n",
              "\n",
              "           transfer  class  \n",
              "date          0.406 -0.004  \n",
              "day          -0.053 -0.047  \n",
              "period       -0.115  0.154  \n",
              "nswprice     -0.275  0.386  \n",
              "nswdemand    -0.264  0.332  \n",
              "vicprice     -0.081  0.066  \n",
              "vicdemand    -0.553  0.232  \n",
              "transfer      1.000 -0.120  \n",
              "class        -0.120  1.000  "
            ],
            "text/html": [
              "\n",
              "  <div id=\"df-48037c70-b895-4fa6-a371-ca79a3b2b92b\" class=\"colab-df-container\">\n",
              "    <div>\n",
              "<style scoped>\n",
              "    .dataframe tbody tr th:only-of-type {\n",
              "        vertical-align: middle;\n",
              "    }\n",
              "\n",
              "    .dataframe tbody tr th {\n",
              "        vertical-align: top;\n",
              "    }\n",
              "\n",
              "    .dataframe thead th {\n",
              "        text-align: right;\n",
              "    }\n",
              "</style>\n",
              "<table border=\"1\" class=\"dataframe\">\n",
              "  <thead>\n",
              "    <tr style=\"text-align: right;\">\n",
              "      <th></th>\n",
              "      <th>date</th>\n",
              "      <th>day</th>\n",
              "      <th>period</th>\n",
              "      <th>nswprice</th>\n",
              "      <th>nswdemand</th>\n",
              "      <th>vicprice</th>\n",
              "      <th>vicdemand</th>\n",
              "      <th>transfer</th>\n",
              "      <th>class</th>\n",
              "    </tr>\n",
              "  </thead>\n",
              "  <tbody>\n",
              "    <tr>\n",
              "      <th>date</th>\n",
              "      <td>1.000</td>\n",
              "      <td>0.006</td>\n",
              "      <td>0.002</td>\n",
              "      <td>-0.154</td>\n",
              "      <td>0.068</td>\n",
              "      <td>0.002</td>\n",
              "      <td>0.057</td>\n",
              "      <td>0.406</td>\n",
              "      <td>-0.004</td>\n",
              "    </tr>\n",
              "    <tr>\n",
              "      <th>day</th>\n",
              "      <td>0.006</td>\n",
              "      <td>1.000</td>\n",
              "      <td>-0.000</td>\n",
              "      <td>0.003</td>\n",
              "      <td>-0.053</td>\n",
              "      <td>0.001</td>\n",
              "      <td>0.077</td>\n",
              "      <td>-0.053</td>\n",
              "      <td>-0.047</td>\n",
              "    </tr>\n",
              "    <tr>\n",
              "      <th>period</th>\n",
              "      <td>0.002</td>\n",
              "      <td>-0.000</td>\n",
              "      <td>1.000</td>\n",
              "      <td>0.105</td>\n",
              "      <td>0.445</td>\n",
              "      <td>0.023</td>\n",
              "      <td>0.192</td>\n",
              "      <td>-0.115</td>\n",
              "      <td>0.154</td>\n",
              "    </tr>\n",
              "    <tr>\n",
              "      <th>nswprice</th>\n",
              "      <td>-0.154</td>\n",
              "      <td>0.003</td>\n",
              "      <td>0.105</td>\n",
              "      <td>1.000</td>\n",
              "      <td>0.307</td>\n",
              "      <td>0.288</td>\n",
              "      <td>0.304</td>\n",
              "      <td>-0.275</td>\n",
              "      <td>0.386</td>\n",
              "    </tr>\n",
              "    <tr>\n",
              "      <th>nswdemand</th>\n",
              "      <td>0.068</td>\n",
              "      <td>-0.053</td>\n",
              "      <td>0.445</td>\n",
              "      <td>0.307</td>\n",
              "      <td>1.000</td>\n",
              "      <td>0.084</td>\n",
              "      <td>0.667</td>\n",
              "      <td>-0.264</td>\n",
              "      <td>0.332</td>\n",
              "    </tr>\n",
              "    <tr>\n",
              "      <th>vicprice</th>\n",
              "      <td>0.002</td>\n",
              "      <td>0.001</td>\n",
              "      <td>0.023</td>\n",
              "      <td>0.288</td>\n",
              "      <td>0.084</td>\n",
              "      <td>1.000</td>\n",
              "      <td>0.125</td>\n",
              "      <td>-0.081</td>\n",
              "      <td>0.066</td>\n",
              "    </tr>\n",
              "    <tr>\n",
              "      <th>vicdemand</th>\n",
              "      <td>0.057</td>\n",
              "      <td>0.077</td>\n",
              "      <td>0.192</td>\n",
              "      <td>0.304</td>\n",
              "      <td>0.667</td>\n",
              "      <td>0.125</td>\n",
              "      <td>1.000</td>\n",
              "      <td>-0.553</td>\n",
              "      <td>0.232</td>\n",
              "    </tr>\n",
              "    <tr>\n",
              "      <th>transfer</th>\n",
              "      <td>0.406</td>\n",
              "      <td>-0.053</td>\n",
              "      <td>-0.115</td>\n",
              "      <td>-0.275</td>\n",
              "      <td>-0.264</td>\n",
              "      <td>-0.081</td>\n",
              "      <td>-0.553</td>\n",
              "      <td>1.000</td>\n",
              "      <td>-0.120</td>\n",
              "    </tr>\n",
              "    <tr>\n",
              "      <th>class</th>\n",
              "      <td>-0.004</td>\n",
              "      <td>-0.047</td>\n",
              "      <td>0.154</td>\n",
              "      <td>0.386</td>\n",
              "      <td>0.332</td>\n",
              "      <td>0.066</td>\n",
              "      <td>0.232</td>\n",
              "      <td>-0.120</td>\n",
              "      <td>1.000</td>\n",
              "    </tr>\n",
              "  </tbody>\n",
              "</table>\n",
              "</div>\n",
              "    <div class=\"colab-df-buttons\">\n",
              "\n",
              "  <div class=\"colab-df-container\">\n",
              "    <button class=\"colab-df-convert\" onclick=\"convertToInteractive('df-48037c70-b895-4fa6-a371-ca79a3b2b92b')\"\n",
              "            title=\"Convert this dataframe to an interactive table.\"\n",
              "            style=\"display:none;\">\n",
              "\n",
              "  <svg xmlns=\"http://www.w3.org/2000/svg\" height=\"24px\" viewBox=\"0 -960 960 960\">\n",
              "    <path d=\"M120-120v-720h720v720H120Zm60-500h600v-160H180v160Zm220 220h160v-160H400v160Zm0 220h160v-160H400v160ZM180-400h160v-160H180v160Zm440 0h160v-160H620v160ZM180-180h160v-160H180v160Zm440 0h160v-160H620v160Z\"/>\n",
              "  </svg>\n",
              "    </button>\n",
              "\n",
              "  <style>\n",
              "    .colab-df-container {\n",
              "      display:flex;\n",
              "      gap: 12px;\n",
              "    }\n",
              "\n",
              "    .colab-df-convert {\n",
              "      background-color: #E8F0FE;\n",
              "      border: none;\n",
              "      border-radius: 50%;\n",
              "      cursor: pointer;\n",
              "      display: none;\n",
              "      fill: #1967D2;\n",
              "      height: 32px;\n",
              "      padding: 0 0 0 0;\n",
              "      width: 32px;\n",
              "    }\n",
              "\n",
              "    .colab-df-convert:hover {\n",
              "      background-color: #E2EBFA;\n",
              "      box-shadow: 0px 1px 2px rgba(60, 64, 67, 0.3), 0px 1px 3px 1px rgba(60, 64, 67, 0.15);\n",
              "      fill: #174EA6;\n",
              "    }\n",
              "\n",
              "    .colab-df-buttons div {\n",
              "      margin-bottom: 4px;\n",
              "    }\n",
              "\n",
              "    [theme=dark] .colab-df-convert {\n",
              "      background-color: #3B4455;\n",
              "      fill: #D2E3FC;\n",
              "    }\n",
              "\n",
              "    [theme=dark] .colab-df-convert:hover {\n",
              "      background-color: #434B5C;\n",
              "      box-shadow: 0px 1px 3px 1px rgba(0, 0, 0, 0.15);\n",
              "      filter: drop-shadow(0px 1px 2px rgba(0, 0, 0, 0.3));\n",
              "      fill: #FFFFFF;\n",
              "    }\n",
              "  </style>\n",
              "\n",
              "    <script>\n",
              "      const buttonEl =\n",
              "        document.querySelector('#df-48037c70-b895-4fa6-a371-ca79a3b2b92b button.colab-df-convert');\n",
              "      buttonEl.style.display =\n",
              "        google.colab.kernel.accessAllowed ? 'block' : 'none';\n",
              "\n",
              "      async function convertToInteractive(key) {\n",
              "        const element = document.querySelector('#df-48037c70-b895-4fa6-a371-ca79a3b2b92b');\n",
              "        const dataTable =\n",
              "          await google.colab.kernel.invokeFunction('convertToInteractive',\n",
              "                                                    [key], {});\n",
              "        if (!dataTable) return;\n",
              "\n",
              "        const docLinkHtml = 'Like what you see? Visit the ' +\n",
              "          '<a target=\"_blank\" href=https://colab.research.google.com/notebooks/data_table.ipynb>data table notebook</a>'\n",
              "          + ' to learn more about interactive tables.';\n",
              "        element.innerHTML = '';\n",
              "        dataTable['output_type'] = 'display_data';\n",
              "        await google.colab.output.renderOutput(dataTable, element);\n",
              "        const docLink = document.createElement('div');\n",
              "        docLink.innerHTML = docLinkHtml;\n",
              "        element.appendChild(docLink);\n",
              "      }\n",
              "    </script>\n",
              "  </div>\n",
              "\n",
              "\n",
              "<div id=\"df-86295b4f-5908-42ce-a96a-aa00961cf5b4\">\n",
              "  <button class=\"colab-df-quickchart\" onclick=\"quickchart('df-86295b4f-5908-42ce-a96a-aa00961cf5b4')\"\n",
              "            title=\"Suggest charts\"\n",
              "            style=\"display:none;\">\n",
              "\n",
              "<svg xmlns=\"http://www.w3.org/2000/svg\" height=\"24px\"viewBox=\"0 0 24 24\"\n",
              "     width=\"24px\">\n",
              "    <g>\n",
              "        <path d=\"M19 3H5c-1.1 0-2 .9-2 2v14c0 1.1.9 2 2 2h14c1.1 0 2-.9 2-2V5c0-1.1-.9-2-2-2zM9 17H7v-7h2v7zm4 0h-2V7h2v10zm4 0h-2v-4h2v4z\"/>\n",
              "    </g>\n",
              "</svg>\n",
              "  </button>\n",
              "\n",
              "<style>\n",
              "  .colab-df-quickchart {\n",
              "      --bg-color: #E8F0FE;\n",
              "      --fill-color: #1967D2;\n",
              "      --hover-bg-color: #E2EBFA;\n",
              "      --hover-fill-color: #174EA6;\n",
              "      --disabled-fill-color: #AAA;\n",
              "      --disabled-bg-color: #DDD;\n",
              "  }\n",
              "\n",
              "  [theme=dark] .colab-df-quickchart {\n",
              "      --bg-color: #3B4455;\n",
              "      --fill-color: #D2E3FC;\n",
              "      --hover-bg-color: #434B5C;\n",
              "      --hover-fill-color: #FFFFFF;\n",
              "      --disabled-bg-color: #3B4455;\n",
              "      --disabled-fill-color: #666;\n",
              "  }\n",
              "\n",
              "  .colab-df-quickchart {\n",
              "    background-color: var(--bg-color);\n",
              "    border: none;\n",
              "    border-radius: 50%;\n",
              "    cursor: pointer;\n",
              "    display: none;\n",
              "    fill: var(--fill-color);\n",
              "    height: 32px;\n",
              "    padding: 0;\n",
              "    width: 32px;\n",
              "  }\n",
              "\n",
              "  .colab-df-quickchart:hover {\n",
              "    background-color: var(--hover-bg-color);\n",
              "    box-shadow: 0 1px 2px rgba(60, 64, 67, 0.3), 0 1px 3px 1px rgba(60, 64, 67, 0.15);\n",
              "    fill: var(--button-hover-fill-color);\n",
              "  }\n",
              "\n",
              "  .colab-df-quickchart-complete:disabled,\n",
              "  .colab-df-quickchart-complete:disabled:hover {\n",
              "    background-color: var(--disabled-bg-color);\n",
              "    fill: var(--disabled-fill-color);\n",
              "    box-shadow: none;\n",
              "  }\n",
              "\n",
              "  .colab-df-spinner {\n",
              "    border: 2px solid var(--fill-color);\n",
              "    border-color: transparent;\n",
              "    border-bottom-color: var(--fill-color);\n",
              "    animation:\n",
              "      spin 1s steps(1) infinite;\n",
              "  }\n",
              "\n",
              "  @keyframes spin {\n",
              "    0% {\n",
              "      border-color: transparent;\n",
              "      border-bottom-color: var(--fill-color);\n",
              "      border-left-color: var(--fill-color);\n",
              "    }\n",
              "    20% {\n",
              "      border-color: transparent;\n",
              "      border-left-color: var(--fill-color);\n",
              "      border-top-color: var(--fill-color);\n",
              "    }\n",
              "    30% {\n",
              "      border-color: transparent;\n",
              "      border-left-color: var(--fill-color);\n",
              "      border-top-color: var(--fill-color);\n",
              "      border-right-color: var(--fill-color);\n",
              "    }\n",
              "    40% {\n",
              "      border-color: transparent;\n",
              "      border-right-color: var(--fill-color);\n",
              "      border-top-color: var(--fill-color);\n",
              "    }\n",
              "    60% {\n",
              "      border-color: transparent;\n",
              "      border-right-color: var(--fill-color);\n",
              "    }\n",
              "    80% {\n",
              "      border-color: transparent;\n",
              "      border-right-color: var(--fill-color);\n",
              "      border-bottom-color: var(--fill-color);\n",
              "    }\n",
              "    90% {\n",
              "      border-color: transparent;\n",
              "      border-bottom-color: var(--fill-color);\n",
              "    }\n",
              "  }\n",
              "</style>\n",
              "\n",
              "  <script>\n",
              "    async function quickchart(key) {\n",
              "      const quickchartButtonEl =\n",
              "        document.querySelector('#' + key + ' button');\n",
              "      quickchartButtonEl.disabled = true;  // To prevent multiple clicks.\n",
              "      quickchartButtonEl.classList.add('colab-df-spinner');\n",
              "      try {\n",
              "        const charts = await google.colab.kernel.invokeFunction(\n",
              "            'suggestCharts', [key], {});\n",
              "      } catch (error) {\n",
              "        console.error('Error during call to suggestCharts:', error);\n",
              "      }\n",
              "      quickchartButtonEl.classList.remove('colab-df-spinner');\n",
              "      quickchartButtonEl.classList.add('colab-df-quickchart-complete');\n",
              "    }\n",
              "    (() => {\n",
              "      let quickchartButtonEl =\n",
              "        document.querySelector('#df-86295b4f-5908-42ce-a96a-aa00961cf5b4 button');\n",
              "      quickchartButtonEl.style.display =\n",
              "        google.colab.kernel.accessAllowed ? 'block' : 'none';\n",
              "    })();\n",
              "  </script>\n",
              "</div>\n",
              "    </div>\n",
              "  </div>\n"
            ],
            "application/vnd.google.colaboratory.intrinsic+json": {
              "type": "dataframe",
              "variable_name": "corr_matrix",
              "summary": "{\n  \"name\": \"corr_matrix\",\n  \"rows\": 9,\n  \"fields\": [\n    {\n      \"column\": \"date\",\n      \"properties\": {\n        \"dtype\": \"number\",\n        \"std\": 0.35070714278440357,\n        \"min\": -0.154,\n        \"max\": 1.0,\n        \"num_unique_values\": 8,\n        \"samples\": [\n          0.006,\n          0.057,\n          1.0\n        ],\n        \"semantic_type\": \"\",\n        \"description\": \"\"\n      }\n    },\n    {\n      \"column\": \"day\",\n      \"properties\": {\n        \"dtype\": \"number\",\n        \"std\": 0.33853979743073703,\n        \"min\": -0.053,\n        \"max\": 1.0,\n        \"num_unique_values\": 8,\n        \"samples\": [\n          1.0,\n          0.001,\n          0.006\n        ],\n        \"semantic_type\": \"\",\n        \"description\": \"\"\n      }\n    },\n    {\n      \"column\": \"period\",\n      \"properties\": {\n        \"dtype\": \"number\",\n        \"std\": 0.3392978042958722,\n        \"min\": -0.115,\n        \"max\": 1.0,\n        \"num_unique_values\": 9,\n        \"samples\": [\n          -0.115,\n          -0.0,\n          0.023\n        ],\n        \"semantic_type\": \"\",\n        \"description\": \"\"\n      }\n    },\n    {\n      \"column\": \"nswprice\",\n      \"properties\": {\n        \"dtype\": \"number\",\n        \"std\": 0.37087591515821633,\n        \"min\": -0.275,\n        \"max\": 1.0,\n        \"num_unique_values\": 9,\n        \"samples\": [\n          -0.275,\n          0.003,\n          0.288\n        ],\n        \"semantic_type\": \"\",\n        \"description\": \"\"\n      }\n    },\n    {\n      \"column\": \"nswdemand\",\n      \"properties\": {\n        \"dtype\": \"number\",\n        \"std\": 0.3854426027309384,\n        \"min\": -0.264,\n        \"max\": 1.0,\n        \"num_unique_values\": 9,\n        \"samples\": [\n          -0.264,\n          -0.053,\n          0.084\n        ],\n        \"semantic_type\": \"\",\n        \"description\": \"\"\n      }\n    },\n    {\n      \"column\": \"vicprice\",\n      \"properties\": {\n        \"dtype\": \"number\",\n        \"std\": 0.3287100208052346,\n        \"min\": -0.081,\n        \"max\": 1.0,\n        \"num_unique_values\": 9,\n        \"samples\": [\n          -0.081,\n          0.001,\n          1.0\n        ],\n        \"semantic_type\": \"\",\n        \"description\": \"\"\n      }\n    },\n    {\n      \"column\": \"vicdemand\",\n      \"properties\": {\n        \"dtype\": \"number\",\n        \"std\": 0.4283891662703176,\n        \"min\": -0.553,\n        \"max\": 1.0,\n        \"num_unique_values\": 9,\n        \"samples\": [\n          -0.553,\n          0.077,\n          0.125\n        ],\n        \"semantic_type\": \"\",\n        \"description\": \"\"\n      }\n    },\n    {\n      \"column\": \"transfer\",\n      \"properties\": {\n        \"dtype\": \"number\",\n        \"std\": 0.45450864800475593,\n        \"min\": -0.553,\n        \"max\": 1.0,\n        \"num_unique_values\": 9,\n        \"samples\": [\n          1.0,\n          -0.053,\n          -0.081\n        ],\n        \"semantic_type\": \"\",\n        \"description\": \"\"\n      }\n    },\n    {\n      \"column\": \"class\",\n      \"properties\": {\n        \"dtype\": \"number\",\n        \"std\": 0.3379609609276064,\n        \"min\": -0.12,\n        \"max\": 1.0,\n        \"num_unique_values\": 9,\n        \"samples\": [\n          -0.12,\n          -0.047,\n          0.066\n        ],\n        \"semantic_type\": \"\",\n        \"description\": \"\"\n      }\n    }\n  ]\n}"
            }
          },
          "metadata": {},
          "execution_count": 65
        }
      ]
    },
    {
      "cell_type": "code",
      "source": [
        "# построим тепловую карту для наглядности\n",
        "sns.heatmap(corr_matrix, annot=True, cmap='coolwarm')\n",
        "plt.show()"
      ],
      "metadata": {
        "colab": {
          "base_uri": "https://localhost:8080/",
          "height": 506
        },
        "id": "XUeJa-nqpPt0",
        "outputId": "4eb553f5-e6f5-4f3d-bed0-08c2673ed03c"
      },
      "execution_count": 66,
      "outputs": [
        {
          "output_type": "display_data",
          "data": {
            "text/plain": [
              "<Figure size 640x480 with 2 Axes>"
            ],
            "image/png": "[encoded data removed]"
          },
          "metadata": {}
        }
      ]
    },
    {
      "cell_type": "code",
      "source": [
        "# определим пару наиболее коррелированных признаков\n",
        "max_correlation, max_correlated = 0, []\n",
        "\n",
        "for i in range(1, len(corr_matrix)):\n",
        "  for j in range(i + 1, len(corr_matrix)):\n",
        "    value = abs(corr_matrix.iloc[i, j])\n",
        "    if value > max_correlation:\n",
        "      max_correlation, max_correlated = value, [corr_matrix.index[i], corr_matrix.columns[j]]\n",
        "\n",
        "print(f'Наиболее коррелируют признаки: {max_correlated[0]}, {max_correlated[1]}')"
      ],
      "metadata": {
        "colab": {
          "base_uri": "https://localhost:8080/"
        },
        "id": "wrm-Ge4hpd9C",
        "outputId": "570758f1-1285-475a-b4ae-a5cde3be5ee3"
      },
      "execution_count": 67,
      "outputs": [
        {
          "output_type": "stream",
          "name": "stdout",
          "text": [
            "Наиболее коррелируют признаки: nswdemand, vicdemand\n"
          ]
        }
      ]
    },
    {
      "cell_type": "markdown",
      "source": [
        "Постройте гистограммы распределений признаков."
      ],
      "metadata": {
        "id": "p86olWnORJrC"
      }
    },
    {
      "cell_type": "code",
      "source": [
        "# определим количество признаков\n",
        "len(df.columns) - 1"
      ],
      "metadata": {
        "colab": {
          "base_uri": "https://localhost:8080/"
        },
        "id": "uDYUOo9trN6h",
        "outputId": "eac286b3-08b6-41d3-8e5b-62e82046874e"
      },
      "execution_count": 68,
      "outputs": [
        {
          "output_type": "execute_result",
          "data": {
            "text/plain": [
              "8"
            ]
          },
          "metadata": {},
          "execution_count": 68
        }
      ]
    },
    {
      "cell_type": "code",
      "source": [
        "fig, ax = plt.subplots(2, 4, figsize=(10, 5))\n",
        "\n",
        "for ax, column in zip(ax.flat, df.drop(columns='class').columns):\n",
        "  ax.hist(df[column], bins=20)\n",
        "  ax.set_title(column)\n",
        "\n",
        "plt.tight_layout()\n",
        "plt.show()"
      ],
      "metadata": {
        "id": "LIZiSMpV6Dmf",
        "colab": {
          "base_uri": "https://localhost:8080/",
          "height": 507
        },
        "outputId": "9015f10b-5f92-4dae-e6b0-87171cb5a1ba"
      },
      "execution_count": 69,
      "outputs": [
        {
          "output_type": "display_data",
          "data": {
            "text/plain": [
              "<Figure size 1000x500 with 8 Axes>"
            ],
            "image/png": "[encoded data removed]"
          },
          "metadata": {}
        }
      ]
    },
    {
      "cell_type": "markdown",
      "source": [
        "Из полученных иллюстраций видно, что в данных, скорее всего, как и ожидалось, есть некоторая периодичность. Более того, похоже, за нас уже поработали над заполнением пропусков или обработкой выбросов"
      ],
      "metadata": {
        "id": "48Oaj77P6C3a"
      }
    },
    {
      "cell_type": "markdown",
      "source": [
        "При помощи <code>train_test_split</code> разобейте полученный набор данных на тренеровочную и тестовую выборки с параметрами, указанными в вашем варианте."
      ],
      "metadata": {
        "id": "r9lr36io3K2H"
      }
    },
    {
      "cell_type": "code",
      "execution_count": 70,
      "outputs": [
        {
          "output_type": "stream",
          "name": "stdout",
          "text": [
            "Shapes     X        y\n",
            "train (28999, 8) (28999,)\n",
            "test  (7250, 8) (7250,)\n"
          ]
        }
      ],
      "source": [
        "# разобьем набор данных на тренеровочную и тестовую выборки с параметрами test_size=0.2, random_state=7\n",
        "X_train, X_test, y_train, y_test = train_test_split(df.drop(columns='class'), df['class'], test_size=0.2, random_state=7)\n",
        "\n",
        "print('Shapes', '    X', '       y')\n",
        "print('train', X_train.shape, y_train.shape)\n",
        "print('test ', X_test.shape, y_test.shape)"
      ],
      "metadata": {
        "id": "G50KT0CVOwKk",
        "colab": {
          "base_uri": "https://localhost:8080/"
        },
        "outputId": "0eb68562-11c5-4185-833f-ec26808efe9c"
      }
    },
    {
      "cell_type": "markdown",
      "source": [
        "# Random Forests Classifier"
      ],
      "metadata": {
        "collapsed": false,
        "id": "tEh9OYuWOwKp"
      }
    },
    {
      "cell_type": "markdown",
      "source": [
        "Обучите модель <code>sklearn.ensemble.RandomForestClassifier</code> на тренировочных данных с параметрами, указанными в вашем индивидуальном задании."
      ],
      "metadata": {
        "id": "L_QEkgd9AFO4"
      }
    },
    {
      "cell_type": "code",
      "execution_count": 71,
      "outputs": [],
      "source": [
        "# обучим модель sklearn.ensemble.RandomForestClassifier на тренировочных данных с параметрами random_state=7\n",
        "forest = RandomForestClassifier(random_state=7).fit(X_train, y_train)"
      ],
      "metadata": {
        "id": "Y4WCECt8OwKq"
      }
    },
    {
      "cell_type": "markdown",
      "source": [
        "Постройте <code>classification_report</code> полученной модели на **тренировочных данных**. Введите значение точности модели на **тренировочных данных**."
      ],
      "metadata": {
        "id": "1Ci-_Ba4AlE9"
      }
    },
    {
      "cell_type": "code",
      "source": [
        "prediction = forest.predict(X_train)\n",
        "print(classification_report(y_train, prediction, target_names = ['class 0', 'class 1'], digits=3))"
      ],
      "metadata": {
        "id": "TBX0d57TCTSL",
        "colab": {
          "base_uri": "https://localhost:8080/"
        },
        "outputId": "c7d274f3-a151-4447-f635-ea6e3b5eaa1f"
      },
      "execution_count": 72,
      "outputs": [
        {
          "output_type": "stream",
          "name": "stdout",
          "text": [
            "              precision    recall  f1-score   support\n",
            "\n",
            "     class 0      1.000     1.000     1.000     16705\n",
            "     class 1      1.000     1.000     1.000     12294\n",
            "\n",
            "    accuracy                          1.000     28999\n",
            "   macro avg      1.000     1.000     1.000     28999\n",
            "weighted avg      1.000     1.000     1.000     28999\n",
            "\n"
          ]
        }
      ]
    },
    {
      "cell_type": "markdown",
      "source": [
        "Получили переобучение. Что же, еще раз можно ответить, что деревья принятия решений весьма склонны к переобучению."
      ],
      "metadata": {
        "collapsed": false,
        "id": "0OlkNY98OwKs"
      }
    },
    {
      "cell_type": "markdown",
      "source": [
        "## Добавление к лесу деревьев GridSearchCV"
      ],
      "metadata": {
        "collapsed": false,
        "id": "cPfEnIs8OwKs"
      }
    },
    {
      "cell_type": "markdown",
      "source": [
        "При помощи <code>sklearn.model_selection.GridSearchCV</code> обучите <code>RandomForestClassifier</code> на тренировочных данных c параметрами, указанными в вашем индивидуальном задании.\n",
        "\n",
        "Подбираемые параметры:\n",
        "\n",
        "<code>{'n_estimators': [100,300,500], 'max_leaf_nodes': list(range(6,10)), 'min_samples_leaf': [1,2,3]}</code>"
      ],
      "metadata": {
        "id": "RyjHh8_vD2A-"
      }
    },
    {
      "cell_type": "code",
      "execution_count": 73,
      "outputs": [
        {
          "output_type": "stream",
          "name": "stdout",
          "text": [
            "Fitting 3 folds for each of 36 candidates, totalling 108 fits\n",
            "[CV 1/3] END max_leaf_nodes=6, min_samples_leaf=1, n_estimators=100;, score=0.765 total time=   2.8s\n",
            "[CV 2/3] END max_leaf_nodes=6, min_samples_leaf=1, n_estimators=100;, score=0.777 total time=   1.4s\n",
            "[CV 3/3] END max_leaf_nodes=6, min_samples_leaf=1, n_estimators=100;, score=0.776 total time=   1.3s\n",
            "[CV 1/3] END max_leaf_nodes=6, min_samples_leaf=1, n_estimators=300;, score=0.769 total time=   3.9s\n",
            "[CV 2/3] END max_leaf_nodes=6, min_samples_leaf=1, n_estimators=300;, score=0.776 total time=   4.1s\n",
            "[CV 3/3] END max_leaf_nodes=6, min_samples_leaf=1, n_estimators=300;, score=0.776 total time=   5.5s\n",
            "[CV 1/3] END max_leaf_nodes=6, min_samples_leaf=1, n_estimators=500;, score=0.770 total time=   6.5s\n",
            "[CV 2/3] END max_leaf_nodes=6, min_samples_leaf=1, n_estimators=500;, score=0.777 total time=   8.3s\n",
            "[CV 3/3] END max_leaf_nodes=6, min_samples_leaf=1, n_estimators=500;, score=0.776 total time=   6.3s\n",
            "[CV 1/3] END max_leaf_nodes=6, min_samples_leaf=2, n_estimators=100;, score=0.765 total time=   1.5s\n",
            "[CV 2/3] END max_leaf_nodes=6, min_samples_leaf=2, n_estimators=100;, score=0.777 total time=   2.3s\n",
            "[CV 3/3] END max_leaf_nodes=6, min_samples_leaf=2, n_estimators=100;, score=0.776 total time=   1.9s\n",
            "[CV 1/3] END max_leaf_nodes=6, min_samples_leaf=2, n_estimators=300;, score=0.769 total time=   3.9s\n",
            "[CV 2/3] END max_leaf_nodes=6, min_samples_leaf=2, n_estimators=300;, score=0.776 total time=   3.9s\n",
            "[CV 3/3] END max_leaf_nodes=6, min_samples_leaf=2, n_estimators=300;, score=0.776 total time=   5.7s\n",
            "[CV 1/3] END max_leaf_nodes=6, min_samples_leaf=2, n_estimators=500;, score=0.770 total time=   6.4s\n",
            "[CV 2/3] END max_leaf_nodes=6, min_samples_leaf=2, n_estimators=500;, score=0.777 total time=   8.3s\n",
            "[CV 3/3] END max_leaf_nodes=6, min_samples_leaf=2, n_estimators=500;, score=0.776 total time=   6.4s\n",
            "[CV 1/3] END max_leaf_nodes=6, min_samples_leaf=3, n_estimators=100;, score=0.765 total time=   1.3s\n",
            "[CV 2/3] END max_leaf_nodes=6, min_samples_leaf=3, n_estimators=100;, score=0.777 total time=   1.4s\n",
            "[CV 3/3] END max_leaf_nodes=6, min_samples_leaf=3, n_estimators=100;, score=0.776 total time=   2.2s\n",
            "[CV 1/3] END max_leaf_nodes=6, min_samples_leaf=3, n_estimators=300;, score=0.769 total time=   5.0s\n",
            "[CV 2/3] END max_leaf_nodes=6, min_samples_leaf=3, n_estimators=300;, score=0.776 total time=   4.2s\n",
            "[CV 3/3] END max_leaf_nodes=6, min_samples_leaf=3, n_estimators=300;, score=0.776 total time=   7.1s\n",
            "[CV 1/3] END max_leaf_nodes=6, min_samples_leaf=3, n_estimators=500;, score=0.770 total time=   6.5s\n",
            "[CV 2/3] END max_leaf_nodes=6, min_samples_leaf=3, n_estimators=500;, score=0.777 total time=   8.3s\n",
            "[CV 3/3] END max_leaf_nodes=6, min_samples_leaf=3, n_estimators=500;, score=0.776 total time=   6.3s\n",
            "[CV 1/3] END max_leaf_nodes=7, min_samples_leaf=1, n_estimators=100;, score=0.768 total time=   1.4s\n",
            "[CV 2/3] END max_leaf_nodes=7, min_samples_leaf=1, n_estimators=100;, score=0.782 total time=   1.3s\n",
            "[CV 3/3] END max_leaf_nodes=7, min_samples_leaf=1, n_estimators=100;, score=0.784 total time=   2.3s\n",
            "[CV 1/3] END max_leaf_nodes=7, min_samples_leaf=1, n_estimators=300;, score=0.772 total time=   5.0s\n",
            "[CV 2/3] END max_leaf_nodes=7, min_samples_leaf=1, n_estimators=300;, score=0.781 total time=   4.0s\n",
            "[CV 3/3] END max_leaf_nodes=7, min_samples_leaf=1, n_estimators=300;, score=0.780 total time=   4.8s\n",
            "[CV 1/3] END max_leaf_nodes=7, min_samples_leaf=1, n_estimators=500;, score=0.774 total time=   7.9s\n",
            "[CV 2/3] END max_leaf_nodes=7, min_samples_leaf=1, n_estimators=500;, score=0.781 total time=   8.4s\n",
            "[CV 3/3] END max_leaf_nodes=7, min_samples_leaf=1, n_estimators=500;, score=0.779 total time=   6.6s\n",
            "[CV 1/3] END max_leaf_nodes=7, min_samples_leaf=2, n_estimators=100;, score=0.768 total time=   1.4s\n",
            "[CV 2/3] END max_leaf_nodes=7, min_samples_leaf=2, n_estimators=100;, score=0.782 total time=   1.4s\n",
            "[CV 3/3] END max_leaf_nodes=7, min_samples_leaf=2, n_estimators=100;, score=0.784 total time=   2.1s\n",
            "[CV 1/3] END max_leaf_nodes=7, min_samples_leaf=2, n_estimators=300;, score=0.772 total time=   5.2s\n",
            "[CV 2/3] END max_leaf_nodes=7, min_samples_leaf=2, n_estimators=300;, score=0.781 total time=   4.0s\n",
            "[CV 3/3] END max_leaf_nodes=7, min_samples_leaf=2, n_estimators=300;, score=0.780 total time=   4.7s\n",
            "[CV 1/3] END max_leaf_nodes=7, min_samples_leaf=2, n_estimators=500;, score=0.774 total time=   8.0s\n",
            "[CV 2/3] END max_leaf_nodes=7, min_samples_leaf=2, n_estimators=500;, score=0.781 total time=   8.7s\n",
            "[CV 3/3] END max_leaf_nodes=7, min_samples_leaf=2, n_estimators=500;, score=0.779 total time=   6.8s\n",
            "[CV 1/3] END max_leaf_nodes=7, min_samples_leaf=3, n_estimators=100;, score=0.768 total time=   1.4s\n",
            "[CV 2/3] END max_leaf_nodes=7, min_samples_leaf=3, n_estimators=100;, score=0.782 total time=   1.4s\n",
            "[CV 3/3] END max_leaf_nodes=7, min_samples_leaf=3, n_estimators=100;, score=0.784 total time=   2.3s\n",
            "[CV 1/3] END max_leaf_nodes=7, min_samples_leaf=3, n_estimators=300;, score=0.772 total time=   4.9s\n",
            "[CV 2/3] END max_leaf_nodes=7, min_samples_leaf=3, n_estimators=300;, score=0.781 total time=   4.2s\n",
            "[CV 3/3] END max_leaf_nodes=7, min_samples_leaf=3, n_estimators=300;, score=0.780 total time=   5.3s\n",
            "[CV 1/3] END max_leaf_nodes=7, min_samples_leaf=3, n_estimators=500;, score=0.774 total time=   9.7s\n",
            "[CV 2/3] END max_leaf_nodes=7, min_samples_leaf=3, n_estimators=500;, score=0.781 total time=   8.6s\n",
            "[CV 3/3] END max_leaf_nodes=7, min_samples_leaf=3, n_estimators=500;, score=0.779 total time=   6.7s\n",
            "[CV 1/3] END max_leaf_nodes=8, min_samples_leaf=1, n_estimators=100;, score=0.775 total time=   1.5s\n",
            "[CV 2/3] END max_leaf_nodes=8, min_samples_leaf=1, n_estimators=100;, score=0.783 total time=   2.0s\n",
            "[CV 3/3] END max_leaf_nodes=8, min_samples_leaf=1, n_estimators=100;, score=0.787 total time=   2.6s\n",
            "[CV 1/3] END max_leaf_nodes=8, min_samples_leaf=1, n_estimators=300;, score=0.778 total time=   4.3s\n",
            "[CV 2/3] END max_leaf_nodes=8, min_samples_leaf=1, n_estimators=300;, score=0.784 total time=   4.3s\n",
            "[CV 3/3] END max_leaf_nodes=8, min_samples_leaf=1, n_estimators=300;, score=0.788 total time=   6.2s\n",
            "[CV 1/3] END max_leaf_nodes=8, min_samples_leaf=1, n_estimators=500;, score=0.779 total time=   9.2s\n",
            "[CV 2/3] END max_leaf_nodes=8, min_samples_leaf=1, n_estimators=500;, score=0.783 total time=   9.1s\n",
            "[CV 3/3] END max_leaf_nodes=8, min_samples_leaf=1, n_estimators=500;, score=0.787 total time=   8.8s\n",
            "[CV 1/3] END max_leaf_nodes=8, min_samples_leaf=2, n_estimators=100;, score=0.775 total time=   1.4s\n",
            "[CV 2/3] END max_leaf_nodes=8, min_samples_leaf=2, n_estimators=100;, score=0.783 total time=   1.5s\n",
            "[CV 3/3] END max_leaf_nodes=8, min_samples_leaf=2, n_estimators=100;, score=0.787 total time=   1.4s\n",
            "[CV 1/3] END max_leaf_nodes=8, min_samples_leaf=2, n_estimators=300;, score=0.778 total time=   4.3s\n",
            "[CV 2/3] END max_leaf_nodes=8, min_samples_leaf=2, n_estimators=300;, score=0.784 total time=   6.2s\n",
            "[CV 3/3] END max_leaf_nodes=8, min_samples_leaf=2, n_estimators=300;, score=0.788 total time=   4.3s\n",
            "[CV 1/3] END max_leaf_nodes=8, min_samples_leaf=2, n_estimators=500;, score=0.779 total time=   9.1s\n",
            "[CV 2/3] END max_leaf_nodes=8, min_samples_leaf=2, n_estimators=500;, score=0.783 total time=   7.1s\n",
            "[CV 3/3] END max_leaf_nodes=8, min_samples_leaf=2, n_estimators=500;, score=0.787 total time=   8.7s\n",
            "[CV 1/3] END max_leaf_nodes=8, min_samples_leaf=3, n_estimators=100;, score=0.775 total time=   1.5s\n",
            "[CV 2/3] END max_leaf_nodes=8, min_samples_leaf=3, n_estimators=100;, score=0.783 total time=   1.6s\n",
            "[CV 3/3] END max_leaf_nodes=8, min_samples_leaf=3, n_estimators=100;, score=0.787 total time=   2.5s\n",
            "[CV 1/3] END max_leaf_nodes=8, min_samples_leaf=3, n_estimators=300;, score=0.778 total time=   6.9s\n",
            "[CV 2/3] END max_leaf_nodes=8, min_samples_leaf=3, n_estimators=300;, score=0.784 total time=   4.3s\n",
            "[CV 3/3] END max_leaf_nodes=8, min_samples_leaf=3, n_estimators=300;, score=0.788 total time=   4.2s\n",
            "[CV 1/3] END max_leaf_nodes=8, min_samples_leaf=3, n_estimators=500;, score=0.779 total time=   9.0s\n",
            "[CV 2/3] END max_leaf_nodes=8, min_samples_leaf=3, n_estimators=500;, score=0.783 total time=   8.1s\n",
            "[CV 3/3] END max_leaf_nodes=8, min_samples_leaf=3, n_estimators=500;, score=0.787 total time=   8.0s\n",
            "[CV 1/3] END max_leaf_nodes=9, min_samples_leaf=1, n_estimators=100;, score=0.780 total time=   1.5s\n",
            "[CV 2/3] END max_leaf_nodes=9, min_samples_leaf=1, n_estimators=100;, score=0.789 total time=   1.5s\n",
            "[CV 3/3] END max_leaf_nodes=9, min_samples_leaf=1, n_estimators=100;, score=0.793 total time=   2.1s\n",
            "[CV 1/3] END max_leaf_nodes=9, min_samples_leaf=1, n_estimators=300;, score=0.780 total time=   5.7s\n",
            "[CV 2/3] END max_leaf_nodes=9, min_samples_leaf=1, n_estimators=300;, score=0.786 total time=   4.4s\n",
            "[CV 3/3] END max_leaf_nodes=9, min_samples_leaf=1, n_estimators=300;, score=0.795 total time=   5.8s\n",
            "[CV 1/3] END max_leaf_nodes=9, min_samples_leaf=1, n_estimators=500;, score=0.780 total time=   7.9s\n",
            "[CV 2/3] END max_leaf_nodes=9, min_samples_leaf=1, n_estimators=500;, score=0.786 total time=   9.7s\n",
            "[CV 3/3] END max_leaf_nodes=9, min_samples_leaf=1, n_estimators=500;, score=0.794 total time=   9.3s\n",
            "[CV 1/3] END max_leaf_nodes=9, min_samples_leaf=2, n_estimators=100;, score=0.780 total time=   2.5s\n",
            "[CV 2/3] END max_leaf_nodes=9, min_samples_leaf=2, n_estimators=100;, score=0.789 total time=   1.5s\n",
            "[CV 3/3] END max_leaf_nodes=9, min_samples_leaf=2, n_estimators=100;, score=0.793 total time=   1.5s\n",
            "[CV 1/3] END max_leaf_nodes=9, min_samples_leaf=2, n_estimators=300;, score=0.780 total time=   4.5s\n",
            "[CV 2/3] END max_leaf_nodes=9, min_samples_leaf=2, n_estimators=300;, score=0.786 total time=   6.1s\n",
            "[CV 3/3] END max_leaf_nodes=9, min_samples_leaf=2, n_estimators=300;, score=0.795 total time=   4.4s\n",
            "[CV 1/3] END max_leaf_nodes=9, min_samples_leaf=2, n_estimators=500;, score=0.780 total time=   8.8s\n",
            "[CV 2/3] END max_leaf_nodes=9, min_samples_leaf=2, n_estimators=500;, score=0.786 total time=   7.5s\n",
            "[CV 3/3] END max_leaf_nodes=9, min_samples_leaf=2, n_estimators=500;, score=0.794 total time=   8.9s\n",
            "[CV 1/3] END max_leaf_nodes=9, min_samples_leaf=3, n_estimators=100;, score=0.780 total time=   1.5s\n",
            "[CV 2/3] END max_leaf_nodes=9, min_samples_leaf=3, n_estimators=100;, score=0.789 total time=   1.5s\n",
            "[CV 3/3] END max_leaf_nodes=9, min_samples_leaf=3, n_estimators=100;, score=0.793 total time=   1.5s\n",
            "[CV 1/3] END max_leaf_nodes=9, min_samples_leaf=3, n_estimators=300;, score=0.780 total time=   5.0s\n",
            "[CV 2/3] END max_leaf_nodes=9, min_samples_leaf=3, n_estimators=300;, score=0.786 total time=   5.5s\n",
            "[CV 3/3] END max_leaf_nodes=9, min_samples_leaf=3, n_estimators=300;, score=0.795 total time=   4.3s\n",
            "[CV 1/3] END max_leaf_nodes=9, min_samples_leaf=3, n_estimators=500;, score=0.780 total time=   9.2s\n",
            "[CV 2/3] END max_leaf_nodes=9, min_samples_leaf=3, n_estimators=500;, score=0.786 total time=   7.2s\n",
            "[CV 3/3] END max_leaf_nodes=9, min_samples_leaf=3, n_estimators=500;, score=0.794 total time=   9.1s\n"
          ]
        },
        {
          "output_type": "execute_result",
          "data": {
            "text/plain": [
              "GridSearchCV(cv=3,\n",
              "             estimator=RandomForestClassifier(bootstrap=False,\n",
              "                                              class_weight='balanced',\n",
              "                                              n_jobs=-1, random_state=7),\n",
              "             param_grid={'max_leaf_nodes': [6, 7, 8, 9],\n",
              "                         'min_samples_leaf': [1, 2, 3],\n",
              "                         'n_estimators': [100, 300, 500]},\n",
              "             verbose=4)"
            ],
            "text/html": [
              "<style>#sk-container-id-2 {color: black;}#sk-container-id-2 pre{padding: 0;}#sk-container-id-2 div.sk-toggleable {background-color: white;}#sk-container-id-2 label.sk-toggleable__label {cursor: pointer;display: block;width: 100%;margin-bottom: 0;padding: 0.3em;box-sizing: border-box;text-align: center;}#sk-container-id-2 label.sk-toggleable__label-arrow:before {content: \"▸\";float: left;margin-right: 0.25em;color: #696969;}#sk-container-id-2 label.sk-toggleable__label-arrow:hover:before {color: black;}#sk-container-id-2 div.sk-estimator:hover label.sk-toggleable__label-arrow:before {color: black;}#sk-container-id-2 div.sk-toggleable__content {max-height: 0;max-width: 0;overflow: hidden;text-align: left;background-color: #f0f8ff;}#sk-container-id-2 div.sk-toggleable__content pre {margin: 0.2em;color: black;border-radius: 0.25em;background-color: #f0f8ff;}#sk-container-id-2 input.sk-toggleable__control:checked~div.sk-toggleable__content {max-height: 200px;max-width: 100%;overflow: auto;}#sk-container-id-2 input.sk-toggleable__control:checked~label.sk-toggleable__label-arrow:before {content: \"▾\";}#sk-container-id-2 div.sk-estimator input.sk-toggleable__control:checked~label.sk-toggleable__label {background-color: #d4ebff;}#sk-container-id-2 div.sk-label input.sk-toggleable__control:checked~label.sk-toggleable__label {background-color: #d4ebff;}#sk-container-id-2 input.sk-hidden--visually {border: 0;clip: rect(1px 1px 1px 1px);clip: rect(1px, 1px, 1px, 1px);height: 1px;margin: -1px;overflow: hidden;padding: 0;position: absolute;width: 1px;}#sk-container-id-2 div.sk-estimator {font-family: monospace;background-color: #f0f8ff;border: 1px dotted black;border-radius: 0.25em;box-sizing: border-box;margin-bottom: 0.5em;}#sk-container-id-2 div.sk-estimator:hover {background-color: #d4ebff;}#sk-container-id-2 div.sk-parallel-item::after {content: \"\";width: 100%;border-bottom: 1px solid gray;flex-grow: 1;}#sk-container-id-2 div.sk-label:hover label.sk-toggleable__label {background-color: #d4ebff;}#sk-container-id-2 div.sk-serial::before {content: \"\";position: absolute;border-left: 1px solid gray;box-sizing: border-box;top: 0;bottom: 0;left: 50%;z-index: 0;}#sk-container-id-2 div.sk-serial {display: flex;flex-direction: column;align-items: center;background-color: white;padding-right: 0.2em;padding-left: 0.2em;position: relative;}#sk-container-id-2 div.sk-item {position: relative;z-index: 1;}#sk-container-id-2 div.sk-parallel {display: flex;align-items: stretch;justify-content: center;background-color: white;position: relative;}#sk-container-id-2 div.sk-item::before, #sk-container-id-2 div.sk-parallel-item::before {content: \"\";position: absolute;border-left: 1px solid gray;box-sizing: border-box;top: 0;bottom: 0;left: 50%;z-index: -1;}#sk-container-id-2 div.sk-parallel-item {display: flex;flex-direction: column;z-index: 1;position: relative;background-color: white;}#sk-container-id-2 div.sk-parallel-item:first-child::after {align-self: flex-end;width: 50%;}#sk-container-id-2 div.sk-parallel-item:last-child::after {align-self: flex-start;width: 50%;}#sk-container-id-2 div.sk-parallel-item:only-child::after {width: 0;}#sk-container-id-2 div.sk-dashed-wrapped {border: 1px dashed gray;margin: 0 0.4em 0.5em 0.4em;box-sizing: border-box;padding-bottom: 0.4em;background-color: white;}#sk-container-id-2 div.sk-label label {font-family: monospace;font-weight: bold;display: inline-block;line-height: 1.2em;}#sk-container-id-2 div.sk-label-container {text-align: center;}#sk-container-id-2 div.sk-container {/* jupyter's `normalize.less` sets `[hidden] { display: none; }` but bootstrap.min.css set `[hidden] { display: none !important; }` so we also need the `!important` here to be able to override the default hidden behavior on the sphinx rendered scikit-learn.org. See: https://github.com/scikit-learn/scikit-learn/issues/21755 */display: inline-block !important;position: relative;}#sk-container-id-2 div.sk-text-repr-fallback {display: none;}</style><div id=\"sk-container-id-2\" class=\"sk-top-container\"><div class=\"sk-text-repr-fallback\"><pre>GridSearchCV(cv=3,\n",
              "             estimator=RandomForestClassifier(bootstrap=False,\n",
              "                                              class_weight=&#x27;balanced&#x27;,\n",
              "                                              n_jobs=-1, random_state=7),\n",
              "             param_grid={&#x27;max_leaf_nodes&#x27;: [6, 7, 8, 9],\n",
              "                         &#x27;min_samples_leaf&#x27;: [1, 2, 3],\n",
              "                         &#x27;n_estimators&#x27;: [100, 300, 500]},\n",
              "             verbose=4)</pre><b>In a Jupyter environment, please rerun this cell to show the HTML representation or trust the notebook. <br />On GitHub, the HTML representation is unable to render, please try loading this page with nbviewer.org.</b></div><div class=\"sk-container\" hidden><div class=\"sk-item sk-dashed-wrapped\"><div class=\"sk-label-container\"><div class=\"sk-label sk-toggleable\"><input class=\"sk-toggleable__control sk-hidden--visually\" id=\"sk-estimator-id-4\" type=\"checkbox\" ><label for=\"sk-estimator-id-4\" class=\"sk-toggleable__label sk-toggleable__label-arrow\">GridSearchCV</label><div class=\"sk-toggleable__content\"><pre>GridSearchCV(cv=3,\n",
              "             estimator=RandomForestClassifier(bootstrap=False,\n",
              "                                              class_weight=&#x27;balanced&#x27;,\n",
              "                                              n_jobs=-1, random_state=7),\n",
              "             param_grid={&#x27;max_leaf_nodes&#x27;: [6, 7, 8, 9],\n",
              "                         &#x27;min_samples_leaf&#x27;: [1, 2, 3],\n",
              "                         &#x27;n_estimators&#x27;: [100, 300, 500]},\n",
              "             verbose=4)</pre></div></div></div><div class=\"sk-parallel\"><div class=\"sk-parallel-item\"><div class=\"sk-item\"><div class=\"sk-label-container\"><div class=\"sk-label sk-toggleable\"><input class=\"sk-toggleable__control sk-hidden--visually\" id=\"sk-estimator-id-5\" type=\"checkbox\" ><label for=\"sk-estimator-id-5\" class=\"sk-toggleable__label sk-toggleable__label-arrow\">estimator: RandomForestClassifier</label><div class=\"sk-toggleable__content\"><pre>RandomForestClassifier(bootstrap=False, class_weight=&#x27;balanced&#x27;, n_jobs=-1,\n",
              "                       random_state=7)</pre></div></div></div><div class=\"sk-serial\"><div class=\"sk-item\"><div class=\"sk-estimator sk-toggleable\"><input class=\"sk-toggleable__control sk-hidden--visually\" id=\"sk-estimator-id-6\" type=\"checkbox\" ><label for=\"sk-estimator-id-6\" class=\"sk-toggleable__label sk-toggleable__label-arrow\">RandomForestClassifier</label><div class=\"sk-toggleable__content\"><pre>RandomForestClassifier(bootstrap=False, class_weight=&#x27;balanced&#x27;, n_jobs=-1,\n",
              "                       random_state=7)</pre></div></div></div></div></div></div></div></div></div></div>"
            ]
          },
          "metadata": {},
          "execution_count": 73
        }
      ],
      "source": [
        "params_grid = {'n_estimators': [100,300,500], 'max_leaf_nodes': list(range(6,10)), 'min_samples_leaf': [1,2,3]}\n",
        "\n",
        "cv = GridSearchCV(RandomForestClassifier(bootstrap=False,\n",
        "                                        class_weight='balanced',\n",
        "                                        n_jobs=-1,\n",
        "                                        max_features='sqrt',\n",
        "                                        random_state=7),\n",
        "                                        params_grid,\n",
        "                                        verbose=4,\n",
        "                                        cv=3)\n",
        "cv.fit(X_train, y_train)"
      ],
      "metadata": {
        "id": "5UZ-3wuyOwKs",
        "colab": {
          "base_uri": "https://localhost:8080/",
          "height": 1000
        },
        "collapsed": true,
        "outputId": "e3a1d594-be35-4408-91e4-7921d41c998c"
      }
    },
    {
      "cell_type": "markdown",
      "source": [
        "Выберите лучшую модель. Рекомендуем использовать поле <code>best_estimator_</code> объекта класса <code>grid_search</code>. В поле <code>best_params_</code> этого же объекта можно найти параметры лучшей модели."
      ],
      "metadata": {
        "id": "zZwCpNp3KS5y"
      }
    },
    {
      "cell_type": "code",
      "execution_count": 74,
      "outputs": [],
      "source": [
        "# выберем лучшую модель\n",
        "forest_cv = cv.best_estimator_"
      ],
      "metadata": {
        "id": "k55iDQNWOwKt"
      }
    },
    {
      "cell_type": "code",
      "source": [
        "# найдем параметры лучшей модели\n",
        "cv.best_params_"
      ],
      "metadata": {
        "colab": {
          "base_uri": "https://localhost:8080/"
        },
        "id": "n6EnQsKbu8wS",
        "outputId": "ce5819a1-d019-4c0f-e9cb-b994547b54c7"
      },
      "execution_count": 75,
      "outputs": [
        {
          "output_type": "execute_result",
          "data": {
            "text/plain": [
              "{'max_leaf_nodes': 9, 'min_samples_leaf': 1, 'n_estimators': 100}"
            ]
          },
          "metadata": {},
          "execution_count": 75
        }
      ]
    },
    {
      "cell_type": "markdown",
      "source": [
        "Постройте <code>classification_report</code> полученной модели на **тренировочных данных**. Введите значение точности модели на **тренировочных данных**."
      ],
      "metadata": {
        "collapsed": false,
        "id": "d3GLyploOwKt"
      }
    },
    {
      "cell_type": "code",
      "execution_count": 76,
      "outputs": [
        {
          "output_type": "stream",
          "name": "stdout",
          "text": [
            "              precision    recall  f1-score   support\n",
            "\n",
            "     class 0      0.785     0.869     0.825     16705\n",
            "     class 1      0.792     0.677     0.730     12294\n",
            "\n",
            "    accuracy                          0.788     28999\n",
            "   macro avg      0.789     0.773     0.778     28999\n",
            "weighted avg      0.788     0.788     0.785     28999\n",
            "\n"
          ]
        }
      ],
      "source": [
        "prediction_train = forest_cv.predict(X_train)\n",
        "print(classification_report(y_train, prediction_train, target_names = ['class 0', 'class 1'], digits=3))"
      ],
      "metadata": {
        "id": "R_LdKm8COwKt",
        "colab": {
          "base_uri": "https://localhost:8080/"
        },
        "outputId": "ec72758b-390f-4906-a13a-a6fdd94aadd2"
      }
    },
    {
      "cell_type": "markdown",
      "source": [
        "Постройте <code>classification_report</code> полученной модели на **тестовых данных**. Введите значение точности модели на **тестовых данных**."
      ],
      "metadata": {
        "collapsed": false,
        "id": "0uhEO7qrOwKu"
      }
    },
    {
      "cell_type": "code",
      "execution_count": 77,
      "outputs": [
        {
          "output_type": "stream",
          "name": "stdout",
          "text": [
            "              precision    recall  f1-score   support\n",
            "\n",
            "     class 0      0.784     0.864     0.822      4155\n",
            "     class 1      0.789     0.680     0.731      3095\n",
            "\n",
            "    accuracy                          0.786      7250\n",
            "   macro avg      0.786     0.772     0.776      7250\n",
            "weighted avg      0.786     0.786     0.783      7250\n",
            "\n"
          ]
        }
      ],
      "source": [
        "prediction_test = forest_cv.predict(X_test)\n",
        "print(classification_report(y_test, prediction_test, target_names = ['class 0', 'class 1'], digits=3))"
      ],
      "metadata": {
        "id": "xpfw580-OwKu",
        "colab": {
          "base_uri": "https://localhost:8080/"
        },
        "outputId": "20e36e7e-e779-4250-b9db-faf7f0869005"
      }
    },
    {
      "cell_type": "markdown",
      "source": [
        "От переобучения избавились, но точность кажется низкой.\n",
        "\n",
        "Один из плюсов случайного леса — можно посмотреть на важность признаков при классификации (обратная задача). Значения важности можно найти в поле <code>feature_importances_</code> модели. Определите название самого важного признака модели."
      ],
      "metadata": {
        "collapsed": false,
        "id": "3XQw9dQ_OwKv"
      }
    },
    {
      "cell_type": "code",
      "execution_count": 78,
      "outputs": [
        {
          "output_type": "stream",
          "name": "stdout",
          "text": [
            "Самый важный признак модели: nswprice\n"
          ]
        }
      ],
      "source": [
        "important = forest.feature_importances_\n",
        "index = np.where(important == max(important))\n",
        "print('Самый важный признак модели:', df.columns[index][0])"
      ],
      "metadata": {
        "id": "-5Auo3oaOwKv",
        "colab": {
          "base_uri": "https://localhost:8080/"
        },
        "outputId": "80c48e4d-dba4-4a58-b085-32aec8d28b0f"
      }
    },
    {
      "cell_type": "markdown",
      "source": [
        "Попробуем улучшить результаты, используя другие виды ансамблей."
      ],
      "metadata": {
        "collapsed": false,
        "id": "QcUnr6t-OwKw"
      }
    },
    {
      "cell_type": "markdown",
      "source": [
        "# Voting Classifier"
      ],
      "metadata": {
        "collapsed": false,
        "id": "HVu9rFLOOwKw"
      }
    },
    {
      "cell_type": "markdown",
      "source": [
        "Обучает все модели, поданные на вход, и предсказывает финальный результат либо по большему числу одинаковых ответов, которые дали модели (hard), либо вычисляет вероятность отнесения объектов к классам по всем моделям и берет argmax."
      ],
      "metadata": {
        "collapsed": false,
        "id": "kbojfuNbOwKx"
      }
    },
    {
      "cell_type": "markdown",
      "source": [
        "Используйте объект <code>sklearn.ensemble.VotingClassifier</code> с параметром <code>voting='hard'</code>. В качестве базовых алгоритмов используйте классификаторы с соответствующими параметрами, указанными в вашем индивидуальном задании. Обучите модель на тренировочных данных"
      ],
      "metadata": {
        "id": "o3d4ywmw1LyT"
      }
    },
    {
      "cell_type": "code",
      "execution_count": 79,
      "outputs": [],
      "source": [
        "estimators = [('Logistic Regression',LogisticRegression(solver='liblinear', random_state=7)),\n",
        "              ('SVM', SVC(random_state=7)),\n",
        "              ('SGDClassifier', SGDClassifier(random_state=7))]\n",
        "\n",
        "vote = VotingClassifier(estimators, voting='hard').fit(X_train, y_train)"
      ],
      "metadata": {
        "id": "1DAjKsI9OwKy"
      }
    },
    {
      "cell_type": "markdown",
      "source": [
        "Вычислите точность модели на **тренировочных данных**"
      ],
      "metadata": {
        "id": "J_39w5oz2fKJ"
      }
    },
    {
      "cell_type": "code",
      "execution_count": 80,
      "outputs": [
        {
          "output_type": "stream",
          "name": "stdout",
          "text": [
            "              precision    recall  f1-score   support\n",
            "\n",
            "     class 0      0.735     0.895     0.807     16705\n",
            "     class 1      0.797     0.561     0.658     12294\n",
            "\n",
            "    accuracy                          0.753     28999\n",
            "   macro avg      0.766     0.728     0.733     28999\n",
            "weighted avg      0.761     0.753     0.744     28999\n",
            "\n"
          ]
        }
      ],
      "source": [
        "prediction_train = vote.predict(X_train)\n",
        "print(classification_report(y_train, prediction_train, target_names = ['class 0', 'class 1'], digits=3))"
      ],
      "metadata": {
        "id": "C30hbtqHOwK0",
        "colab": {
          "base_uri": "https://localhost:8080/"
        },
        "outputId": "32ff80de-5809-455e-cb1a-1478d7953397"
      }
    },
    {
      "cell_type": "markdown",
      "source": [
        "Вычислите точность модели на **тестовых данных**"
      ],
      "metadata": {
        "id": "A_N2EDoZ2oOZ"
      }
    },
    {
      "cell_type": "code",
      "execution_count": 81,
      "outputs": [
        {
          "output_type": "stream",
          "name": "stdout",
          "text": [
            "              precision    recall  f1-score   support\n",
            "\n",
            "     class 0      0.731     0.890     0.803      4155\n",
            "     class 1      0.792     0.561     0.657      3095\n",
            "\n",
            "    accuracy                          0.750      7250\n",
            "   macro avg      0.762     0.726     0.730      7250\n",
            "weighted avg      0.757     0.750     0.741      7250\n",
            "\n"
          ]
        }
      ],
      "source": [
        "prediction_test = vote.predict(X_test)\n",
        "print(classification_report(y_test, prediction_test, target_names = ['class 0', 'class 1'], digits=3))"
      ],
      "metadata": {
        "id": "AR1KVgWyOwK0",
        "colab": {
          "base_uri": "https://localhost:8080/"
        },
        "outputId": "87ce2a54-0378-4cf4-886d-964baac6317b"
      }
    },
    {
      "cell_type": "markdown",
      "source": [
        "# Bagging Classifier"
      ],
      "metadata": {
        "collapsed": false,
        "id": "Ws7He2W9OwK1"
      }
    },
    {
      "cell_type": "markdown",
      "source": [
        "Создает несколько объектов одного класса (несколько моделей) и обучает их на непересекающихся подмножествах тренировочных данных, а дальше усредняет ответы."
      ],
      "metadata": {
        "collapsed": false,
        "id": "-YsVZtnuOwK1"
      }
    },
    {
      "cell_type": "markdown",
      "source": [
        "На основе <code>sklearn.ensemble.BaggingClassifier</code>, используя <code>DecisionTreeClassifier</code> обучите модель с параметрами, указанными в вашем индивидуальном задании на тренировочных данных."
      ],
      "metadata": {
        "id": "doGMIkccPlk0"
      }
    },
    {
      "cell_type": "code",
      "execution_count": 82,
      "outputs": [
        {
          "output_type": "execute_result",
          "data": {
            "text/plain": [
              "BaggingClassifier(bootstrap=False,\n",
              "                  estimator=DecisionTreeClassifier(class_weight='balanced'),\n",
              "                  max_features=0.5, max_samples=0.5, random_state=7)"
            ],
            "text/html": [
              "<style>#sk-container-id-3 {color: black;}#sk-container-id-3 pre{padding: 0;}#sk-container-id-3 div.sk-toggleable {background-color: white;}#sk-container-id-3 label.sk-toggleable__label {cursor: pointer;display: block;width: 100%;margin-bottom: 0;padding: 0.3em;box-sizing: border-box;text-align: center;}#sk-container-id-3 label.sk-toggleable__label-arrow:before {content: \"▸\";float: left;margin-right: 0.25em;color: #696969;}#sk-container-id-3 label.sk-toggleable__label-arrow:hover:before {color: black;}#sk-container-id-3 div.sk-estimator:hover label.sk-toggleable__label-arrow:before {color: black;}#sk-container-id-3 div.sk-toggleable__content {max-height: 0;max-width: 0;overflow: hidden;text-align: left;background-color: #f0f8ff;}#sk-container-id-3 div.sk-toggleable__content pre {margin: 0.2em;color: black;border-radius: 0.25em;background-color: #f0f8ff;}#sk-container-id-3 input.sk-toggleable__control:checked~div.sk-toggleable__content {max-height: 200px;max-width: 100%;overflow: auto;}#sk-container-id-3 input.sk-toggleable__control:checked~label.sk-toggleable__label-arrow:before {content: \"▾\";}#sk-container-id-3 div.sk-estimator input.sk-toggleable__control:checked~label.sk-toggleable__label {background-color: #d4ebff;}#sk-container-id-3 div.sk-label input.sk-toggleable__control:checked~label.sk-toggleable__label {background-color: #d4ebff;}#sk-container-id-3 input.sk-hidden--visually {border: 0;clip: rect(1px 1px 1px 1px);clip: rect(1px, 1px, 1px, 1px);height: 1px;margin: -1px;overflow: hidden;padding: 0;position: absolute;width: 1px;}#sk-container-id-3 div.sk-estimator {font-family: monospace;background-color: #f0f8ff;border: 1px dotted black;border-radius: 0.25em;box-sizing: border-box;margin-bottom: 0.5em;}#sk-container-id-3 div.sk-estimator:hover {background-color: #d4ebff;}#sk-container-id-3 div.sk-parallel-item::after {content: \"\";width: 100%;border-bottom: 1px solid gray;flex-grow: 1;}#sk-container-id-3 div.sk-label:hover label.sk-toggleable__label {background-color: #d4ebff;}#sk-container-id-3 div.sk-serial::before {content: \"\";position: absolute;border-left: 1px solid gray;box-sizing: border-box;top: 0;bottom: 0;left: 50%;z-index: 0;}#sk-container-id-3 div.sk-serial {display: flex;flex-direction: column;align-items: center;background-color: white;padding-right: 0.2em;padding-left: 0.2em;position: relative;}#sk-container-id-3 div.sk-item {position: relative;z-index: 1;}#sk-container-id-3 div.sk-parallel {display: flex;align-items: stretch;justify-content: center;background-color: white;position: relative;}#sk-container-id-3 div.sk-item::before, #sk-container-id-3 div.sk-parallel-item::before {content: \"\";position: absolute;border-left: 1px solid gray;box-sizing: border-box;top: 0;bottom: 0;left: 50%;z-index: -1;}#sk-container-id-3 div.sk-parallel-item {display: flex;flex-direction: column;z-index: 1;position: relative;background-color: white;}#sk-container-id-3 div.sk-parallel-item:first-child::after {align-self: flex-end;width: 50%;}#sk-container-id-3 div.sk-parallel-item:last-child::after {align-self: flex-start;width: 50%;}#sk-container-id-3 div.sk-parallel-item:only-child::after {width: 0;}#sk-container-id-3 div.sk-dashed-wrapped {border: 1px dashed gray;margin: 0 0.4em 0.5em 0.4em;box-sizing: border-box;padding-bottom: 0.4em;background-color: white;}#sk-container-id-3 div.sk-label label {font-family: monospace;font-weight: bold;display: inline-block;line-height: 1.2em;}#sk-container-id-3 div.sk-label-container {text-align: center;}#sk-container-id-3 div.sk-container {/* jupyter's `normalize.less` sets `[hidden] { display: none; }` but bootstrap.min.css set `[hidden] { display: none !important; }` so we also need the `!important` here to be able to override the default hidden behavior on the sphinx rendered scikit-learn.org. See: https://github.com/scikit-learn/scikit-learn/issues/21755 */display: inline-block !important;position: relative;}#sk-container-id-3 div.sk-text-repr-fallback {display: none;}</style><div id=\"sk-container-id-3\" class=\"sk-top-container\"><div class=\"sk-text-repr-fallback\"><pre>BaggingClassifier(bootstrap=False,\n",
              "                  estimator=DecisionTreeClassifier(class_weight=&#x27;balanced&#x27;),\n",
              "                  max_features=0.5, max_samples=0.5, random_state=7)</pre><b>In a Jupyter environment, please rerun this cell to show the HTML representation or trust the notebook. <br />On GitHub, the HTML representation is unable to render, please try loading this page with nbviewer.org.</b></div><div class=\"sk-container\" hidden><div class=\"sk-item sk-dashed-wrapped\"><div class=\"sk-label-container\"><div class=\"sk-label sk-toggleable\"><input class=\"sk-toggleable__control sk-hidden--visually\" id=\"sk-estimator-id-7\" type=\"checkbox\" ><label for=\"sk-estimator-id-7\" class=\"sk-toggleable__label sk-toggleable__label-arrow\">BaggingClassifier</label><div class=\"sk-toggleable__content\"><pre>BaggingClassifier(bootstrap=False,\n",
              "                  estimator=DecisionTreeClassifier(class_weight=&#x27;balanced&#x27;),\n",
              "                  max_features=0.5, max_samples=0.5, random_state=7)</pre></div></div></div><div class=\"sk-parallel\"><div class=\"sk-parallel-item\"><div class=\"sk-item\"><div class=\"sk-label-container\"><div class=\"sk-label sk-toggleable\"><input class=\"sk-toggleable__control sk-hidden--visually\" id=\"sk-estimator-id-8\" type=\"checkbox\" ><label for=\"sk-estimator-id-8\" class=\"sk-toggleable__label sk-toggleable__label-arrow\">estimator: DecisionTreeClassifier</label><div class=\"sk-toggleable__content\"><pre>DecisionTreeClassifier(class_weight=&#x27;balanced&#x27;)</pre></div></div></div><div class=\"sk-serial\"><div class=\"sk-item\"><div class=\"sk-estimator sk-toggleable\"><input class=\"sk-toggleable__control sk-hidden--visually\" id=\"sk-estimator-id-9\" type=\"checkbox\" ><label for=\"sk-estimator-id-9\" class=\"sk-toggleable__label sk-toggleable__label-arrow\">DecisionTreeClassifier</label><div class=\"sk-toggleable__content\"><pre>DecisionTreeClassifier(class_weight=&#x27;balanced&#x27;)</pre></div></div></div></div></div></div></div></div></div></div>"
            ]
          },
          "metadata": {},
          "execution_count": 82
        }
      ],
      "source": [
        "bag = BaggingClassifier(\n",
        "    DecisionTreeClassifier(class_weight='balanced'),\n",
        "    max_samples=0.5,\n",
        "    max_features=0.5,\n",
        "    bootstrap=False,\n",
        "    random_state=7)\n",
        "bag.fit(X_train, y_train)"
      ],
      "metadata": {
        "id": "dxzRPukwOwK1",
        "colab": {
          "base_uri": "https://localhost:8080/",
          "height": 118
        },
        "outputId": "ad34ea86-be10-476c-a817-1e72d8a8a18a"
      }
    },
    {
      "cell_type": "markdown",
      "source": [
        "Вычислите точность модели на **тренировочных данных**"
      ],
      "metadata": {
        "id": "JLZKP6o2QXX7"
      }
    },
    {
      "cell_type": "code",
      "execution_count": 83,
      "outputs": [
        {
          "output_type": "stream",
          "name": "stdout",
          "text": [
            "              precision    recall  f1-score   support\n",
            "\n",
            "     class 0      0.973     0.993     0.983     16705\n",
            "     class 1      0.990     0.963     0.976     12294\n",
            "\n",
            "    accuracy                          0.980     28999\n",
            "   macro avg      0.981     0.978     0.979     28999\n",
            "weighted avg      0.980     0.980     0.980     28999\n",
            "\n"
          ]
        }
      ],
      "source": [
        "prediction_train = bag.predict(X_train)\n",
        "print(classification_report(y_train, prediction_train, target_names = ['class 0', 'class 1'], digits=3))"
      ],
      "metadata": {
        "id": "jLdkYxo4OwK2",
        "colab": {
          "base_uri": "https://localhost:8080/"
        },
        "outputId": "da1bb238-e1b4-4900-ff68-138f65222ef9"
      }
    },
    {
      "cell_type": "markdown",
      "source": [
        "Вычислите точность модели на **тестовых данных**"
      ],
      "metadata": {
        "id": "n_ffcNRAQdYN"
      }
    },
    {
      "cell_type": "code",
      "execution_count": 85,
      "outputs": [
        {
          "output_type": "stream",
          "name": "stdout",
          "text": [
            "              precision    recall  f1-score   support\n",
            "\n",
            "     class 0      0.842     0.922     0.880      4155\n",
            "     class 1      0.880     0.767     0.820      3095\n",
            "\n",
            "    accuracy                          0.856      7250\n",
            "   macro avg      0.861     0.845     0.850      7250\n",
            "weighted avg      0.858     0.856     0.854      7250\n",
            "\n"
          ]
        }
      ],
      "source": [
        "prediction_test = bag.predict(X_test)\n",
        "print(classification_report(y_test, prediction_test, target_names = ['class 0', 'class 1'], digits=3))"
      ],
      "metadata": {
        "id": "hIhBFyh2OwK2",
        "colab": {
          "base_uri": "https://localhost:8080/"
        },
        "outputId": "be0d0a16-d349-4d98-a6e9-b18e16bbeb1c"
      }
    },
    {
      "cell_type": "markdown",
      "source": [
        "# Gradient Boosting Classifier"
      ],
      "metadata": {
        "collapsed": false,
        "id": "Ls9MVZA_OwK3"
      }
    },
    {
      "cell_type": "markdown",
      "source": [
        "Градиентный бустинг работает примерно так: создается несколько объектов класса (несколько моделей), они выстраиваются в цепочку так, чтобы каждый следующий пытался исправить ошибки предыдущего. Склонен к переобучению.\n",
        "\n",
        "Обучите модель на основе <code>sklearn.ensemble.GradientBoostingClassifier</code> с параметрами, указанными в вашем индивидуальном задании на тренировочных данных."
      ],
      "metadata": {
        "collapsed": false,
        "id": "pgfdAw9DOwK3"
      }
    },
    {
      "cell_type": "code",
      "execution_count": 86,
      "outputs": [],
      "source": [
        "gb = GradientBoostingClassifier(n_estimators=500, learning_rate=0.8, random_state=7, max_depth=2).fit(X_train, y_train)"
      ],
      "metadata": {
        "id": "V0vooqAZOwK4"
      }
    },
    {
      "cell_type": "markdown",
      "source": [
        "Вычислите точность модели на **тренировочных данных**"
      ],
      "metadata": {
        "id": "GG6FsM-MQ4zD"
      }
    },
    {
      "cell_type": "code",
      "execution_count": 87,
      "outputs": [
        {
          "output_type": "stream",
          "name": "stdout",
          "text": [
            "              precision    recall  f1-score   support\n",
            "\n",
            "     class 0      0.936     0.943     0.940     16705\n",
            "     class 1      0.922     0.913     0.918     12294\n",
            "\n",
            "    accuracy                          0.931     28999\n",
            "   macro avg      0.929     0.928     0.929     28999\n",
            "weighted avg      0.930     0.931     0.930     28999\n",
            "\n"
          ]
        }
      ],
      "source": [
        "prediction_train = gb.predict(X_train)\n",
        "print(classification_report(y_train, prediction_train, target_names = ['class 0', 'class 1'], digits=3))"
      ],
      "metadata": {
        "id": "lFeF1QwPOwK4",
        "colab": {
          "base_uri": "https://localhost:8080/"
        },
        "outputId": "f7630404-3b4e-493b-aaa0-c607ff23a7c3"
      }
    },
    {
      "cell_type": "markdown",
      "source": [
        "Вычислите точность модели на **тестовых данных**"
      ],
      "metadata": {
        "id": "bOelcde2Q7ci"
      }
    },
    {
      "cell_type": "code",
      "execution_count": 88,
      "outputs": [
        {
          "output_type": "stream",
          "name": "stdout",
          "text": [
            "              precision    recall  f1-score   support\n",
            "\n",
            "     class 0      0.912     0.919     0.915      4155\n",
            "     class 1      0.890     0.880     0.885      3095\n",
            "\n",
            "    accuracy                          0.903      7250\n",
            "   macro avg      0.901     0.900     0.900      7250\n",
            "weighted avg      0.903     0.903     0.903      7250\n",
            "\n"
          ]
        }
      ],
      "source": [
        "prediction_test = gb.predict(X_test)\n",
        "print(classification_report(y_test, prediction_test, target_names = ['class 0', 'class 1'], digits=3))"
      ],
      "metadata": {
        "id": "JwE39g4NOwK5",
        "colab": {
          "base_uri": "https://localhost:8080/"
        },
        "outputId": "da9c2731-9199-4b8c-d42b-cd49b4a524d9"
      }
    },
    {
      "cell_type": "markdown",
      "source": [
        "# AdaBoost Classifier"
      ],
      "metadata": {
        "collapsed": false,
        "id": "3R2nbMJpOwK5"
      }
    },
    {
      "cell_type": "markdown",
      "source": [
        "Работает похожим на градиентный бустинг образом, только последующие модели не пытаются исправить ошибку предыдущих: сначала первый объект обучается на всем датасете, а следующий на основе опыта предыдущего обновляет свои веса так, чтобы исправлять ошибочные предсказания.\n",
        "\n",
        "На основе <code>sklearn.ensemble.AdaBoostClassifier</code>, используя <code>DecisionTreeClassifier</code> обучите модель с параметрами, указанными в вашем индивидуальном задании на тренировочных данных."
      ],
      "metadata": {
        "collapsed": false,
        "id": "pJHU89IuOwK5"
      }
    },
    {
      "cell_type": "code",
      "execution_count": 90,
      "outputs": [
        {
          "output_type": "execute_result",
          "data": {
            "text/plain": [
              "AdaBoostClassifier(estimator=DecisionTreeClassifier(class_weight='balanced',\n",
              "                                                    max_depth=3),\n",
              "                   learning_rate=0.5, n_estimators=300, random_state=7)"
            ],
            "text/html": [
              "<style>#sk-container-id-5 {color: black;}#sk-container-id-5 pre{padding: 0;}#sk-container-id-5 div.sk-toggleable {background-color: white;}#sk-container-id-5 label.sk-toggleable__label {cursor: pointer;display: block;width: 100%;margin-bottom: 0;padding: 0.3em;box-sizing: border-box;text-align: center;}#sk-container-id-5 label.sk-toggleable__label-arrow:before {content: \"▸\";float: left;margin-right: 0.25em;color: #696969;}#sk-container-id-5 label.sk-toggleable__label-arrow:hover:before {color: black;}#sk-container-id-5 div.sk-estimator:hover label.sk-toggleable__label-arrow:before {color: black;}#sk-container-id-5 div.sk-toggleable__content {max-height: 0;max-width: 0;overflow: hidden;text-align: left;background-color: #f0f8ff;}#sk-container-id-5 div.sk-toggleable__content pre {margin: 0.2em;color: black;border-radius: 0.25em;background-color: #f0f8ff;}#sk-container-id-5 input.sk-toggleable__control:checked~div.sk-toggleable__content {max-height: 200px;max-width: 100%;overflow: auto;}#sk-container-id-5 input.sk-toggleable__control:checked~label.sk-toggleable__label-arrow:before {content: \"▾\";}#sk-container-id-5 div.sk-estimator input.sk-toggleable__control:checked~label.sk-toggleable__label {background-color: #d4ebff;}#sk-container-id-5 div.sk-label input.sk-toggleable__control:checked~label.sk-toggleable__label {background-color: #d4ebff;}#sk-container-id-5 input.sk-hidden--visually {border: 0;clip: rect(1px 1px 1px 1px);clip: rect(1px, 1px, 1px, 1px);height: 1px;margin: -1px;overflow: hidden;padding: 0;position: absolute;width: 1px;}#sk-container-id-5 div.sk-estimator {font-family: monospace;background-color: #f0f8ff;border: 1px dotted black;border-radius: 0.25em;box-sizing: border-box;margin-bottom: 0.5em;}#sk-container-id-5 div.sk-estimator:hover {background-color: #d4ebff;}#sk-container-id-5 div.sk-parallel-item::after {content: \"\";width: 100%;border-bottom: 1px solid gray;flex-grow: 1;}#sk-container-id-5 div.sk-label:hover label.sk-toggleable__label {background-color: #d4ebff;}#sk-container-id-5 div.sk-serial::before {content: \"\";position: absolute;border-left: 1px solid gray;box-sizing: border-box;top: 0;bottom: 0;left: 50%;z-index: 0;}#sk-container-id-5 div.sk-serial {display: flex;flex-direction: column;align-items: center;background-color: white;padding-right: 0.2em;padding-left: 0.2em;position: relative;}#sk-container-id-5 div.sk-item {position: relative;z-index: 1;}#sk-container-id-5 div.sk-parallel {display: flex;align-items: stretch;justify-content: center;background-color: white;position: relative;}#sk-container-id-5 div.sk-item::before, #sk-container-id-5 div.sk-parallel-item::before {content: \"\";position: absolute;border-left: 1px solid gray;box-sizing: border-box;top: 0;bottom: 0;left: 50%;z-index: -1;}#sk-container-id-5 div.sk-parallel-item {display: flex;flex-direction: column;z-index: 1;position: relative;background-color: white;}#sk-container-id-5 div.sk-parallel-item:first-child::after {align-self: flex-end;width: 50%;}#sk-container-id-5 div.sk-parallel-item:last-child::after {align-self: flex-start;width: 50%;}#sk-container-id-5 div.sk-parallel-item:only-child::after {width: 0;}#sk-container-id-5 div.sk-dashed-wrapped {border: 1px dashed gray;margin: 0 0.4em 0.5em 0.4em;box-sizing: border-box;padding-bottom: 0.4em;background-color: white;}#sk-container-id-5 div.sk-label label {font-family: monospace;font-weight: bold;display: inline-block;line-height: 1.2em;}#sk-container-id-5 div.sk-label-container {text-align: center;}#sk-container-id-5 div.sk-container {/* jupyter's `normalize.less` sets `[hidden] { display: none; }` but bootstrap.min.css set `[hidden] { display: none !important; }` so we also need the `!important` here to be able to override the default hidden behavior on the sphinx rendered scikit-learn.org. See: https://github.com/scikit-learn/scikit-learn/issues/21755 */display: inline-block !important;position: relative;}#sk-container-id-5 div.sk-text-repr-fallback {display: none;}</style><div id=\"sk-container-id-5\" class=\"sk-top-container\"><div class=\"sk-text-repr-fallback\"><pre>AdaBoostClassifier(estimator=DecisionTreeClassifier(class_weight=&#x27;balanced&#x27;,\n",
              "                                                    max_depth=3),\n",
              "                   learning_rate=0.5, n_estimators=300, random_state=7)</pre><b>In a Jupyter environment, please rerun this cell to show the HTML representation or trust the notebook. <br />On GitHub, the HTML representation is unable to render, please try loading this page with nbviewer.org.</b></div><div class=\"sk-container\" hidden><div class=\"sk-item sk-dashed-wrapped\"><div class=\"sk-label-container\"><div class=\"sk-label sk-toggleable\"><input class=\"sk-toggleable__control sk-hidden--visually\" id=\"sk-estimator-id-13\" type=\"checkbox\" ><label for=\"sk-estimator-id-13\" class=\"sk-toggleable__label sk-toggleable__label-arrow\">AdaBoostClassifier</label><div class=\"sk-toggleable__content\"><pre>AdaBoostClassifier(estimator=DecisionTreeClassifier(class_weight=&#x27;balanced&#x27;,\n",
              "                                                    max_depth=3),\n",
              "                   learning_rate=0.5, n_estimators=300, random_state=7)</pre></div></div></div><div class=\"sk-parallel\"><div class=\"sk-parallel-item\"><div class=\"sk-item\"><div class=\"sk-label-container\"><div class=\"sk-label sk-toggleable\"><input class=\"sk-toggleable__control sk-hidden--visually\" id=\"sk-estimator-id-14\" type=\"checkbox\" ><label for=\"sk-estimator-id-14\" class=\"sk-toggleable__label sk-toggleable__label-arrow\">estimator: DecisionTreeClassifier</label><div class=\"sk-toggleable__content\"><pre>DecisionTreeClassifier(class_weight=&#x27;balanced&#x27;, max_depth=3)</pre></div></div></div><div class=\"sk-serial\"><div class=\"sk-item\"><div class=\"sk-estimator sk-toggleable\"><input class=\"sk-toggleable__control sk-hidden--visually\" id=\"sk-estimator-id-15\" type=\"checkbox\" ><label for=\"sk-estimator-id-15\" class=\"sk-toggleable__label sk-toggleable__label-arrow\">DecisionTreeClassifier</label><div class=\"sk-toggleable__content\"><pre>DecisionTreeClassifier(class_weight=&#x27;balanced&#x27;, max_depth=3)</pre></div></div></div></div></div></div></div></div></div></div>"
            ]
          },
          "metadata": {},
          "execution_count": 90
        }
      ],
      "source": [
        "ada = AdaBoostClassifier(\n",
        "    estimator=DecisionTreeClassifier(max_depth=3, class_weight='balanced'),\n",
        "    n_estimators=300,\n",
        "    learning_rate=0.5,\n",
        "    random_state=7)\n",
        "ada.fit(X_train, y_train)"
      ],
      "metadata": {
        "id": "ohHflb2gOwK6",
        "colab": {
          "base_uri": "https://localhost:8080/",
          "height": 118
        },
        "outputId": "b3d66788-1c2f-4454-c2f3-d2236f0b7bbe"
      }
    },
    {
      "cell_type": "markdown",
      "source": [
        "Вычислите точность модели на **тренировочных данных**"
      ],
      "metadata": {
        "id": "AuTJlmRYRsUY"
      }
    },
    {
      "cell_type": "code",
      "execution_count": 91,
      "outputs": [
        {
          "output_type": "stream",
          "name": "stdout",
          "text": [
            "              precision    recall  f1-score   support\n",
            "\n",
            "     class 0      0.961     0.938     0.949     16705\n",
            "     class 1      0.919     0.948     0.933     12294\n",
            "\n",
            "    accuracy                          0.942     28999\n",
            "   macro avg      0.940     0.943     0.941     28999\n",
            "weighted avg      0.943     0.942     0.942     28999\n",
            "\n"
          ]
        }
      ],
      "source": [
        "prediction_train = ada.predict(X_train)\n",
        "print(classification_report(y_train, prediction_train, target_names = ['class 0', 'class 1'], digits=3))"
      ],
      "metadata": {
        "id": "IAG_PMTYOwK6",
        "colab": {
          "base_uri": "https://localhost:8080/"
        },
        "outputId": "4f2501a8-b9f5-4f1c-9c60-430ef323f046"
      }
    },
    {
      "cell_type": "markdown",
      "source": [
        "Вычислите точность модели на **тестовых данных**"
      ],
      "metadata": {
        "id": "6GpNu-JGRuch"
      }
    },
    {
      "cell_type": "code",
      "execution_count": 92,
      "outputs": [
        {
          "output_type": "stream",
          "name": "stdout",
          "text": [
            "              precision    recall  f1-score   support\n",
            "\n",
            "     class 0      0.925     0.900     0.912      4155\n",
            "     class 1      0.871     0.901     0.886      3095\n",
            "\n",
            "    accuracy                          0.901      7250\n",
            "   macro avg      0.898     0.901     0.899      7250\n",
            "weighted avg      0.902     0.901     0.901      7250\n",
            "\n"
          ]
        }
      ],
      "source": [
        "prediction_test = ada.predict(X_test)\n",
        "print(classification_report(y_test, prediction_test, target_names = ['class 0', 'class 1'], digits=3))"
      ],
      "metadata": {
        "id": "SVKSXjJ_OwK6",
        "colab": {
          "base_uri": "https://localhost:8080/"
        },
        "outputId": "7a98de3a-fbbf-4569-c477-08aa369da6e9"
      }
    },
    {
      "cell_type": "markdown",
      "source": [
        "# Stacking Classifier"
      ],
      "metadata": {
        "collapsed": false,
        "id": "HO-fMJpWOwK7"
      }
    },
    {
      "cell_type": "markdown",
      "source": [
        "Обучает несколько объектов класса (несколько моделей) на всем наборе данных, а после — обучает отдельный классификатор на метданных — ответах, полученных обученными ранее моделями.\n",
        "\n",
        "Используйте объект <code>sklearn.ensemble.StackingClassifier</code>. Базовые алгоритмы и решающий, а также соответствующие параметры указанны в вашем индивидуальном задании. Обучите модель на тренировочных данных."
      ],
      "metadata": {
        "collapsed": false,
        "id": "jwt8PrAhOwK7"
      }
    },
    {
      "cell_type": "code",
      "execution_count": 96,
      "outputs": [],
      "source": [
        "estimators = [('Random Forest', RandomForestClassifier(random_state=7)),\n",
        "              ('SVM', SVC(random_state=7))]\n",
        "final_estimator = LogisticRegression(random_state=7)\n",
        "\n",
        "stack = StackingClassifier(estimators=estimators, final_estimator=final_estimator).fit(X_train, y_train)"
      ],
      "metadata": {
        "id": "rBblioH9OwK7"
      }
    },
    {
      "cell_type": "markdown",
      "source": [
        "Вычислите точность модели на **тренировочных данных**"
      ],
      "metadata": {
        "id": "DfqpeCWeTP24"
      }
    },
    {
      "cell_type": "code",
      "execution_count": 97,
      "outputs": [
        {
          "output_type": "stream",
          "name": "stdout",
          "text": [
            "              precision    recall  f1-score   support\n",
            "\n",
            "     class 0      1.000     1.000     1.000     16705\n",
            "     class 1      1.000     0.999     1.000     12294\n",
            "\n",
            "    accuracy                          1.000     28999\n",
            "   macro avg      1.000     1.000     1.000     28999\n",
            "weighted avg      1.000     1.000     1.000     28999\n",
            "\n"
          ]
        }
      ],
      "source": [
        "prediction_train = stack.predict(X_train)\n",
        "print(classification_report(y_train, prediction_train, target_names = ['class 0', 'class 1'], digits=3))"
      ],
      "metadata": {
        "id": "6pJ3EYn2OwK8",
        "colab": {
          "base_uri": "https://localhost:8080/"
        },
        "outputId": "1f20686c-46fe-42f1-d1f2-229830b48ab4"
      }
    },
    {
      "cell_type": "markdown",
      "source": [
        "Вычислите точность модели на **тестовых данных**"
      ],
      "metadata": {
        "id": "xRNxf9ZGTUMk"
      }
    },
    {
      "cell_type": "code",
      "execution_count": 98,
      "outputs": [
        {
          "output_type": "stream",
          "name": "stdout",
          "text": [
            "              precision    recall  f1-score   support\n",
            "\n",
            "     class 0      0.915     0.924     0.920      4155\n",
            "     class 1      0.897     0.885     0.891      3095\n",
            "\n",
            "    accuracy                          0.908      7250\n",
            "   macro avg      0.906     0.905     0.905      7250\n",
            "weighted avg      0.907     0.908     0.908      7250\n",
            "\n"
          ]
        }
      ],
      "source": [
        "prediction_test = stack.predict(X_test)\n",
        "print(classification_report(y_test, prediction_test, target_names = ['class 0', 'class 1'], digits=3))"
      ],
      "metadata": {
        "id": "jUQ8y62VOwK8",
        "colab": {
          "base_uri": "https://localhost:8080/"
        },
        "outputId": "3dd95ecd-41d2-4105-90f5-4ef981b382ef"
      }
    }
  ],
  "metadata": {
    "kernelspec": {
      "display_name": "Python 3",
      "language": "python",
      "name": "python3"
    },
    "language_info": {
      "codemirror_mode": {
        "name": "ipython",
        "version": 2
      },
      "file_extension": ".py",
      "mimetype": "text/x-python",
      "name": "python",
      "nbconvert_exporter": "python",
      "pygments_lexer": "ipython2",
      "version": "2.7.6"
    },
    "colab": {
      "provenance": []
    }
  },
  "nbformat": 4,
  "nbformat_minor": 0
}